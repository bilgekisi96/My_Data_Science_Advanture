{
 "cells": [
  {
   "cell_type": "markdown",
   "metadata": {},
   "source": [
    "This problem was asked by LinkedIn.\n",
    "Given a list of points, a central point, and an integer k, find the nearest k points from the central point.\n",
    "For example, given the list of points [(0, 0), (5, 4), (3, 1)], the central point (1, 2), and k = 2, return[(0, 0), (3, 1)]."
   ]
  },
  {
   "cell_type": "code",
   "execution_count": 35,
   "metadata": {},
   "outputs": [
    {
     "data": {
      "text/plain": [
       "[(0, 0), (3, 1)]"
      ]
     },
     "execution_count": 35,
     "metadata": {},
     "output_type": "execute_result"
    }
   ],
   "source": [
    "def func(c,d,k):\n",
    "    liste,bos=[(0,0),(5,4),(3,1)],[]\n",
    "    sort_list=[abs(a-c)+abs(b-d) for a,b in liste]\n",
    "    for i in sorted([abs(a-c)+abs(b-d) for a,b in liste])[:k]:bos.append([j for j in range(len(sort_list)) if sort_list[j]==i])\n",
    "    return [liste[dis] for dis in set([f for l in bos for f in l])]  \n",
    "func(1,2,2)\n",
    "print(\"if you enter 1 choose which\")\n",
    "\n",
    "\n",
    "    "
   ]
  },
  {
   "cell_type": "code",
   "execution_count": null,
   "metadata": {},
   "outputs": [],
   "source": []
  }
 ],
 "metadata": {
  "kernelspec": {
   "display_name": "Python 3",
   "language": "python",
   "name": "python3"
  },
  "language_info": {
   "codemirror_mode": {
    "name": "ipython",
    "version": 3
   },
   "file_extension": ".py",
   "mimetype": "text/x-python",
   "name": "python",
   "nbconvert_exporter": "python",
   "pygments_lexer": "ipython3",
   "version": "3.8.5"
  }
 },
 "nbformat": 4,
 "nbformat_minor": 4
}
