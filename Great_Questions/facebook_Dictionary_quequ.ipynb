{
 "cells": [
  {
   "cell_type": "markdown",
   "id": "616a89c3",
   "metadata": {},
   "source": [
    "Input: Dictionary = {POON, PLEE, SAME, POIE, PLEA, PLIE, POIN}\n",
    "       start = TOON\n",
    "       target = PLEA\n",
    "Output: 7\n",
    "TOON - POON - POIN - POIE - PLIE - PLEE - PLEA"
   ]
  },
  {
   "cell_type": "code",
   "execution_count": 43,
   "id": "61a5c52b",
   "metadata": {},
   "outputs": [
    {
     "data": {
      "text/plain": [
       "['POON', 'POIN', 'POIE', 'PLIE', 'PLEE', 'PLEA', 'SAME']"
      ]
     },
     "execution_count": 43,
     "metadata": {},
     "output_type": "execute_result"
    }
   ],
   "source": [
    "\"\"\"\n",
    "Input: Dictionary = {POON, PLEE, SAME, POIE, PLEA, PLIE, POIN}\n",
    "       start = TOON\n",
    "       target = PLEA\n",
    "Output: 7\n",
    "TOON - POON - POIN - POIE - PLIE - PLEE - PLEA\n",
    "\"\"\"\n",
    "Dictionary,bos,fin= [\"POON\", \"PLEE\", \"SAME\", \"POIE\", \"PLEA\", \"PLIE\", \"POIN\"],[],[]\n",
    "start = \"TOON\"\n",
    "target = \"PLEA\"\n",
    "sayac=len(Dictionary)\n",
    "while sayac>0:\n",
    "    sayi=0\n",
    "    for i in Dictionary: \n",
    "        for j in set(list(i)):\n",
    "            if j in start:\n",
    "                sayi+=1\n",
    "        bos.append(sayi)\n",
    "        sayi=0\n",
    "    fin.append(Dictionary[bos.index(max(bos))])\n",
    "    start=Dictionary[bos.index(max(bos))]\n",
    "    Dictionary.remove(Dictionary[bos.index(max(bos))])\n",
    "    sayac -= 1\n",
    "    bos=[]\n",
    "fin"
   ]
  },
  {
   "cell_type": "code",
   "execution_count": 42,
   "id": "ebc03c87",
   "metadata": {},
   "outputs": [
    {
     "name": "stdout",
     "output_type": "stream",
     "text": [
      "['dog', 'dot', 'dat', 'cat']\n"
     ]
    }
   ],
   "source": [
    "\n",
    "dictionary = {\"dot\", \"dop\",\"dat\", \"cat\"}\n",
    "start = \"dog\"\n",
    "end = \"cat\"\n",
    "tum=start+end\n",
    "if end not in list(dictionary):\n",
    "    print(None)\n",
    "else:\n",
    "    startf=start\n",
    "    Dictionary,bos,fin= list(dictionary),[],[]\n",
    "\n",
    "    sayac=len(Dictionary)\n",
    "    while sayac>0:\n",
    "        sayi=0\n",
    "        for i in Dictionary: \n",
    "            for j in set(list(i)):\n",
    "                if j in start:\n",
    "                    sayi+=1\n",
    "            bos.append(sayi)\n",
    "            sayi=0\n",
    "        fin.append(Dictionary[bos.index(max(bos))])\n",
    "        start=Dictionary[bos.index(max(bos))]\n",
    "        Dictionary.remove(Dictionary[bos.index(max(bos))])\n",
    "        sayac -= 1\n",
    "        bos=[]\n",
    "    fin.insert(0,startf)\n",
    "    nut=[t for t in fin for k in tum if k in t]\n",
    "    nuc=[v for v in nut if len(v)==nut.count(v)]\n",
    "    finest=[]\n",
    "    for p in nuc:\n",
    "        if p not in finest:\n",
    "            finest.append(p)\n",
    "    print(finest)"
   ]
  },
  {
   "cell_type": "code",
   "execution_count": null,
   "id": "c961d7e9",
   "metadata": {},
   "outputs": [],
   "source": []
  },
  {
   "cell_type": "code",
   "execution_count": null,
   "id": "67e35ada",
   "metadata": {},
   "outputs": [],
   "source": []
  }
 ],
 "metadata": {
  "kernelspec": {
   "display_name": "Python 3 (ipykernel)",
   "language": "python",
   "name": "python3"
  },
  "language_info": {
   "codemirror_mode": {
    "name": "ipython",
    "version": 3
   },
   "file_extension": ".py",
   "mimetype": "text/x-python",
   "name": "python",
   "nbconvert_exporter": "python",
   "pygments_lexer": "ipython3",
   "version": "3.9.7"
  }
 },
 "nbformat": 4,
 "nbformat_minor": 5
}
