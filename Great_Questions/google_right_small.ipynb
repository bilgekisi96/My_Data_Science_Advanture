{
 "cells": [
  {
   "cell_type": "markdown",
   "id": "4fe6d781",
   "metadata": {},
   "source": [
    "# This problem was asked by Google.\n",
    "Given an array of integers, return a new array where each element in the new array is the number of smaller elements to the right of that element in the original input array.\n",
    "For example, given the array [3, 4, 9, 6, 1], return [1, 1, 2, 1, 0], since:\n",
    "\n",
    " * There is 1 smaller element to the right of 3\n",
    " * There is 1 smaller element to the right of 4\n",
    " * There are 2 smaller elements to the right of 9\n",
    " * There is 1 smaller element to the right of 6\n",
    " * There are no smaller elements to the right of 1 (edited) "
   ]
  },
  {
   "cell_type": "code",
   "execution_count": 24,
   "id": "c8c737f0",
   "metadata": {},
   "outputs": [
    {
     "data": {
      "text/plain": [
       "[0, 2, 3, 2, 1, 0]"
      ]
     },
     "execution_count": 24,
     "metadata": {},
     "output_type": "execute_result"
    }
   ],
   "source": [
    "a=[1,5,8,6,4,3]\n",
    "num,bos=0,[]\n",
    "for i in a: \n",
    "    num=0\n",
    "    for j in a[a.index(i):]: \n",
    "        if i >j:\n",
    "            num+=1\n",
    "    bos.append(num)\n",
    "bos\n",
    "        "
   ]
  },
  {
   "cell_type": "code",
   "execution_count": null,
   "id": "0098b265",
   "metadata": {},
   "outputs": [],
   "source": []
  },
  {
   "cell_type": "code",
   "execution_count": null,
   "id": "1b394041",
   "metadata": {},
   "outputs": [],
   "source": []
  },
  {
   "cell_type": "code",
   "execution_count": null,
   "id": "4aa6a08f",
   "metadata": {},
   "outputs": [],
   "source": []
  }
 ],
 "metadata": {
  "kernelspec": {
   "display_name": "Python 3 (ipykernel)",
   "language": "python",
   "name": "python3"
  },
  "language_info": {
   "codemirror_mode": {
    "name": "ipython",
    "version": 3
   },
   "file_extension": ".py",
   "mimetype": "text/x-python",
   "name": "python",
   "nbconvert_exporter": "python",
   "pygments_lexer": "ipython3",
   "version": "3.9.7"
  }
 },
 "nbformat": 4,
 "nbformat_minor": 5
}
