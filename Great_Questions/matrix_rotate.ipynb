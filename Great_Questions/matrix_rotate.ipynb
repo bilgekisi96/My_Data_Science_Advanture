{
 "cells": [
  {
   "cell_type": "markdown",
   "id": "7a991d46",
   "metadata": {},
   "source": [
    "This problem was asked by Facebook.\n",
    "Given an N by N matrix, rotate it by 90 degrees clockwise.\n",
    "For example, given the following matrix:"
   ]
  },
  {
   "cell_type": "markdown",
   "id": "c47c1bdd",
   "metadata": {},
   "source": [
    "This problem was asked by Facebook.\n",
    "Given an N by N matrix, rotate it by 90 degrees clockwise.\n",
    "For example, given the following matrix:\n",
    "[[1, 2, 3],\n",
    " [4, 5, 6],\n",
    " [7, 8, 9]]\n",
    "you should return:\n",
    "[[7, 4, 1],\n",
    " [8, 5, 2],\n",
    " [9, 6, 3]]"
   ]
  },
  {
   "cell_type": "code",
   "execution_count": 43,
   "id": "36a304dd",
   "metadata": {},
   "outputs": [
    {
     "name": "stdout",
     "output_type": "stream",
     "text": [
      "[[13  9  5  1]\n",
      " [14 10  6  2]\n",
      " [15 11  7  3]\n",
      " [16 12  8  4]]\n"
     ]
    }
   ],
   "source": [
    "import numpy as np\n",
    "array=np.array([ [1, 2, 3,  4],\n",
    "                 [5, 6, 7,  8],\n",
    "                 [9, 10,11,12],\n",
    "                 [13,14,15,16]])\n",
    "N=array.shape[0]\n",
    "print(np.array([array[i][j] for j in range(N) for i in range(N - 1, -1, -1)]).reshape(array.shape))"
   ]
  },
  {
   "cell_type": "code",
   "execution_count": null,
   "id": "13c70e47",
   "metadata": {},
   "outputs": [],
   "source": []
  }
 ],
 "metadata": {
  "kernelspec": {
   "display_name": "Python 3 (ipykernel)",
   "language": "python",
   "name": "python3"
  },
  "language_info": {
   "codemirror_mode": {
    "name": "ipython",
    "version": 3
   },
   "file_extension": ".py",
   "mimetype": "text/x-python",
   "name": "python",
   "nbconvert_exporter": "python",
   "pygments_lexer": "ipython3",
   "version": "3.9.7"
  }
 },
 "nbformat": 4,
 "nbformat_minor": 5
}
