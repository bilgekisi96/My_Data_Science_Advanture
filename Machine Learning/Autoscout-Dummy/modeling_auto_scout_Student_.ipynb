{
 "cells": [
  {
   "cell_type": "markdown",
   "metadata": {
    "id": "4UCsvzbImqZN"
   },
   "source": [
    "___\n",
    "\n",
    "<p style=\"text-align: center;\"><img src=\"https://docs.google.com/uc?id=1lY0Uj5R04yMY3-ZppPWxqCr5pvBLYPnV\" class=\"img-fluid\" alt=\"CLRSWY\"></p>\n",
    "\n",
    "___"
   ]
  },
  {
   "cell_type": "markdown",
   "metadata": {
    "id": "i5WapR8JmqZN"
   },
   "source": [
    "# WELCOME!"
   ]
  },
  {
   "cell_type": "markdown",
   "metadata": {
    "id": "ZyeGWbuTmqZN"
   },
   "source": [
    "Welcome to \"***Car Price Prediction Project***\". This is the first medium project of ***Machine Learning*** course. In this project you will have the opportunity to apply many algorithms commonly used for regression problems.\n",
    "\n",
    "Also, you will apply various processes such as pre-processing, ***train-test spilit*** and ***cross validation*** that you will use in algorithm modeling and prediction processes in Python with ***scikit-learn***. \n",
    "\n",
    "Before diving into the project, please take a look at the determines and tasks.\n",
    "\n",
    "- **NOTE:** This project assumes that you already know the basics of coding in Python. You should also be familiar with the theory behind regression algorithms and scikit-learn module as well as Machine Learning before you begin.\n"
   ]
  },
  {
   "cell_type": "markdown",
   "metadata": {
    "id": "c0Iul5QymqZN"
   },
   "source": [
    "# #Determines\n",
    "\n",
    "**Auto Scout** data which using for this project, scraped from the on-line car trading company(https://www.autoscout24.com)in 2019, contains many features of 9 different car models. In this project, you will use the data set which is already preprocessed and prepared for algorithms .\n",
    "\n",
    "The aim of this project to understand of machine learning algorithms. Therefore, you will not need any EDA process as you will be working on the edited data.\n",
    "\n",
    "---\n",
    "\n",
    "In this Senario, you will estimate the prices of cars using regression algorithms.\n",
    "\n",
    "While starting you should import the necessary modules and load the data given as pkl file. Also you'll need to do a few pre-processing before moving to modelling. After that you will implement ***Linear Regression, Ridge Regression, Lasso Regression,and Elastic-Net algorithms respectively*** (After completion of Unsupervised Learning section, you can also add bagging and boosting algorithms such as ***Random Forest and XG Boost*** this notebook to develop the project). You can measure the success of your models with regression evaluation metrics as well as with cross validation method.\n",
    "\n",
    "For the better results, you should try to increase the success of your models by performing hyperparameter tuning. Determine feature importances for the model. You can set your model with the most important features for resource saving. You should try to apply this especially in Random Forest and XG Boost algorithms. Unlike the others, you will perform hyperparameter tuning for Random Forest and XG Boost using the ***GridSearchCV*** method. \n",
    "\n",
    "Finally You can compare the performances of algorithms, work more on the algorithm have the most successful prediction rate.\n",
    "\n",
    "\n",
    "\n",
    "\n"
   ]
  },
  {
   "cell_type": "markdown",
   "metadata": {
    "id": "pL-jJ1irmqZN"
   },
   "source": [
    "# #Tasks\n",
    "\n",
    "#### 1. Import Modules, Load Data and Data Review\n",
    "#### 2. Data Pre-Processing\n",
    "#### 3. Implement Linear Regression \n",
    "#### 4. Implement Ridge Regression\n",
    "#### 5. Implement Lasso Regression \n",
    "#### 6. Implement Elastic-Net\n",
    "#### 7. Visually Compare Models Performance In a Graph"
   ]
  },
  {
   "cell_type": "markdown",
   "metadata": {
    "id": "Rik6d_vimqZN"
   },
   "source": [
    "## 1. Import Modules, Load Data and Data Review"
   ]
  },
  {
   "cell_type": "code",
   "execution_count": 187,
   "metadata": {
    "id": "QBddHlqgmqZN"
   },
   "outputs": [],
   "source": [
    "import numpy as np\n",
    "import pandas as pd\n",
    "import matplotlib.pyplot as plt\n",
    "from sklearn.model_selection import train_test_split\n",
    "import seaborn as sns\n",
    "plt.rcParams[\"figure.figsize\"] = (10,6)\n",
    "pd.set_option('display.max_columns', 100)"
   ]
  },
  {
   "cell_type": "code",
   "execution_count": null,
   "metadata": {},
   "outputs": [],
   "source": []
  },
  {
   "cell_type": "code",
   "execution_count": 188,
   "metadata": {},
   "outputs": [],
   "source": [
    "pd.set_option('display.float_format', lambda x: '%.3f' % x)"
   ]
  },
  {
   "cell_type": "code",
   "execution_count": 189,
   "metadata": {},
   "outputs": [
    {
     "data": {
      "text/plain": [
       "(15914, 134)"
      ]
     },
     "execution_count": 189,
     "metadata": {},
     "output_type": "execute_result"
    }
   ],
   "source": [
    "df=pd.read_csv(\"final_scout_dummy.csv\")\n",
    "df.head().T\n",
    "X = df.drop(\"price\", axis =1)\n",
    "y = df[\"price\"]\n",
    "df.shape"
   ]
  },
  {
   "cell_type": "code",
   "execution_count": 190,
   "metadata": {},
   "outputs": [],
   "source": [
    "X_train, X_test, y_train, y_test = train_test_split(X, y, test_size=0.3, random_state=101)"
   ]
  },
  {
   "cell_type": "code",
   "execution_count": 191,
   "metadata": {},
   "outputs": [],
   "source": [
    "from sklearn.preprocessing import StandardScaler, MinMaxScaler, RobustScaler\n",
    "\n",
    "scaler = MinMaxScaler()"
   ]
  },
  {
   "cell_type": "code",
   "execution_count": 192,
   "metadata": {},
   "outputs": [
    {
     "data": {
      "text/plain": [
       "MinMaxScaler()"
      ]
     },
     "execution_count": 192,
     "metadata": {},
     "output_type": "execute_result"
    }
   ],
   "source": [
    "scaler.fit(X_train)"
   ]
  },
  {
   "cell_type": "code",
   "execution_count": 193,
   "metadata": {},
   "outputs": [
    {
     "data": {
      "text/plain": [
       "array([[3.78548896e-05, 0.00000000e+00, 0.00000000e+00, ...,\n",
       "        0.00000000e+00, 1.00000000e+00, 0.00000000e+00],\n",
       "       [6.24605678e-02, 3.33333333e-01, 3.33333333e-01, ...,\n",
       "        0.00000000e+00, 1.00000000e+00, 0.00000000e+00],\n",
       "       [2.63753943e-02, 6.66666667e-01, 3.33333333e-01, ...,\n",
       "        0.00000000e+00, 1.00000000e+00, 0.00000000e+00],\n",
       "       ...,\n",
       "       [5.36277603e-02, 0.00000000e+00, 6.66666667e-01, ...,\n",
       "        0.00000000e+00, 1.00000000e+00, 0.00000000e+00],\n",
       "       [2.01892744e-02, 0.00000000e+00, 3.33333333e-01, ...,\n",
       "        0.00000000e+00, 1.00000000e+00, 0.00000000e+00],\n",
       "       [7.09589905e-02, 3.33333333e-01, 1.00000000e+00, ...,\n",
       "        0.00000000e+00, 1.00000000e+00, 0.00000000e+00]])"
      ]
     },
     "execution_count": 193,
     "metadata": {},
     "output_type": "execute_result"
    }
   ],
   "source": [
    "X_train_scaled = scaler.transform(X_train)  #ortalamayı çıkarıp std ye bölen bir işlem yapıyor\n",
    "X_train_scaled "
   ]
  },
  {
   "cell_type": "code",
   "execution_count": 194,
   "metadata": {},
   "outputs": [
    {
     "data": {
      "text/plain": [
       "array([[1.56485804e-01, 3.33333333e-01, 6.66666667e-01, ...,\n",
       "        0.00000000e+00, 1.00000000e+00, 0.00000000e+00],\n",
       "       [3.15457413e-04, 3.33333333e-01, 3.33333333e-01, ...,\n",
       "        0.00000000e+00, 1.00000000e+00, 0.00000000e+00],\n",
       "       [3.47003155e-02, 3.33333333e-01, 3.33333333e-01, ...,\n",
       "        0.00000000e+00, 1.00000000e+00, 0.00000000e+00],\n",
       "       ...,\n",
       "       [6.74353312e-02, 3.33333333e-01, 3.33333333e-01, ...,\n",
       "        0.00000000e+00, 1.00000000e+00, 0.00000000e+00],\n",
       "       [3.47003155e-02, 0.00000000e+00, 3.33333333e-01, ...,\n",
       "        0.00000000e+00, 1.00000000e+00, 0.00000000e+00],\n",
       "       [2.36593060e-02, 3.33333333e-01, 0.00000000e+00, ...,\n",
       "        0.00000000e+00, 1.00000000e+00, 0.00000000e+00]])"
      ]
     },
     "execution_count": 194,
     "metadata": {},
     "output_type": "execute_result"
    }
   ],
   "source": [
    "X_test_scaled = scaler.transform(X_test)  #X-test ile x train arasındaki bilgi sızıntısını engellemiş olduk\n",
    "X_test_scaled"
   ]
  },
  {
   "cell_type": "markdown",
   "metadata": {
    "id": "QsEUUAAKmqZN"
   },
   "source": [
    "## 2. Data Pre-Processing"
   ]
  },
  {
   "cell_type": "markdown",
   "metadata": {
    "id": "QtVkM6f2mqZN"
   },
   "source": [
    "As you know, the data set must be edited before proceeding to the implementation of the model. As the last step before model fitting, you need to spilit the data set as train and test. Then, you should train the model with train data and evaluate the performance of the model on the test data. You can use the train and test data you have created for all algorithms.\n",
    "\n",
    "You must also drop your target variable, the column you are trying to predict."
   ]
  },
  {
   "cell_type": "markdown",
   "metadata": {
    "id": "K7d_92iemqZN"
   },
   "source": [
    "You can use many [performance metrics for regression](https://medium.com/analytics-vidhya/evaluation-metrics-for-regression-problems-343c4923d922) to measure the performance of the regression model you train. You can define a function to view different metric results together.\n",
    "\n",
    "You can also use the [cross validation](https://towardsdatascience.com/cross-validation-explained-evaluating-estimator-performance-e51e5430ff85) method to measure the estimator performance. Cross validation uses different data samples from your test set and calculates the accuracy score for each data sample. You can calculate the final performance of your estimator by averaging these scores."
   ]
  },
  {
   "cell_type": "code",
   "execution_count": null,
   "metadata": {},
   "outputs": [],
   "source": []
  },
  {
   "cell_type": "markdown",
   "metadata": {
    "id": "An_5ITcAmqZO"
   },
   "source": [
    "## 3. Implement Linear Regression"
   ]
  },
  {
   "cell_type": "markdown",
   "metadata": {
    "id": "0c0y-w8vmqZO"
   },
   "source": [
    " - Import the modul\n",
    " - Fit the model \n",
    " - Predict the test set\n",
    " - Determine feature coefficiant\n",
    " - Evaluate model performance (use performance metrics for regression and cross_val_score)\n",
    " - Compare different evaluation metrics\n",
    " \n",
    "*Note: You can use the [dir()](https://www.geeksforgeeks.org/python-dir-function/) function to see the methods you need.*"
   ]
  },
  {
   "cell_type": "code",
   "execution_count": 195,
   "metadata": {
    "id": "lq6UKn_HmqZO"
   },
   "outputs": [],
   "source": [
    "from sklearn.linear_model import LinearRegression\n",
    "\n",
    "lm = LinearRegression()"
   ]
  },
  {
   "cell_type": "code",
   "execution_count": 196,
   "metadata": {},
   "outputs": [
    {
     "data": {
      "text/plain": [
       "LinearRegression()"
      ]
     },
     "execution_count": 196,
     "metadata": {},
     "output_type": "execute_result"
    }
   ],
   "source": [
    "lm.fit(X_train_scaled, y_train)"
   ]
  },
  {
   "cell_type": "code",
   "execution_count": 197,
   "metadata": {},
   "outputs": [],
   "source": [
    "y_pred = lm.predict(X_test_scaled)\n",
    "y_train_pred = lm.predict(X_train_scaled)"
   ]
  },
  {
   "cell_type": "code",
   "execution_count": 198,
   "metadata": {},
   "outputs": [],
   "source": [
    "from sklearn.metrics import mean_absolute_error, mean_squared_error, r2_score\n",
    "\n",
    "def train_val(y_train, y_train_pred, y_test, y_pred, i):\n",
    "    \n",
    "    scores = {i+\"_train\": {\"R2\" : r2_score(y_train, y_train_pred),\n",
    "    \"mae\" : mean_absolute_error(y_train, y_train_pred),\n",
    "    \"mse\" : mean_squared_error(y_train, y_train_pred),                          \n",
    "    \"rmse\" : np.sqrt(mean_squared_error(y_train, y_train_pred))},\n",
    "    \n",
    "    i+\"_test\": {\"R2\" : r2_score(y_test, y_pred),\n",
    "    \"mae\" : mean_absolute_error(y_test, y_pred),\n",
    "    \"mse\" : mean_squared_error(y_test, y_pred),\n",
    "    \"rmse\" : np.sqrt(mean_squared_error(y_test, y_pred))}}\n",
    "    \n",
    "    return pd.DataFrame(scores)"
   ]
  },
  {
   "cell_type": "code",
   "execution_count": 199,
   "metadata": {},
   "outputs": [
    {
     "data": {
      "text/html": [
       "<div>\n",
       "<style scoped>\n",
       "    .dataframe tbody tr th:only-of-type {\n",
       "        vertical-align: middle;\n",
       "    }\n",
       "\n",
       "    .dataframe tbody tr th {\n",
       "        vertical-align: top;\n",
       "    }\n",
       "\n",
       "    .dataframe thead th {\n",
       "        text-align: right;\n",
       "    }\n",
       "</style>\n",
       "<table border=\"1\" class=\"dataframe\">\n",
       "  <thead>\n",
       "    <tr style=\"text-align: right;\">\n",
       "      <th></th>\n",
       "      <th>linear_train</th>\n",
       "      <th>linear_test</th>\n",
       "    </tr>\n",
       "  </thead>\n",
       "  <tbody>\n",
       "    <tr>\n",
       "      <th>R2</th>\n",
       "      <td>0.891</td>\n",
       "      <td>0.887</td>\n",
       "    </tr>\n",
       "    <tr>\n",
       "      <th>mae</th>\n",
       "      <td>1714.979</td>\n",
       "      <td>1713.643</td>\n",
       "    </tr>\n",
       "    <tr>\n",
       "      <th>mse</th>\n",
       "      <td>6066103.682</td>\n",
       "      <td>5813016.816</td>\n",
       "    </tr>\n",
       "    <tr>\n",
       "      <th>rmse</th>\n",
       "      <td>2462.946</td>\n",
       "      <td>2411.020</td>\n",
       "    </tr>\n",
       "  </tbody>\n",
       "</table>\n",
       "</div>"
      ],
      "text/plain": [
       "      linear_train  linear_test\n",
       "R2           0.891        0.887\n",
       "mae       1714.979     1713.643\n",
       "mse    6066103.682  5813016.816\n",
       "rmse      2462.946     2411.020"
      ]
     },
     "execution_count": 199,
     "metadata": {},
     "output_type": "execute_result"
    }
   ],
   "source": [
    "ls =train_val(y_train, y_train_pred, y_test, y_pred, \"linear\") #aralrında uçurum var overfit olduğunu tesbit ettim \n",
    "ls"
   ]
  },
  {
   "cell_type": "code",
   "execution_count": null,
   "metadata": {},
   "outputs": [],
   "source": []
  },
  {
   "cell_type": "code",
   "execution_count": 200,
   "metadata": {},
   "outputs": [
    {
     "data": {
      "text/plain": [
       "['explained_variance',\n",
       " 'r2',\n",
       " 'max_error',\n",
       " 'neg_median_absolute_error',\n",
       " 'neg_mean_absolute_error',\n",
       " 'neg_mean_absolute_percentage_error',\n",
       " 'neg_mean_squared_error',\n",
       " 'neg_mean_squared_log_error',\n",
       " 'neg_root_mean_squared_error',\n",
       " 'neg_mean_poisson_deviance',\n",
       " 'neg_mean_gamma_deviance',\n",
       " 'accuracy',\n",
       " 'top_k_accuracy',\n",
       " 'roc_auc',\n",
       " 'roc_auc_ovr',\n",
       " 'roc_auc_ovo',\n",
       " 'roc_auc_ovr_weighted',\n",
       " 'roc_auc_ovo_weighted',\n",
       " 'balanced_accuracy',\n",
       " 'average_precision',\n",
       " 'neg_log_loss',\n",
       " 'neg_brier_score',\n",
       " 'adjusted_rand_score',\n",
       " 'rand_score',\n",
       " 'homogeneity_score',\n",
       " 'completeness_score',\n",
       " 'v_measure_score',\n",
       " 'mutual_info_score',\n",
       " 'adjusted_mutual_info_score',\n",
       " 'normalized_mutual_info_score',\n",
       " 'fowlkes_mallows_score',\n",
       " 'precision',\n",
       " 'precision_macro',\n",
       " 'precision_micro',\n",
       " 'precision_samples',\n",
       " 'precision_weighted',\n",
       " 'recall',\n",
       " 'recall_macro',\n",
       " 'recall_micro',\n",
       " 'recall_samples',\n",
       " 'recall_weighted',\n",
       " 'f1',\n",
       " 'f1_macro',\n",
       " 'f1_micro',\n",
       " 'f1_samples',\n",
       " 'f1_weighted',\n",
       " 'jaccard',\n",
       " 'jaccard_macro',\n",
       " 'jaccard_micro',\n",
       " 'jaccard_samples',\n",
       " 'jaccard_weighted']"
      ]
     },
     "execution_count": 200,
     "metadata": {},
     "output_type": "execute_result"
    }
   ],
   "source": [
    "from sklearn.metrics import SCORERS    #içerisindeki tüm metricleri vaeriyor\n",
    "list(SCORERS.keys())"
   ]
  },
  {
   "cell_type": "code",
   "execution_count": 201,
   "metadata": {},
   "outputs": [],
   "source": [
    "from sklearn.model_selection import cross_validate, cross_val_score"
   ]
  },
  {
   "cell_type": "code",
   "execution_count": 202,
   "metadata": {},
   "outputs": [],
   "source": [
    "model = LinearRegression()\n",
    "scores = cross_validate(model, X_train_scaled, y_train, scoring = ['r2', 'neg_mean_absolute_error','neg_mean_squared_error', \\\n",
    "                                                            'neg_root_mean_squared_error'], cv = 5)"
   ]
  },
  {
   "cell_type": "code",
   "execution_count": 203,
   "metadata": {},
   "outputs": [
    {
     "data": {
      "text/html": [
       "<div>\n",
       "<style scoped>\n",
       "    .dataframe tbody tr th:only-of-type {\n",
       "        vertical-align: middle;\n",
       "    }\n",
       "\n",
       "    .dataframe tbody tr th {\n",
       "        vertical-align: top;\n",
       "    }\n",
       "\n",
       "    .dataframe thead th {\n",
       "        text-align: right;\n",
       "    }\n",
       "</style>\n",
       "<table border=\"1\" class=\"dataframe\">\n",
       "  <thead>\n",
       "    <tr style=\"text-align: right;\">\n",
       "      <th></th>\n",
       "      <th>fit_time</th>\n",
       "      <th>score_time</th>\n",
       "      <th>test_r2</th>\n",
       "      <th>test_neg_mean_absolute_error</th>\n",
       "      <th>test_neg_mean_squared_error</th>\n",
       "      <th>test_neg_root_mean_squared_error</th>\n",
       "    </tr>\n",
       "  </thead>\n",
       "  <tbody>\n",
       "    <tr>\n",
       "      <th>1</th>\n",
       "      <td>0.146</td>\n",
       "      <td>0.002</td>\n",
       "      <td>0.889</td>\n",
       "      <td>-1758.365</td>\n",
       "      <td>-6046224.029</td>\n",
       "      <td>-2458.907</td>\n",
       "    </tr>\n",
       "    <tr>\n",
       "      <th>2</th>\n",
       "      <td>0.121</td>\n",
       "      <td>0.000</td>\n",
       "      <td>0.886</td>\n",
       "      <td>-1755.305</td>\n",
       "      <td>-6920668.411</td>\n",
       "      <td>-2630.716</td>\n",
       "    </tr>\n",
       "    <tr>\n",
       "      <th>3</th>\n",
       "      <td>0.125</td>\n",
       "      <td>0.000</td>\n",
       "      <td>0.884</td>\n",
       "      <td>-1740.234</td>\n",
       "      <td>-6134370.626</td>\n",
       "      <td>-2476.766</td>\n",
       "    </tr>\n",
       "    <tr>\n",
       "      <th>4</th>\n",
       "      <td>0.141</td>\n",
       "      <td>0.000</td>\n",
       "      <td>-1905330035251063554048.000</td>\n",
       "      <td>-6991100303460.820</td>\n",
       "      <td>-108894577079227014011651358720.000</td>\n",
       "      <td>-329991783351081.375</td>\n",
       "    </tr>\n",
       "    <tr>\n",
       "      <th>5</th>\n",
       "      <td>0.125</td>\n",
       "      <td>0.016</td>\n",
       "      <td>0.881</td>\n",
       "      <td>-1730.328</td>\n",
       "      <td>-6333311.061</td>\n",
       "      <td>-2516.607</td>\n",
       "    </tr>\n",
       "  </tbody>\n",
       "</table>\n",
       "</div>"
      ],
      "text/plain": [
       "   fit_time  score_time                     test_r2  \\\n",
       "1     0.146       0.002                       0.889   \n",
       "2     0.121       0.000                       0.886   \n",
       "3     0.125       0.000                       0.884   \n",
       "4     0.141       0.000 -1905330035251063554048.000   \n",
       "5     0.125       0.016                       0.881   \n",
       "\n",
       "   test_neg_mean_absolute_error         test_neg_mean_squared_error  \\\n",
       "1                     -1758.365                        -6046224.029   \n",
       "2                     -1755.305                        -6920668.411   \n",
       "3                     -1740.234                        -6134370.626   \n",
       "4            -6991100303460.820 -108894577079227014011651358720.000   \n",
       "5                     -1730.328                        -6333311.061   \n",
       "\n",
       "   test_neg_root_mean_squared_error  \n",
       "1                         -2458.907  \n",
       "2                         -2630.716  \n",
       "3                         -2476.766  \n",
       "4              -329991783351081.375  \n",
       "5                         -2516.607  "
      ]
     },
     "execution_count": 203,
     "metadata": {},
     "output_type": "execute_result"
    }
   ],
   "source": [
    "pd.DataFrame(scores, index = range(1,6)) #crossvaliddte içerisinde bunu kaç defa yapıcaz eğer data önemli olursa crossvalidate\n",
    "#çok önemlidir yüksek crossvalidate yapmak çok daha iyi sonuç verir "
   ]
  },
  {
   "cell_type": "code",
   "execution_count": 204,
   "metadata": {},
   "outputs": [
    {
     "data": {
      "text/plain": [
       "test_r2                                    -381066007050212737024.000\n",
       "test_neg_mean_absolute_error                       -1398220062089.010\n",
       "test_neg_mean_squared_error        -21778915415845402802330271744.000\n",
       "test_neg_root_mean_squared_error                  -65998356672232.875\n",
       "dtype: float64"
      ]
     },
     "execution_count": 204,
     "metadata": {},
     "output_type": "execute_result"
    }
   ],
   "source": [
    "scores = pd.DataFrame(scores, index=range(1,6))\n",
    "scores.iloc[:, 2:].mean() #scorların ortalaması hala uçurum devam ediyor "
   ]
  },
  {
   "cell_type": "code",
   "execution_count": 205,
   "metadata": {},
   "outputs": [],
   "source": [
    "from sklearn.metrics import mean_absolute_error, mean_squared_error, r2_score\n",
    "\n",
    "def train_val(y_train, y_train_pred, y_test, y_pred, i):\n",
    "    \n",
    "    scores = {i+\"_train\": {\"R2\" : r2_score(y_train, y_train_pred),\n",
    "    \"mae\" : mean_absolute_error(y_train, y_train_pred),\n",
    "    \"mse\" : mean_squared_error(y_train, y_train_pred),                          \n",
    "    \"rmse\" : np.sqrt(mean_squared_error(y_train, y_train_pred))},\n",
    "    \n",
    "    i+\"_test\": {\"R2\" : r2_score(y_test, y_pred),\n",
    "    \"mae\" : mean_absolute_error(y_test, y_pred),\n",
    "    \"mse\" : mean_squared_error(y_test, y_pred),\n",
    "    \"rmse\" : np.sqrt(mean_squared_error(y_test, y_pred))}}\n",
    "    \n",
    "    return pd.DataFrame(scores)"
   ]
  },
  {
   "cell_type": "code",
   "execution_count": 206,
   "metadata": {},
   "outputs": [
    {
     "data": {
      "text/html": [
       "<div>\n",
       "<style scoped>\n",
       "    .dataframe tbody tr th:only-of-type {\n",
       "        vertical-align: middle;\n",
       "    }\n",
       "\n",
       "    .dataframe tbody tr th {\n",
       "        vertical-align: top;\n",
       "    }\n",
       "\n",
       "    .dataframe thead th {\n",
       "        text-align: right;\n",
       "    }\n",
       "</style>\n",
       "<table border=\"1\" class=\"dataframe\">\n",
       "  <thead>\n",
       "    <tr style=\"text-align: right;\">\n",
       "      <th></th>\n",
       "      <th>linear_train</th>\n",
       "      <th>linear_test</th>\n",
       "    </tr>\n",
       "  </thead>\n",
       "  <tbody>\n",
       "    <tr>\n",
       "      <th>R2</th>\n",
       "      <td>0.891</td>\n",
       "      <td>0.887</td>\n",
       "    </tr>\n",
       "    <tr>\n",
       "      <th>mae</th>\n",
       "      <td>1714.979</td>\n",
       "      <td>1713.643</td>\n",
       "    </tr>\n",
       "    <tr>\n",
       "      <th>mse</th>\n",
       "      <td>6066103.682</td>\n",
       "      <td>5813016.816</td>\n",
       "    </tr>\n",
       "    <tr>\n",
       "      <th>rmse</th>\n",
       "      <td>2462.946</td>\n",
       "      <td>2411.020</td>\n",
       "    </tr>\n",
       "  </tbody>\n",
       "</table>\n",
       "</div>"
      ],
      "text/plain": [
       "      linear_train  linear_test\n",
       "R2           0.891        0.887\n",
       "mae       1714.979     1713.643\n",
       "mse    6066103.682  5813016.816\n",
       "rmse      2462.946     2411.020"
      ]
     },
     "execution_count": 206,
     "metadata": {},
     "output_type": "execute_result"
    }
   ],
   "source": [
    "train_val(y_train, y_train_pred, y_test, y_pred, \"linear\")"
   ]
  },
  {
   "cell_type": "code",
   "execution_count": 207,
   "metadata": {},
   "outputs": [
    {
     "data": {
      "image/png": "[encoded data removed]",
      "text/plain": [
       "<Figure size 720x432 with 1 Axes>"
      ]
     },
     "metadata": {},
     "output_type": "display_data"
    }
   ],
   "source": [
    "sns.lineplot(data = scores.iloc[:,2:]);"
   ]
  },
  {
   "cell_type": "code",
   "execution_count": 208,
   "metadata": {},
   "outputs": [
    {
     "data": {
      "text/plain": [
       "array([-1.15202184e+04,  1.67604852e+03, -4.78222072e+03,  4.44413949e+02,\n",
       "        2.40801737e+04, -1.77113137e+02, -1.23862965e+03, -1.55278502e+03,\n",
       "        3.05825184e+03, -4.48844858e+03,  3.12826730e+02,  6.63026839e+01,\n",
       "        7.31473958e+01,  2.35276462e+02, -2.99498214e+02,  2.70809875e+02,\n",
       "       -1.22190705e+03, -1.37902997e+02,  1.08642101e+02,  1.59889507e+02,\n",
       "        5.23901699e+02,  2.20653585e+03,  3.81175149e+02,  1.42738468e+02,\n",
       "        6.84699065e+01, -5.10092156e+02,  1.51025499e+02,  1.80372898e+02,\n",
       "       -3.75482798e+02,  4.03327377e+02,  5.26580815e+01,  3.14438415e+02,\n",
       "       -3.29561534e+02,  5.75627143e+02,  5.31937088e+01,  1.08142742e+03,\n",
       "        2.45419022e+02, -4.39593370e+02,  1.11064879e+02, -2.30424757e+02,\n",
       "       -1.08723523e+01,  8.11067357e+02, -2.70644576e+02, -9.31036364e+01,\n",
       "        7.02772677e+02,  3.97634623e+01, -6.08917452e+02, -9.26304808e+02,\n",
       "       -5.55685671e+02,  2.13338508e+01,  8.76181077e+02,  3.92857968e+01,\n",
       "        5.27521115e+01, -7.14103683e-01,  2.01823703e+02, -2.11529732e+02,\n",
       "       -4.39020559e+02, -3.07824563e+02,  1.88074693e+02,  1.27477862e+02,\n",
       "        2.07018041e+02, -3.22470452e+02, -5.36293067e+02, -9.20368108e+01,\n",
       "        2.08541604e+02, -1.98720351e+02, -1.00543850e+03,  4.43775952e+02,\n",
       "        1.51390437e+02, -1.13327156e+02, -2.38772579e+02,  9.92638819e+01,\n",
       "        3.11749666e+03, -2.00131181e+02, -9.97784453e+00,  9.09768037e+00,\n",
       "        5.44284272e+01,  1.14518600e+02,  9.38686566e+01, -2.27361454e+02,\n",
       "       -2.72719709e+02, -1.01727345e+02, -2.50598231e+02, -1.05935089e+02,\n",
       "        1.25912975e+02, -2.54362123e+02,  2.35331158e+01, -8.34515237e+02,\n",
       "       -1.27400656e+02,  1.06534097e+02, -3.71493618e+02, -4.12523672e+02,\n",
       "       -2.00430108e+02,  8.22590159e+02,  7.06552255e+02,  4.17729458e+02,\n",
       "        4.24730488e+02, -4.66986616e+02, -6.48208684e+02,  8.94420854e+01,\n",
       "        1.41568205e+02,  1.85425073e+02,  1.43997277e+02, -3.40806061e+02,\n",
       "        1.13546926e+03, -4.09158456e+03, -5.33466823e+03, -1.61478025e+03,\n",
       "       -5.56995523e+03, -8.75002107e+03,  2.84786830e+03, -5.98889148e+02,\n",
       "       -5.69316432e+02, -2.57546521e+02,  1.21151675e+02,  3.42666375e+02,\n",
       "       -9.73094486e+02,  1.48928777e+03,  3.68710224e+02, -3.18033957e+03,\n",
       "       -8.51626832e+02, -2.51114860e+03, -2.96679130e+03,  9.75011481e+02,\n",
       "        4.95270118e+03,  6.36689685e+02,  2.19237755e+03,  2.02354932e+02,\n",
       "        2.76075366e+02, -1.35579901e+03,  2.31173339e+03, -2.56845235e+03,\n",
       "       -3.24844654e+03])"
      ]
     },
     "execution_count": 208,
     "metadata": {},
     "output_type": "execute_result"
    }
   ],
   "source": [
    "lm.coef_"
   ]
  },
  {
   "cell_type": "code",
   "execution_count": 209,
   "metadata": {},
   "outputs": [
    {
     "data": {
      "text/html": [
       "<div>\n",
       "<style scoped>\n",
       "    .dataframe tbody tr th:only-of-type {\n",
       "        vertical-align: middle;\n",
       "    }\n",
       "\n",
       "    .dataframe tbody tr th {\n",
       "        vertical-align: top;\n",
       "    }\n",
       "\n",
       "    .dataframe thead th {\n",
       "        text-align: right;\n",
       "    }\n",
       "</style>\n",
       "<table border=\"1\" class=\"dataframe\">\n",
       "  <thead>\n",
       "    <tr style=\"text-align: right;\">\n",
       "      <th></th>\n",
       "      <th>lm_coef</th>\n",
       "    </tr>\n",
       "  </thead>\n",
       "  <tbody>\n",
       "    <tr>\n",
       "      <th>0</th>\n",
       "      <td>-11520.218</td>\n",
       "    </tr>\n",
       "    <tr>\n",
       "      <th>1</th>\n",
       "      <td>1676.049</td>\n",
       "    </tr>\n",
       "    <tr>\n",
       "      <th>2</th>\n",
       "      <td>-4782.221</td>\n",
       "    </tr>\n",
       "    <tr>\n",
       "      <th>3</th>\n",
       "      <td>444.414</td>\n",
       "    </tr>\n",
       "    <tr>\n",
       "      <th>4</th>\n",
       "      <td>24080.174</td>\n",
       "    </tr>\n",
       "    <tr>\n",
       "      <th>...</th>\n",
       "      <td>...</td>\n",
       "    </tr>\n",
       "    <tr>\n",
       "      <th>128</th>\n",
       "      <td>276.075</td>\n",
       "    </tr>\n",
       "    <tr>\n",
       "      <th>129</th>\n",
       "      <td>-1355.799</td>\n",
       "    </tr>\n",
       "    <tr>\n",
       "      <th>130</th>\n",
       "      <td>2311.733</td>\n",
       "    </tr>\n",
       "    <tr>\n",
       "      <th>131</th>\n",
       "      <td>-2568.452</td>\n",
       "    </tr>\n",
       "    <tr>\n",
       "      <th>132</th>\n",
       "      <td>-3248.447</td>\n",
       "    </tr>\n",
       "  </tbody>\n",
       "</table>\n",
       "<p>133 rows × 1 columns</p>\n",
       "</div>"
      ],
      "text/plain": [
       "       lm_coef\n",
       "0   -11520.218\n",
       "1     1676.049\n",
       "2    -4782.221\n",
       "3      444.414\n",
       "4    24080.174\n",
       "..         ...\n",
       "128    276.075\n",
       "129  -1355.799\n",
       "130   2311.733\n",
       "131  -2568.452\n",
       "132  -3248.447\n",
       "\n",
       "[133 rows x 1 columns]"
      ]
     },
     "execution_count": 209,
     "metadata": {},
     "output_type": "execute_result"
    }
   ],
   "source": [
    "lm_df = pd.DataFrame(lm.coef_, columns = [\"lm_coef\"]) #tahminlemeye en fazla etki eden feature budur\n",
    "lm_df"
   ]
  },
  {
   "cell_type": "markdown",
   "metadata": {
    "id": "n2ROwYsymqZO"
   },
   "source": [
    "## 4. Implement Ridge Regression"
   ]
  },
  {
   "cell_type": "markdown",
   "metadata": {
    "id": "3RvdF8CRmqZO"
   },
   "source": [
    "- Import the modul \n",
    "- Do not forget to scale the data or use Normalize parameter as True \n",
    "- Fit the model \n",
    "- Predict the test set \n",
    "- Evaluate model performance (use performance metrics for regression) \n",
    "- Tune alpha hiperparameter by using [cross validation](https://scikit-learn.org/stable/modules/generated/sklearn.linear_model.RidgeCV.html) and determine the optimal alpha value.\n",
    "- Fit the model and predict again with the new alpha value. "
   ]
  },
  {
   "cell_type": "code",
   "execution_count": 210,
   "metadata": {
    "id": "CXm_zzZMmqZO"
   },
   "outputs": [],
   "source": [
    "from sklearn.linear_model import Ridge"
   ]
  },
  {
   "cell_type": "code",
   "execution_count": 211,
   "metadata": {},
   "outputs": [],
   "source": [
    "ridge_model = Ridge(alpha=1, random_state=42)"
   ]
  },
  {
   "cell_type": "code",
   "execution_count": 212,
   "metadata": {},
   "outputs": [
    {
     "data": {
      "text/plain": [
       "Ridge(alpha=1, random_state=42)"
      ]
     },
     "execution_count": 212,
     "metadata": {},
     "output_type": "execute_result"
    }
   ],
   "source": [
    "ridge_model.fit(X_train_scaled, y_train)"
   ]
  },
  {
   "cell_type": "code",
   "execution_count": 213,
   "metadata": {},
   "outputs": [],
   "source": [
    "y_pred = ridge_model.predict(X_test_scaled)\n",
    "y_train_pred = ridge_model.predict(X_train_scaled)"
   ]
  },
  {
   "cell_type": "code",
   "execution_count": 214,
   "metadata": {},
   "outputs": [
    {
     "data": {
      "text/html": [
       "<div>\n",
       "<style scoped>\n",
       "    .dataframe tbody tr th:only-of-type {\n",
       "        vertical-align: middle;\n",
       "    }\n",
       "\n",
       "    .dataframe tbody tr th {\n",
       "        vertical-align: top;\n",
       "    }\n",
       "\n",
       "    .dataframe thead th {\n",
       "        text-align: right;\n",
       "    }\n",
       "</style>\n",
       "<table border=\"1\" class=\"dataframe\">\n",
       "  <thead>\n",
       "    <tr style=\"text-align: right;\">\n",
       "      <th></th>\n",
       "      <th>ridge_train</th>\n",
       "      <th>ridge_test</th>\n",
       "    </tr>\n",
       "  </thead>\n",
       "  <tbody>\n",
       "    <tr>\n",
       "      <th>R2</th>\n",
       "      <td>0.891</td>\n",
       "      <td>0.887</td>\n",
       "    </tr>\n",
       "    <tr>\n",
       "      <th>mae</th>\n",
       "      <td>1712.651</td>\n",
       "      <td>1711.996</td>\n",
       "    </tr>\n",
       "    <tr>\n",
       "      <th>mse</th>\n",
       "      <td>6070567.722</td>\n",
       "      <td>5813899.317</td>\n",
       "    </tr>\n",
       "    <tr>\n",
       "      <th>rmse</th>\n",
       "      <td>2463.852</td>\n",
       "      <td>2411.203</td>\n",
       "    </tr>\n",
       "  </tbody>\n",
       "</table>\n",
       "</div>"
      ],
      "text/plain": [
       "      ridge_train  ridge_test\n",
       "R2          0.891       0.887\n",
       "mae      1712.651    1711.996\n",
       "mse   6070567.722 5813899.317\n",
       "rmse     2463.852    2411.203"
      ]
     },
     "execution_count": 214,
     "metadata": {},
     "output_type": "execute_result"
    }
   ],
   "source": [
    "rs = train_val(y_train, y_train_pred, y_test, y_pred, \"ridge\")\n",
    "rs"
   ]
  },
  {
   "cell_type": "code",
   "execution_count": 215,
   "metadata": {},
   "outputs": [
    {
     "data": {
      "text/html": [
       "<div>\n",
       "<style scoped>\n",
       "    .dataframe tbody tr th:only-of-type {\n",
       "        vertical-align: middle;\n",
       "    }\n",
       "\n",
       "    .dataframe tbody tr th {\n",
       "        vertical-align: top;\n",
       "    }\n",
       "\n",
       "    .dataframe thead th {\n",
       "        text-align: right;\n",
       "    }\n",
       "</style>\n",
       "<table border=\"1\" class=\"dataframe\">\n",
       "  <thead>\n",
       "    <tr style=\"text-align: right;\">\n",
       "      <th></th>\n",
       "      <th>linear_train</th>\n",
       "      <th>linear_test</th>\n",
       "      <th>ridge_train</th>\n",
       "      <th>ridge_test</th>\n",
       "    </tr>\n",
       "  </thead>\n",
       "  <tbody>\n",
       "    <tr>\n",
       "      <th>R2</th>\n",
       "      <td>0.891</td>\n",
       "      <td>0.887</td>\n",
       "      <td>0.891</td>\n",
       "      <td>0.887</td>\n",
       "    </tr>\n",
       "    <tr>\n",
       "      <th>mae</th>\n",
       "      <td>1714.979</td>\n",
       "      <td>1713.643</td>\n",
       "      <td>1712.651</td>\n",
       "      <td>1711.996</td>\n",
       "    </tr>\n",
       "    <tr>\n",
       "      <th>mse</th>\n",
       "      <td>6066103.682</td>\n",
       "      <td>5813016.816</td>\n",
       "      <td>6070567.722</td>\n",
       "      <td>5813899.317</td>\n",
       "    </tr>\n",
       "    <tr>\n",
       "      <th>rmse</th>\n",
       "      <td>2462.946</td>\n",
       "      <td>2411.020</td>\n",
       "      <td>2463.852</td>\n",
       "      <td>2411.203</td>\n",
       "    </tr>\n",
       "  </tbody>\n",
       "</table>\n",
       "</div>"
      ],
      "text/plain": [
       "      linear_train  linear_test  ridge_train  ridge_test\n",
       "R2           0.891        0.887        0.891       0.887\n",
       "mae       1714.979     1713.643     1712.651    1711.996\n",
       "mse    6066103.682  5813016.816  6070567.722 5813899.317\n",
       "rmse      2462.946     2411.020     2463.852    2411.203"
      ]
     },
     "execution_count": 215,
     "metadata": {},
     "output_type": "execute_result"
    }
   ],
   "source": [
    "pd.concat([ls, rs], axis=1) #overfit azaltıldı"
   ]
  },
  {
   "cell_type": "markdown",
   "metadata": {},
   "source": [
    "# cross_validation"
   ]
  },
  {
   "cell_type": "code",
   "execution_count": 216,
   "metadata": {},
   "outputs": [],
   "source": [
    "model = Ridge(alpha=1, random_state=42)\n",
    "scores = cross_validate(model, X_train_scaled, y_train,\n",
    "                    scoring=['r2', 'neg_mean_absolute_error','neg_mean_squared_error','neg_root_mean_squared_error'], cv=5)"
   ]
  },
  {
   "cell_type": "code",
   "execution_count": 217,
   "metadata": {},
   "outputs": [
    {
     "data": {
      "text/html": [
       "<div>\n",
       "<style scoped>\n",
       "    .dataframe tbody tr th:only-of-type {\n",
       "        vertical-align: middle;\n",
       "    }\n",
       "\n",
       "    .dataframe tbody tr th {\n",
       "        vertical-align: top;\n",
       "    }\n",
       "\n",
       "    .dataframe thead th {\n",
       "        text-align: right;\n",
       "    }\n",
       "</style>\n",
       "<table border=\"1\" class=\"dataframe\">\n",
       "  <thead>\n",
       "    <tr style=\"text-align: right;\">\n",
       "      <th></th>\n",
       "      <th>fit_time</th>\n",
       "      <th>score_time</th>\n",
       "      <th>test_r2</th>\n",
       "      <th>test_neg_mean_absolute_error</th>\n",
       "      <th>test_neg_mean_squared_error</th>\n",
       "      <th>test_neg_root_mean_squared_error</th>\n",
       "    </tr>\n",
       "  </thead>\n",
       "  <tbody>\n",
       "    <tr>\n",
       "      <th>1</th>\n",
       "      <td>0.032</td>\n",
       "      <td>0.004</td>\n",
       "      <td>0.889</td>\n",
       "      <td>-1754.331</td>\n",
       "      <td>-6038090.859</td>\n",
       "      <td>-2457.253</td>\n",
       "    </tr>\n",
       "    <tr>\n",
       "      <th>2</th>\n",
       "      <td>0.031</td>\n",
       "      <td>0.000</td>\n",
       "      <td>0.886</td>\n",
       "      <td>-1751.225</td>\n",
       "      <td>-6906060.224</td>\n",
       "      <td>-2627.938</td>\n",
       "    </tr>\n",
       "    <tr>\n",
       "      <th>3</th>\n",
       "      <td>0.047</td>\n",
       "      <td>0.000</td>\n",
       "      <td>0.884</td>\n",
       "      <td>-1735.791</td>\n",
       "      <td>-6123770.246</td>\n",
       "      <td>-2474.625</td>\n",
       "    </tr>\n",
       "    <tr>\n",
       "      <th>4</th>\n",
       "      <td>0.062</td>\n",
       "      <td>0.000</td>\n",
       "      <td>0.890</td>\n",
       "      <td>-1736.797</td>\n",
       "      <td>-6297741.471</td>\n",
       "      <td>-2509.530</td>\n",
       "    </tr>\n",
       "    <tr>\n",
       "      <th>5</th>\n",
       "      <td>0.031</td>\n",
       "      <td>0.016</td>\n",
       "      <td>0.881</td>\n",
       "      <td>-1726.217</td>\n",
       "      <td>-6322692.661</td>\n",
       "      <td>-2514.497</td>\n",
       "    </tr>\n",
       "  </tbody>\n",
       "</table>\n",
       "</div>"
      ],
      "text/plain": [
       "   fit_time  score_time  test_r2  test_neg_mean_absolute_error  \\\n",
       "1     0.032       0.004    0.889                     -1754.331   \n",
       "2     0.031       0.000    0.886                     -1751.225   \n",
       "3     0.047       0.000    0.884                     -1735.791   \n",
       "4     0.062       0.000    0.890                     -1736.797   \n",
       "5     0.031       0.016    0.881                     -1726.217   \n",
       "\n",
       "   test_neg_mean_squared_error  test_neg_root_mean_squared_error  \n",
       "1                 -6038090.859                         -2457.253  \n",
       "2                 -6906060.224                         -2627.938  \n",
       "3                 -6123770.246                         -2474.625  \n",
       "4                 -6297741.471                         -2509.530  \n",
       "5                 -6322692.661                         -2514.497  "
      ]
     },
     "execution_count": 217,
     "metadata": {},
     "output_type": "execute_result"
    }
   ],
   "source": [
    "pd.DataFrame(scores, index = range(1, 6))"
   ]
  },
  {
   "cell_type": "code",
   "execution_count": 218,
   "metadata": {},
   "outputs": [
    {
     "data": {
      "text/plain": [
       "test_r2                                   0.886\n",
       "test_neg_mean_absolute_error          -1740.872\n",
       "test_neg_mean_squared_error        -6337671.092\n",
       "test_neg_root_mean_squared_error      -2516.769\n",
       "dtype: float64"
      ]
     },
     "execution_count": 218,
     "metadata": {},
     "output_type": "execute_result"
    }
   ],
   "source": [
    "scores = pd.DataFrame(scores, index = range(1, 6)) #scorlar birbirine yakın bir sorun yok\n",
    "scores.iloc[:,2:].mean()"
   ]
  },
  {
   "cell_type": "code",
   "execution_count": 219,
   "metadata": {},
   "outputs": [
    {
     "data": {
      "text/html": [
       "<div>\n",
       "<style scoped>\n",
       "    .dataframe tbody tr th:only-of-type {\n",
       "        vertical-align: middle;\n",
       "    }\n",
       "\n",
       "    .dataframe tbody tr th {\n",
       "        vertical-align: top;\n",
       "    }\n",
       "\n",
       "    .dataframe thead th {\n",
       "        text-align: right;\n",
       "    }\n",
       "</style>\n",
       "<table border=\"1\" class=\"dataframe\">\n",
       "  <thead>\n",
       "    <tr style=\"text-align: right;\">\n",
       "      <th></th>\n",
       "      <th>ridge_train</th>\n",
       "      <th>ridge_test</th>\n",
       "    </tr>\n",
       "  </thead>\n",
       "  <tbody>\n",
       "    <tr>\n",
       "      <th>R2</th>\n",
       "      <td>0.891</td>\n",
       "      <td>0.887</td>\n",
       "    </tr>\n",
       "    <tr>\n",
       "      <th>mae</th>\n",
       "      <td>1712.651</td>\n",
       "      <td>1711.996</td>\n",
       "    </tr>\n",
       "    <tr>\n",
       "      <th>mse</th>\n",
       "      <td>6070567.722</td>\n",
       "      <td>5813899.317</td>\n",
       "    </tr>\n",
       "    <tr>\n",
       "      <th>rmse</th>\n",
       "      <td>2463.852</td>\n",
       "      <td>2411.203</td>\n",
       "    </tr>\n",
       "  </tbody>\n",
       "</table>\n",
       "</div>"
      ],
      "text/plain": [
       "      ridge_train  ridge_test\n",
       "R2          0.891       0.887\n",
       "mae      1712.651    1711.996\n",
       "mse   6070567.722 5813899.317\n",
       "rmse     2463.852    2411.203"
      ]
     },
     "execution_count": 219,
     "metadata": {},
     "output_type": "execute_result"
    }
   ],
   "source": [
    "train_val(y_train, y_train_pred, y_test, y_pred, \"ridge\") #rmse ödüllendirmede yapıyor"
   ]
  },
  {
   "cell_type": "code",
   "execution_count": 220,
   "metadata": {},
   "outputs": [
    {
     "data": {
      "text/plain": [
       "<AxesSubplot:>"
      ]
     },
     "execution_count": 220,
     "metadata": {},
     "output_type": "execute_result"
    },
    {
     "data": {
      "image/png": "[encoded data removed]",
      "text/plain": [
       "<Figure size 720x432 with 1 Axes>"
      ]
     },
     "metadata": {},
     "output_type": "display_data"
    }
   ],
   "source": [
    "sns.lineplot(data = scores.iloc[:,2:])"
   ]
  },
  {
   "cell_type": "code",
   "execution_count": 221,
   "metadata": {},
   "outputs": [
    {
     "data": {
      "text/plain": [
       "array([-1.12683755e+04,  1.68473671e+03, -4.83536350e+03,  4.60727365e+02,\n",
       "        2.27345396e+04, -1.83633480e+02, -6.40945678e+02, -1.40142769e+03,\n",
       "        2.98362127e+03, -4.17157308e+03,  3.23847824e+02,  1.03375795e+02,\n",
       "        7.56845373e+01,  2.36496218e+02, -2.91612136e+02,  2.62862655e+02,\n",
       "       -5.85597002e+02, -1.29139568e+02,  1.04178993e+02,  1.56753712e+02,\n",
       "        5.11494515e+02,  2.20710978e+03,  3.58021790e+02,  1.39723557e+02,\n",
       "        6.86104755e+01, -4.56886420e+02,  1.49208661e+02,  1.83635267e+02,\n",
       "       -3.77523688e+02,  4.02053868e+02,  5.44255416e+01,  3.21999546e+02,\n",
       "       -3.27437046e+02,  5.87627706e+02,  5.61356651e+01,  1.07627027e+03,\n",
       "        2.40266035e+02, -4.48706198e+02,  1.15675410e+02, -2.22342430e+02,\n",
       "        3.46265107e+00,  8.20927982e+02, -2.65269624e+02, -7.32523499e+01,\n",
       "        7.05359603e+02,  3.69587732e+01, -5.98394174e+02, -8.29443330e+02,\n",
       "       -5.59031397e+02,  1.63529777e+01,  8.81113926e+02,  4.38391050e+01,\n",
       "        5.01711116e+01, -9.49034717e+00,  2.05724759e+02, -2.05949998e+02,\n",
       "       -3.89530528e+02, -3.11527876e+02,  2.06445132e+02,  1.29287038e+02,\n",
       "        2.03642194e+02, -3.33092171e+02, -3.78073891e+02, -1.00730367e+02,\n",
       "        2.52804054e+02, -1.95990790e+02, -7.01013690e+02,  4.46611863e+02,\n",
       "        1.55286062e+02, -8.51910248e+01, -2.39896718e+02,  8.95772012e+01,\n",
       "        2.80966902e+03, -2.00394396e+02, -1.29333497e+01, -1.24286109e+01,\n",
       "        5.09809452e+01,  1.12999605e+02,  9.11073766e+01, -2.24119054e+02,\n",
       "       -2.67234259e+02, -1.02769272e+02, -2.52403044e+02, -1.06577216e+02,\n",
       "        1.09090977e+02, -2.45094930e+02,  2.63949835e+01, -8.29458503e+02,\n",
       "       -1.33240395e+02,  1.11364309e+02, -3.74024763e+02, -4.14037135e+02,\n",
       "       -2.08150108e+02,  8.35213440e+02,  7.24312393e+02,  3.89480577e+02,\n",
       "        4.32016748e+02, -4.76798132e+02, -6.62448129e+02,  1.02864715e+02,\n",
       "        1.40930276e+02,  1.88070098e+02,  1.37317908e+02, -3.40920201e+02,\n",
       "        1.14912762e+03, -4.04364806e+03, -5.45368439e+03, -1.56579254e+03,\n",
       "       -5.56307052e+03, -7.83290670e+03,  2.96593003e+03, -4.68179279e+02,\n",
       "       -4.88544479e+02, -8.76266095e+02,  1.26765268e+02,  3.43970848e+02,\n",
       "       -9.80436160e+02,  1.47486058e+03,  3.62252880e+02, -3.15829183e+03,\n",
       "       -8.29201859e+02, -2.48496042e+03, -2.95372940e+03,  8.31522219e+02,\n",
       "        3.93442432e+03,  5.38223884e+02,  2.02332588e+03,  1.83296646e+02,\n",
       "        2.90376962e+02, -1.38117437e+03,  2.34053046e+03, -2.51282193e+03,\n",
       "       -2.39536978e+03])"
      ]
     },
     "execution_count": 221,
     "metadata": {},
     "output_type": "execute_result"
    }
   ],
   "source": [
    "ridge_model.coef_"
   ]
  },
  {
   "cell_type": "code",
   "execution_count": 222,
   "metadata": {},
   "outputs": [
    {
     "data": {
      "text/plain": [
       "133"
      ]
     },
     "execution_count": 222,
     "metadata": {},
     "output_type": "execute_result"
    }
   ],
   "source": [
    "len(ridge_model.coef_)"
   ]
  },
  {
   "cell_type": "markdown",
   "metadata": {},
   "source": [
    "# Cross_validation_For_best_alpha"
   ]
  },
  {
   "cell_type": "code",
   "execution_count": 223,
   "metadata": {},
   "outputs": [],
   "source": [
    "from sklearn.linear_model import RidgeCV"
   ]
  },
  {
   "cell_type": "code",
   "execution_count": 224,
   "metadata": {},
   "outputs": [
    {
     "data": {
      "text/plain": [
       "array([0.01, 0.02, 0.03, 0.04, 0.05, 0.06, 0.07, 0.08, 0.09, 0.1 , 0.11,\n",
       "       0.12, 0.13, 0.14, 0.15, 0.16, 0.17, 0.18, 0.19, 0.2 , 0.21, 0.22,\n",
       "       0.23, 0.24, 0.25, 0.26, 0.27, 0.28, 0.29, 0.3 , 0.31, 0.32, 0.33,\n",
       "       0.34, 0.35, 0.36, 0.37, 0.38, 0.39, 0.4 , 0.41, 0.42, 0.43, 0.44,\n",
       "       0.45, 0.46, 0.47, 0.48, 0.49, 0.5 , 0.51, 0.52, 0.53, 0.54, 0.55,\n",
       "       0.56, 0.57, 0.58, 0.59, 0.6 , 0.61, 0.62, 0.63, 0.64, 0.65, 0.66,\n",
       "       0.67, 0.68, 0.69, 0.7 , 0.71, 0.72, 0.73, 0.74, 0.75, 0.76, 0.77,\n",
       "       0.78, 0.79, 0.8 , 0.81, 0.82, 0.83, 0.84, 0.85, 0.86, 0.87, 0.88,\n",
       "       0.89, 0.9 , 0.91, 0.92, 0.93, 0.94, 0.95, 0.96, 0.97, 0.98, 0.99,\n",
       "       1.  ])"
      ]
     },
     "execution_count": 224,
     "metadata": {},
     "output_type": "execute_result"
    }
   ],
   "source": [
    "alpha_space = np.linspace(0.01, 1, 100)   #en iyi alpha modelini seçmeye \n",
    "alpha_space"
   ]
  },
  {
   "cell_type": "code",
   "execution_count": 225,
   "metadata": {},
   "outputs": [],
   "source": [
    "ridge_cv_model = RidgeCV(alphas=alpha_space, cv = 5, scoring= \"neg_root_mean_squared_error\")"
   ]
  },
  {
   "cell_type": "code",
   "execution_count": 226,
   "metadata": {},
   "outputs": [
    {
     "data": {
      "text/plain": [
       "RidgeCV(alphas=array([0.01, 0.02, 0.03, 0.04, 0.05, 0.06, 0.07, 0.08, 0.09, 0.1 , 0.11,\n",
       "       0.12, 0.13, 0.14, 0.15, 0.16, 0.17, 0.18, 0.19, 0.2 , 0.21, 0.22,\n",
       "       0.23, 0.24, 0.25, 0.26, 0.27, 0.28, 0.29, 0.3 , 0.31, 0.32, 0.33,\n",
       "       0.34, 0.35, 0.36, 0.37, 0.38, 0.39, 0.4 , 0.41, 0.42, 0.43, 0.44,\n",
       "       0.45, 0.46, 0.47, 0.48, 0.49, 0.5 , 0.51, 0.52, 0.53, 0.54, 0.55,\n",
       "       0.56, 0.57, 0.58, 0.59, 0.6 , 0.61, 0.62, 0.63, 0.64, 0.65, 0.66,\n",
       "       0.67, 0.68, 0.69, 0.7 , 0.71, 0.72, 0.73, 0.74, 0.75, 0.76, 0.77,\n",
       "       0.78, 0.79, 0.8 , 0.81, 0.82, 0.83, 0.84, 0.85, 0.86, 0.87, 0.88,\n",
       "       0.89, 0.9 , 0.91, 0.92, 0.93, 0.94, 0.95, 0.96, 0.97, 0.98, 0.99,\n",
       "       1.  ]),\n",
       "        cv=5, scoring='neg_root_mean_squared_error')"
      ]
     },
     "execution_count": 226,
     "metadata": {},
     "output_type": "execute_result"
    }
   ],
   "source": [
    "ridge_cv_model.fit(X_train_scaled, y_train)"
   ]
  },
  {
   "cell_type": "code",
   "execution_count": 227,
   "metadata": {},
   "outputs": [
    {
     "data": {
      "text/plain": [
       "0.87"
      ]
     },
     "execution_count": 227,
     "metadata": {},
     "output_type": "execute_result"
    }
   ],
   "source": [
    "ridge_cv_model.alpha_  #en iyi alpha katsayısını bize döndürüyor Ridge(alpha=0.02)"
   ]
  },
  {
   "cell_type": "code",
   "execution_count": 228,
   "metadata": {},
   "outputs": [
    {
     "data": {
      "text/plain": [
       "-2516.74626895256"
      ]
     },
     "execution_count": 228,
     "metadata": {},
     "output_type": "execute_result"
    }
   ],
   "source": [
    "ridge_cv_model.best_score_ #en düşük root mean square error score"
   ]
  },
  {
   "cell_type": "code",
   "execution_count": 229,
   "metadata": {},
   "outputs": [],
   "source": [
    "y_pred = ridge_cv_model.predict(X_test_scaled)\n",
    "y_train_pred = ridge_cv_model.predict(X_train_scaled)"
   ]
  },
  {
   "cell_type": "code",
   "execution_count": 230,
   "metadata": {},
   "outputs": [
    {
     "data": {
      "text/html": [
       "<div>\n",
       "<style scoped>\n",
       "    .dataframe tbody tr th:only-of-type {\n",
       "        vertical-align: middle;\n",
       "    }\n",
       "\n",
       "    .dataframe tbody tr th {\n",
       "        vertical-align: top;\n",
       "    }\n",
       "\n",
       "    .dataframe thead th {\n",
       "        text-align: right;\n",
       "    }\n",
       "</style>\n",
       "<table border=\"1\" class=\"dataframe\">\n",
       "  <thead>\n",
       "    <tr style=\"text-align: right;\">\n",
       "      <th></th>\n",
       "      <th>ridge_cv_train</th>\n",
       "      <th>ridge_cv_test</th>\n",
       "    </tr>\n",
       "  </thead>\n",
       "  <tbody>\n",
       "    <tr>\n",
       "      <th>R2</th>\n",
       "      <td>0.891</td>\n",
       "      <td>0.887</td>\n",
       "    </tr>\n",
       "    <tr>\n",
       "      <th>mae</th>\n",
       "      <td>1712.872</td>\n",
       "      <td>1712.161</td>\n",
       "    </tr>\n",
       "    <tr>\n",
       "      <th>mse</th>\n",
       "      <td>6069575.002</td>\n",
       "      <td>5813396.587</td>\n",
       "    </tr>\n",
       "    <tr>\n",
       "      <th>rmse</th>\n",
       "      <td>2463.651</td>\n",
       "      <td>2411.099</td>\n",
       "    </tr>\n",
       "  </tbody>\n",
       "</table>\n",
       "</div>"
      ],
      "text/plain": [
       "      ridge_cv_train  ridge_cv_test\n",
       "R2             0.891          0.887\n",
       "mae         1712.872       1712.161\n",
       "mse      6069575.002    5813396.587\n",
       "rmse        2463.651       2411.099"
      ]
     },
     "execution_count": 230,
     "metadata": {},
     "output_type": "execute_result"
    }
   ],
   "source": [
    "rcs = train_val(y_train, y_train_pred, y_test, y_pred, \"ridge_cv\")\n",
    "rcs"
   ]
  },
  {
   "cell_type": "code",
   "execution_count": 231,
   "metadata": {},
   "outputs": [
    {
     "data": {
      "text/html": [
       "<div>\n",
       "<style scoped>\n",
       "    .dataframe tbody tr th:only-of-type {\n",
       "        vertical-align: middle;\n",
       "    }\n",
       "\n",
       "    .dataframe tbody tr th {\n",
       "        vertical-align: top;\n",
       "    }\n",
       "\n",
       "    .dataframe thead th {\n",
       "        text-align: right;\n",
       "    }\n",
       "</style>\n",
       "<table border=\"1\" class=\"dataframe\">\n",
       "  <thead>\n",
       "    <tr style=\"text-align: right;\">\n",
       "      <th></th>\n",
       "      <th>linear_train</th>\n",
       "      <th>linear_test</th>\n",
       "      <th>ridge_train</th>\n",
       "      <th>ridge_test</th>\n",
       "      <th>ridge_cv_train</th>\n",
       "      <th>ridge_cv_test</th>\n",
       "    </tr>\n",
       "  </thead>\n",
       "  <tbody>\n",
       "    <tr>\n",
       "      <th>R2</th>\n",
       "      <td>0.891</td>\n",
       "      <td>0.887</td>\n",
       "      <td>0.891</td>\n",
       "      <td>0.887</td>\n",
       "      <td>0.891</td>\n",
       "      <td>0.887</td>\n",
       "    </tr>\n",
       "    <tr>\n",
       "      <th>mae</th>\n",
       "      <td>1714.979</td>\n",
       "      <td>1713.643</td>\n",
       "      <td>1712.651</td>\n",
       "      <td>1711.996</td>\n",
       "      <td>1712.872</td>\n",
       "      <td>1712.161</td>\n",
       "    </tr>\n",
       "    <tr>\n",
       "      <th>mse</th>\n",
       "      <td>6066103.682</td>\n",
       "      <td>5813016.816</td>\n",
       "      <td>6070567.722</td>\n",
       "      <td>5813899.317</td>\n",
       "      <td>6069575.002</td>\n",
       "      <td>5813396.587</td>\n",
       "    </tr>\n",
       "    <tr>\n",
       "      <th>rmse</th>\n",
       "      <td>2462.946</td>\n",
       "      <td>2411.020</td>\n",
       "      <td>2463.852</td>\n",
       "      <td>2411.203</td>\n",
       "      <td>2463.651</td>\n",
       "      <td>2411.099</td>\n",
       "    </tr>\n",
       "  </tbody>\n",
       "</table>\n",
       "</div>"
      ],
      "text/plain": [
       "      linear_train  linear_test  ridge_train  ridge_test  ridge_cv_train  \\\n",
       "R2           0.891        0.887        0.891       0.887           0.891   \n",
       "mae       1714.979     1713.643     1712.651    1711.996        1712.872   \n",
       "mse    6066103.682  5813016.816  6070567.722 5813899.317     6069575.002   \n",
       "rmse      2462.946     2411.020     2463.852    2411.203        2463.651   \n",
       "\n",
       "      ridge_cv_test  \n",
       "R2            0.887  \n",
       "mae        1712.161  \n",
       "mse     5813396.587  \n",
       "rmse       2411.099  "
      ]
     },
     "execution_count": 231,
     "metadata": {},
     "output_type": "execute_result"
    }
   ],
   "source": [
    "pd.concat([ls, rs, rcs], axis = 1) #alpha seçiminden sonra doğruluktaki değişim"
   ]
  },
  {
   "cell_type": "code",
   "execution_count": 232,
   "metadata": {},
   "outputs": [
    {
     "data": {
      "text/plain": [
       "array([-1.13001130e+04,  1.68352808e+03, -4.82873107e+03,  4.58821178e+02,\n",
       "        2.28989840e+04, -1.82817767e+02, -7.12868518e+02, -1.42011091e+03,\n",
       "        2.99333863e+03, -4.21147137e+03,  3.22535719e+02,  9.94654376e+01,\n",
       "        7.53562177e+01,  2.36311835e+02, -2.92459064e+02,  2.63877679e+02,\n",
       "       -6.29400656e+02, -1.30262493e+02,  1.04734271e+02,  1.57105359e+02,\n",
       "        5.13066078e+02,  2.20700584e+03,  3.60826059e+02,  1.40107273e+02,\n",
       "        6.85450470e+01, -4.63055571e+02,  1.49425424e+02,  1.83242854e+02,\n",
       "       -3.77322762e+02,  4.02137238e+02,  5.42134748e+01,  3.21073003e+02,\n",
       "       -3.27771402e+02,  5.86174601e+02,  5.57637659e+01,  1.07690028e+03,\n",
       "        2.40894465e+02, -4.47646775e+02,  1.15154508e+02, -2.23353816e+02,\n",
       "        1.67652049e+00,  8.19688596e+02, -2.65912425e+02, -7.56677040e+01,\n",
       "        7.05129958e+02,  3.73224214e+01, -5.99937386e+02, -8.40769739e+02,\n",
       "       -5.58634596e+02,  1.69467208e+01,  8.80530542e+02,  4.32795053e+01,\n",
       "        5.04764958e+01, -8.36538051e+00,  2.05253840e+02, -2.06607086e+02,\n",
       "       -3.94785149e+02, -3.11066143e+02,  2.04226644e+02,  1.29087884e+02,\n",
       "        2.04074607e+02, -3.31997490e+02, -3.92637424e+02, -9.95582159e+01,\n",
       "        2.47384152e+02, -1.96179899e+02, -7.28813015e+02,  4.46281860e+02,\n",
       "        1.54852035e+02, -8.86489236e+01, -2.39763216e+02,  9.08820887e+01,\n",
       "        2.84599267e+03, -2.00393969e+02, -1.25342975e+01, -9.74317777e+00,\n",
       "        5.13841824e+01,  1.13195643e+02,  9.14907939e+01, -2.24497572e+02,\n",
       "       -2.67875270e+02, -1.02670598e+02, -2.52200677e+02, -1.06371531e+02,\n",
       "        1.11132955e+02, -2.46220378e+02,  2.60626733e+01, -8.30114153e+02,\n",
       "       -1.32518917e+02,  1.10833513e+02, -3.73706032e+02, -4.13819753e+02,\n",
       "       -2.07206520e+02,  8.33667528e+02,  7.22170160e+02,  3.92689276e+02,\n",
       "        4.31116892e+02, -4.75613848e+02, -6.60745186e+02,  1.01213279e+02,\n",
       "        1.40964029e+02,  1.87731271e+02,  1.38151086e+02, -3.40969735e+02,\n",
       "        1.14743352e+03, -4.04961057e+03, -5.43936202e+03, -1.57185019e+03,\n",
       "       -5.56406880e+03, -7.93443490e+03,  2.95219103e+03, -4.82844505e+02,\n",
       "       -4.98337974e+02, -8.09142959e+02,  1.26013210e+02,  3.43699782e+02,\n",
       "       -9.80230513e+02,  1.47582240e+03,  3.63055457e+02, -3.16114480e+03,\n",
       "       -8.32037958e+02, -2.48827710e+03, -2.95544265e+03,  8.48959194e+02,\n",
       "        4.04254061e+03,  5.50071402e+02,  2.04386546e+03,  1.85596295e+02,\n",
       "        2.88661958e+02, -1.37808761e+03,  2.33714886e+03, -2.51910829e+03,\n",
       "       -2.48043818e+03])"
      ]
     },
     "execution_count": 232,
     "metadata": {},
     "output_type": "execute_result"
    }
   ],
   "source": [
    "ridge_cv_model.coef_"
   ]
  },
  {
   "cell_type": "markdown",
   "metadata": {
    "id": "oDfXOSnpmqZO"
   },
   "source": [
    "## 5. Implement Lasso Regression"
   ]
  },
  {
   "cell_type": "markdown",
   "metadata": {
    "id": "icqyxzBymqZO"
   },
   "source": [
    "- Import the modul \n",
    "- Do not forget to scale the data or use Normalize parameter as True(If needed)\n",
    "- Fit the model \n",
    "- Predict the test set \n",
    "- Evaluate model performance (use performance metrics for regression) \n",
    "- Tune alpha hyperparameter by using [cross validation](https://scikit-learn.org/stable/modules/generated/sklearn.linear_model.LassoCV.html) and determine the optimal alpha value.\n",
    "- Fit the model and predict again with the new alpha value.\n",
    "- Compare different evaluation metrics\n",
    "\n",
    "*Note: To understand the importance of the alpha hyperparameter, you can observe the effects of different alpha values on feature coefficants.*"
   ]
  },
  {
   "cell_type": "code",
   "execution_count": 233,
   "metadata": {
    "id": "KbGqu0u5mqZO"
   },
   "outputs": [],
   "source": [
    "from sklearn.linear_model import Lasso, LassoCV"
   ]
  },
  {
   "cell_type": "code",
   "execution_count": 234,
   "metadata": {},
   "outputs": [
    {
     "data": {
      "text/plain": [
       "Lasso(alpha=1, random_state=42)"
      ]
     },
     "execution_count": 234,
     "metadata": {},
     "output_type": "execute_result"
    }
   ],
   "source": [
    "lasso_model = Lasso(alpha=1, random_state=42)  #modeli sıfırlıyoruz parametreler aynı olmalı alınan scorlar bizi yanıltmasın diye\n",
    "lasso_model.fit(X_train_scaled, y_train)"
   ]
  },
  {
   "cell_type": "code",
   "execution_count": 235,
   "metadata": {},
   "outputs": [],
   "source": [
    "y_pred = lasso_model.predict(X_test_scaled)\n",
    "y_train_pred = lasso_model.predict(X_train_scaled)"
   ]
  },
  {
   "cell_type": "code",
   "execution_count": 236,
   "metadata": {},
   "outputs": [
    {
     "data": {
      "text/html": [
       "<div>\n",
       "<style scoped>\n",
       "    .dataframe tbody tr th:only-of-type {\n",
       "        vertical-align: middle;\n",
       "    }\n",
       "\n",
       "    .dataframe tbody tr th {\n",
       "        vertical-align: top;\n",
       "    }\n",
       "\n",
       "    .dataframe thead th {\n",
       "        text-align: right;\n",
       "    }\n",
       "</style>\n",
       "<table border=\"1\" class=\"dataframe\">\n",
       "  <thead>\n",
       "    <tr style=\"text-align: right;\">\n",
       "      <th></th>\n",
       "      <th>lasso_train</th>\n",
       "      <th>lasso_test</th>\n",
       "    </tr>\n",
       "  </thead>\n",
       "  <tbody>\n",
       "    <tr>\n",
       "      <th>R2</th>\n",
       "      <td>0.891</td>\n",
       "      <td>0.888</td>\n",
       "    </tr>\n",
       "    <tr>\n",
       "      <th>mae</th>\n",
       "      <td>1715.261</td>\n",
       "      <td>1711.644</td>\n",
       "    </tr>\n",
       "    <tr>\n",
       "      <th>mse</th>\n",
       "      <td>6084712.267</td>\n",
       "      <td>5810496.070</td>\n",
       "    </tr>\n",
       "    <tr>\n",
       "      <th>rmse</th>\n",
       "      <td>2466.721</td>\n",
       "      <td>2410.497</td>\n",
       "    </tr>\n",
       "  </tbody>\n",
       "</table>\n",
       "</div>"
      ],
      "text/plain": [
       "      lasso_train  lasso_test\n",
       "R2          0.891       0.888\n",
       "mae      1715.261    1711.644\n",
       "mse   6084712.267 5810496.070\n",
       "rmse     2466.721    2410.497"
      ]
     },
     "execution_count": 236,
     "metadata": {},
     "output_type": "execute_result"
    }
   ],
   "source": [
    "lss = train_val(y_train, y_train_pred, y_test, y_pred, \"lasso\") #model lasso ile underfit kalmış ridge ve lasso dada \n",
    "lss"
   ]
  },
  {
   "cell_type": "code",
   "execution_count": 237,
   "metadata": {},
   "outputs": [
    {
     "data": {
      "text/html": [
       "<div>\n",
       "<style scoped>\n",
       "    .dataframe tbody tr th:only-of-type {\n",
       "        vertical-align: middle;\n",
       "    }\n",
       "\n",
       "    .dataframe tbody tr th {\n",
       "        vertical-align: top;\n",
       "    }\n",
       "\n",
       "    .dataframe thead th {\n",
       "        text-align: right;\n",
       "    }\n",
       "</style>\n",
       "<table border=\"1\" class=\"dataframe\">\n",
       "  <thead>\n",
       "    <tr style=\"text-align: right;\">\n",
       "      <th></th>\n",
       "      <th>linear_train</th>\n",
       "      <th>linear_test</th>\n",
       "      <th>ridge_train</th>\n",
       "      <th>ridge_test</th>\n",
       "      <th>ridge_cv_train</th>\n",
       "      <th>ridge_cv_test</th>\n",
       "      <th>lasso_train</th>\n",
       "      <th>lasso_test</th>\n",
       "    </tr>\n",
       "  </thead>\n",
       "  <tbody>\n",
       "    <tr>\n",
       "      <th>R2</th>\n",
       "      <td>0.891</td>\n",
       "      <td>0.887</td>\n",
       "      <td>0.891</td>\n",
       "      <td>0.887</td>\n",
       "      <td>0.891</td>\n",
       "      <td>0.887</td>\n",
       "      <td>0.891</td>\n",
       "      <td>0.888</td>\n",
       "    </tr>\n",
       "    <tr>\n",
       "      <th>mae</th>\n",
       "      <td>1714.979</td>\n",
       "      <td>1713.643</td>\n",
       "      <td>1712.651</td>\n",
       "      <td>1711.996</td>\n",
       "      <td>1712.872</td>\n",
       "      <td>1712.161</td>\n",
       "      <td>1715.261</td>\n",
       "      <td>1711.644</td>\n",
       "    </tr>\n",
       "    <tr>\n",
       "      <th>mse</th>\n",
       "      <td>6066103.682</td>\n",
       "      <td>5813016.816</td>\n",
       "      <td>6070567.722</td>\n",
       "      <td>5813899.317</td>\n",
       "      <td>6069575.002</td>\n",
       "      <td>5813396.587</td>\n",
       "      <td>6084712.267</td>\n",
       "      <td>5810496.070</td>\n",
       "    </tr>\n",
       "    <tr>\n",
       "      <th>rmse</th>\n",
       "      <td>2462.946</td>\n",
       "      <td>2411.020</td>\n",
       "      <td>2463.852</td>\n",
       "      <td>2411.203</td>\n",
       "      <td>2463.651</td>\n",
       "      <td>2411.099</td>\n",
       "      <td>2466.721</td>\n",
       "      <td>2410.497</td>\n",
       "    </tr>\n",
       "  </tbody>\n",
       "</table>\n",
       "</div>"
      ],
      "text/plain": [
       "      linear_train  linear_test  ridge_train  ridge_test  ridge_cv_train  \\\n",
       "R2           0.891        0.887        0.891       0.887           0.891   \n",
       "mae       1714.979     1713.643     1712.651    1711.996        1712.872   \n",
       "mse    6066103.682  5813016.816  6070567.722 5813899.317     6069575.002   \n",
       "rmse      2462.946     2411.020     2463.852    2411.203        2463.651   \n",
       "\n",
       "      ridge_cv_test  lasso_train  lasso_test  \n",
       "R2            0.887        0.891       0.888  \n",
       "mae        1712.161     1715.261    1711.644  \n",
       "mse     5813396.587  6084712.267 5810496.070  \n",
       "rmse       2411.099     2466.721    2410.497  "
      ]
     },
     "execution_count": 237,
     "metadata": {},
     "output_type": "execute_result"
    }
   ],
   "source": [
    "pd.concat([ls, rs, rcs, lss], axis = 1)"
   ]
  },
  {
   "cell_type": "markdown",
   "metadata": {},
   "source": [
    "# For Lasso CV with Default Alpha : 1"
   ]
  },
  {
   "cell_type": "code",
   "execution_count": 238,
   "metadata": {},
   "outputs": [],
   "source": [
    "model = Lasso(alpha=1, random_state=42)\n",
    "scores = cross_validate(model, X_train_scaled, y_train,\n",
    "                        scoring=['r2', 'neg_mean_absolute_error','neg_mean_squared_error','neg_root_mean_squared_error'], cv=5)"
   ]
  },
  {
   "cell_type": "code",
   "execution_count": 239,
   "metadata": {},
   "outputs": [
    {
     "data": {
      "text/html": [
       "<div>\n",
       "<style scoped>\n",
       "    .dataframe tbody tr th:only-of-type {\n",
       "        vertical-align: middle;\n",
       "    }\n",
       "\n",
       "    .dataframe tbody tr th {\n",
       "        vertical-align: top;\n",
       "    }\n",
       "\n",
       "    .dataframe thead th {\n",
       "        text-align: right;\n",
       "    }\n",
       "</style>\n",
       "<table border=\"1\" class=\"dataframe\">\n",
       "  <thead>\n",
       "    <tr style=\"text-align: right;\">\n",
       "      <th></th>\n",
       "      <th>fit_time</th>\n",
       "      <th>score_time</th>\n",
       "      <th>test_r2</th>\n",
       "      <th>test_neg_mean_absolute_error</th>\n",
       "      <th>test_neg_mean_squared_error</th>\n",
       "      <th>test_neg_root_mean_squared_error</th>\n",
       "    </tr>\n",
       "  </thead>\n",
       "  <tbody>\n",
       "    <tr>\n",
       "      <th>1</th>\n",
       "      <td>0.234</td>\n",
       "      <td>0.000</td>\n",
       "      <td>0.889</td>\n",
       "      <td>-1754.505</td>\n",
       "      <td>-6020652.103</td>\n",
       "      <td>-2453.702</td>\n",
       "    </tr>\n",
       "    <tr>\n",
       "      <th>2</th>\n",
       "      <td>0.208</td>\n",
       "      <td>0.002</td>\n",
       "      <td>0.887</td>\n",
       "      <td>-1751.258</td>\n",
       "      <td>-6843769.375</td>\n",
       "      <td>-2616.060</td>\n",
       "    </tr>\n",
       "    <tr>\n",
       "      <th>3</th>\n",
       "      <td>0.213</td>\n",
       "      <td>0.000</td>\n",
       "      <td>0.885</td>\n",
       "      <td>-1731.537</td>\n",
       "      <td>-6106909.350</td>\n",
       "      <td>-2471.216</td>\n",
       "    </tr>\n",
       "    <tr>\n",
       "      <th>4</th>\n",
       "      <td>0.226</td>\n",
       "      <td>0.002</td>\n",
       "      <td>0.889</td>\n",
       "      <td>-1738.382</td>\n",
       "      <td>-6339690.095</td>\n",
       "      <td>-2517.874</td>\n",
       "    </tr>\n",
       "    <tr>\n",
       "      <th>5</th>\n",
       "      <td>0.230</td>\n",
       "      <td>0.004</td>\n",
       "      <td>0.882</td>\n",
       "      <td>-1727.839</td>\n",
       "      <td>-6270104.805</td>\n",
       "      <td>-2504.018</td>\n",
       "    </tr>\n",
       "  </tbody>\n",
       "</table>\n",
       "</div>"
      ],
      "text/plain": [
       "   fit_time  score_time  test_r2  test_neg_mean_absolute_error  \\\n",
       "1     0.234       0.000    0.889                     -1754.505   \n",
       "2     0.208       0.002    0.887                     -1751.258   \n",
       "3     0.213       0.000    0.885                     -1731.537   \n",
       "4     0.226       0.002    0.889                     -1738.382   \n",
       "5     0.230       0.004    0.882                     -1727.839   \n",
       "\n",
       "   test_neg_mean_squared_error  test_neg_root_mean_squared_error  \n",
       "1                 -6020652.103                         -2453.702  \n",
       "2                 -6843769.375                         -2616.060  \n",
       "3                 -6106909.350                         -2471.216  \n",
       "4                 -6339690.095                         -2517.874  \n",
       "5                 -6270104.805                         -2504.018  "
      ]
     },
     "execution_count": 239,
     "metadata": {},
     "output_type": "execute_result"
    }
   ],
   "source": [
    "pd.DataFrame(scores, index = range(1, 6))"
   ]
  },
  {
   "cell_type": "code",
   "execution_count": 240,
   "metadata": {},
   "outputs": [
    {
     "data": {
      "text/plain": [
       "test_r2                                   0.886\n",
       "test_neg_mean_absolute_error          -1740.704\n",
       "test_neg_mean_squared_error        -6316225.146\n",
       "test_neg_root_mean_squared_error      -2512.574\n",
       "dtype: float64"
      ]
     },
     "execution_count": 240,
     "metadata": {},
     "output_type": "execute_result"
    }
   ],
   "source": [
    "scores = pd.DataFrame(scores, index = range(1, 6))\n",
    "scores.iloc[:,2:].mean()"
   ]
  },
  {
   "cell_type": "code",
   "execution_count": 241,
   "metadata": {},
   "outputs": [
    {
     "data": {
      "text/html": [
       "<div>\n",
       "<style scoped>\n",
       "    .dataframe tbody tr th:only-of-type {\n",
       "        vertical-align: middle;\n",
       "    }\n",
       "\n",
       "    .dataframe tbody tr th {\n",
       "        vertical-align: top;\n",
       "    }\n",
       "\n",
       "    .dataframe thead th {\n",
       "        text-align: right;\n",
       "    }\n",
       "</style>\n",
       "<table border=\"1\" class=\"dataframe\">\n",
       "  <thead>\n",
       "    <tr style=\"text-align: right;\">\n",
       "      <th></th>\n",
       "      <th>lasso_train</th>\n",
       "      <th>lasso_test</th>\n",
       "    </tr>\n",
       "  </thead>\n",
       "  <tbody>\n",
       "    <tr>\n",
       "      <th>R2</th>\n",
       "      <td>0.891</td>\n",
       "      <td>0.888</td>\n",
       "    </tr>\n",
       "    <tr>\n",
       "      <th>mae</th>\n",
       "      <td>1715.261</td>\n",
       "      <td>1711.644</td>\n",
       "    </tr>\n",
       "    <tr>\n",
       "      <th>mse</th>\n",
       "      <td>6084712.267</td>\n",
       "      <td>5810496.070</td>\n",
       "    </tr>\n",
       "    <tr>\n",
       "      <th>rmse</th>\n",
       "      <td>2466.721</td>\n",
       "      <td>2410.497</td>\n",
       "    </tr>\n",
       "  </tbody>\n",
       "</table>\n",
       "</div>"
      ],
      "text/plain": [
       "      lasso_train  lasso_test\n",
       "R2          0.891       0.888\n",
       "mae      1715.261    1711.644\n",
       "mse   6084712.267 5810496.070\n",
       "rmse     2466.721    2410.497"
      ]
     },
     "execution_count": 241,
     "metadata": {},
     "output_type": "execute_result"
    }
   ],
   "source": [
    "train_val(y_train, y_train_pred, y_test, y_pred, \"lasso\")"
   ]
  },
  {
   "cell_type": "code",
   "execution_count": 242,
   "metadata": {},
   "outputs": [
    {
     "data": {
      "text/plain": [
       "<AxesSubplot:>"
      ]
     },
     "execution_count": 242,
     "metadata": {},
     "output_type": "execute_result"
    },
    {
     "data": {
      "image/png": "[encoded data removed]",
      "text/plain": [
       "<Figure size 720x432 with 1 Axes>"
      ]
     },
     "metadata": {},
     "output_type": "display_data"
    }
   ],
   "source": [
    "sns.lineplot(data = scores.iloc[:,2:])"
   ]
  },
  {
   "cell_type": "code",
   "execution_count": 243,
   "metadata": {},
   "outputs": [
    {
     "data": {
      "text/plain": [
       "array([-1.12753653e+04,  1.64208893e+03, -4.83934026e+03,  3.82171316e+02,\n",
       "        2.32777766e+04, -1.72879019e+02, -5.86984643e+02, -1.17572344e+03,\n",
       "        2.22789570e+03, -3.44232459e+03,  2.95232175e+02, -0.00000000e+00,\n",
       "        7.40465524e+01,  2.33444488e+02, -2.10335136e+02,  2.54929907e+02,\n",
       "       -0.00000000e+00, -9.24039677e+01,  1.11585097e+02,  1.45143571e+02,\n",
       "        5.03773033e+02,  2.20342907e+03,  3.54713190e+02,  1.40881807e+02,\n",
       "        6.28764638e+01, -9.21764982e+01,  1.50184919e+02,  1.61957456e+02,\n",
       "       -3.71589327e+02,  3.30696915e+02,  4.04409002e+01,  3.20045230e+02,\n",
       "       -2.44084959e+02,  5.75802919e+02,  4.15623065e+01,  1.08435948e+03,\n",
       "        2.30553254e+02, -4.19766948e+02,  8.64457708e+01, -1.96147557e+02,\n",
       "        4.72526975e+00,  8.24382528e+02, -2.23893281e+02, -7.80505097e+01,\n",
       "        6.26926156e+02,  4.04068224e+00, -1.52172337e+02, -0.00000000e+00,\n",
       "       -5.43938288e+02,  1.38803531e+01,  8.72489859e+02,  1.83915960e+01,\n",
       "        4.31165064e+01, -0.00000000e+00,  2.01001376e+02, -1.87113518e+02,\n",
       "       -0.00000000e+00, -3.04839265e+02,  1.98740369e+02,  7.47981238e+01,\n",
       "        1.88952625e+02, -0.00000000e+00, -0.00000000e+00, -7.76846404e+01,\n",
       "        1.85752697e+02, -1.32459036e+02, -0.00000000e+00,  4.24167359e+02,\n",
       "        1.45365903e+02, -7.34250051e+01, -2.43903226e+02,  5.35772877e+01,\n",
       "        1.64681612e+03, -1.86975870e+02, -0.00000000e+00, -0.00000000e+00,\n",
       "        3.20373611e+01,  7.80727506e+01,  7.70462591e+01, -1.84868911e+02,\n",
       "       -2.59494117e+02, -9.16443200e+01, -2.32150649e+02, -5.06185014e+01,\n",
       "        7.06322861e+01, -2.28739299e+02,  1.57720515e+01, -8.46996048e+02,\n",
       "       -1.34414136e+02,  7.90929023e+01, -3.57033180e+02, -4.01951510e+02,\n",
       "       -2.04059241e+02,  8.34105442e+02,  7.40122805e+02,  9.00175699e+01,\n",
       "        4.21657110e+02, -4.50100796e+02, -6.44701537e+02,  9.43402983e+01,\n",
       "        1.20045893e+02,  1.92567138e+02,  1.23434374e+02, -3.26013658e+02,\n",
       "        1.10714656e+03, -4.07045440e+03, -5.39255451e+03, -1.61578942e+03,\n",
       "       -5.51922457e+03, -8.38819657e+03,  2.77059957e+03, -0.00000000e+00,\n",
       "       -0.00000000e+00, -2.69930155e+02,  1.30404758e+02,  3.02826944e+02,\n",
       "       -7.56768075e+02,  1.51725953e+03,  3.22491059e+02, -3.07517860e+03,\n",
       "       -7.65446498e+02, -2.40308448e+03, -2.89344208e+03,  7.39427909e+02,\n",
       "        1.92320521e+03,  2.69804941e+02,  1.54095654e+03,  1.52676241e+02,\n",
       "        2.83660689e+02, -1.38048091e+03,  2.28731608e+03, -2.30074632e+03,\n",
       "       -0.00000000e+00])"
      ]
     },
     "execution_count": 243,
     "metadata": {},
     "output_type": "execute_result"
    }
   ],
   "source": [
    "lasso_model.coef_  #elimizde 2 feature kalmış gidip müşteriye sormalıyız minimum feature ile max score elde etmek istermisin \n",
    "#%10 luk bir kayıp senin işini görürmü"
   ]
  },
  {
   "cell_type": "code",
   "execution_count": 244,
   "metadata": {},
   "outputs": [
    {
     "data": {
      "text/plain": [
       "13"
      ]
     },
     "execution_count": 244,
     "metadata": {},
     "output_type": "execute_result"
    }
   ],
   "source": [
    "len([i for i in lasso_model.coef_ if i==0])"
   ]
  },
  {
   "cell_type": "markdown",
   "metadata": {},
   "source": [
    "# Choosing best alpha value with Cross-Validation"
   ]
  },
  {
   "cell_type": "code",
   "execution_count": 245,
   "metadata": {},
   "outputs": [],
   "source": [
    "lasso_cv_model = LassoCV(alphas = alpha_space, cv = 5, max_iter=100000, random_state=42) #max iter daha fazla alanı tarıyor"
   ]
  },
  {
   "cell_type": "code",
   "execution_count": 246,
   "metadata": {},
   "outputs": [
    {
     "data": {
      "text/plain": [
       "LassoCV(alphas=array([0.01, 0.02, 0.03, 0.04, 0.05, 0.06, 0.07, 0.08, 0.09, 0.1 , 0.11,\n",
       "       0.12, 0.13, 0.14, 0.15, 0.16, 0.17, 0.18, 0.19, 0.2 , 0.21, 0.22,\n",
       "       0.23, 0.24, 0.25, 0.26, 0.27, 0.28, 0.29, 0.3 , 0.31, 0.32, 0.33,\n",
       "       0.34, 0.35, 0.36, 0.37, 0.38, 0.39, 0.4 , 0.41, 0.42, 0.43, 0.44,\n",
       "       0.45, 0.46, 0.47, 0.48, 0.49, 0.5 , 0.51, 0.52, 0.53, 0.54, 0.55,\n",
       "       0.56, 0.57, 0.58, 0.59, 0.6 , 0.61, 0.62, 0.63, 0.64, 0.65, 0.66,\n",
       "       0.67, 0.68, 0.69, 0.7 , 0.71, 0.72, 0.73, 0.74, 0.75, 0.76, 0.77,\n",
       "       0.78, 0.79, 0.8 , 0.81, 0.82, 0.83, 0.84, 0.85, 0.86, 0.87, 0.88,\n",
       "       0.89, 0.9 , 0.91, 0.92, 0.93, 0.94, 0.95, 0.96, 0.97, 0.98, 0.99,\n",
       "       1.  ]),\n",
       "        cv=5, max_iter=100000, random_state=42)"
      ]
     },
     "execution_count": 246,
     "metadata": {},
     "output_type": "execute_result"
    }
   ],
   "source": [
    "lasso_cv_model.fit(X_train_scaled, y_train) #alpha_space(0.01,1,100) ridge aynı alpha space seçip ona göre kıyaslıyoruz"
   ]
  },
  {
   "cell_type": "code",
   "execution_count": 247,
   "metadata": {},
   "outputs": [
    {
     "data": {
      "text/plain": [
       "1.0"
      ]
     },
     "execution_count": 247,
     "metadata": {},
     "output_type": "execute_result"
    }
   ],
   "source": [
    "lasso_cv_model.alpha_ "
   ]
  },
  {
   "cell_type": "code",
   "execution_count": 248,
   "metadata": {},
   "outputs": [
    {
     "data": {
      "text/plain": [
       "array([1.  , 0.99, 0.98, 0.97, 0.96, 0.95, 0.94, 0.93, 0.92, 0.91, 0.9 ,\n",
       "       0.89, 0.88, 0.87, 0.86, 0.85, 0.84, 0.83, 0.82, 0.81, 0.8 , 0.79,\n",
       "       0.78, 0.77, 0.76, 0.75, 0.74, 0.73, 0.72, 0.71, 0.7 , 0.69, 0.68,\n",
       "       0.67, 0.66, 0.65, 0.64, 0.63, 0.62, 0.61, 0.6 , 0.59, 0.58, 0.57,\n",
       "       0.56, 0.55, 0.54, 0.53, 0.52, 0.51, 0.5 , 0.49, 0.48, 0.47, 0.46,\n",
       "       0.45, 0.44, 0.43, 0.42, 0.41, 0.4 , 0.39, 0.38, 0.37, 0.36, 0.35,\n",
       "       0.34, 0.33, 0.32, 0.31, 0.3 , 0.29, 0.28, 0.27, 0.26, 0.25, 0.24,\n",
       "       0.23, 0.22, 0.21, 0.2 , 0.19, 0.18, 0.17, 0.16, 0.15, 0.14, 0.13,\n",
       "       0.12, 0.11, 0.1 , 0.09, 0.08, 0.07, 0.06, 0.05, 0.04, 0.03, 0.02,\n",
       "       0.01])"
      ]
     },
     "execution_count": 248,
     "metadata": {},
     "output_type": "execute_result"
    }
   ],
   "source": [
    "alpha_space[::-1]"
   ]
  },
  {
   "cell_type": "code",
   "execution_count": 249,
   "metadata": {},
   "outputs": [],
   "source": [
    "y_pred = lasso_cv_model.predict(X_test_scaled)   #Lasso(alpha =0.01)\n",
    "y_train_pred = lasso_cv_model.predict(X_train_scaled)"
   ]
  },
  {
   "cell_type": "code",
   "execution_count": 250,
   "metadata": {},
   "outputs": [
    {
     "data": {
      "text/html": [
       "<div>\n",
       "<style scoped>\n",
       "    .dataframe tbody tr th:only-of-type {\n",
       "        vertical-align: middle;\n",
       "    }\n",
       "\n",
       "    .dataframe tbody tr th {\n",
       "        vertical-align: top;\n",
       "    }\n",
       "\n",
       "    .dataframe thead th {\n",
       "        text-align: right;\n",
       "    }\n",
       "</style>\n",
       "<table border=\"1\" class=\"dataframe\">\n",
       "  <thead>\n",
       "    <tr style=\"text-align: right;\">\n",
       "      <th></th>\n",
       "      <th>lasso_cv_train</th>\n",
       "      <th>lasso_cv_test</th>\n",
       "    </tr>\n",
       "  </thead>\n",
       "  <tbody>\n",
       "    <tr>\n",
       "      <th>R2</th>\n",
       "      <td>0.891</td>\n",
       "      <td>0.888</td>\n",
       "    </tr>\n",
       "    <tr>\n",
       "      <th>mae</th>\n",
       "      <td>1715.261</td>\n",
       "      <td>1711.644</td>\n",
       "    </tr>\n",
       "    <tr>\n",
       "      <th>mse</th>\n",
       "      <td>6084712.267</td>\n",
       "      <td>5810496.070</td>\n",
       "    </tr>\n",
       "    <tr>\n",
       "      <th>rmse</th>\n",
       "      <td>2466.721</td>\n",
       "      <td>2410.497</td>\n",
       "    </tr>\n",
       "  </tbody>\n",
       "</table>\n",
       "</div>"
      ],
      "text/plain": [
       "      lasso_cv_train  lasso_cv_test\n",
       "R2             0.891          0.888\n",
       "mae         1715.261       1711.644\n",
       "mse      6084712.267    5810496.070\n",
       "rmse        2466.721       2410.497"
      ]
     },
     "execution_count": 250,
     "metadata": {},
     "output_type": "execute_result"
    }
   ],
   "source": [
    "lcs = train_val(y_train, y_train_pred, y_test, y_pred, \"lasso_cv\")#0.01 alpha değeri ile dahada scorların iyileştiğini görebiliyoruz\n",
    "lcs"
   ]
  },
  {
   "cell_type": "code",
   "execution_count": 251,
   "metadata": {},
   "outputs": [
    {
     "data": {
      "text/html": [
       "<div>\n",
       "<style scoped>\n",
       "    .dataframe tbody tr th:only-of-type {\n",
       "        vertical-align: middle;\n",
       "    }\n",
       "\n",
       "    .dataframe tbody tr th {\n",
       "        vertical-align: top;\n",
       "    }\n",
       "\n",
       "    .dataframe thead th {\n",
       "        text-align: right;\n",
       "    }\n",
       "</style>\n",
       "<table border=\"1\" class=\"dataframe\">\n",
       "  <thead>\n",
       "    <tr style=\"text-align: right;\">\n",
       "      <th></th>\n",
       "      <th>linear_train</th>\n",
       "      <th>linear_test</th>\n",
       "      <th>ridge_train</th>\n",
       "      <th>ridge_test</th>\n",
       "      <th>ridge_cv_train</th>\n",
       "      <th>ridge_cv_test</th>\n",
       "      <th>lasso_train</th>\n",
       "      <th>lasso_test</th>\n",
       "      <th>lasso_cv_train</th>\n",
       "      <th>lasso_cv_test</th>\n",
       "    </tr>\n",
       "  </thead>\n",
       "  <tbody>\n",
       "    <tr>\n",
       "      <th>R2</th>\n",
       "      <td>0.891</td>\n",
       "      <td>0.887</td>\n",
       "      <td>0.891</td>\n",
       "      <td>0.887</td>\n",
       "      <td>0.891</td>\n",
       "      <td>0.887</td>\n",
       "      <td>0.891</td>\n",
       "      <td>0.888</td>\n",
       "      <td>0.891</td>\n",
       "      <td>0.888</td>\n",
       "    </tr>\n",
       "    <tr>\n",
       "      <th>mae</th>\n",
       "      <td>1714.979</td>\n",
       "      <td>1713.643</td>\n",
       "      <td>1712.651</td>\n",
       "      <td>1711.996</td>\n",
       "      <td>1712.872</td>\n",
       "      <td>1712.161</td>\n",
       "      <td>1715.261</td>\n",
       "      <td>1711.644</td>\n",
       "      <td>1715.261</td>\n",
       "      <td>1711.644</td>\n",
       "    </tr>\n",
       "    <tr>\n",
       "      <th>mse</th>\n",
       "      <td>6066103.682</td>\n",
       "      <td>5813016.816</td>\n",
       "      <td>6070567.722</td>\n",
       "      <td>5813899.317</td>\n",
       "      <td>6069575.002</td>\n",
       "      <td>5813396.587</td>\n",
       "      <td>6084712.267</td>\n",
       "      <td>5810496.070</td>\n",
       "      <td>6084712.267</td>\n",
       "      <td>5810496.070</td>\n",
       "    </tr>\n",
       "    <tr>\n",
       "      <th>rmse</th>\n",
       "      <td>2462.946</td>\n",
       "      <td>2411.020</td>\n",
       "      <td>2463.852</td>\n",
       "      <td>2411.203</td>\n",
       "      <td>2463.651</td>\n",
       "      <td>2411.099</td>\n",
       "      <td>2466.721</td>\n",
       "      <td>2410.497</td>\n",
       "      <td>2466.721</td>\n",
       "      <td>2410.497</td>\n",
       "    </tr>\n",
       "  </tbody>\n",
       "</table>\n",
       "</div>"
      ],
      "text/plain": [
       "      linear_train  linear_test  ridge_train  ridge_test  ridge_cv_train  \\\n",
       "R2           0.891        0.887        0.891       0.887           0.891   \n",
       "mae       1714.979     1713.643     1712.651    1711.996        1712.872   \n",
       "mse    6066103.682  5813016.816  6070567.722 5813899.317     6069575.002   \n",
       "rmse      2462.946     2411.020     2463.852    2411.203        2463.651   \n",
       "\n",
       "      ridge_cv_test  lasso_train  lasso_test  lasso_cv_train  lasso_cv_test  \n",
       "R2            0.887        0.891       0.888           0.891          0.888  \n",
       "mae        1712.161     1715.261    1711.644        1715.261       1711.644  \n",
       "mse     5813396.587  6084712.267 5810496.070     6084712.267    5810496.070  \n",
       "rmse       2411.099     2466.721    2410.497        2466.721       2410.497  "
      ]
     },
     "execution_count": 251,
     "metadata": {},
     "output_type": "execute_result"
    }
   ],
   "source": [
    "pd.concat([ls,rs, rcs, lss, lcs], axis = 1) #10 feature ile %98 lik bir modelmi istiyorsun diye sormalıyız"
   ]
  },
  {
   "cell_type": "code",
   "execution_count": 252,
   "metadata": {},
   "outputs": [
    {
     "data": {
      "text/plain": [
       "array([-1.12753653e+04,  1.64208893e+03, -4.83934026e+03,  3.82171316e+02,\n",
       "        2.32777766e+04, -1.72879019e+02, -5.86984643e+02, -1.17572344e+03,\n",
       "        2.22789570e+03, -3.44232459e+03,  2.95232175e+02, -0.00000000e+00,\n",
       "        7.40465524e+01,  2.33444488e+02, -2.10335136e+02,  2.54929907e+02,\n",
       "       -0.00000000e+00, -9.24039677e+01,  1.11585097e+02,  1.45143571e+02,\n",
       "        5.03773033e+02,  2.20342907e+03,  3.54713190e+02,  1.40881807e+02,\n",
       "        6.28764638e+01, -9.21764982e+01,  1.50184919e+02,  1.61957456e+02,\n",
       "       -3.71589327e+02,  3.30696915e+02,  4.04409002e+01,  3.20045230e+02,\n",
       "       -2.44084959e+02,  5.75802919e+02,  4.15623065e+01,  1.08435948e+03,\n",
       "        2.30553254e+02, -4.19766948e+02,  8.64457708e+01, -1.96147557e+02,\n",
       "        4.72526975e+00,  8.24382528e+02, -2.23893281e+02, -7.80505097e+01,\n",
       "        6.26926156e+02,  4.04068224e+00, -1.52172337e+02, -0.00000000e+00,\n",
       "       -5.43938288e+02,  1.38803531e+01,  8.72489859e+02,  1.83915960e+01,\n",
       "        4.31165064e+01, -0.00000000e+00,  2.01001376e+02, -1.87113518e+02,\n",
       "       -0.00000000e+00, -3.04839265e+02,  1.98740369e+02,  7.47981238e+01,\n",
       "        1.88952625e+02, -0.00000000e+00, -0.00000000e+00, -7.76846404e+01,\n",
       "        1.85752697e+02, -1.32459036e+02, -0.00000000e+00,  4.24167359e+02,\n",
       "        1.45365903e+02, -7.34250051e+01, -2.43903226e+02,  5.35772877e+01,\n",
       "        1.64681612e+03, -1.86975870e+02, -0.00000000e+00, -0.00000000e+00,\n",
       "        3.20373611e+01,  7.80727506e+01,  7.70462591e+01, -1.84868911e+02,\n",
       "       -2.59494117e+02, -9.16443200e+01, -2.32150649e+02, -5.06185014e+01,\n",
       "        7.06322861e+01, -2.28739299e+02,  1.57720515e+01, -8.46996048e+02,\n",
       "       -1.34414136e+02,  7.90929023e+01, -3.57033180e+02, -4.01951510e+02,\n",
       "       -2.04059241e+02,  8.34105442e+02,  7.40122805e+02,  9.00175699e+01,\n",
       "        4.21657110e+02, -4.50100796e+02, -6.44701537e+02,  9.43402983e+01,\n",
       "        1.20045893e+02,  1.92567138e+02,  1.23434374e+02, -3.26013658e+02,\n",
       "        1.10714656e+03, -4.07045440e+03, -5.39255451e+03, -1.61578942e+03,\n",
       "       -5.51922457e+03, -8.38819657e+03,  2.77059957e+03, -0.00000000e+00,\n",
       "       -0.00000000e+00, -2.69930155e+02,  1.30404758e+02,  3.02826944e+02,\n",
       "       -7.56768075e+02,  1.51725953e+03,  3.22491059e+02, -3.07517860e+03,\n",
       "       -7.65446498e+02, -2.40308448e+03, -2.89344208e+03,  7.39427909e+02,\n",
       "        1.92320521e+03,  2.69804941e+02,  1.54095654e+03,  1.52676241e+02,\n",
       "        2.83660689e+02, -1.38048091e+03,  2.28731608e+03, -2.30074632e+03,\n",
       "       -0.00000000e+00])"
      ]
     },
     "execution_count": 252,
     "metadata": {},
     "output_type": "execute_result"
    }
   ],
   "source": [
    "lasso_cv_model.coef_  #alpha katsayısının değişimi ile gayet iyi bir alana gelmiş oldu "
   ]
  },
  {
   "cell_type": "code",
   "execution_count": 253,
   "metadata": {},
   "outputs": [
    {
     "data": {
      "text/plain": [
       "13"
      ]
     },
     "execution_count": 253,
     "metadata": {},
     "output_type": "execute_result"
    }
   ],
   "source": [
    "len([i for i in lasso_cv_model.coef_ if i==0])"
   ]
  },
  {
   "cell_type": "code",
   "execution_count": 254,
   "metadata": {},
   "outputs": [],
   "source": [
    "lcm_df = pd.DataFrame(lasso_cv_model.coef_, columns = [\"lasso_cv_coef_0.01\"])"
   ]
  },
  {
   "cell_type": "code",
   "execution_count": 255,
   "metadata": {},
   "outputs": [
    {
     "data": {
      "text/html": [
       "<div>\n",
       "<style scoped>\n",
       "    .dataframe tbody tr th:only-of-type {\n",
       "        vertical-align: middle;\n",
       "    }\n",
       "\n",
       "    .dataframe tbody tr th {\n",
       "        vertical-align: top;\n",
       "    }\n",
       "\n",
       "    .dataframe thead th {\n",
       "        text-align: right;\n",
       "    }\n",
       "</style>\n",
       "<table border=\"1\" class=\"dataframe\">\n",
       "  <thead>\n",
       "    <tr style=\"text-align: right;\">\n",
       "      <th></th>\n",
       "      <th>lm_coef</th>\n",
       "      <th>lasso_cv_coef_0.01</th>\n",
       "    </tr>\n",
       "  </thead>\n",
       "  <tbody>\n",
       "    <tr>\n",
       "      <th>0</th>\n",
       "      <td>-11520.218</td>\n",
       "      <td>-11275.365</td>\n",
       "    </tr>\n",
       "    <tr>\n",
       "      <th>1</th>\n",
       "      <td>1676.049</td>\n",
       "      <td>1642.089</td>\n",
       "    </tr>\n",
       "    <tr>\n",
       "      <th>2</th>\n",
       "      <td>-4782.221</td>\n",
       "      <td>-4839.340</td>\n",
       "    </tr>\n",
       "    <tr>\n",
       "      <th>3</th>\n",
       "      <td>444.414</td>\n",
       "      <td>382.171</td>\n",
       "    </tr>\n",
       "    <tr>\n",
       "      <th>4</th>\n",
       "      <td>24080.174</td>\n",
       "      <td>23277.777</td>\n",
       "    </tr>\n",
       "    <tr>\n",
       "      <th>...</th>\n",
       "      <td>...</td>\n",
       "      <td>...</td>\n",
       "    </tr>\n",
       "    <tr>\n",
       "      <th>128</th>\n",
       "      <td>276.075</td>\n",
       "      <td>283.661</td>\n",
       "    </tr>\n",
       "    <tr>\n",
       "      <th>129</th>\n",
       "      <td>-1355.799</td>\n",
       "      <td>-1380.481</td>\n",
       "    </tr>\n",
       "    <tr>\n",
       "      <th>130</th>\n",
       "      <td>2311.733</td>\n",
       "      <td>2287.316</td>\n",
       "    </tr>\n",
       "    <tr>\n",
       "      <th>131</th>\n",
       "      <td>-2568.452</td>\n",
       "      <td>-2300.746</td>\n",
       "    </tr>\n",
       "    <tr>\n",
       "      <th>132</th>\n",
       "      <td>-3248.447</td>\n",
       "      <td>-0.000</td>\n",
       "    </tr>\n",
       "  </tbody>\n",
       "</table>\n",
       "<p>133 rows × 2 columns</p>\n",
       "</div>"
      ],
      "text/plain": [
       "       lm_coef  lasso_cv_coef_0.01\n",
       "0   -11520.218          -11275.365\n",
       "1     1676.049            1642.089\n",
       "2    -4782.221           -4839.340\n",
       "3      444.414             382.171\n",
       "4    24080.174           23277.777\n",
       "..         ...                 ...\n",
       "128    276.075             283.661\n",
       "129  -1355.799           -1380.481\n",
       "130   2311.733            2287.316\n",
       "131  -2568.452           -2300.746\n",
       "132  -3248.447              -0.000\n",
       "\n",
       "[133 rows x 2 columns]"
      ]
     },
     "execution_count": 255,
     "metadata": {},
     "output_type": "execute_result"
    }
   ],
   "source": [
    "pd.concat([lm_df,  lcm_df], axis = 1)"
   ]
  },
  {
   "cell_type": "code",
   "execution_count": null,
   "metadata": {},
   "outputs": [],
   "source": []
  },
  {
   "cell_type": "code",
   "execution_count": null,
   "metadata": {},
   "outputs": [],
   "source": []
  },
  {
   "cell_type": "markdown",
   "metadata": {
    "id": "qpoOypMbmqZO"
   },
   "source": [
    "## 6. Implement Elastic-Net"
   ]
  },
  {
   "cell_type": "markdown",
   "metadata": {
    "id": "El7SNJUemqZO"
   },
   "source": [
    "- Import the modul \n",
    "- Do not forget to scale the data or use Normalize parameter as True(If needed)\n",
    "- Fit the model \n",
    "- Predict the test set \n",
    "- Evaluate model performance (use performance metrics for regression) \n",
    "- Tune alpha hyperparameter by using [GridSearchCV](https://scikit-learn.org/stable/modules/generated/sklearn.model_selection.GridSearchCV.html) and determine the optimal alpha value.\n",
    "- Fit the model and predict again with the new alpha value.\n",
    "- Compare different evaluation metrics"
   ]
  },
  {
   "cell_type": "code",
   "execution_count": 256,
   "metadata": {
    "id": "XKVr6v2JmqZO"
   },
   "outputs": [],
   "source": [
    "from sklearn.linear_model import ElasticNet, ElasticNetCV"
   ]
  },
  {
   "cell_type": "code",
   "execution_count": 257,
   "metadata": {},
   "outputs": [
    {
     "data": {
      "text/plain": [
       "ElasticNet(alpha=1, random_state=42)"
      ]
     },
     "execution_count": 257,
     "metadata": {},
     "output_type": "execute_result"
    }
   ],
   "source": [
    "elastic_model = ElasticNet(alpha=1, l1_ratio=0.5, random_state=42)\n",
    "elastic_model.fit(X_train_scaled, y_train)  "
   ]
  },
  {
   "cell_type": "code",
   "execution_count": 258,
   "metadata": {},
   "outputs": [],
   "source": [
    "y_pred = elastic_model.predict(X_test_scaled)\n",
    "y_train_pred = elastic_model.predict(X_train_scaled)"
   ]
  },
  {
   "cell_type": "code",
   "execution_count": 259,
   "metadata": {},
   "outputs": [
    {
     "data": {
      "text/html": [
       "<div>\n",
       "<style scoped>\n",
       "    .dataframe tbody tr th:only-of-type {\n",
       "        vertical-align: middle;\n",
       "    }\n",
       "\n",
       "    .dataframe tbody tr th {\n",
       "        vertical-align: top;\n",
       "    }\n",
       "\n",
       "    .dataframe thead th {\n",
       "        text-align: right;\n",
       "    }\n",
       "</style>\n",
       "<table border=\"1\" class=\"dataframe\">\n",
       "  <thead>\n",
       "    <tr style=\"text-align: right;\">\n",
       "      <th></th>\n",
       "      <th>elastic_train</th>\n",
       "      <th>elastic_test</th>\n",
       "    </tr>\n",
       "  </thead>\n",
       "  <tbody>\n",
       "    <tr>\n",
       "      <th>R2</th>\n",
       "      <td>0.609</td>\n",
       "      <td>0.604</td>\n",
       "    </tr>\n",
       "    <tr>\n",
       "      <th>mae</th>\n",
       "      <td>3372.221</td>\n",
       "      <td>3290.290</td>\n",
       "    </tr>\n",
       "    <tr>\n",
       "      <th>mse</th>\n",
       "      <td>21791737.452</td>\n",
       "      <td>20469723.573</td>\n",
       "    </tr>\n",
       "    <tr>\n",
       "      <th>rmse</th>\n",
       "      <td>4668.162</td>\n",
       "      <td>4524.348</td>\n",
       "    </tr>\n",
       "  </tbody>\n",
       "</table>\n",
       "</div>"
      ],
      "text/plain": [
       "      elastic_train  elastic_test\n",
       "R2            0.609         0.604\n",
       "mae        3372.221      3290.290\n",
       "mse    21791737.452  20469723.573\n",
       "rmse       4668.162      4524.348"
      ]
     },
     "execution_count": 259,
     "metadata": {},
     "output_type": "execute_result"
    }
   ],
   "source": [
    "es = train_val(y_train, y_train_pred, y_test, y_pred, \"elastic\")\n",
    "es"
   ]
  },
  {
   "cell_type": "code",
   "execution_count": 260,
   "metadata": {},
   "outputs": [
    {
     "data": {
      "text/html": [
       "<div>\n",
       "<style scoped>\n",
       "    .dataframe tbody tr th:only-of-type {\n",
       "        vertical-align: middle;\n",
       "    }\n",
       "\n",
       "    .dataframe tbody tr th {\n",
       "        vertical-align: top;\n",
       "    }\n",
       "\n",
       "    .dataframe thead th {\n",
       "        text-align: right;\n",
       "    }\n",
       "</style>\n",
       "<table border=\"1\" class=\"dataframe\">\n",
       "  <thead>\n",
       "    <tr style=\"text-align: right;\">\n",
       "      <th></th>\n",
       "      <th>linear_train</th>\n",
       "      <th>linear_test</th>\n",
       "      <th>ridge_train</th>\n",
       "      <th>ridge_test</th>\n",
       "      <th>ridge_cv_train</th>\n",
       "      <th>ridge_cv_test</th>\n",
       "      <th>lasso_train</th>\n",
       "      <th>lasso_test</th>\n",
       "      <th>lasso_cv_train</th>\n",
       "      <th>lasso_cv_test</th>\n",
       "      <th>elastic_train</th>\n",
       "      <th>elastic_test</th>\n",
       "    </tr>\n",
       "  </thead>\n",
       "  <tbody>\n",
       "    <tr>\n",
       "      <th>R2</th>\n",
       "      <td>0.891</td>\n",
       "      <td>0.887</td>\n",
       "      <td>0.891</td>\n",
       "      <td>0.887</td>\n",
       "      <td>0.891</td>\n",
       "      <td>0.887</td>\n",
       "      <td>0.891</td>\n",
       "      <td>0.888</td>\n",
       "      <td>0.891</td>\n",
       "      <td>0.888</td>\n",
       "      <td>0.609</td>\n",
       "      <td>0.604</td>\n",
       "    </tr>\n",
       "    <tr>\n",
       "      <th>mae</th>\n",
       "      <td>1714.979</td>\n",
       "      <td>1713.643</td>\n",
       "      <td>1712.651</td>\n",
       "      <td>1711.996</td>\n",
       "      <td>1712.872</td>\n",
       "      <td>1712.161</td>\n",
       "      <td>1715.261</td>\n",
       "      <td>1711.644</td>\n",
       "      <td>1715.261</td>\n",
       "      <td>1711.644</td>\n",
       "      <td>3372.221</td>\n",
       "      <td>3290.290</td>\n",
       "    </tr>\n",
       "    <tr>\n",
       "      <th>mse</th>\n",
       "      <td>6066103.682</td>\n",
       "      <td>5813016.816</td>\n",
       "      <td>6070567.722</td>\n",
       "      <td>5813899.317</td>\n",
       "      <td>6069575.002</td>\n",
       "      <td>5813396.587</td>\n",
       "      <td>6084712.267</td>\n",
       "      <td>5810496.070</td>\n",
       "      <td>6084712.267</td>\n",
       "      <td>5810496.070</td>\n",
       "      <td>21791737.452</td>\n",
       "      <td>20469723.573</td>\n",
       "    </tr>\n",
       "    <tr>\n",
       "      <th>rmse</th>\n",
       "      <td>2462.946</td>\n",
       "      <td>2411.020</td>\n",
       "      <td>2463.852</td>\n",
       "      <td>2411.203</td>\n",
       "      <td>2463.651</td>\n",
       "      <td>2411.099</td>\n",
       "      <td>2466.721</td>\n",
       "      <td>2410.497</td>\n",
       "      <td>2466.721</td>\n",
       "      <td>2410.497</td>\n",
       "      <td>4668.162</td>\n",
       "      <td>4524.348</td>\n",
       "    </tr>\n",
       "  </tbody>\n",
       "</table>\n",
       "</div>"
      ],
      "text/plain": [
       "      linear_train  linear_test  ridge_train  ridge_test  ridge_cv_train  \\\n",
       "R2           0.891        0.887        0.891       0.887           0.891   \n",
       "mae       1714.979     1713.643     1712.651    1711.996        1712.872   \n",
       "mse    6066103.682  5813016.816  6070567.722 5813899.317     6069575.002   \n",
       "rmse      2462.946     2411.020     2463.852    2411.203        2463.651   \n",
       "\n",
       "      ridge_cv_test  lasso_train  lasso_test  lasso_cv_train  lasso_cv_test  \\\n",
       "R2            0.887        0.891       0.888           0.891          0.888   \n",
       "mae        1712.161     1715.261    1711.644        1715.261       1711.644   \n",
       "mse     5813396.587  6084712.267 5810496.070     6084712.267    5810496.070   \n",
       "rmse       2411.099     2466.721    2410.497        2466.721       2410.497   \n",
       "\n",
       "      elastic_train  elastic_test  \n",
       "R2            0.609         0.604  \n",
       "mae        3372.221      3290.290  \n",
       "mse    21791737.452  20469723.573  \n",
       "rmse       4668.162      4524.348  "
      ]
     },
     "execution_count": 260,
     "metadata": {},
     "output_type": "execute_result"
    }
   ],
   "source": [
    "pd.concat([ls,rs, rcs, lss, lcs, es], axis = 1)"
   ]
  },
  {
   "cell_type": "markdown",
   "metadata": {},
   "source": [
    "# For Elastic_net CV with Default alpha = 1 and l1_ratio=0.5"
   ]
  },
  {
   "cell_type": "code",
   "execution_count": 261,
   "metadata": {},
   "outputs": [],
   "source": [
    "model = ElasticNet(alpha=1, l1_ratio=0.5, random_state=42)\n",
    "scores = cross_validate(model, X_train_scaled, y_train,\n",
    "                        scoring=['r2', 'neg_mean_absolute_error','neg_mean_squared_error','neg_root_mean_squared_error'], cv=5)"
   ]
  },
  {
   "cell_type": "code",
   "execution_count": 262,
   "metadata": {},
   "outputs": [
    {
     "data": {
      "text/html": [
       "<div>\n",
       "<style scoped>\n",
       "    .dataframe tbody tr th:only-of-type {\n",
       "        vertical-align: middle;\n",
       "    }\n",
       "\n",
       "    .dataframe tbody tr th {\n",
       "        vertical-align: top;\n",
       "    }\n",
       "\n",
       "    .dataframe thead th {\n",
       "        text-align: right;\n",
       "    }\n",
       "</style>\n",
       "<table border=\"1\" class=\"dataframe\">\n",
       "  <thead>\n",
       "    <tr style=\"text-align: right;\">\n",
       "      <th></th>\n",
       "      <th>test_r2</th>\n",
       "      <th>test_neg_mean_absolute_error</th>\n",
       "      <th>test_neg_mean_squared_error</th>\n",
       "      <th>test_neg_root_mean_squared_error</th>\n",
       "    </tr>\n",
       "  </thead>\n",
       "  <tbody>\n",
       "    <tr>\n",
       "      <th>1</th>\n",
       "      <td>0.610</td>\n",
       "      <td>-3421.320</td>\n",
       "      <td>-21217568.282</td>\n",
       "      <td>-4606.253</td>\n",
       "    </tr>\n",
       "    <tr>\n",
       "      <th>2</th>\n",
       "      <td>0.594</td>\n",
       "      <td>-3528.276</td>\n",
       "      <td>-24597214.895</td>\n",
       "      <td>-4959.558</td>\n",
       "    </tr>\n",
       "    <tr>\n",
       "      <th>3</th>\n",
       "      <td>0.623</td>\n",
       "      <td>-3244.224</td>\n",
       "      <td>-19967501.212</td>\n",
       "      <td>-4468.501</td>\n",
       "    </tr>\n",
       "    <tr>\n",
       "      <th>4</th>\n",
       "      <td>0.600</td>\n",
       "      <td>-3415.186</td>\n",
       "      <td>-22856654.283</td>\n",
       "      <td>-4780.863</td>\n",
       "    </tr>\n",
       "    <tr>\n",
       "      <th>5</th>\n",
       "      <td>0.609</td>\n",
       "      <td>-3284.008</td>\n",
       "      <td>-20806972.174</td>\n",
       "      <td>-4561.466</td>\n",
       "    </tr>\n",
       "  </tbody>\n",
       "</table>\n",
       "</div>"
      ],
      "text/plain": [
       "   test_r2  test_neg_mean_absolute_error  test_neg_mean_squared_error  \\\n",
       "1    0.610                     -3421.320                -21217568.282   \n",
       "2    0.594                     -3528.276                -24597214.895   \n",
       "3    0.623                     -3244.224                -19967501.212   \n",
       "4    0.600                     -3415.186                -22856654.283   \n",
       "5    0.609                     -3284.008                -20806972.174   \n",
       "\n",
       "   test_neg_root_mean_squared_error  \n",
       "1                         -4606.253  \n",
       "2                         -4959.558  \n",
       "3                         -4468.501  \n",
       "4                         -4780.863  \n",
       "5                         -4561.466  "
      ]
     },
     "execution_count": 262,
     "metadata": {},
     "output_type": "execute_result"
    }
   ],
   "source": [
    "scores = pd.DataFrame(scores, index = range(1, 6))\n",
    "scores.iloc[:,2:]"
   ]
  },
  {
   "cell_type": "code",
   "execution_count": 263,
   "metadata": {},
   "outputs": [
    {
     "data": {
      "text/plain": [
       "test_r2                                    0.607\n",
       "test_neg_mean_absolute_error           -3378.603\n",
       "test_neg_mean_squared_error        -21889182.169\n",
       "test_neg_root_mean_squared_error       -4675.328\n",
       "dtype: float64"
      ]
     },
     "execution_count": 263,
     "metadata": {},
     "output_type": "execute_result"
    }
   ],
   "source": [
    "scores = pd.DataFrame(scores, index = range(1, 11))\n",
    "scores.iloc[:,2:].mean()"
   ]
  },
  {
   "cell_type": "code",
   "execution_count": 264,
   "metadata": {},
   "outputs": [
    {
     "data": {
      "text/html": [
       "<div>\n",
       "<style scoped>\n",
       "    .dataframe tbody tr th:only-of-type {\n",
       "        vertical-align: middle;\n",
       "    }\n",
       "\n",
       "    .dataframe tbody tr th {\n",
       "        vertical-align: top;\n",
       "    }\n",
       "\n",
       "    .dataframe thead th {\n",
       "        text-align: right;\n",
       "    }\n",
       "</style>\n",
       "<table border=\"1\" class=\"dataframe\">\n",
       "  <thead>\n",
       "    <tr style=\"text-align: right;\">\n",
       "      <th></th>\n",
       "      <th>elastic_train</th>\n",
       "      <th>elastic_test</th>\n",
       "    </tr>\n",
       "  </thead>\n",
       "  <tbody>\n",
       "    <tr>\n",
       "      <th>R2</th>\n",
       "      <td>0.609</td>\n",
       "      <td>0.604</td>\n",
       "    </tr>\n",
       "    <tr>\n",
       "      <th>mae</th>\n",
       "      <td>3372.221</td>\n",
       "      <td>3290.290</td>\n",
       "    </tr>\n",
       "    <tr>\n",
       "      <th>mse</th>\n",
       "      <td>21791737.452</td>\n",
       "      <td>20469723.573</td>\n",
       "    </tr>\n",
       "    <tr>\n",
       "      <th>rmse</th>\n",
       "      <td>4668.162</td>\n",
       "      <td>4524.348</td>\n",
       "    </tr>\n",
       "  </tbody>\n",
       "</table>\n",
       "</div>"
      ],
      "text/plain": [
       "      elastic_train  elastic_test\n",
       "R2            0.609         0.604\n",
       "mae        3372.221      3290.290\n",
       "mse    21791737.452  20469723.573\n",
       "rmse       4668.162      4524.348"
      ]
     },
     "execution_count": 264,
     "metadata": {},
     "output_type": "execute_result"
    }
   ],
   "source": [
    "train_val(y_train, y_train_pred, y_test, y_pred, \"elastic\")"
   ]
  },
  {
   "cell_type": "code",
   "execution_count": 265,
   "metadata": {},
   "outputs": [
    {
     "data": {
      "text/plain": [
       "array([-4.55758025e+02,  8.21999259e+02, -1.52834983e+03, -1.39297237e+02,\n",
       "        5.19470701e+02, -1.35733025e+02,  2.25765500e+02,  3.82937382e+02,\n",
       "        2.69179924e+02,  1.66489995e+02,  2.50374738e+01,  1.93240662e+01,\n",
       "        4.70601871e+02,  7.89459327e+02, -0.00000000e+00,  5.09074740e+01,\n",
       "       -7.12156414e-02,  3.02807201e+02, -2.68223756e+02,  3.75331482e+02,\n",
       "        1.46686527e+02,  4.45136960e+02, -3.40848308e+01, -2.28282487e+02,\n",
       "        2.96380615e+02,  0.00000000e+00,  2.04225821e+02,  3.73062455e+02,\n",
       "        1.02584916e+02,  2.41341652e+02, -7.72775900e+00,  4.79023085e+02,\n",
       "        2.51960517e+02,  6.01702393e+02,  3.87619314e+02,  3.17651384e+02,\n",
       "        4.14855965e+02,  2.63750333e+02, -1.18963391e+02,  4.55947791e+02,\n",
       "        4.33155695e+02,  2.91489861e+02, -2.31420159e+01,  3.76519592e+02,\n",
       "        1.40194227e+02, -2.73530132e+01, -3.39216763e+00, -6.69134881e-01,\n",
       "       -1.20118469e+02, -2.90372210e+02,  4.13340567e+02,  2.88218619e+01,\n",
       "       -1.77476065e+02, -4.63178835e+02,  4.84569746e+01,  1.66653961e+02,\n",
       "        2.15416246e+00, -3.72367969e+02,  4.03339796e+02,  7.49669429e+00,\n",
       "        4.02535161e+01, -1.88480756e+00, -9.59247773e-01, -2.23536363e+02,\n",
       "        1.52188855e+02, -3.54040873e+01, -0.00000000e+00,  1.14165313e+02,\n",
       "        8.68765965e+01,  3.18586886e+02, -8.87248578e+01, -7.50680140e+01,\n",
       "        5.75191331e+00,  1.05961943e+01, -4.86698669e+01, -9.60226574e+01,\n",
       "        3.40697135e+02,  1.42531015e+02,  5.86581247e+01,  5.07561275e+02,\n",
       "       -2.17351482e+02, -2.11107998e+02, -2.41199262e+02,  5.90146971e+01,\n",
       "       -5.60240025e+01, -8.50431637e+01,  5.17836309e+02, -1.35908144e+02,\n",
       "       -5.56166768e+02, -1.29058453e+02, -9.23817003e+01, -3.19636449e+02,\n",
       "       -4.07009407e+01,  8.49570872e+02,  5.97168848e+02,  2.09553435e+01,\n",
       "       -9.45126468e+01, -1.19317653e+02, -6.66233843e+01, -1.78665944e+01,\n",
       "       -1.77110010e+02,  8.53370436e+01,  4.69145504e+02,  3.87385885e+02,\n",
       "        7.03924438e+02, -4.53586536e+02, -8.94526387e+02,  2.49703006e+02,\n",
       "       -7.16051593e+02, -1.33320376e+01,  8.09223299e+02,  5.67664834e+00,\n",
       "       -5.39666453e+00, -1.26432547e+01,  3.75501896e+01, -1.81228260e+02,\n",
       "       -6.67020790e+00,  6.95938264e+02,  1.26150539e+02, -9.81780331e+01,\n",
       "        6.45734245e+02,  2.21299429e+02, -1.23116533e+03, -1.23702547e+02,\n",
       "        3.63878289e+00, -2.66875086e+00, -1.09390386e+01, -6.85545318e+00,\n",
       "        8.08437135e+02, -1.25597590e+03,  2.11147126e+02, -1.46366139e+02,\n",
       "       -5.15310381e-01])"
      ]
     },
     "execution_count": 265,
     "metadata": {},
     "output_type": "execute_result"
    }
   ],
   "source": [
    "elastic_model.coef_ #13 feature çıkarmış katsayıyı lasso ve ridgenin etkisi ile bazı yerlerde lasso ridge gibi davranmış  "
   ]
  },
  {
   "cell_type": "code",
   "execution_count": 266,
   "metadata": {},
   "outputs": [],
   "source": [
    "em_df = pd.DataFrame(elastic_model.coef_, columns=[\"elastic_coef_(alp:1, l1:0.5)\"])"
   ]
  },
  {
   "cell_type": "markdown",
   "metadata": {},
   "source": [
    "# Choosing best alpha and l1_ratio values with Cross-Validation"
   ]
  },
  {
   "cell_type": "code",
   "execution_count": 267,
   "metadata": {},
   "outputs": [],
   "source": [
    "elastic_cv_model = ElasticNetCV(alphas = alpha_space, l1_ratio=[0.1, 0.5, 0.7,0.9, 0.95, 1], cv = 5, \n",
    "                                max_iter = 100000,random_state=42) #l1_ratio 0 ile 1 arasında değişiyor "
   ]
  },
  {
   "cell_type": "code",
   "execution_count": 268,
   "metadata": {},
   "outputs": [
    {
     "data": {
      "text/plain": [
       "ElasticNetCV(alphas=array([0.01, 0.02, 0.03, 0.04, 0.05, 0.06, 0.07, 0.08, 0.09, 0.1 , 0.11,\n",
       "       0.12, 0.13, 0.14, 0.15, 0.16, 0.17, 0.18, 0.19, 0.2 , 0.21, 0.22,\n",
       "       0.23, 0.24, 0.25, 0.26, 0.27, 0.28, 0.29, 0.3 , 0.31, 0.32, 0.33,\n",
       "       0.34, 0.35, 0.36, 0.37, 0.38, 0.39, 0.4 , 0.41, 0.42, 0.43, 0.44,\n",
       "       0.45, 0.46, 0.47, 0.48, 0.49, 0.5 , 0.51, 0.52, 0.53, 0.54, 0.55,\n",
       "       0.56, 0.57, 0.58, 0.59, 0.6 , 0.61, 0.62, 0.63, 0.64, 0.65, 0.66,\n",
       "       0.67, 0.68, 0.69, 0.7 , 0.71, 0.72, 0.73, 0.74, 0.75, 0.76, 0.77,\n",
       "       0.78, 0.79, 0.8 , 0.81, 0.82, 0.83, 0.84, 0.85, 0.86, 0.87, 0.88,\n",
       "       0.89, 0.9 , 0.91, 0.92, 0.93, 0.94, 0.95, 0.96, 0.97, 0.98, 0.99,\n",
       "       1.  ]),\n",
       "             cv=5, l1_ratio=[0.1, 0.5, 0.7, 0.9, 0.95, 1], max_iter=100000,\n",
       "             random_state=42)"
      ]
     },
     "execution_count": 268,
     "metadata": {},
     "output_type": "execute_result"
    }
   ],
   "source": [
    "elastic_cv_model.fit(X_train_scaled, y_train)"
   ]
  },
  {
   "cell_type": "code",
   "execution_count": 269,
   "metadata": {},
   "outputs": [
    {
     "data": {
      "text/plain": [
       "1.0"
      ]
     },
     "execution_count": 269,
     "metadata": {},
     "output_type": "execute_result"
    }
   ],
   "source": [
    "elastic_cv_model.alpha_"
   ]
  },
  {
   "cell_type": "code",
   "execution_count": 270,
   "metadata": {},
   "outputs": [
    {
     "data": {
      "text/plain": [
       "1.0"
      ]
     },
     "execution_count": 270,
     "metadata": {},
     "output_type": "execute_result"
    }
   ],
   "source": [
    "elastic_cv_model.l1_ratio_"
   ]
  },
  {
   "cell_type": "code",
   "execution_count": 271,
   "metadata": {},
   "outputs": [
    {
     "data": {
      "text/plain": [
       "6344344.627931786"
      ]
     },
     "execution_count": 271,
     "metadata": {},
     "output_type": "execute_result"
    }
   ],
   "source": [
    "elastic_cv_model.mse_path_[5][-1].mean()"
   ]
  },
  {
   "cell_type": "code",
   "execution_count": 272,
   "metadata": {},
   "outputs": [
    {
     "data": {
      "text/plain": [
       "array([[6020652.10262074, 6843769.37544174, 6106909.35002324,\n",
       "        6339690.09456036, 6270104.80528968],\n",
       "       [6020927.812171  , 6844315.16850913, 6106761.89234553,\n",
       "        6339537.10785843, 6270592.27224192],\n",
       "       [6021156.55774627, 6844847.24265943, 6106613.16804778,\n",
       "        6339392.72566428, 6271107.65073582],\n",
       "       [6021331.1244741 , 6845449.59426325, 6106578.73497059,\n",
       "        6338970.71259612, 6271547.46617762],\n",
       "       [6021537.34842305, 6846031.65048368, 6106433.67796561,\n",
       "        6338565.15256355, 6272024.77551359],\n",
       "       [6021739.92288609, 6846656.22743115, 6106380.72028544,\n",
       "        6338183.72817518, 6272510.7009478 ],\n",
       "       [6021926.10702122, 6847281.27789946, 6106273.68276255,\n",
       "        6337804.91899388, 6272994.09365476],\n",
       "       [6022106.55029624, 6847897.49919394, 6106187.63878581,\n",
       "        6337420.29445794, 6273484.75869332],\n",
       "       [6022300.42772661, 6848527.48014284, 6106103.69107292,\n",
       "        6336938.84915975, 6273982.02478112],\n",
       "       [6022495.64259455, 6849161.50220051, 6106031.42718416,\n",
       "        6336273.53257902, 6274483.09643755],\n",
       "       [6022685.34302458, 6849799.18410933, 6105968.57390932,\n",
       "        6335612.36506073, 6274988.27814939],\n",
       "       [6022885.58694525, 6850439.16823028, 6105903.96879806,\n",
       "        6334953.30180996, 6275498.41991646],\n",
       "       [6023081.5229358 , 6851082.2329277 , 6105856.33314067,\n",
       "        6334263.81343209, 6276013.41724486],\n",
       "       [6023285.73699441, 6851729.01018104, 6105807.0622193 ,\n",
       "        6333646.78216961, 6276533.0016434 ],\n",
       "       [6023482.09462754, 6852379.56990767, 6105773.92177315,\n",
       "        6333015.69233864, 6277057.21059368],\n",
       "       [6023686.81625271, 6853033.96913245, 6105741.37204323,\n",
       "        6332343.13813818, 6277586.12891129],\n",
       "       [6023887.04822462, 6853692.28612642, 6105713.93606725,\n",
       "        6331751.19510458, 6278114.43183681],\n",
       "       [6024091.43433022, 6854354.53637868, 6105704.15602781,\n",
       "        6331103.25384194, 6278657.25974805],\n",
       "       [6024299.56983226, 6855020.71554529, 6105693.51660557,\n",
       "        6330519.17811918, 6279200.16667103],\n",
       "       [6024510.27932546, 6855690.8299927 , 6105690.44921939,\n",
       "        6329870.48650402, 6279743.45828517],\n",
       "       [6024723.27802925, 6856364.88378916, 6105661.55737415,\n",
       "        6329266.48305514, 6280300.15491315],\n",
       "       [6024938.48233081, 6857037.88348476, 6105638.46599441,\n",
       "        6328605.91706597, 6280852.1402251 ],\n",
       "       [6025155.95696265, 6857686.88354732, 6105622.849219  ,\n",
       "        6327994.11430787, 6281418.86853516],\n",
       "       [6025375.72260637, 6858346.92421682, 6105614.40462226,\n",
       "        6327389.25712284, 6281980.34954834],\n",
       "       [6025597.75782881, 6859002.28258343, 6105613.23980106,\n",
       "        6326788.80341866, 6282556.18579722],\n",
       "       [6025822.06217128, 6859666.80915547, 6105619.39451356,\n",
       "        6326193.27453965, 6283127.18638701],\n",
       "       [6026048.64287117, 6860327.37290458, 6105632.82595657,\n",
       "        6325602.18083069, 6283707.45001242],\n",
       "       [6026277.49932544, 6860998.75949321, 6105653.52812736,\n",
       "        6325015.02076751, 6284292.1025113 ],\n",
       "       [6026508.62990436, 6861666.57308596, 6105683.24997129,\n",
       "        6324431.20618087, 6284881.99072894],\n",
       "       [6026742.03531905, 6862345.56169985, 6105703.31726092,\n",
       "        6323850.42609415, 6285476.46873952],\n",
       "       [6026977.71602366, 6863028.77405776, 6105731.24532522,\n",
       "        6323272.76195367, 6286075.57782472],\n",
       "       [6027212.17825758, 6863714.41781398, 6105769.46035403,\n",
       "        6322698.2971456 , 6286679.43777196],\n",
       "       [6027433.54086838, 6864402.24465624, 6105810.03454962,\n",
       "        6322127.00098047, 6287287.98544028],\n",
       "       [6027637.03631282, 6865093.32706963, 6105874.80276328,\n",
       "        6321558.85449296, 6287901.40880362],\n",
       "       [6027848.34972637, 6865788.08949747, 6105938.21293797,\n",
       "        6320929.06273644, 6288520.62895064],\n",
       "       [6028057.16808552, 6866486.58873333, 6106018.53251284,\n",
       "        6320349.0663295 , 6289143.14475208],\n",
       "       [6028269.93790946, 6867188.9063836 , 6106100.05604291,\n",
       "        6319724.93087046, 6289771.26774969],\n",
       "       [6028485.73616254, 6867895.07464569, 6106190.85554185,\n",
       "        6319153.3169249 , 6290401.84012951],\n",
       "       [6028704.03753735, 6868600.68225616, 6106290.37286236,\n",
       "        6318537.07404142, 6291022.3567552 ],\n",
       "       [6028924.5993775 , 6869316.31120131, 6106397.82745652,\n",
       "        6317941.02991029, 6291644.53932248],\n",
       "       [6029147.46637338, 6870035.67906434, 6106513.4017197 ,\n",
       "        6317352.04078202, 6292274.22174125],\n",
       "       [6029372.70708183, 6870766.76670187, 6106636.98991803,\n",
       "        6316768.36390829, 6292905.87470193],\n",
       "       [6029600.29344976, 6871494.09659008, 6106768.5092693 ,\n",
       "        6316188.98180688, 6293544.18504807],\n",
       "       [6029830.22496174, 6872229.8201378 , 6106907.98992855,\n",
       "        6315613.15178697, 6294187.63999783],\n",
       "       [6030062.51094604, 6872962.96211234, 6107055.4254824 ,\n",
       "        6315040.70858837, 6294836.72888934],\n",
       "       [6030297.14881391, 6873706.11559195, 6107212.3645436 ,\n",
       "        6314506.15525823, 6295490.9568129 ],\n",
       "       [6030532.01883359, 6874453.83501912, 6107371.15453397,\n",
       "        6314022.3071776 , 6296150.40487262],\n",
       "       [6030773.09838097, 6875203.62483985, 6107546.65888903,\n",
       "        6313553.47080221, 6296815.13024654],\n",
       "       [6031013.36825497, 6875955.91135617, 6107725.01456726,\n",
       "        6313062.22238274, 6297429.95413228],\n",
       "       [6031259.02754619, 6876711.83167992, 6107919.85193274,\n",
       "        6312615.80473806, 6298047.9815254 ],\n",
       "       [6031503.93999795, 6877471.54202173, 6108116.25693782,\n",
       "        6312137.27038869, 6298671.12754584],\n",
       "       [6031752.48773363, 6878235.1208169 , 6108322.41376697,\n",
       "        6311654.73653734, 6299300.37393611],\n",
       "       [6032003.76086774, 6879005.11535139, 6108553.90950474,\n",
       "        6311156.80301638, 6299934.0999756 ],\n",
       "       [6032253.51695676, 6879793.0364859 , 6108780.7735985 ,\n",
       "        6310664.47384247, 6300541.55509953],\n",
       "       [6032500.37686027, 6880575.98998785, 6109011.82914041,\n",
       "        6310176.29970242, 6301098.72257766],\n",
       "       [6032749.29484145, 6881368.04502622, 6109251.11006422,\n",
       "        6309693.53757237, 6301661.22584655],\n",
       "       [6033000.63784811, 6882164.34389347, 6109499.86527921,\n",
       "        6309230.26355234, 6302228.93030549],\n",
       "       [6033254.31409707, 6882962.35387398, 6109752.53918468,\n",
       "        6308728.21978684, 6302802.0288678 ],\n",
       "       [6033508.83223712, 6883763.33385186, 6110019.98790171,\n",
       "        6308246.30385127, 6303380.27448925],\n",
       "       [6033768.76800412, 6884568.138552  , 6110290.78250658,\n",
       "        6307737.37147977, 6303963.56555243],\n",
       "       [6034028.33270701, 6885376.81475555, 6110571.78373343,\n",
       "        6307243.51774751, 6304553.69225294],\n",
       "       [6034291.40589916, 6886189.48320561, 6110861.01881305,\n",
       "        6306756.44741608, 6305147.81075176],\n",
       "       [6034557.14830518, 6887012.6215646 , 6111158.76995404,\n",
       "        6306274.4545891 , 6305748.26570137],\n",
       "       [6034825.08980369, 6887815.3693829 , 6111464.88919301,\n",
       "        6305796.54697977, 6306354.21577436],\n",
       "       [6035095.34243979, 6888593.28423121, 6111779.82280546,\n",
       "        6305322.53140214, 6306965.66696719],\n",
       "       [6035377.65423507, 6889375.3416242 , 6112100.42553302,\n",
       "        6304834.71422742, 6307582.85076291],\n",
       "       [6035727.5818771 , 6890159.38047158, 6112433.58994736,\n",
       "        6304363.15039713, 6308204.30710713],\n",
       "       [6036080.98124331, 6890947.30892411, 6112771.69806944,\n",
       "        6303899.0791459 , 6308833.28808911],\n",
       "       [6036324.51679389, 6891739.61931417, 6113119.50058536,\n",
       "        6303439.93350877, 6309465.97136322],\n",
       "       [6036338.34225261, 6892542.44301664, 6113475.51833572,\n",
       "        6302984.83768905, 6310105.00341094],\n",
       "       [6036318.43085478, 6893373.29467534, 6113840.01904533,\n",
       "        6302533.61462107, 6310749.3696668 ],\n",
       "       [6036302.96483444, 6894217.94371627, 6114211.74505011,\n",
       "        6302071.60265584, 6311399.5900151 ],\n",
       "       [6036398.93934839, 6895066.62658772, 6114593.91583668,\n",
       "        6301624.00350408, 6312054.13228685],\n",
       "       [6036559.06186292, 6895919.70033218, 6114982.66306904,\n",
       "        6301183.2393968 , 6312715.9653688 ],\n",
       "       [6036729.61946915, 6896783.08726166, 6115380.43841351,\n",
       "        6300747.00447492, 6313381.83102854],\n",
       "       [6036911.32596977, 6897647.9833897 , 6115786.10017916,\n",
       "        6300314.73055917, 6314067.92604202],\n",
       "       [6037103.90075962, 6898473.99259933, 6116200.14308856,\n",
       "        6299874.11696515, 6314764.09376709],\n",
       "       [6037308.05403434, 6899301.35122182, 6116622.88179564,\n",
       "        6299446.39548543, 6315465.05282405],\n",
       "       [6037523.23619797, 6900138.60762533, 6117054.15217353,\n",
       "        6299024.94948797, 6316171.91305553],\n",
       "       [6037749.43667932, 6901015.70372518, 6117492.80396804,\n",
       "        6298597.51172549, 6316884.35522652],\n",
       "       [6037986.69631337, 6901907.4470349 , 6117940.48969289,\n",
       "        6298181.85886087, 6317602.63467287],\n",
       "       [6038235.37323905, 6902803.66909139, 6118396.62613178,\n",
       "        6297772.01170735, 6318326.01959706],\n",
       "       [6038495.00277542, 6903709.96400958, 6118857.56399282,\n",
       "        6297357.54862766, 6319055.09592871],\n",
       "       [6038765.79128315, 6904617.1073728 , 6119512.43636389,\n",
       "        6296953.83683225, 6319789.8792436 ],\n",
       "       [6039047.86470517, 6905535.34570772, 6120236.39703738,\n",
       "        6296555.50784555, 6320530.08199078],\n",
       "       [6039341.00075998, 6906459.07847458, 6120975.84296704,\n",
       "        6296163.5523049 , 6321288.08496359],\n",
       "       [6039646.49932186, 6907391.36003918, 6121743.19646819,\n",
       "        6295783.9622498 , 6322059.33458044],\n",
       "       [6039996.60356576, 6908324.15445025, 6122528.61836373,\n",
       "        6295402.5098371 , 6322835.47328974],\n",
       "       [6040356.38136363, 6909260.98372388, 6123334.2432012 ,\n",
       "        6295024.58537887, 6323617.72554674],\n",
       "       [6040736.11737733, 6910193.02942903, 6124155.20102079,\n",
       "        6294656.24538558, 6324404.8737872 ],\n",
       "       [6041136.01432044, 6911134.140113  , 6124996.27344518,\n",
       "        6294287.25579547, 6325197.54052133],\n",
       "       [6041555.92716734, 6912080.10860663, 6125852.82786553,\n",
       "        6293921.9744753 , 6325996.42072048],\n",
       "       [6041995.55069308, 6913030.53066404, 6126727.12201316,\n",
       "        6293510.11132455, 6326800.08004227],\n",
       "       [6042454.82807233, 6913985.40766767, 6127619.37822346,\n",
       "        6293057.69052531, 6327595.76000699],\n",
       "       [6042935.0691842 , 6914944.75506403, 6128528.38164242,\n",
       "        6292610.34559621, 6328395.0511283 ],\n",
       "       [6043434.05117664, 6915911.35589086, 6129457.01797454,\n",
       "        6292177.59556374, 6329199.2964215 ],\n",
       "       [6043952.4554994 , 6916881.87909129, 6130404.77077256,\n",
       "        6291751.5586787 , 6330010.85663823],\n",
       "       [6044490.53166656, 6917824.90651945, 6131370.02410692,\n",
       "        6291340.01327487, 6330827.96133193],\n",
       "       [6045048.56115382, 6918768.9598727 , 6132352.96887257,\n",
       "        6290939.29260211, 6331650.43258202],\n",
       "       [6045626.39159255, 6919714.89724598, 6133353.49363363,\n",
       "        6290549.90069338, 6332478.45649338]])"
      ]
     },
     "execution_count": 272,
     "metadata": {},
     "output_type": "execute_result"
    }
   ],
   "source": [
    "elastic_cv_model.mse_path_[5] "
   ]
  },
  {
   "cell_type": "code",
   "execution_count": 273,
   "metadata": {},
   "outputs": [],
   "source": [
    "y_pred = elastic_cv_model.predict(X_test_scaled)  #ikisininde predictionunu aldık\n",
    "y_train_pred = elastic_cv_model.predict(X_train_scaled)"
   ]
  },
  {
   "cell_type": "code",
   "execution_count": 274,
   "metadata": {},
   "outputs": [
    {
     "data": {
      "text/html": [
       "<div>\n",
       "<style scoped>\n",
       "    .dataframe tbody tr th:only-of-type {\n",
       "        vertical-align: middle;\n",
       "    }\n",
       "\n",
       "    .dataframe tbody tr th {\n",
       "        vertical-align: top;\n",
       "    }\n",
       "\n",
       "    .dataframe thead th {\n",
       "        text-align: right;\n",
       "    }\n",
       "</style>\n",
       "<table border=\"1\" class=\"dataframe\">\n",
       "  <thead>\n",
       "    <tr style=\"text-align: right;\">\n",
       "      <th></th>\n",
       "      <th>elastic_cv_train</th>\n",
       "      <th>elastic_cv_test</th>\n",
       "    </tr>\n",
       "  </thead>\n",
       "  <tbody>\n",
       "    <tr>\n",
       "      <th>R2</th>\n",
       "      <td>0.891</td>\n",
       "      <td>0.888</td>\n",
       "    </tr>\n",
       "    <tr>\n",
       "      <th>mae</th>\n",
       "      <td>1715.261</td>\n",
       "      <td>1711.644</td>\n",
       "    </tr>\n",
       "    <tr>\n",
       "      <th>mse</th>\n",
       "      <td>6084712.267</td>\n",
       "      <td>5810496.070</td>\n",
       "    </tr>\n",
       "    <tr>\n",
       "      <th>rmse</th>\n",
       "      <td>2466.721</td>\n",
       "      <td>2410.497</td>\n",
       "    </tr>\n",
       "  </tbody>\n",
       "</table>\n",
       "</div>"
      ],
      "text/plain": [
       "      elastic_cv_train  elastic_cv_test\n",
       "R2               0.891            0.888\n",
       "mae           1715.261         1711.644\n",
       "mse        6084712.267      5810496.070\n",
       "rmse          2466.721         2410.497"
      ]
     },
     "execution_count": 274,
     "metadata": {},
     "output_type": "execute_result"
    }
   ],
   "source": [
    "ecs = train_val(y_train, y_train_pred, y_test, y_pred, \"elastic_cv\")\n",
    "ecs"
   ]
  },
  {
   "cell_type": "code",
   "execution_count": 275,
   "metadata": {},
   "outputs": [
    {
     "data": {
      "text/html": [
       "<div>\n",
       "<style scoped>\n",
       "    .dataframe tbody tr th:only-of-type {\n",
       "        vertical-align: middle;\n",
       "    }\n",
       "\n",
       "    .dataframe tbody tr th {\n",
       "        vertical-align: top;\n",
       "    }\n",
       "\n",
       "    .dataframe thead th {\n",
       "        text-align: right;\n",
       "    }\n",
       "</style>\n",
       "<table border=\"1\" class=\"dataframe\">\n",
       "  <thead>\n",
       "    <tr style=\"text-align: right;\">\n",
       "      <th></th>\n",
       "      <th>linear_train</th>\n",
       "      <th>linear_test</th>\n",
       "      <th>ridge_train</th>\n",
       "      <th>ridge_test</th>\n",
       "      <th>ridge_cv_train</th>\n",
       "      <th>ridge_cv_test</th>\n",
       "      <th>lasso_train</th>\n",
       "      <th>lasso_test</th>\n",
       "      <th>lasso_cv_train</th>\n",
       "      <th>lasso_cv_test</th>\n",
       "      <th>elastic_train</th>\n",
       "      <th>elastic_test</th>\n",
       "      <th>elastic_cv_train</th>\n",
       "      <th>elastic_cv_test</th>\n",
       "    </tr>\n",
       "  </thead>\n",
       "  <tbody>\n",
       "    <tr>\n",
       "      <th>R2</th>\n",
       "      <td>0.891</td>\n",
       "      <td>0.887</td>\n",
       "      <td>0.891</td>\n",
       "      <td>0.887</td>\n",
       "      <td>0.891</td>\n",
       "      <td>0.887</td>\n",
       "      <td>0.891</td>\n",
       "      <td>0.888</td>\n",
       "      <td>0.891</td>\n",
       "      <td>0.888</td>\n",
       "      <td>0.609</td>\n",
       "      <td>0.604</td>\n",
       "      <td>0.891</td>\n",
       "      <td>0.888</td>\n",
       "    </tr>\n",
       "    <tr>\n",
       "      <th>mae</th>\n",
       "      <td>1714.979</td>\n",
       "      <td>1713.643</td>\n",
       "      <td>1712.651</td>\n",
       "      <td>1711.996</td>\n",
       "      <td>1712.872</td>\n",
       "      <td>1712.161</td>\n",
       "      <td>1715.261</td>\n",
       "      <td>1711.644</td>\n",
       "      <td>1715.261</td>\n",
       "      <td>1711.644</td>\n",
       "      <td>3372.221</td>\n",
       "      <td>3290.290</td>\n",
       "      <td>1715.261</td>\n",
       "      <td>1711.644</td>\n",
       "    </tr>\n",
       "    <tr>\n",
       "      <th>mse</th>\n",
       "      <td>6066103.682</td>\n",
       "      <td>5813016.816</td>\n",
       "      <td>6070567.722</td>\n",
       "      <td>5813899.317</td>\n",
       "      <td>6069575.002</td>\n",
       "      <td>5813396.587</td>\n",
       "      <td>6084712.267</td>\n",
       "      <td>5810496.070</td>\n",
       "      <td>6084712.267</td>\n",
       "      <td>5810496.070</td>\n",
       "      <td>21791737.452</td>\n",
       "      <td>20469723.573</td>\n",
       "      <td>6084712.267</td>\n",
       "      <td>5810496.070</td>\n",
       "    </tr>\n",
       "    <tr>\n",
       "      <th>rmse</th>\n",
       "      <td>2462.946</td>\n",
       "      <td>2411.020</td>\n",
       "      <td>2463.852</td>\n",
       "      <td>2411.203</td>\n",
       "      <td>2463.651</td>\n",
       "      <td>2411.099</td>\n",
       "      <td>2466.721</td>\n",
       "      <td>2410.497</td>\n",
       "      <td>2466.721</td>\n",
       "      <td>2410.497</td>\n",
       "      <td>4668.162</td>\n",
       "      <td>4524.348</td>\n",
       "      <td>2466.721</td>\n",
       "      <td>2410.497</td>\n",
       "    </tr>\n",
       "  </tbody>\n",
       "</table>\n",
       "</div>"
      ],
      "text/plain": [
       "      linear_train  linear_test  ridge_train  ridge_test  ridge_cv_train  \\\n",
       "R2           0.891        0.887        0.891       0.887           0.891   \n",
       "mae       1714.979     1713.643     1712.651    1711.996        1712.872   \n",
       "mse    6066103.682  5813016.816  6070567.722 5813899.317     6069575.002   \n",
       "rmse      2462.946     2411.020     2463.852    2411.203        2463.651   \n",
       "\n",
       "      ridge_cv_test  lasso_train  lasso_test  lasso_cv_train  lasso_cv_test  \\\n",
       "R2            0.887        0.891       0.888           0.891          0.888   \n",
       "mae        1712.161     1715.261    1711.644        1715.261       1711.644   \n",
       "mse     5813396.587  6084712.267 5810496.070     6084712.267    5810496.070   \n",
       "rmse       2411.099     2466.721    2410.497        2466.721       2410.497   \n",
       "\n",
       "      elastic_train  elastic_test  elastic_cv_train  elastic_cv_test  \n",
       "R2            0.609         0.604             0.891            0.888  \n",
       "mae        3372.221      3290.290          1715.261         1711.644  \n",
       "mse    21791737.452  20469723.573       6084712.267      5810496.070  \n",
       "rmse       4668.162      4524.348          2466.721         2410.497  "
      ]
     },
     "execution_count": 275,
     "metadata": {},
     "output_type": "execute_result"
    }
   ],
   "source": [
    "pd.concat([ls,rs, rcs, lss, lcs, es, ecs], axis = 1)"
   ]
  },
  {
   "cell_type": "code",
   "execution_count": 276,
   "metadata": {},
   "outputs": [
    {
     "data": {
      "text/plain": [
       "array([-1.12753653e+04,  1.64208893e+03, -4.83934026e+03,  3.82171316e+02,\n",
       "        2.32777766e+04, -1.72879019e+02, -5.86984643e+02, -1.17572344e+03,\n",
       "        2.22789570e+03, -3.44232459e+03,  2.95232175e+02, -0.00000000e+00,\n",
       "        7.40465524e+01,  2.33444488e+02, -2.10335136e+02,  2.54929907e+02,\n",
       "       -0.00000000e+00, -9.24039677e+01,  1.11585097e+02,  1.45143571e+02,\n",
       "        5.03773033e+02,  2.20342907e+03,  3.54713190e+02,  1.40881807e+02,\n",
       "        6.28764638e+01, -9.21764982e+01,  1.50184919e+02,  1.61957456e+02,\n",
       "       -3.71589327e+02,  3.30696915e+02,  4.04409002e+01,  3.20045230e+02,\n",
       "       -2.44084959e+02,  5.75802919e+02,  4.15623065e+01,  1.08435948e+03,\n",
       "        2.30553254e+02, -4.19766948e+02,  8.64457708e+01, -1.96147557e+02,\n",
       "        4.72526975e+00,  8.24382528e+02, -2.23893281e+02, -7.80505097e+01,\n",
       "        6.26926156e+02,  4.04068224e+00, -1.52172337e+02, -0.00000000e+00,\n",
       "       -5.43938288e+02,  1.38803531e+01,  8.72489859e+02,  1.83915960e+01,\n",
       "        4.31165064e+01, -0.00000000e+00,  2.01001376e+02, -1.87113518e+02,\n",
       "       -0.00000000e+00, -3.04839265e+02,  1.98740369e+02,  7.47981238e+01,\n",
       "        1.88952625e+02, -0.00000000e+00, -0.00000000e+00, -7.76846404e+01,\n",
       "        1.85752697e+02, -1.32459036e+02, -0.00000000e+00,  4.24167359e+02,\n",
       "        1.45365903e+02, -7.34250051e+01, -2.43903226e+02,  5.35772877e+01,\n",
       "        1.64681612e+03, -1.86975870e+02, -0.00000000e+00, -0.00000000e+00,\n",
       "        3.20373611e+01,  7.80727506e+01,  7.70462591e+01, -1.84868911e+02,\n",
       "       -2.59494117e+02, -9.16443200e+01, -2.32150649e+02, -5.06185014e+01,\n",
       "        7.06322861e+01, -2.28739299e+02,  1.57720515e+01, -8.46996048e+02,\n",
       "       -1.34414136e+02,  7.90929023e+01, -3.57033180e+02, -4.01951510e+02,\n",
       "       -2.04059241e+02,  8.34105442e+02,  7.40122805e+02,  9.00175699e+01,\n",
       "        4.21657110e+02, -4.50100796e+02, -6.44701537e+02,  9.43402983e+01,\n",
       "        1.20045893e+02,  1.92567138e+02,  1.23434374e+02, -3.26013658e+02,\n",
       "        1.10714656e+03, -4.07045440e+03, -5.39255451e+03, -1.61578942e+03,\n",
       "       -5.51922457e+03, -8.38819657e+03,  2.77059957e+03, -0.00000000e+00,\n",
       "       -0.00000000e+00, -2.69930155e+02,  1.30404758e+02,  3.02826944e+02,\n",
       "       -7.56768075e+02,  1.51725953e+03,  3.22491059e+02, -3.07517860e+03,\n",
       "       -7.65446498e+02, -2.40308448e+03, -2.89344208e+03,  7.39427909e+02,\n",
       "        1.92320521e+03,  2.69804941e+02,  1.54095654e+03,  1.52676241e+02,\n",
       "        2.83660689e+02, -1.38048091e+03,  2.28731608e+03, -2.30074632e+03,\n",
       "       -0.00000000e+00])"
      ]
     },
     "execution_count": 276,
     "metadata": {},
     "output_type": "execute_result"
    }
   ],
   "source": [
    "elastic_cv_model.coef_"
   ]
  },
  {
   "cell_type": "markdown",
   "metadata": {},
   "source": [
    "# Grid Search"
   ]
  },
  {
   "cell_type": "code",
   "execution_count": 277,
   "metadata": {},
   "outputs": [],
   "source": [
    "from sklearn.model_selection import GridSearchCV #"
   ]
  },
  {
   "cell_type": "code",
   "execution_count": 278,
   "metadata": {},
   "outputs": [],
   "source": [
    "elastic_model = ElasticNet(max_iter=10000, random_state=42) #l1_ratio ve alpha max_iter "
   ]
  },
  {
   "cell_type": "code",
   "execution_count": 279,
   "metadata": {},
   "outputs": [],
   "source": [
    "param_grid = {\"alpha\":[0.01, 0.012, 0.2, 0.5, 0.6, 0.7, 1],   #alpha değerinin bir sınırı yok ne kadar artarsa çalışma maaliyeti\n",
    "            \"l1_ratio\":[0.1, 0.5, 0.7, 0.9, 0.95, 0.99, 1]}   #artar"
   ]
  },
  {
   "cell_type": "code",
   "execution_count": 280,
   "metadata": {},
   "outputs": [],
   "source": [
    "grid_model = GridSearchCV(estimator = elastic_model, param_grid = param_grid, scoring = 'neg_root_mean_squared_error',\n",
    "                         cv =5, verbose =2)"
   ]
  },
  {
   "cell_type": "code",
   "execution_count": 281,
   "metadata": {},
   "outputs": [
    {
     "name": "stdout",
     "output_type": "stream",
     "text": [
      "Fitting 5 folds for each of 49 candidates, totalling 245 fits\n",
      "[CV] END ...........................alpha=0.01, l1_ratio=0.1; total time=   0.3s\n",
      "[CV] END ...........................alpha=0.01, l1_ratio=0.1; total time=   0.4s\n",
      "[CV] END ...........................alpha=0.01, l1_ratio=0.1; total time=   0.4s\n",
      "[CV] END ...........................alpha=0.01, l1_ratio=0.1; total time=   0.4s\n",
      "[CV] END ...........................alpha=0.01, l1_ratio=0.1; total time=   0.3s\n",
      "[CV] END ...........................alpha=0.01, l1_ratio=0.5; total time=   0.3s\n",
      "[CV] END ...........................alpha=0.01, l1_ratio=0.5; total time=   0.3s\n",
      "[CV] END ...........................alpha=0.01, l1_ratio=0.5; total time=   0.3s\n",
      "[CV] END ...........................alpha=0.01, l1_ratio=0.5; total time=   0.3s\n",
      "[CV] END ...........................alpha=0.01, l1_ratio=0.5; total time=   0.3s\n",
      "[CV] END ...........................alpha=0.01, l1_ratio=0.7; total time=   0.3s\n",
      "[CV] END ...........................alpha=0.01, l1_ratio=0.7; total time=   0.3s\n",
      "[CV] END ...........................alpha=0.01, l1_ratio=0.7; total time=   0.3s\n",
      "[CV] END ...........................alpha=0.01, l1_ratio=0.7; total time=   0.3s\n",
      "[CV] END ...........................alpha=0.01, l1_ratio=0.7; total time=   0.3s\n",
      "[CV] END ...........................alpha=0.01, l1_ratio=0.9; total time=   0.3s\n",
      "[CV] END ...........................alpha=0.01, l1_ratio=0.9; total time=   0.3s\n",
      "[CV] END ...........................alpha=0.01, l1_ratio=0.9; total time=   0.2s\n",
      "[CV] END ...........................alpha=0.01, l1_ratio=0.9; total time=   0.3s\n",
      "[CV] END ...........................alpha=0.01, l1_ratio=0.9; total time=   0.3s\n",
      "[CV] END ..........................alpha=0.01, l1_ratio=0.95; total time=   0.3s\n",
      "[CV] END ..........................alpha=0.01, l1_ratio=0.95; total time=   0.2s\n",
      "[CV] END ..........................alpha=0.01, l1_ratio=0.95; total time=   0.2s\n",
      "[CV] END ..........................alpha=0.01, l1_ratio=0.95; total time=   0.2s\n",
      "[CV] END ..........................alpha=0.01, l1_ratio=0.95; total time=   0.2s\n",
      "[CV] END ..........................alpha=0.01, l1_ratio=0.99; total time=   0.3s\n",
      "[CV] END ..........................alpha=0.01, l1_ratio=0.99; total time=   0.2s\n",
      "[CV] END ..........................alpha=0.01, l1_ratio=0.99; total time=   0.2s\n",
      "[CV] END ..........................alpha=0.01, l1_ratio=0.99; total time=   0.3s\n",
      "[CV] END ..........................alpha=0.01, l1_ratio=0.99; total time=   0.2s\n",
      "[CV] END .............................alpha=0.01, l1_ratio=1; total time=   0.2s\n",
      "[CV] END .............................alpha=0.01, l1_ratio=1; total time=   0.3s\n",
      "[CV] END .............................alpha=0.01, l1_ratio=1; total time=   0.3s\n",
      "[CV] END .............................alpha=0.01, l1_ratio=1; total time=   0.3s\n",
      "[CV] END .............................alpha=0.01, l1_ratio=1; total time=   0.3s\n",
      "[CV] END ..........................alpha=0.012, l1_ratio=0.1; total time=   0.3s\n",
      "[CV] END ..........................alpha=0.012, l1_ratio=0.1; total time=   0.3s\n",
      "[CV] END ..........................alpha=0.012, l1_ratio=0.1; total time=   0.3s\n",
      "[CV] END ..........................alpha=0.012, l1_ratio=0.1; total time=   0.3s\n",
      "[CV] END ..........................alpha=0.012, l1_ratio=0.1; total time=   0.3s\n",
      "[CV] END ..........................alpha=0.012, l1_ratio=0.5; total time=   0.3s\n",
      "[CV] END ..........................alpha=0.012, l1_ratio=0.5; total time=   0.3s\n",
      "[CV] END ..........................alpha=0.012, l1_ratio=0.5; total time=   0.3s\n",
      "[CV] END ..........................alpha=0.012, l1_ratio=0.5; total time=   0.3s\n",
      "[CV] END ..........................alpha=0.012, l1_ratio=0.5; total time=   0.3s\n",
      "[CV] END ..........................alpha=0.012, l1_ratio=0.7; total time=   0.3s\n",
      "[CV] END ..........................alpha=0.012, l1_ratio=0.7; total time=   0.3s\n",
      "[CV] END ..........................alpha=0.012, l1_ratio=0.7; total time=   0.3s\n",
      "[CV] END ..........................alpha=0.012, l1_ratio=0.7; total time=   0.3s\n",
      "[CV] END ..........................alpha=0.012, l1_ratio=0.7; total time=   0.3s\n",
      "[CV] END ..........................alpha=0.012, l1_ratio=0.9; total time=   0.3s\n",
      "[CV] END ..........................alpha=0.012, l1_ratio=0.9; total time=   0.2s\n",
      "[CV] END ..........................alpha=0.012, l1_ratio=0.9; total time=   0.3s\n",
      "[CV] END ..........................alpha=0.012, l1_ratio=0.9; total time=   0.3s\n",
      "[CV] END ..........................alpha=0.012, l1_ratio=0.9; total time=   0.3s\n",
      "[CV] END .........................alpha=0.012, l1_ratio=0.95; total time=   0.2s\n",
      "[CV] END .........................alpha=0.012, l1_ratio=0.95; total time=   0.2s\n",
      "[CV] END .........................alpha=0.012, l1_ratio=0.95; total time=   0.2s\n",
      "[CV] END .........................alpha=0.012, l1_ratio=0.95; total time=   0.2s\n",
      "[CV] END .........................alpha=0.012, l1_ratio=0.95; total time=   0.2s\n",
      "[CV] END .........................alpha=0.012, l1_ratio=0.99; total time=   0.2s\n",
      "[CV] END .........................alpha=0.012, l1_ratio=0.99; total time=   0.2s\n",
      "[CV] END .........................alpha=0.012, l1_ratio=0.99; total time=   0.3s\n",
      "[CV] END .........................alpha=0.012, l1_ratio=0.99; total time=   0.3s\n",
      "[CV] END .........................alpha=0.012, l1_ratio=0.99; total time=   0.3s\n",
      "[CV] END ............................alpha=0.012, l1_ratio=1; total time=   0.3s\n",
      "[CV] END ............................alpha=0.012, l1_ratio=1; total time=   0.3s\n",
      "[CV] END ............................alpha=0.012, l1_ratio=1; total time=   0.3s\n",
      "[CV] END ............................alpha=0.012, l1_ratio=1; total time=   0.3s\n",
      "[CV] END ............................alpha=0.012, l1_ratio=1; total time=   0.3s\n",
      "[CV] END ............................alpha=0.2, l1_ratio=0.1; total time=   0.0s\n",
      "[CV] END ............................alpha=0.2, l1_ratio=0.1; total time=   0.1s\n",
      "[CV] END ............................alpha=0.2, l1_ratio=0.1; total time=   0.1s\n",
      "[CV] END ............................alpha=0.2, l1_ratio=0.1; total time=   0.1s\n",
      "[CV] END ............................alpha=0.2, l1_ratio=0.1; total time=   0.1s\n",
      "[CV] END ............................alpha=0.2, l1_ratio=0.5; total time=   0.1s\n",
      "[CV] END ............................alpha=0.2, l1_ratio=0.5; total time=   0.1s\n",
      "[CV] END ............................alpha=0.2, l1_ratio=0.5; total time=   0.1s\n",
      "[CV] END ............................alpha=0.2, l1_ratio=0.5; total time=   0.1s\n",
      "[CV] END ............................alpha=0.2, l1_ratio=0.5; total time=   0.1s\n",
      "[CV] END ............................alpha=0.2, l1_ratio=0.7; total time=   0.1s\n",
      "[CV] END ............................alpha=0.2, l1_ratio=0.7; total time=   0.1s\n",
      "[CV] END ............................alpha=0.2, l1_ratio=0.7; total time=   0.1s\n",
      "[CV] END ............................alpha=0.2, l1_ratio=0.7; total time=   0.1s\n",
      "[CV] END ............................alpha=0.2, l1_ratio=0.7; total time=   0.1s\n",
      "[CV] END ............................alpha=0.2, l1_ratio=0.9; total time=   0.2s\n",
      "[CV] END ............................alpha=0.2, l1_ratio=0.9; total time=   0.1s\n",
      "[CV] END ............................alpha=0.2, l1_ratio=0.9; total time=   0.1s\n",
      "[CV] END ............................alpha=0.2, l1_ratio=0.9; total time=   0.2s\n",
      "[CV] END ............................alpha=0.2, l1_ratio=0.9; total time=   0.1s\n",
      "[CV] END ...........................alpha=0.2, l1_ratio=0.95; total time=   0.2s\n",
      "[CV] END ...........................alpha=0.2, l1_ratio=0.95; total time=   0.2s\n",
      "[CV] END ...........................alpha=0.2, l1_ratio=0.95; total time=   0.2s\n",
      "[CV] END ...........................alpha=0.2, l1_ratio=0.95; total time=   0.2s\n",
      "[CV] END ...........................alpha=0.2, l1_ratio=0.95; total time=   0.2s\n",
      "[CV] END ...........................alpha=0.2, l1_ratio=0.99; total time=   0.2s\n",
      "[CV] END ...........................alpha=0.2, l1_ratio=0.99; total time=   0.2s\n",
      "[CV] END ...........................alpha=0.2, l1_ratio=0.99; total time=   0.2s\n",
      "[CV] END ...........................alpha=0.2, l1_ratio=0.99; total time=   0.2s\n",
      "[CV] END ...........................alpha=0.2, l1_ratio=0.99; total time=   0.2s\n",
      "[CV] END ..............................alpha=0.2, l1_ratio=1; total time=   0.2s\n"
     ]
    },
    {
     "name": "stdout",
     "output_type": "stream",
     "text": [
      "[CV] END ..............................alpha=0.2, l1_ratio=1; total time=   0.2s\n",
      "[CV] END ..............................alpha=0.2, l1_ratio=1; total time=   0.2s\n",
      "[CV] END ..............................alpha=0.2, l1_ratio=1; total time=   0.2s\n",
      "[CV] END ..............................alpha=0.2, l1_ratio=1; total time=   0.2s\n",
      "[CV] END ............................alpha=0.5, l1_ratio=0.1; total time=   0.0s\n",
      "[CV] END ............................alpha=0.5, l1_ratio=0.1; total time=   0.0s\n",
      "[CV] END ............................alpha=0.5, l1_ratio=0.1; total time=   0.0s\n",
      "[CV] END ............................alpha=0.5, l1_ratio=0.1; total time=   0.0s\n",
      "[CV] END ............................alpha=0.5, l1_ratio=0.1; total time=   0.0s\n",
      "[CV] END ............................alpha=0.5, l1_ratio=0.5; total time=   0.0s\n",
      "[CV] END ............................alpha=0.5, l1_ratio=0.5; total time=   0.0s\n",
      "[CV] END ............................alpha=0.5, l1_ratio=0.5; total time=   0.0s\n",
      "[CV] END ............................alpha=0.5, l1_ratio=0.5; total time=   0.0s\n",
      "[CV] END ............................alpha=0.5, l1_ratio=0.5; total time=   0.0s\n",
      "[CV] END ............................alpha=0.5, l1_ratio=0.7; total time=   0.1s\n",
      "[CV] END ............................alpha=0.5, l1_ratio=0.7; total time=   0.0s\n",
      "[CV] END ............................alpha=0.5, l1_ratio=0.7; total time=   0.0s\n",
      "[CV] END ............................alpha=0.5, l1_ratio=0.7; total time=   0.0s\n",
      "[CV] END ............................alpha=0.5, l1_ratio=0.7; total time=   0.0s\n",
      "[CV] END ............................alpha=0.5, l1_ratio=0.9; total time=   0.1s\n",
      "[CV] END ............................alpha=0.5, l1_ratio=0.9; total time=   0.1s\n",
      "[CV] END ............................alpha=0.5, l1_ratio=0.9; total time=   0.1s\n",
      "[CV] END ............................alpha=0.5, l1_ratio=0.9; total time=   0.1s\n",
      "[CV] END ............................alpha=0.5, l1_ratio=0.9; total time=   0.1s\n",
      "[CV] END ...........................alpha=0.5, l1_ratio=0.95; total time=   0.1s\n",
      "[CV] END ...........................alpha=0.5, l1_ratio=0.95; total time=   0.1s\n",
      "[CV] END ...........................alpha=0.5, l1_ratio=0.95; total time=   0.1s\n",
      "[CV] END ...........................alpha=0.5, l1_ratio=0.95; total time=   0.1s\n",
      "[CV] END ...........................alpha=0.5, l1_ratio=0.95; total time=   0.1s\n",
      "[CV] END ...........................alpha=0.5, l1_ratio=0.99; total time=   0.2s\n",
      "[CV] END ...........................alpha=0.5, l1_ratio=0.99; total time=   0.1s\n",
      "[CV] END ...........................alpha=0.5, l1_ratio=0.99; total time=   0.2s\n",
      "[CV] END ...........................alpha=0.5, l1_ratio=0.99; total time=   0.2s\n",
      "[CV] END ...........................alpha=0.5, l1_ratio=0.99; total time=   0.2s\n",
      "[CV] END ..............................alpha=0.5, l1_ratio=1; total time=   0.2s\n",
      "[CV] END ..............................alpha=0.5, l1_ratio=1; total time=   0.1s\n",
      "[CV] END ..............................alpha=0.5, l1_ratio=1; total time=   0.2s\n",
      "[CV] END ..............................alpha=0.5, l1_ratio=1; total time=   0.2s\n",
      "[CV] END ..............................alpha=0.5, l1_ratio=1; total time=   0.2s\n",
      "[CV] END ............................alpha=0.6, l1_ratio=0.1; total time=   0.0s\n",
      "[CV] END ............................alpha=0.6, l1_ratio=0.1; total time=   0.0s\n",
      "[CV] END ............................alpha=0.6, l1_ratio=0.1; total time=   0.0s\n",
      "[CV] END ............................alpha=0.6, l1_ratio=0.1; total time=   0.0s\n",
      "[CV] END ............................alpha=0.6, l1_ratio=0.1; total time=   0.0s\n",
      "[CV] END ............................alpha=0.6, l1_ratio=0.5; total time=   0.0s\n",
      "[CV] END ............................alpha=0.6, l1_ratio=0.5; total time=   0.0s\n",
      "[CV] END ............................alpha=0.6, l1_ratio=0.5; total time=   0.0s\n",
      "[CV] END ............................alpha=0.6, l1_ratio=0.5; total time=   0.0s\n",
      "[CV] END ............................alpha=0.6, l1_ratio=0.5; total time=   0.0s\n",
      "[CV] END ............................alpha=0.6, l1_ratio=0.7; total time=   0.0s\n",
      "[CV] END ............................alpha=0.6, l1_ratio=0.7; total time=   0.0s\n",
      "[CV] END ............................alpha=0.6, l1_ratio=0.7; total time=   0.0s\n",
      "[CV] END ............................alpha=0.6, l1_ratio=0.7; total time=   0.0s\n",
      "[CV] END ............................alpha=0.6, l1_ratio=0.7; total time=   0.0s\n",
      "[CV] END ............................alpha=0.6, l1_ratio=0.9; total time=   0.1s\n",
      "[CV] END ............................alpha=0.6, l1_ratio=0.9; total time=   0.1s\n",
      "[CV] END ............................alpha=0.6, l1_ratio=0.9; total time=   0.1s\n",
      "[CV] END ............................alpha=0.6, l1_ratio=0.9; total time=   0.1s\n",
      "[CV] END ............................alpha=0.6, l1_ratio=0.9; total time=   0.1s\n",
      "[CV] END ...........................alpha=0.6, l1_ratio=0.95; total time=   0.1s\n",
      "[CV] END ...........................alpha=0.6, l1_ratio=0.95; total time=   0.1s\n",
      "[CV] END ...........................alpha=0.6, l1_ratio=0.95; total time=   0.1s\n",
      "[CV] END ...........................alpha=0.6, l1_ratio=0.95; total time=   0.1s\n",
      "[CV] END ...........................alpha=0.6, l1_ratio=0.95; total time=   0.1s\n",
      "[CV] END ...........................alpha=0.6, l1_ratio=0.99; total time=   0.2s\n",
      "[CV] END ...........................alpha=0.6, l1_ratio=0.99; total time=   0.1s\n",
      "[CV] END ...........................alpha=0.6, l1_ratio=0.99; total time=   0.1s\n",
      "[CV] END ...........................alpha=0.6, l1_ratio=0.99; total time=   0.1s\n",
      "[CV] END ...........................alpha=0.6, l1_ratio=0.99; total time=   0.2s\n",
      "[CV] END ..............................alpha=0.6, l1_ratio=1; total time=   0.1s\n",
      "[CV] END ..............................alpha=0.6, l1_ratio=1; total time=   0.1s\n",
      "[CV] END ..............................alpha=0.6, l1_ratio=1; total time=   0.1s\n",
      "[CV] END ..............................alpha=0.6, l1_ratio=1; total time=   0.1s\n",
      "[CV] END ..............................alpha=0.6, l1_ratio=1; total time=   0.1s\n",
      "[CV] END ............................alpha=0.7, l1_ratio=0.1; total time=   0.0s\n",
      "[CV] END ............................alpha=0.7, l1_ratio=0.1; total time=   0.0s\n",
      "[CV] END ............................alpha=0.7, l1_ratio=0.1; total time=   0.0s\n",
      "[CV] END ............................alpha=0.7, l1_ratio=0.1; total time=   0.0s\n",
      "[CV] END ............................alpha=0.7, l1_ratio=0.1; total time=   0.0s\n",
      "[CV] END ............................alpha=0.7, l1_ratio=0.5; total time=   0.0s\n",
      "[CV] END ............................alpha=0.7, l1_ratio=0.5; total time=   0.0s\n",
      "[CV] END ............................alpha=0.7, l1_ratio=0.5; total time=   0.0s\n",
      "[CV] END ............................alpha=0.7, l1_ratio=0.5; total time=   0.0s\n",
      "[CV] END ............................alpha=0.7, l1_ratio=0.5; total time=   0.0s\n",
      "[CV] END ............................alpha=0.7, l1_ratio=0.7; total time=   0.0s\n",
      "[CV] END ............................alpha=0.7, l1_ratio=0.7; total time=   0.0s\n",
      "[CV] END ............................alpha=0.7, l1_ratio=0.7; total time=   0.0s\n",
      "[CV] END ............................alpha=0.7, l1_ratio=0.7; total time=   0.0s\n",
      "[CV] END ............................alpha=0.7, l1_ratio=0.7; total time=   0.0s\n",
      "[CV] END ............................alpha=0.7, l1_ratio=0.9; total time=   0.1s\n",
      "[CV] END ............................alpha=0.7, l1_ratio=0.9; total time=   0.0s\n",
      "[CV] END ............................alpha=0.7, l1_ratio=0.9; total time=   0.1s\n",
      "[CV] END ............................alpha=0.7, l1_ratio=0.9; total time=   0.1s\n",
      "[CV] END ............................alpha=0.7, l1_ratio=0.9; total time=   0.1s\n",
      "[CV] END ...........................alpha=0.7, l1_ratio=0.95; total time=   0.1s\n",
      "[CV] END ...........................alpha=0.7, l1_ratio=0.95; total time=   0.1s\n",
      "[CV] END ...........................alpha=0.7, l1_ratio=0.95; total time=   0.1s\n",
      "[CV] END ...........................alpha=0.7, l1_ratio=0.95; total time=   0.1s\n",
      "[CV] END ...........................alpha=0.7, l1_ratio=0.95; total time=   0.1s\n",
      "[CV] END ...........................alpha=0.7, l1_ratio=0.99; total time=   0.2s\n",
      "[CV] END ...........................alpha=0.7, l1_ratio=0.99; total time=   0.1s\n",
      "[CV] END ...........................alpha=0.7, l1_ratio=0.99; total time=   0.1s\n"
     ]
    },
    {
     "name": "stdout",
     "output_type": "stream",
     "text": [
      "[CV] END ...........................alpha=0.7, l1_ratio=0.99; total time=   0.1s\n",
      "[CV] END ...........................alpha=0.7, l1_ratio=0.99; total time=   0.2s\n",
      "[CV] END ..............................alpha=0.7, l1_ratio=1; total time=   0.1s\n",
      "[CV] END ..............................alpha=0.7, l1_ratio=1; total time=   0.1s\n",
      "[CV] END ..............................alpha=0.7, l1_ratio=1; total time=   0.1s\n",
      "[CV] END ..............................alpha=0.7, l1_ratio=1; total time=   0.1s\n",
      "[CV] END ..............................alpha=0.7, l1_ratio=1; total time=   0.1s\n",
      "[CV] END ..............................alpha=1, l1_ratio=0.1; total time=   0.0s\n",
      "[CV] END ..............................alpha=1, l1_ratio=0.1; total time=   0.0s\n",
      "[CV] END ..............................alpha=1, l1_ratio=0.1; total time=   0.0s\n",
      "[CV] END ..............................alpha=1, l1_ratio=0.1; total time=   0.0s\n",
      "[CV] END ..............................alpha=1, l1_ratio=0.1; total time=   0.0s\n",
      "[CV] END ..............................alpha=1, l1_ratio=0.5; total time=   0.0s\n",
      "[CV] END ..............................alpha=1, l1_ratio=0.5; total time=   0.0s\n",
      "[CV] END ..............................alpha=1, l1_ratio=0.5; total time=   0.0s\n",
      "[CV] END ..............................alpha=1, l1_ratio=0.5; total time=   0.0s\n",
      "[CV] END ..............................alpha=1, l1_ratio=0.5; total time=   0.0s\n",
      "[CV] END ..............................alpha=1, l1_ratio=0.7; total time=   0.0s\n",
      "[CV] END ..............................alpha=1, l1_ratio=0.7; total time=   0.0s\n",
      "[CV] END ..............................alpha=1, l1_ratio=0.7; total time=   0.0s\n",
      "[CV] END ..............................alpha=1, l1_ratio=0.7; total time=   0.0s\n",
      "[CV] END ..............................alpha=1, l1_ratio=0.7; total time=   0.0s\n",
      "[CV] END ..............................alpha=1, l1_ratio=0.9; total time=   0.1s\n",
      "[CV] END ..............................alpha=1, l1_ratio=0.9; total time=   0.0s\n",
      "[CV] END ..............................alpha=1, l1_ratio=0.9; total time=   0.0s\n",
      "[CV] END ..............................alpha=1, l1_ratio=0.9; total time=   0.0s\n",
      "[CV] END ..............................alpha=1, l1_ratio=0.9; total time=   0.0s\n",
      "[CV] END .............................alpha=1, l1_ratio=0.95; total time=   0.1s\n",
      "[CV] END .............................alpha=1, l1_ratio=0.95; total time=   0.1s\n",
      "[CV] END .............................alpha=1, l1_ratio=0.95; total time=   0.1s\n",
      "[CV] END .............................alpha=1, l1_ratio=0.95; total time=   0.1s\n",
      "[CV] END .............................alpha=1, l1_ratio=0.95; total time=   0.1s\n",
      "[CV] END .............................alpha=1, l1_ratio=0.99; total time=   0.1s\n",
      "[CV] END .............................alpha=1, l1_ratio=0.99; total time=   0.1s\n",
      "[CV] END .............................alpha=1, l1_ratio=0.99; total time=   0.1s\n",
      "[CV] END .............................alpha=1, l1_ratio=0.99; total time=   0.1s\n",
      "[CV] END .............................alpha=1, l1_ratio=0.99; total time=   0.1s\n",
      "[CV] END ................................alpha=1, l1_ratio=1; total time=   0.1s\n",
      "[CV] END ................................alpha=1, l1_ratio=1; total time=   0.1s\n",
      "[CV] END ................................alpha=1, l1_ratio=1; total time=   0.1s\n",
      "[CV] END ................................alpha=1, l1_ratio=1; total time=   0.1s\n",
      "[CV] END ................................alpha=1, l1_ratio=1; total time=   0.1s\n"
     ]
    },
    {
     "data": {
      "text/plain": [
       "GridSearchCV(cv=5, estimator=ElasticNet(max_iter=10000, random_state=42),\n",
       "             param_grid={'alpha': [0.01, 0.012, 0.2, 0.5, 0.6, 0.7, 1],\n",
       "                         'l1_ratio': [0.1, 0.5, 0.7, 0.9, 0.95, 0.99, 1]},\n",
       "             scoring='neg_root_mean_squared_error', verbose=2)"
      ]
     },
     "execution_count": 281,
     "metadata": {},
     "output_type": "execute_result"
    }
   ],
   "source": [
    "grid_model.fit(X_train_scaled, y_train)"
   ]
  },
  {
   "cell_type": "code",
   "execution_count": 282,
   "metadata": {},
   "outputs": [
    {
     "data": {
      "text/plain": [
       "{'alpha': 1, 'l1_ratio': 1}"
      ]
     },
     "execution_count": 282,
     "metadata": {},
     "output_type": "execute_result"
    }
   ],
   "source": [
    "grid_model.best_params_"
   ]
  },
  {
   "cell_type": "code",
   "execution_count": 283,
   "metadata": {},
   "outputs": [
    {
     "data": {
      "text/html": [
       "<div>\n",
       "<style scoped>\n",
       "    .dataframe tbody tr th:only-of-type {\n",
       "        vertical-align: middle;\n",
       "    }\n",
       "\n",
       "    .dataframe tbody tr th {\n",
       "        vertical-align: top;\n",
       "    }\n",
       "\n",
       "    .dataframe thead th {\n",
       "        text-align: right;\n",
       "    }\n",
       "</style>\n",
       "<table border=\"1\" class=\"dataframe\">\n",
       "  <thead>\n",
       "    <tr style=\"text-align: right;\">\n",
       "      <th></th>\n",
       "      <th>mean_fit_time</th>\n",
       "      <th>std_fit_time</th>\n",
       "      <th>mean_score_time</th>\n",
       "      <th>std_score_time</th>\n",
       "      <th>param_alpha</th>\n",
       "      <th>param_l1_ratio</th>\n",
       "      <th>params</th>\n",
       "      <th>split0_test_score</th>\n",
       "      <th>split1_test_score</th>\n",
       "      <th>split2_test_score</th>\n",
       "      <th>split3_test_score</th>\n",
       "      <th>split4_test_score</th>\n",
       "      <th>mean_test_score</th>\n",
       "      <th>std_test_score</th>\n",
       "      <th>rank_test_score</th>\n",
       "    </tr>\n",
       "  </thead>\n",
       "  <tbody>\n",
       "    <tr>\n",
       "      <th>0</th>\n",
       "      <td>0.443</td>\n",
       "      <td>0.024</td>\n",
       "      <td>0.004</td>\n",
       "      <td>0.006</td>\n",
       "      <td>0.010</td>\n",
       "      <td>0.100</td>\n",
       "      <td>{'alpha': 0.01, 'l1_ratio': 0.1}</td>\n",
       "      <td>-2703.206</td>\n",
       "      <td>-2876.481</td>\n",
       "      <td>-2642.576</td>\n",
       "      <td>-2727.518</td>\n",
       "      <td>-2747.738</td>\n",
       "      <td>-2739.504</td>\n",
       "      <td>77.054</td>\n",
       "      <td>22</td>\n",
       "    </tr>\n",
       "    <tr>\n",
       "      <th>1</th>\n",
       "      <td>0.402</td>\n",
       "      <td>0.016</td>\n",
       "      <td>0.002</td>\n",
       "      <td>0.000</td>\n",
       "      <td>0.010</td>\n",
       "      <td>0.500</td>\n",
       "      <td>{'alpha': 0.01, 'l1_ratio': 0.5}</td>\n",
       "      <td>-2618.102</td>\n",
       "      <td>-2787.135</td>\n",
       "      <td>-2583.421</td>\n",
       "      <td>-2649.949</td>\n",
       "      <td>-2669.299</td>\n",
       "      <td>-2661.581</td>\n",
       "      <td>69.222</td>\n",
       "      <td>17</td>\n",
       "    </tr>\n",
       "    <tr>\n",
       "      <th>2</th>\n",
       "      <td>0.400</td>\n",
       "      <td>0.023</td>\n",
       "      <td>0.004</td>\n",
       "      <td>0.006</td>\n",
       "      <td>0.010</td>\n",
       "      <td>0.700</td>\n",
       "      <td>{'alpha': 0.01, 'l1_ratio': 0.7}</td>\n",
       "      <td>-2561.713</td>\n",
       "      <td>-2729.569</td>\n",
       "      <td>-2545.025</td>\n",
       "      <td>-2601.012</td>\n",
       "      <td>-2616.093</td>\n",
       "      <td>-2610.682</td>\n",
       "      <td>64.754</td>\n",
       "      <td>15</td>\n",
       "    </tr>\n",
       "    <tr>\n",
       "      <th>3</th>\n",
       "      <td>0.350</td>\n",
       "      <td>0.013</td>\n",
       "      <td>0.006</td>\n",
       "      <td>0.008</td>\n",
       "      <td>0.010</td>\n",
       "      <td>0.900</td>\n",
       "      <td>{'alpha': 0.01, 'l1_ratio': 0.9}</td>\n",
       "      <td>-2487.654</td>\n",
       "      <td>-2656.105</td>\n",
       "      <td>-2494.982</td>\n",
       "      <td>-2538.753</td>\n",
       "      <td>-2543.775</td>\n",
       "      <td>-2544.254</td>\n",
       "      <td>60.287</td>\n",
       "      <td>12</td>\n",
       "    </tr>\n",
       "    <tr>\n",
       "      <th>4</th>\n",
       "      <td>0.345</td>\n",
       "      <td>0.007</td>\n",
       "      <td>0.000</td>\n",
       "      <td>0.000</td>\n",
       "      <td>0.010</td>\n",
       "      <td>0.950</td>\n",
       "      <td>{'alpha': 0.01, 'l1_ratio': 0.95}</td>\n",
       "      <td>-2467.316</td>\n",
       "      <td>-2636.367</td>\n",
       "      <td>-2481.120</td>\n",
       "      <td>-2520.982</td>\n",
       "      <td>-2523.562</td>\n",
       "      <td>-2525.869</td>\n",
       "      <td>59.447</td>\n",
       "      <td>10</td>\n",
       "    </tr>\n",
       "    <tr>\n",
       "      <th>5</th>\n",
       "      <td>0.347</td>\n",
       "      <td>0.020</td>\n",
       "      <td>0.003</td>\n",
       "      <td>0.006</td>\n",
       "      <td>0.010</td>\n",
       "      <td>0.990</td>\n",
       "      <td>{'alpha': 0.01, 'l1_ratio': 0.99}</td>\n",
       "      <td>-2457.200</td>\n",
       "      <td>-2627.888</td>\n",
       "      <td>-2474.556</td>\n",
       "      <td>-2509.375</td>\n",
       "      <td>-2514.427</td>\n",
       "      <td>-2516.689</td>\n",
       "      <td>59.561</td>\n",
       "      <td>6</td>\n",
       "    </tr>\n",
       "    <tr>\n",
       "      <th>6</th>\n",
       "      <td>0.366</td>\n",
       "      <td>0.012</td>\n",
       "      <td>0.000</td>\n",
       "      <td>0.000</td>\n",
       "      <td>0.010</td>\n",
       "      <td>1</td>\n",
       "      <td>{'alpha': 0.01, 'l1_ratio': 1}</td>\n",
       "      <td>-2458.786</td>\n",
       "      <td>-2630.536</td>\n",
       "      <td>-2476.561</td>\n",
       "      <td>-2508.096</td>\n",
       "      <td>-2516.442</td>\n",
       "      <td>-2518.084</td>\n",
       "      <td>59.981</td>\n",
       "      <td>9</td>\n",
       "    </tr>\n",
       "    <tr>\n",
       "      <th>7</th>\n",
       "      <td>0.397</td>\n",
       "      <td>0.006</td>\n",
       "      <td>0.000</td>\n",
       "      <td>0.000</td>\n",
       "      <td>0.012</td>\n",
       "      <td>0.100</td>\n",
       "      <td>{'alpha': 0.012, 'l1_ratio': 0.1}</td>\n",
       "      <td>-2734.789</td>\n",
       "      <td>-2910.130</td>\n",
       "      <td>-2665.034</td>\n",
       "      <td>-2757.363</td>\n",
       "      <td>-2776.495</td>\n",
       "      <td>-2768.762</td>\n",
       "      <td>80.110</td>\n",
       "      <td>25</td>\n",
       "    </tr>\n",
       "    <tr>\n",
       "      <th>8</th>\n",
       "      <td>0.363</td>\n",
       "      <td>0.005</td>\n",
       "      <td>0.000</td>\n",
       "      <td>0.000</td>\n",
       "      <td>0.012</td>\n",
       "      <td>0.500</td>\n",
       "      <td>{'alpha': 0.012, 'l1_ratio': 0.5}</td>\n",
       "      <td>-2642.024</td>\n",
       "      <td>-2811.992</td>\n",
       "      <td>-2599.883</td>\n",
       "      <td>-2671.308</td>\n",
       "      <td>-2691.530</td>\n",
       "      <td>-2683.347</td>\n",
       "      <td>71.324</td>\n",
       "      <td>19</td>\n",
       "    </tr>\n",
       "    <tr>\n",
       "      <th>9</th>\n",
       "      <td>0.373</td>\n",
       "      <td>0.019</td>\n",
       "      <td>0.000</td>\n",
       "      <td>0.000</td>\n",
       "      <td>0.012</td>\n",
       "      <td>0.700</td>\n",
       "      <td>{'alpha': 0.012, 'l1_ratio': 0.7}</td>\n",
       "      <td>-2580.113</td>\n",
       "      <td>-2748.183</td>\n",
       "      <td>-2557.503</td>\n",
       "      <td>-2616.778</td>\n",
       "      <td>-2633.600</td>\n",
       "      <td>-2627.235</td>\n",
       "      <td>66.123</td>\n",
       "      <td>16</td>\n",
       "    </tr>\n",
       "    <tr>\n",
       "      <th>10</th>\n",
       "      <td>0.362</td>\n",
       "      <td>0.018</td>\n",
       "      <td>0.000</td>\n",
       "      <td>0.000</td>\n",
       "      <td>0.012</td>\n",
       "      <td>0.900</td>\n",
       "      <td>{'alpha': 0.012, 'l1_ratio': 0.9}</td>\n",
       "      <td>-2495.962</td>\n",
       "      <td>-2664.255</td>\n",
       "      <td>-2500.617</td>\n",
       "      <td>-2545.776</td>\n",
       "      <td>-2552.034</td>\n",
       "      <td>-2551.729</td>\n",
       "      <td>60.696</td>\n",
       "      <td>13</td>\n",
       "    </tr>\n",
       "    <tr>\n",
       "      <th>11</th>\n",
       "      <td>0.337</td>\n",
       "      <td>0.005</td>\n",
       "      <td>0.000</td>\n",
       "      <td>0.000</td>\n",
       "      <td>0.012</td>\n",
       "      <td>0.950</td>\n",
       "      <td>{'alpha': 0.012, 'l1_ratio': 0.95}</td>\n",
       "      <td>-2471.173</td>\n",
       "      <td>-2640.054</td>\n",
       "      <td>-2483.750</td>\n",
       "      <td>-2524.486</td>\n",
       "      <td>-2527.358</td>\n",
       "      <td>-2529.364</td>\n",
       "      <td>59.577</td>\n",
       "      <td>11</td>\n",
       "    </tr>\n",
       "    <tr>\n",
       "      <th>12</th>\n",
       "      <td>0.358</td>\n",
       "      <td>0.019</td>\n",
       "      <td>0.004</td>\n",
       "      <td>0.006</td>\n",
       "      <td>0.012</td>\n",
       "      <td>0.990</td>\n",
       "      <td>{'alpha': 0.012, 'l1_ratio': 0.99}</td>\n",
       "      <td>-2457.265</td>\n",
       "      <td>-2627.756</td>\n",
       "      <td>-2474.513</td>\n",
       "      <td>-2509.776</td>\n",
       "      <td>-2514.375</td>\n",
       "      <td>-2516.737</td>\n",
       "      <td>59.496</td>\n",
       "      <td>7</td>\n",
       "    </tr>\n",
       "    <tr>\n",
       "      <th>13</th>\n",
       "      <td>0.366</td>\n",
       "      <td>0.009</td>\n",
       "      <td>0.000</td>\n",
       "      <td>0.000</td>\n",
       "      <td>0.012</td>\n",
       "      <td>1</td>\n",
       "      <td>{'alpha': 0.012, 'l1_ratio': 1}</td>\n",
       "      <td>-2458.762</td>\n",
       "      <td>-2630.500</td>\n",
       "      <td>-2476.520</td>\n",
       "      <td>-2508.111</td>\n",
       "      <td>-2516.408</td>\n",
       "      <td>-2518.060</td>\n",
       "      <td>59.977</td>\n",
       "      <td>8</td>\n",
       "    </tr>\n",
       "    <tr>\n",
       "      <th>14</th>\n",
       "      <td>0.165</td>\n",
       "      <td>0.019</td>\n",
       "      <td>0.000</td>\n",
       "      <td>0.000</td>\n",
       "      <td>0.200</td>\n",
       "      <td>0.100</td>\n",
       "      <td>{'alpha': 0.2, 'l1_ratio': 0.1}</td>\n",
       "      <td>-3799.478</td>\n",
       "      <td>-4073.671</td>\n",
       "      <td>-3631.205</td>\n",
       "      <td>-3898.996</td>\n",
       "      <td>-3767.576</td>\n",
       "      <td>-3834.185</td>\n",
       "      <td>147.239</td>\n",
       "      <td>38</td>\n",
       "    </tr>\n",
       "    <tr>\n",
       "      <th>15</th>\n",
       "      <td>0.183</td>\n",
       "      <td>0.019</td>\n",
       "      <td>0.003</td>\n",
       "      <td>0.006</td>\n",
       "      <td>0.200</td>\n",
       "      <td>0.500</td>\n",
       "      <td>{'alpha': 0.2, 'l1_ratio': 0.5}</td>\n",
       "      <td>-3461.594</td>\n",
       "      <td>-3697.442</td>\n",
       "      <td>-3290.968</td>\n",
       "      <td>-3522.247</td>\n",
       "      <td>-3443.094</td>\n",
       "      <td>-3483.069</td>\n",
       "      <td>131.493</td>\n",
       "      <td>35</td>\n",
       "    </tr>\n",
       "    <tr>\n",
       "      <th>16</th>\n",
       "      <td>0.211</td>\n",
       "      <td>0.019</td>\n",
       "      <td>0.001</td>\n",
       "      <td>0.001</td>\n",
       "      <td>0.200</td>\n",
       "      <td>0.700</td>\n",
       "      <td>{'alpha': 0.2, 'l1_ratio': 0.7}</td>\n",
       "      <td>-3225.769</td>\n",
       "      <td>-3438.630</td>\n",
       "      <td>-3067.160</td>\n",
       "      <td>-3263.678</td>\n",
       "      <td>-3222.496</td>\n",
       "      <td>-3243.547</td>\n",
       "      <td>118.604</td>\n",
       "      <td>32</td>\n",
       "    </tr>\n",
       "    <tr>\n",
       "      <th>17</th>\n",
       "      <td>0.246</td>\n",
       "      <td>0.015</td>\n",
       "      <td>0.001</td>\n",
       "      <td>0.001</td>\n",
       "      <td>0.200</td>\n",
       "      <td>0.900</td>\n",
       "      <td>{'alpha': 0.2, 'l1_ratio': 0.9}</td>\n",
       "      <td>-2865.867</td>\n",
       "      <td>-3050.777</td>\n",
       "      <td>-2762.484</td>\n",
       "      <td>-2886.266</td>\n",
       "      <td>-2894.977</td>\n",
       "      <td>-2892.074</td>\n",
       "      <td>92.422</td>\n",
       "      <td>26</td>\n",
       "    </tr>\n",
       "    <tr>\n",
       "      <th>18</th>\n",
       "      <td>0.253</td>\n",
       "      <td>0.004</td>\n",
       "      <td>0.002</td>\n",
       "      <td>0.000</td>\n",
       "      <td>0.200</td>\n",
       "      <td>0.950</td>\n",
       "      <td>{'alpha': 0.2, 'l1_ratio': 0.95}</td>\n",
       "      <td>-2721.854</td>\n",
       "      <td>-2896.020</td>\n",
       "      <td>-2655.806</td>\n",
       "      <td>-2745.065</td>\n",
       "      <td>-2764.670</td>\n",
       "      <td>-2756.683</td>\n",
       "      <td>78.744</td>\n",
       "      <td>23</td>\n",
       "    </tr>\n",
       "    <tr>\n",
       "      <th>19</th>\n",
       "      <td>0.259</td>\n",
       "      <td>0.002</td>\n",
       "      <td>0.001</td>\n",
       "      <td>0.000</td>\n",
       "      <td>0.200</td>\n",
       "      <td>0.990</td>\n",
       "      <td>{'alpha': 0.2, 'l1_ratio': 0.99}</td>\n",
       "      <td>-2527.888</td>\n",
       "      <td>-2694.976</td>\n",
       "      <td>-2522.046</td>\n",
       "      <td>-2572.948</td>\n",
       "      <td>-2583.159</td>\n",
       "      <td>-2580.203</td>\n",
       "      <td>62.215</td>\n",
       "      <td>14</td>\n",
       "    </tr>\n",
       "    <tr>\n",
       "      <th>20</th>\n",
       "      <td>0.278</td>\n",
       "      <td>0.006</td>\n",
       "      <td>0.004</td>\n",
       "      <td>0.006</td>\n",
       "      <td>0.200</td>\n",
       "      <td>1</td>\n",
       "      <td>{'alpha': 0.2, 'l1_ratio': 1}</td>\n",
       "      <td>-2457.231</td>\n",
       "      <td>-2627.162</td>\n",
       "      <td>-2473.445</td>\n",
       "      <td>-2509.598</td>\n",
       "      <td>-2513.483</td>\n",
       "      <td>-2516.184</td>\n",
       "      <td>59.445</td>\n",
       "      <td>5</td>\n",
       "    </tr>\n",
       "    <tr>\n",
       "      <th>21</th>\n",
       "      <td>0.083</td>\n",
       "      <td>0.006</td>\n",
       "      <td>0.006</td>\n",
       "      <td>0.008</td>\n",
       "      <td>0.500</td>\n",
       "      <td>0.100</td>\n",
       "      <td>{'alpha': 0.5, 'l1_ratio': 0.1}</td>\n",
       "      <td>-4509.285</td>\n",
       "      <td>-4854.936</td>\n",
       "      <td>-4367.952</td>\n",
       "      <td>-4677.193</td>\n",
       "      <td>-4465.573</td>\n",
       "      <td>-4574.988</td>\n",
       "      <td>172.029</td>\n",
       "      <td>45</td>\n",
       "    </tr>\n",
       "    <tr>\n",
       "      <th>22</th>\n",
       "      <td>0.116</td>\n",
       "      <td>0.005</td>\n",
       "      <td>0.001</td>\n",
       "      <td>0.001</td>\n",
       "      <td>0.500</td>\n",
       "      <td>0.500</td>\n",
       "      <td>{'alpha': 0.5, 'l1_ratio': 0.5}</td>\n",
       "      <td>-4027.645</td>\n",
       "      <td>-4327.598</td>\n",
       "      <td>-3867.143</td>\n",
       "      <td>-4152.665</td>\n",
       "      <td>-3990.489</td>\n",
       "      <td>-4073.108</td>\n",
       "      <td>156.466</td>\n",
       "      <td>41</td>\n",
       "    </tr>\n",
       "    <tr>\n",
       "      <th>23</th>\n",
       "      <td>0.135</td>\n",
       "      <td>0.013</td>\n",
       "      <td>0.001</td>\n",
       "      <td>0.001</td>\n",
       "      <td>0.500</td>\n",
       "      <td>0.700</td>\n",
       "      <td>{'alpha': 0.5, 'l1_ratio': 0.7}</td>\n",
       "      <td>-3686.926</td>\n",
       "      <td>-3948.231</td>\n",
       "      <td>-3516.284</td>\n",
       "      <td>-3773.501</td>\n",
       "      <td>-3658.573</td>\n",
       "      <td>-3716.703</td>\n",
       "      <td>142.313</td>\n",
       "      <td>37</td>\n",
       "    </tr>\n",
       "    <tr>\n",
       "      <th>24</th>\n",
       "      <td>0.174</td>\n",
       "      <td>0.006</td>\n",
       "      <td>0.000</td>\n",
       "      <td>0.000</td>\n",
       "      <td>0.500</td>\n",
       "      <td>0.900</td>\n",
       "      <td>{'alpha': 0.5, 'l1_ratio': 0.9}</td>\n",
       "      <td>-3153.686</td>\n",
       "      <td>-3360.734</td>\n",
       "      <td>-3002.359</td>\n",
       "      <td>-3186.439</td>\n",
       "      <td>-3156.149</td>\n",
       "      <td>-3171.873</td>\n",
       "      <td>114.187</td>\n",
       "      <td>30</td>\n",
       "    </tr>\n",
       "    <tr>\n",
       "      <th>25</th>\n",
       "      <td>0.209</td>\n",
       "      <td>0.012</td>\n",
       "      <td>0.001</td>\n",
       "      <td>0.001</td>\n",
       "      <td>0.500</td>\n",
       "      <td>0.950</td>\n",
       "      <td>{'alpha': 0.5, 'l1_ratio': 0.95}</td>\n",
       "      <td>-2925.155</td>\n",
       "      <td>-3114.604</td>\n",
       "      <td>-2809.210</td>\n",
       "      <td>-2946.765</td>\n",
       "      <td>-2948.506</td>\n",
       "      <td>-2948.848</td>\n",
       "      <td>97.508</td>\n",
       "      <td>27</td>\n",
       "    </tr>\n",
       "    <tr>\n",
       "      <th>26</th>\n",
       "      <td>0.261</td>\n",
       "      <td>0.012</td>\n",
       "      <td>0.002</td>\n",
       "      <td>0.000</td>\n",
       "      <td>0.500</td>\n",
       "      <td>0.990</td>\n",
       "      <td>{'alpha': 0.5, 'l1_ratio': 0.99}</td>\n",
       "      <td>-2620.193</td>\n",
       "      <td>-2788.188</td>\n",
       "      <td>-2584.966</td>\n",
       "      <td>-2651.634</td>\n",
       "      <td>-2671.065</td>\n",
       "      <td>-2663.209</td>\n",
       "      <td>68.975</td>\n",
       "      <td>18</td>\n",
       "    </tr>\n",
       "    <tr>\n",
       "      <th>27</th>\n",
       "      <td>0.255</td>\n",
       "      <td>0.005</td>\n",
       "      <td>0.002</td>\n",
       "      <td>0.000</td>\n",
       "      <td>0.500</td>\n",
       "      <td>1</td>\n",
       "      <td>{'alpha': 0.5, 'l1_ratio': 1}</td>\n",
       "      <td>-2455.914</td>\n",
       "      <td>-2622.517</td>\n",
       "      <td>-2471.448</td>\n",
       "      <td>-2512.359</td>\n",
       "      <td>-2509.714</td>\n",
       "      <td>-2514.390</td>\n",
       "      <td>58.277</td>\n",
       "      <td>4</td>\n",
       "    </tr>\n",
       "    <tr>\n",
       "      <th>28</th>\n",
       "      <td>0.079</td>\n",
       "      <td>0.009</td>\n",
       "      <td>0.005</td>\n",
       "      <td>0.006</td>\n",
       "      <td>0.600</td>\n",
       "      <td>0.100</td>\n",
       "      <td>{'alpha': 0.6, 'l1_ratio': 0.1}</td>\n",
       "      <td>-4676.037</td>\n",
       "      <td>-5034.370</td>\n",
       "      <td>-4540.745</td>\n",
       "      <td>-4854.975</td>\n",
       "      <td>-4630.560</td>\n",
       "      <td>-4747.337</td>\n",
       "      <td>176.281</td>\n",
       "      <td>47</td>\n",
       "    </tr>\n",
       "    <tr>\n",
       "      <th>29</th>\n",
       "      <td>0.099</td>\n",
       "      <td>0.005</td>\n",
       "      <td>0.001</td>\n",
       "      <td>0.001</td>\n",
       "      <td>0.600</td>\n",
       "      <td>0.500</td>\n",
       "      <td>{'alpha': 0.6, 'l1_ratio': 0.5}</td>\n",
       "      <td>-4167.271</td>\n",
       "      <td>-4481.852</td>\n",
       "      <td>-4012.329</td>\n",
       "      <td>-4306.384</td>\n",
       "      <td>-4127.792</td>\n",
       "      <td>-4219.126</td>\n",
       "      <td>161.515</td>\n",
       "      <td>42</td>\n",
       "    </tr>\n",
       "    <tr>\n",
       "      <th>30</th>\n",
       "      <td>0.111</td>\n",
       "      <td>0.009</td>\n",
       "      <td>0.001</td>\n",
       "      <td>0.001</td>\n",
       "      <td>0.600</td>\n",
       "      <td>0.700</td>\n",
       "      <td>{'alpha': 0.6, 'l1_ratio': 0.7}</td>\n",
       "      <td>-3800.821</td>\n",
       "      <td>-4075.348</td>\n",
       "      <td>-3632.699</td>\n",
       "      <td>-3900.653</td>\n",
       "      <td>-3768.873</td>\n",
       "      <td>-3835.679</td>\n",
       "      <td>147.337</td>\n",
       "      <td>39</td>\n",
       "    </tr>\n",
       "    <tr>\n",
       "      <th>31</th>\n",
       "      <td>0.168</td>\n",
       "      <td>0.010</td>\n",
       "      <td>0.001</td>\n",
       "      <td>0.001</td>\n",
       "      <td>0.600</td>\n",
       "      <td>0.900</td>\n",
       "      <td>{'alpha': 0.6, 'l1_ratio': 0.9}</td>\n",
       "      <td>-3227.079</td>\n",
       "      <td>-3440.354</td>\n",
       "      <td>-3068.677</td>\n",
       "      <td>-3265.527</td>\n",
       "      <td>-3223.734</td>\n",
       "      <td>-3245.074</td>\n",
       "      <td>118.699</td>\n",
       "      <td>33</td>\n",
       "    </tr>\n",
       "    <tr>\n",
       "      <th>32</th>\n",
       "      <td>0.197</td>\n",
       "      <td>0.017</td>\n",
       "      <td>0.001</td>\n",
       "      <td>0.001</td>\n",
       "      <td>0.600</td>\n",
       "      <td>0.950</td>\n",
       "      <td>{'alpha': 0.6, 'l1_ratio': 0.95}</td>\n",
       "      <td>-2978.165</td>\n",
       "      <td>-3171.923</td>\n",
       "      <td>-2852.268</td>\n",
       "      <td>-3001.694</td>\n",
       "      <td>-2996.401</td>\n",
       "      <td>-3000.090</td>\n",
       "      <td>101.857</td>\n",
       "      <td>28</td>\n",
       "    </tr>\n",
       "    <tr>\n",
       "      <th>33</th>\n",
       "      <td>0.241</td>\n",
       "      <td>0.013</td>\n",
       "      <td>0.001</td>\n",
       "      <td>0.000</td>\n",
       "      <td>0.600</td>\n",
       "      <td>0.990</td>\n",
       "      <td>{'alpha': 0.6, 'l1_ratio': 0.99}</td>\n",
       "      <td>-2644.284</td>\n",
       "      <td>-2813.296</td>\n",
       "      <td>-2601.793</td>\n",
       "      <td>-2673.390</td>\n",
       "      <td>-2693.542</td>\n",
       "      <td>-2685.261</td>\n",
       "      <td>71.061</td>\n",
       "      <td>20</td>\n",
       "    </tr>\n",
       "    <tr>\n",
       "      <th>34</th>\n",
       "      <td>0.222</td>\n",
       "      <td>0.017</td>\n",
       "      <td>0.001</td>\n",
       "      <td>0.000</td>\n",
       "      <td>0.600</td>\n",
       "      <td>1</td>\n",
       "      <td>{'alpha': 0.6, 'l1_ratio': 1}</td>\n",
       "      <td>-2455.433</td>\n",
       "      <td>-2621.101</td>\n",
       "      <td>-2471.140</td>\n",
       "      <td>-2513.367</td>\n",
       "      <td>-2508.439</td>\n",
       "      <td>-2513.896</td>\n",
       "      <td>57.912</td>\n",
       "      <td>3</td>\n",
       "    </tr>\n",
       "    <tr>\n",
       "      <th>35</th>\n",
       "      <td>0.076</td>\n",
       "      <td>0.006</td>\n",
       "      <td>0.000</td>\n",
       "      <td>0.001</td>\n",
       "      <td>0.700</td>\n",
       "      <td>0.100</td>\n",
       "      <td>{'alpha': 0.7, 'l1_ratio': 0.1}</td>\n",
       "      <td>-4821.422</td>\n",
       "      <td>-5189.537</td>\n",
       "      <td>-4690.914</td>\n",
       "      <td>-5008.456</td>\n",
       "      <td>-4774.432</td>\n",
       "      <td>-4896.952</td>\n",
       "      <td>179.559</td>\n",
       "      <td>48</td>\n",
       "    </tr>\n",
       "    <tr>\n",
       "      <th>36</th>\n",
       "      <td>0.083</td>\n",
       "      <td>0.012</td>\n",
       "      <td>0.001</td>\n",
       "      <td>0.001</td>\n",
       "      <td>0.700</td>\n",
       "      <td>0.500</td>\n",
       "      <td>{'alpha': 0.7, 'l1_ratio': 0.5}</td>\n",
       "      <td>-4292.694</td>\n",
       "      <td>-4619.498</td>\n",
       "      <td>-4142.824</td>\n",
       "      <td>-4443.354</td>\n",
       "      <td>-4251.480</td>\n",
       "      <td>-4349.970</td>\n",
       "      <td>165.684</td>\n",
       "      <td>44</td>\n",
       "    </tr>\n",
       "    <tr>\n",
       "      <th>37</th>\n",
       "      <td>0.109</td>\n",
       "      <td>0.011</td>\n",
       "      <td>0.000</td>\n",
       "      <td>0.000</td>\n",
       "      <td>0.700</td>\n",
       "      <td>0.700</td>\n",
       "      <td>{'alpha': 0.7, 'l1_ratio': 0.7}</td>\n",
       "      <td>-3904.017</td>\n",
       "      <td>-4190.365</td>\n",
       "      <td>-3739.045</td>\n",
       "      <td>-4015.652</td>\n",
       "      <td>-3869.392</td>\n",
       "      <td>-3943.694</td>\n",
       "      <td>151.658</td>\n",
       "      <td>40</td>\n",
       "    </tr>\n",
       "    <tr>\n",
       "      <th>38</th>\n",
       "      <td>0.153</td>\n",
       "      <td>0.010</td>\n",
       "      <td>0.004</td>\n",
       "      <td>0.006</td>\n",
       "      <td>0.700</td>\n",
       "      <td>0.900</td>\n",
       "      <td>{'alpha': 0.7, 'l1_ratio': 0.9}</td>\n",
       "      <td>-3293.641</td>\n",
       "      <td>-3512.974</td>\n",
       "      <td>-3130.342</td>\n",
       "      <td>-3337.888</td>\n",
       "      <td>-3285.471</td>\n",
       "      <td>-3312.063</td>\n",
       "      <td>122.557</td>\n",
       "      <td>34</td>\n",
       "    </tr>\n",
       "    <tr>\n",
       "      <th>39</th>\n",
       "      <td>0.178</td>\n",
       "      <td>0.006</td>\n",
       "      <td>0.000</td>\n",
       "      <td>0.000</td>\n",
       "      <td>0.700</td>\n",
       "      <td>0.950</td>\n",
       "      <td>{'alpha': 0.7, 'l1_ratio': 0.95}</td>\n",
       "      <td>-3027.172</td>\n",
       "      <td>-3224.628</td>\n",
       "      <td>-2893.040</td>\n",
       "      <td>-3052.792</td>\n",
       "      <td>-3040.724</td>\n",
       "      <td>-3047.671</td>\n",
       "      <td>105.564</td>\n",
       "      <td>29</td>\n",
       "    </tr>\n",
       "    <tr>\n",
       "      <th>40</th>\n",
       "      <td>0.255</td>\n",
       "      <td>0.019</td>\n",
       "      <td>0.001</td>\n",
       "      <td>0.001</td>\n",
       "      <td>0.700</td>\n",
       "      <td>0.990</td>\n",
       "      <td>{'alpha': 0.7, 'l1_ratio': 0.99}</td>\n",
       "      <td>-2666.434</td>\n",
       "      <td>-2836.440</td>\n",
       "      <td>-2617.215</td>\n",
       "      <td>-2693.330</td>\n",
       "      <td>-2713.786</td>\n",
       "      <td>-2705.441</td>\n",
       "      <td>73.051</td>\n",
       "      <td>21</td>\n",
       "    </tr>\n",
       "    <tr>\n",
       "      <th>41</th>\n",
       "      <td>0.222</td>\n",
       "      <td>0.018</td>\n",
       "      <td>0.001</td>\n",
       "      <td>0.001</td>\n",
       "      <td>0.700</td>\n",
       "      <td>1</td>\n",
       "      <td>{'alpha': 0.7, 'l1_ratio': 1}</td>\n",
       "      <td>-2454.990</td>\n",
       "      <td>-2619.762</td>\n",
       "      <td>-2470.980</td>\n",
       "      <td>-2514.536</td>\n",
       "      <td>-2507.204</td>\n",
       "      <td>-2513.494</td>\n",
       "      <td>57.557</td>\n",
       "      <td>2</td>\n",
       "    </tr>\n",
       "    <tr>\n",
       "      <th>42</th>\n",
       "      <td>0.070</td>\n",
       "      <td>0.007</td>\n",
       "      <td>0.001</td>\n",
       "      <td>0.001</td>\n",
       "      <td>1</td>\n",
       "      <td>0.100</td>\n",
       "      <td>{'alpha': 1, 'l1_ratio': 0.1}</td>\n",
       "      <td>-5165.954</td>\n",
       "      <td>-5552.928</td>\n",
       "      <td>-5044.814</td>\n",
       "      <td>-5367.018</td>\n",
       "      <td>-5115.228</td>\n",
       "      <td>-5249.188</td>\n",
       "      <td>185.895</td>\n",
       "      <td>49</td>\n",
       "    </tr>\n",
       "    <tr>\n",
       "      <th>43</th>\n",
       "      <td>0.075</td>\n",
       "      <td>0.011</td>\n",
       "      <td>0.005</td>\n",
       "      <td>0.006</td>\n",
       "      <td>1</td>\n",
       "      <td>0.500</td>\n",
       "      <td>{'alpha': 1, 'l1_ratio': 0.5}</td>\n",
       "      <td>-4606.253</td>\n",
       "      <td>-4959.558</td>\n",
       "      <td>-4468.501</td>\n",
       "      <td>-4780.863</td>\n",
       "      <td>-4561.466</td>\n",
       "      <td>-4675.328</td>\n",
       "      <td>174.607</td>\n",
       "      <td>46</td>\n",
       "    </tr>\n",
       "    <tr>\n",
       "      <th>44</th>\n",
       "      <td>0.092</td>\n",
       "      <td>0.012</td>\n",
       "      <td>0.004</td>\n",
       "      <td>0.006</td>\n",
       "      <td>1</td>\n",
       "      <td>0.700</td>\n",
       "      <td>{'alpha': 1, 'l1_ratio': 0.7}</td>\n",
       "      <td>-4168.639</td>\n",
       "      <td>-4483.463</td>\n",
       "      <td>-4013.785</td>\n",
       "      <td>-4307.930</td>\n",
       "      <td>-4129.090</td>\n",
       "      <td>-4220.581</td>\n",
       "      <td>161.598</td>\n",
       "      <td>43</td>\n",
       "    </tr>\n",
       "    <tr>\n",
       "      <th>45</th>\n",
       "      <td>0.141</td>\n",
       "      <td>0.011</td>\n",
       "      <td>0.000</td>\n",
       "      <td>0.000</td>\n",
       "      <td>1</td>\n",
       "      <td>0.900</td>\n",
       "      <td>{'alpha': 1, 'l1_ratio': 0.9}</td>\n",
       "      <td>-3464.182</td>\n",
       "      <td>-3700.770</td>\n",
       "      <td>-3293.802</td>\n",
       "      <td>-3525.841</td>\n",
       "      <td>-3445.532</td>\n",
       "      <td>-3486.025</td>\n",
       "      <td>131.733</td>\n",
       "      <td>36</td>\n",
       "    </tr>\n",
       "    <tr>\n",
       "      <th>46</th>\n",
       "      <td>0.172</td>\n",
       "      <td>0.013</td>\n",
       "      <td>0.004</td>\n",
       "      <td>0.006</td>\n",
       "      <td>1</td>\n",
       "      <td>0.950</td>\n",
       "      <td>{'alpha': 1, 'l1_ratio': 0.95}</td>\n",
       "      <td>-3155.280</td>\n",
       "      <td>-3362.879</td>\n",
       "      <td>-3004.192</td>\n",
       "      <td>-3188.733</td>\n",
       "      <td>-3157.650</td>\n",
       "      <td>-3173.747</td>\n",
       "      <td>114.319</td>\n",
       "      <td>31</td>\n",
       "    </tr>\n",
       "    <tr>\n",
       "      <th>47</th>\n",
       "      <td>0.217</td>\n",
       "      <td>0.024</td>\n",
       "      <td>0.004</td>\n",
       "      <td>0.006</td>\n",
       "      <td>1</td>\n",
       "      <td>0.990</td>\n",
       "      <td>{'alpha': 1, 'l1_ratio': 0.99}</td>\n",
       "      <td>-2724.690</td>\n",
       "      <td>-2898.321</td>\n",
       "      <td>-2658.259</td>\n",
       "      <td>-2747.869</td>\n",
       "      <td>-2767.133</td>\n",
       "      <td>-2759.254</td>\n",
       "      <td>78.646</td>\n",
       "      <td>24</td>\n",
       "    </tr>\n",
       "    <tr>\n",
       "      <th>48</th>\n",
       "      <td>0.194</td>\n",
       "      <td>0.008</td>\n",
       "      <td>0.001</td>\n",
       "      <td>0.002</td>\n",
       "      <td>1</td>\n",
       "      <td>1</td>\n",
       "      <td>{'alpha': 1, 'l1_ratio': 1}</td>\n",
       "      <td>-2453.702</td>\n",
       "      <td>-2616.060</td>\n",
       "      <td>-2471.216</td>\n",
       "      <td>-2517.874</td>\n",
       "      <td>-2504.018</td>\n",
       "      <td>-2512.574</td>\n",
       "      <td>56.546</td>\n",
       "      <td>1</td>\n",
       "    </tr>\n",
       "  </tbody>\n",
       "</table>\n",
       "</div>"
      ],
      "text/plain": [
       "    mean_fit_time  std_fit_time  mean_score_time  std_score_time param_alpha  \\\n",
       "0           0.443         0.024            0.004           0.006       0.010   \n",
       "1           0.402         0.016            0.002           0.000       0.010   \n",
       "2           0.400         0.023            0.004           0.006       0.010   \n",
       "3           0.350         0.013            0.006           0.008       0.010   \n",
       "4           0.345         0.007            0.000           0.000       0.010   \n",
       "5           0.347         0.020            0.003           0.006       0.010   \n",
       "6           0.366         0.012            0.000           0.000       0.010   \n",
       "7           0.397         0.006            0.000           0.000       0.012   \n",
       "8           0.363         0.005            0.000           0.000       0.012   \n",
       "9           0.373         0.019            0.000           0.000       0.012   \n",
       "10          0.362         0.018            0.000           0.000       0.012   \n",
       "11          0.337         0.005            0.000           0.000       0.012   \n",
       "12          0.358         0.019            0.004           0.006       0.012   \n",
       "13          0.366         0.009            0.000           0.000       0.012   \n",
       "14          0.165         0.019            0.000           0.000       0.200   \n",
       "15          0.183         0.019            0.003           0.006       0.200   \n",
       "16          0.211         0.019            0.001           0.001       0.200   \n",
       "17          0.246         0.015            0.001           0.001       0.200   \n",
       "18          0.253         0.004            0.002           0.000       0.200   \n",
       "19          0.259         0.002            0.001           0.000       0.200   \n",
       "20          0.278         0.006            0.004           0.006       0.200   \n",
       "21          0.083         0.006            0.006           0.008       0.500   \n",
       "22          0.116         0.005            0.001           0.001       0.500   \n",
       "23          0.135         0.013            0.001           0.001       0.500   \n",
       "24          0.174         0.006            0.000           0.000       0.500   \n",
       "25          0.209         0.012            0.001           0.001       0.500   \n",
       "26          0.261         0.012            0.002           0.000       0.500   \n",
       "27          0.255         0.005            0.002           0.000       0.500   \n",
       "28          0.079         0.009            0.005           0.006       0.600   \n",
       "29          0.099         0.005            0.001           0.001       0.600   \n",
       "30          0.111         0.009            0.001           0.001       0.600   \n",
       "31          0.168         0.010            0.001           0.001       0.600   \n",
       "32          0.197         0.017            0.001           0.001       0.600   \n",
       "33          0.241         0.013            0.001           0.000       0.600   \n",
       "34          0.222         0.017            0.001           0.000       0.600   \n",
       "35          0.076         0.006            0.000           0.001       0.700   \n",
       "36          0.083         0.012            0.001           0.001       0.700   \n",
       "37          0.109         0.011            0.000           0.000       0.700   \n",
       "38          0.153         0.010            0.004           0.006       0.700   \n",
       "39          0.178         0.006            0.000           0.000       0.700   \n",
       "40          0.255         0.019            0.001           0.001       0.700   \n",
       "41          0.222         0.018            0.001           0.001       0.700   \n",
       "42          0.070         0.007            0.001           0.001           1   \n",
       "43          0.075         0.011            0.005           0.006           1   \n",
       "44          0.092         0.012            0.004           0.006           1   \n",
       "45          0.141         0.011            0.000           0.000           1   \n",
       "46          0.172         0.013            0.004           0.006           1   \n",
       "47          0.217         0.024            0.004           0.006           1   \n",
       "48          0.194         0.008            0.001           0.002           1   \n",
       "\n",
       "   param_l1_ratio                              params  split0_test_score  \\\n",
       "0           0.100    {'alpha': 0.01, 'l1_ratio': 0.1}          -2703.206   \n",
       "1           0.500    {'alpha': 0.01, 'l1_ratio': 0.5}          -2618.102   \n",
       "2           0.700    {'alpha': 0.01, 'l1_ratio': 0.7}          -2561.713   \n",
       "3           0.900    {'alpha': 0.01, 'l1_ratio': 0.9}          -2487.654   \n",
       "4           0.950   {'alpha': 0.01, 'l1_ratio': 0.95}          -2467.316   \n",
       "5           0.990   {'alpha': 0.01, 'l1_ratio': 0.99}          -2457.200   \n",
       "6               1      {'alpha': 0.01, 'l1_ratio': 1}          -2458.786   \n",
       "7           0.100   {'alpha': 0.012, 'l1_ratio': 0.1}          -2734.789   \n",
       "8           0.500   {'alpha': 0.012, 'l1_ratio': 0.5}          -2642.024   \n",
       "9           0.700   {'alpha': 0.012, 'l1_ratio': 0.7}          -2580.113   \n",
       "10          0.900   {'alpha': 0.012, 'l1_ratio': 0.9}          -2495.962   \n",
       "11          0.950  {'alpha': 0.012, 'l1_ratio': 0.95}          -2471.173   \n",
       "12          0.990  {'alpha': 0.012, 'l1_ratio': 0.99}          -2457.265   \n",
       "13              1     {'alpha': 0.012, 'l1_ratio': 1}          -2458.762   \n",
       "14          0.100     {'alpha': 0.2, 'l1_ratio': 0.1}          -3799.478   \n",
       "15          0.500     {'alpha': 0.2, 'l1_ratio': 0.5}          -3461.594   \n",
       "16          0.700     {'alpha': 0.2, 'l1_ratio': 0.7}          -3225.769   \n",
       "17          0.900     {'alpha': 0.2, 'l1_ratio': 0.9}          -2865.867   \n",
       "18          0.950    {'alpha': 0.2, 'l1_ratio': 0.95}          -2721.854   \n",
       "19          0.990    {'alpha': 0.2, 'l1_ratio': 0.99}          -2527.888   \n",
       "20              1       {'alpha': 0.2, 'l1_ratio': 1}          -2457.231   \n",
       "21          0.100     {'alpha': 0.5, 'l1_ratio': 0.1}          -4509.285   \n",
       "22          0.500     {'alpha': 0.5, 'l1_ratio': 0.5}          -4027.645   \n",
       "23          0.700     {'alpha': 0.5, 'l1_ratio': 0.7}          -3686.926   \n",
       "24          0.900     {'alpha': 0.5, 'l1_ratio': 0.9}          -3153.686   \n",
       "25          0.950    {'alpha': 0.5, 'l1_ratio': 0.95}          -2925.155   \n",
       "26          0.990    {'alpha': 0.5, 'l1_ratio': 0.99}          -2620.193   \n",
       "27              1       {'alpha': 0.5, 'l1_ratio': 1}          -2455.914   \n",
       "28          0.100     {'alpha': 0.6, 'l1_ratio': 0.1}          -4676.037   \n",
       "29          0.500     {'alpha': 0.6, 'l1_ratio': 0.5}          -4167.271   \n",
       "30          0.700     {'alpha': 0.6, 'l1_ratio': 0.7}          -3800.821   \n",
       "31          0.900     {'alpha': 0.6, 'l1_ratio': 0.9}          -3227.079   \n",
       "32          0.950    {'alpha': 0.6, 'l1_ratio': 0.95}          -2978.165   \n",
       "33          0.990    {'alpha': 0.6, 'l1_ratio': 0.99}          -2644.284   \n",
       "34              1       {'alpha': 0.6, 'l1_ratio': 1}          -2455.433   \n",
       "35          0.100     {'alpha': 0.7, 'l1_ratio': 0.1}          -4821.422   \n",
       "36          0.500     {'alpha': 0.7, 'l1_ratio': 0.5}          -4292.694   \n",
       "37          0.700     {'alpha': 0.7, 'l1_ratio': 0.7}          -3904.017   \n",
       "38          0.900     {'alpha': 0.7, 'l1_ratio': 0.9}          -3293.641   \n",
       "39          0.950    {'alpha': 0.7, 'l1_ratio': 0.95}          -3027.172   \n",
       "40          0.990    {'alpha': 0.7, 'l1_ratio': 0.99}          -2666.434   \n",
       "41              1       {'alpha': 0.7, 'l1_ratio': 1}          -2454.990   \n",
       "42          0.100       {'alpha': 1, 'l1_ratio': 0.1}          -5165.954   \n",
       "43          0.500       {'alpha': 1, 'l1_ratio': 0.5}          -4606.253   \n",
       "44          0.700       {'alpha': 1, 'l1_ratio': 0.7}          -4168.639   \n",
       "45          0.900       {'alpha': 1, 'l1_ratio': 0.9}          -3464.182   \n",
       "46          0.950      {'alpha': 1, 'l1_ratio': 0.95}          -3155.280   \n",
       "47          0.990      {'alpha': 1, 'l1_ratio': 0.99}          -2724.690   \n",
       "48              1         {'alpha': 1, 'l1_ratio': 1}          -2453.702   \n",
       "\n",
       "    split1_test_score  split2_test_score  split3_test_score  \\\n",
       "0           -2876.481          -2642.576          -2727.518   \n",
       "1           -2787.135          -2583.421          -2649.949   \n",
       "2           -2729.569          -2545.025          -2601.012   \n",
       "3           -2656.105          -2494.982          -2538.753   \n",
       "4           -2636.367          -2481.120          -2520.982   \n",
       "5           -2627.888          -2474.556          -2509.375   \n",
       "6           -2630.536          -2476.561          -2508.096   \n",
       "7           -2910.130          -2665.034          -2757.363   \n",
       "8           -2811.992          -2599.883          -2671.308   \n",
       "9           -2748.183          -2557.503          -2616.778   \n",
       "10          -2664.255          -2500.617          -2545.776   \n",
       "11          -2640.054          -2483.750          -2524.486   \n",
       "12          -2627.756          -2474.513          -2509.776   \n",
       "13          -2630.500          -2476.520          -2508.111   \n",
       "14          -4073.671          -3631.205          -3898.996   \n",
       "15          -3697.442          -3290.968          -3522.247   \n",
       "16          -3438.630          -3067.160          -3263.678   \n",
       "17          -3050.777          -2762.484          -2886.266   \n",
       "18          -2896.020          -2655.806          -2745.065   \n",
       "19          -2694.976          -2522.046          -2572.948   \n",
       "20          -2627.162          -2473.445          -2509.598   \n",
       "21          -4854.936          -4367.952          -4677.193   \n",
       "22          -4327.598          -3867.143          -4152.665   \n",
       "23          -3948.231          -3516.284          -3773.501   \n",
       "24          -3360.734          -3002.359          -3186.439   \n",
       "25          -3114.604          -2809.210          -2946.765   \n",
       "26          -2788.188          -2584.966          -2651.634   \n",
       "27          -2622.517          -2471.448          -2512.359   \n",
       "28          -5034.370          -4540.745          -4854.975   \n",
       "29          -4481.852          -4012.329          -4306.384   \n",
       "30          -4075.348          -3632.699          -3900.653   \n",
       "31          -3440.354          -3068.677          -3265.527   \n",
       "32          -3171.923          -2852.268          -3001.694   \n",
       "33          -2813.296          -2601.793          -2673.390   \n",
       "34          -2621.101          -2471.140          -2513.367   \n",
       "35          -5189.537          -4690.914          -5008.456   \n",
       "36          -4619.498          -4142.824          -4443.354   \n",
       "37          -4190.365          -3739.045          -4015.652   \n",
       "38          -3512.974          -3130.342          -3337.888   \n",
       "39          -3224.628          -2893.040          -3052.792   \n",
       "40          -2836.440          -2617.215          -2693.330   \n",
       "41          -2619.762          -2470.980          -2514.536   \n",
       "42          -5552.928          -5044.814          -5367.018   \n",
       "43          -4959.558          -4468.501          -4780.863   \n",
       "44          -4483.463          -4013.785          -4307.930   \n",
       "45          -3700.770          -3293.802          -3525.841   \n",
       "46          -3362.879          -3004.192          -3188.733   \n",
       "47          -2898.321          -2658.259          -2747.869   \n",
       "48          -2616.060          -2471.216          -2517.874   \n",
       "\n",
       "    split4_test_score  mean_test_score  std_test_score  rank_test_score  \n",
       "0           -2747.738        -2739.504          77.054               22  \n",
       "1           -2669.299        -2661.581          69.222               17  \n",
       "2           -2616.093        -2610.682          64.754               15  \n",
       "3           -2543.775        -2544.254          60.287               12  \n",
       "4           -2523.562        -2525.869          59.447               10  \n",
       "5           -2514.427        -2516.689          59.561                6  \n",
       "6           -2516.442        -2518.084          59.981                9  \n",
       "7           -2776.495        -2768.762          80.110               25  \n",
       "8           -2691.530        -2683.347          71.324               19  \n",
       "9           -2633.600        -2627.235          66.123               16  \n",
       "10          -2552.034        -2551.729          60.696               13  \n",
       "11          -2527.358        -2529.364          59.577               11  \n",
       "12          -2514.375        -2516.737          59.496                7  \n",
       "13          -2516.408        -2518.060          59.977                8  \n",
       "14          -3767.576        -3834.185         147.239               38  \n",
       "15          -3443.094        -3483.069         131.493               35  \n",
       "16          -3222.496        -3243.547         118.604               32  \n",
       "17          -2894.977        -2892.074          92.422               26  \n",
       "18          -2764.670        -2756.683          78.744               23  \n",
       "19          -2583.159        -2580.203          62.215               14  \n",
       "20          -2513.483        -2516.184          59.445                5  \n",
       "21          -4465.573        -4574.988         172.029               45  \n",
       "22          -3990.489        -4073.108         156.466               41  \n",
       "23          -3658.573        -3716.703         142.313               37  \n",
       "24          -3156.149        -3171.873         114.187               30  \n",
       "25          -2948.506        -2948.848          97.508               27  \n",
       "26          -2671.065        -2663.209          68.975               18  \n",
       "27          -2509.714        -2514.390          58.277                4  \n",
       "28          -4630.560        -4747.337         176.281               47  \n",
       "29          -4127.792        -4219.126         161.515               42  \n",
       "30          -3768.873        -3835.679         147.337               39  \n",
       "31          -3223.734        -3245.074         118.699               33  \n",
       "32          -2996.401        -3000.090         101.857               28  \n",
       "33          -2693.542        -2685.261          71.061               20  \n",
       "34          -2508.439        -2513.896          57.912                3  \n",
       "35          -4774.432        -4896.952         179.559               48  \n",
       "36          -4251.480        -4349.970         165.684               44  \n",
       "37          -3869.392        -3943.694         151.658               40  \n",
       "38          -3285.471        -3312.063         122.557               34  \n",
       "39          -3040.724        -3047.671         105.564               29  \n",
       "40          -2713.786        -2705.441          73.051               21  \n",
       "41          -2507.204        -2513.494          57.557                2  \n",
       "42          -5115.228        -5249.188         185.895               49  \n",
       "43          -4561.466        -4675.328         174.607               46  \n",
       "44          -4129.090        -4220.581         161.598               43  \n",
       "45          -3445.532        -3486.025         131.733               36  \n",
       "46          -3157.650        -3173.747         114.319               31  \n",
       "47          -2767.133        -2759.254          78.646               24  \n",
       "48          -2504.018        -2512.574          56.546                1  "
      ]
     },
     "execution_count": 283,
     "metadata": {},
     "output_type": "execute_result"
    }
   ],
   "source": [
    "pd.DataFrame(grid_model.cv_results_)"
   ]
  },
  {
   "cell_type": "code",
   "execution_count": 284,
   "metadata": {},
   "outputs": [
    {
     "data": {
      "text/plain": [
       "48"
      ]
     },
     "execution_count": 284,
     "metadata": {},
     "output_type": "execute_result"
    }
   ],
   "source": [
    "grid_model.best_index_"
   ]
  },
  {
   "cell_type": "code",
   "execution_count": 285,
   "metadata": {},
   "outputs": [
    {
     "data": {
      "text/plain": [
       "-2512.5739264802205"
      ]
     },
     "execution_count": 285,
     "metadata": {},
     "output_type": "execute_result"
    }
   ],
   "source": [
    "grid_model.best_score_"
   ]
  },
  {
   "cell_type": "markdown",
   "metadata": {},
   "source": [
    "# Using Best Hyper Parameters From GridSearch"
   ]
  },
  {
   "cell_type": "code",
   "execution_count": 286,
   "metadata": {},
   "outputs": [],
   "source": [
    "y_pred = grid_model.predict(X_test_scaled)\n",
    "y_train_pred = grid_model.predict(X_train_scaled)"
   ]
  },
  {
   "cell_type": "code",
   "execution_count": 287,
   "metadata": {},
   "outputs": [
    {
     "data": {
      "text/html": [
       "<div>\n",
       "<style scoped>\n",
       "    .dataframe tbody tr th:only-of-type {\n",
       "        vertical-align: middle;\n",
       "    }\n",
       "\n",
       "    .dataframe tbody tr th {\n",
       "        vertical-align: top;\n",
       "    }\n",
       "\n",
       "    .dataframe thead th {\n",
       "        text-align: right;\n",
       "    }\n",
       "</style>\n",
       "<table border=\"1\" class=\"dataframe\">\n",
       "  <thead>\n",
       "    <tr style=\"text-align: right;\">\n",
       "      <th></th>\n",
       "      <th>GridSearch_train</th>\n",
       "      <th>GridSearch_test</th>\n",
       "    </tr>\n",
       "  </thead>\n",
       "  <tbody>\n",
       "    <tr>\n",
       "      <th>R2</th>\n",
       "      <td>0.891</td>\n",
       "      <td>0.888</td>\n",
       "    </tr>\n",
       "    <tr>\n",
       "      <th>mae</th>\n",
       "      <td>1715.261</td>\n",
       "      <td>1711.644</td>\n",
       "    </tr>\n",
       "    <tr>\n",
       "      <th>mse</th>\n",
       "      <td>6084712.267</td>\n",
       "      <td>5810496.070</td>\n",
       "    </tr>\n",
       "    <tr>\n",
       "      <th>rmse</th>\n",
       "      <td>2466.721</td>\n",
       "      <td>2410.497</td>\n",
       "    </tr>\n",
       "  </tbody>\n",
       "</table>\n",
       "</div>"
      ],
      "text/plain": [
       "      GridSearch_train  GridSearch_test\n",
       "R2               0.891            0.888\n",
       "mae           1715.261         1711.644\n",
       "mse        6084712.267      5810496.070\n",
       "rmse          2466.721         2410.497"
      ]
     },
     "execution_count": 287,
     "metadata": {},
     "output_type": "execute_result"
    }
   ],
   "source": [
    "train_val(y_train, y_train_pred, y_test, y_pred, \"GridSearch\")"
   ]
  },
  {
   "cell_type": "code",
   "execution_count": null,
   "metadata": {},
   "outputs": [],
   "source": []
  },
  {
   "cell_type": "markdown",
   "metadata": {
    "id": "sYyuZQtWmqZO"
   },
   "source": [
    "## 7. Visually Compare Models Performance In a Graph"
   ]
  },
  {
   "cell_type": "code",
   "execution_count": null,
   "metadata": {},
   "outputs": [],
   "source": []
  },
  {
   "cell_type": "markdown",
   "metadata": {},
   "source": [
    "# Feature importances with Ridge"
   ]
  },
  {
   "cell_type": "code",
   "execution_count": 288,
   "metadata": {},
   "outputs": [
    {
     "data": {
      "image/png": "[encoded data removed]",
      "text/plain": [
       "<Figure size 720x3000 with 1 Axes>"
      ]
     },
     "metadata": {},
     "output_type": "display_data"
    },
    {
     "data": {
      "text/plain": [
       "<AxesSubplot:title={'center':'Feature Importances of 133 Features using RidgeCV'}, xlabel='relative coefficient magnitude'>"
      ]
     },
     "execution_count": 288,
     "metadata": {},
     "output_type": "execute_result"
    }
   ],
   "source": [
    "from yellowbrick.model_selection import FeatureImportances\n",
    "from yellowbrick.features import RadViz\n",
    "\n",
    "viz = FeatureImportances(ridge_cv_model, labels=pd.DataFrame(X_train).columns)\n",
    "visualizer = RadViz(size=(720, 3000))\n",
    "viz.fit(X_train, y_train)\n",
    "viz.show()"
   ]
  },
  {
   "cell_type": "code",
   "execution_count": null,
   "metadata": {},
   "outputs": [],
   "source": []
  },
  {
   "cell_type": "markdown",
   "metadata": {
    "id": "_V_JsHqoe3oK"
   },
   "source": [
    "# Feature importances with Lasso"
   ]
  },
  {
   "cell_type": "code",
   "execution_count": 289,
   "metadata": {
    "id": "iig18G7zmqZO"
   },
   "outputs": [
    {
     "data": {
      "image/png": "[encoded data removed]",
      "text/plain": [
       "<Figure size 720x3000 with 1 Axes>"
      ]
     },
     "metadata": {},
     "output_type": "display_data"
    },
    {
     "data": {
      "text/plain": [
       "<AxesSubplot:title={'center':'Feature Importances of 133 Features using LassoCV'}, xlabel='relative coefficient magnitude'>"
      ]
     },
     "execution_count": 289,
     "metadata": {},
     "output_type": "execute_result"
    }
   ],
   "source": [
    "from yellowbrick.model_selection import FeatureImportances\n",
    "from yellowbrick.features import RadViz\n",
    "\n",
    "viz = FeatureImportances(lasso_cv_model, labels=pd.DataFrame(X_train).columns)\n",
    "visualizer = RadViz(size=(720, 3000))\n",
    "viz.fit(X_train, y_train)\n",
    "viz.show()"
   ]
  },
  {
   "cell_type": "markdown",
   "metadata": {
    "id": "cCy9Tv8je3oK"
   },
   "source": [
    "___\n",
    "\n",
    "<p style=\"text-align: center;\"><img src=\"https://docs.google.com/uc?id=1lY0Uj5R04yMY3-ZppPWxqCr5pvBLYPnV\" class=\"img-fluid\" alt=\"CLRSWY\"></p>\n",
    "\n",
    "___"
   ]
  },
  {
   "cell_type": "code",
   "execution_count": null,
   "metadata": {
    "id": "YiOcg9Wie3oL"
   },
   "outputs": [],
   "source": []
  }
 ],
 "metadata": {
  "colab": {
   "collapsed_sections": [],
   "name": "modeling_auto_scout_Student .ipynb",
   "provenance": []
  },
  "kernelspec": {
   "display_name": "Python 3 (ipykernel)",
   "language": "python",
   "name": "python3"
  },
  "language_info": {
   "codemirror_mode": {
    "name": "ipython",
    "version": 3
   },
   "file_extension": ".py",
   "mimetype": "text/x-python",
   "name": "python",
   "nbconvert_exporter": "python",
   "pygments_lexer": "ipython3",
   "version": "3.9.7"
  }
 },
 "nbformat": 4,
 "nbformat_minor": 1
}
