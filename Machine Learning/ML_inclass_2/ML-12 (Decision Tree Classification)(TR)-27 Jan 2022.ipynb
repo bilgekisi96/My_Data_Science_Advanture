{
 "cells": [
  {
   "cell_type": "markdown",
   "id": "04d76b20",
   "metadata": {},
   "source": [
    "## Decision Tree - Classification"
   ]
  },
  {
   "cell_type": "code",
   "execution_count": 12,
   "id": "dea88e07",
   "metadata": {},
   "outputs": [
    {
     "ename": "SyntaxError",
     "evalue": "invalid syntax (Temp/ipykernel_4156/1095747927.py, line 1)",
     "output_type": "error",
     "traceback": [
      "\u001b[1;36m  File \u001b[1;32m\"C:\\Users\\yavuz\\AppData\\Local\\Temp/ipykernel_4156/1095747927.py\"\u001b[1;36m, line \u001b[1;32m1\u001b[0m\n\u001b[1;33m    import sys, types, os;has_mfs = sys.version_info > (3, 5);p ...<rest of file>\u001b[0m\n\u001b[1;37m                                                                ^\u001b[0m\n\u001b[1;31mSyntaxError\u001b[0m\u001b[1;31m:\u001b[0m invalid syntax\n"
     ]
    }
   ],
   "source": [
    "import sys, types, os;has_mfs = sys.version_info > (3, 5);p ...<rest of file>"
   ]
  },
  {
   "cell_type": "code",
   "execution_count": 8,
   "id": "c0547581",
   "metadata": {},
   "outputs": [
    {
     "ename": "ImportError",
     "evalue": "cannot import name 'style' from 'matplotlib' (C:\\Users\\yavuz\\anaconda3\\lib\\site-packages\\matplotlib\\__init__.py)",
     "output_type": "error",
     "traceback": [
      "\u001b[1;31m---------------------------------------------------------------------------\u001b[0m",
      "\u001b[1;31mImportError\u001b[0m                               Traceback (most recent call last)",
      "\u001b[1;32m~\\AppData\\Local\\Temp/ipykernel_4156/1141383931.py\u001b[0m in \u001b[0;36m<module>\u001b[1;34m\u001b[0m\n\u001b[0;32m      1\u001b[0m \u001b[1;32mimport\u001b[0m \u001b[0mnumpy\u001b[0m \u001b[1;32mas\u001b[0m \u001b[0mnp\u001b[0m\u001b[1;33m\u001b[0m\u001b[1;33m\u001b[0m\u001b[0m\n\u001b[0;32m      2\u001b[0m \u001b[1;32mimport\u001b[0m \u001b[0mpandas\u001b[0m \u001b[1;32mas\u001b[0m \u001b[0mpd\u001b[0m\u001b[1;33m\u001b[0m\u001b[1;33m\u001b[0m\u001b[0m\n\u001b[1;32m----> 3\u001b[1;33m \u001b[1;32mimport\u001b[0m \u001b[0mmatplotlib\u001b[0m\u001b[1;33m.\u001b[0m\u001b[0mpyplot\u001b[0m \u001b[1;32mas\u001b[0m \u001b[0mplt\u001b[0m\u001b[1;33m\u001b[0m\u001b[1;33m\u001b[0m\u001b[0m\n\u001b[0m\u001b[0;32m      4\u001b[0m \u001b[1;32mimport\u001b[0m \u001b[0mseaborn\u001b[0m \u001b[1;32mas\u001b[0m \u001b[0msns\u001b[0m\u001b[1;33m\u001b[0m\u001b[1;33m\u001b[0m\u001b[0m\n\u001b[0;32m      5\u001b[0m \u001b[1;31m#plt.rcParams[\"figure.figsize\"] = (10,6)\u001b[0m\u001b[1;33m\u001b[0m\u001b[1;33m\u001b[0m\u001b[1;33m\u001b[0m\u001b[0m\n",
      "\u001b[1;32m~\\anaconda3\\lib\\site-packages\\matplotlib\\pyplot.py\u001b[0m in \u001b[0;36m<module>\u001b[1;34m\u001b[0m\n\u001b[0;32m     50\u001b[0m \u001b[1;32mimport\u001b[0m \u001b[0mmatplotlib\u001b[0m\u001b[1;33m.\u001b[0m\u001b[0mimage\u001b[0m\u001b[1;33m\u001b[0m\u001b[1;33m\u001b[0m\u001b[0m\n\u001b[0;32m     51\u001b[0m \u001b[1;32mfrom\u001b[0m \u001b[0mmatplotlib\u001b[0m \u001b[1;32mimport\u001b[0m \u001b[0m_api\u001b[0m\u001b[1;33m\u001b[0m\u001b[1;33m\u001b[0m\u001b[0m\n\u001b[1;32m---> 52\u001b[1;33m \u001b[1;32mfrom\u001b[0m \u001b[0mmatplotlib\u001b[0m \u001b[1;32mimport\u001b[0m \u001b[0mrcsetup\u001b[0m\u001b[1;33m,\u001b[0m \u001b[0mstyle\u001b[0m\u001b[1;33m\u001b[0m\u001b[1;33m\u001b[0m\u001b[0m\n\u001b[0m\u001b[0;32m     53\u001b[0m \u001b[1;32mfrom\u001b[0m \u001b[0mmatplotlib\u001b[0m \u001b[1;32mimport\u001b[0m \u001b[0m_pylab_helpers\u001b[0m\u001b[1;33m,\u001b[0m \u001b[0minteractive\u001b[0m\u001b[1;33m\u001b[0m\u001b[1;33m\u001b[0m\u001b[0m\n\u001b[0;32m     54\u001b[0m \u001b[1;32mfrom\u001b[0m \u001b[0mmatplotlib\u001b[0m \u001b[1;32mimport\u001b[0m \u001b[0mcbook\u001b[0m\u001b[1;33m\u001b[0m\u001b[1;33m\u001b[0m\u001b[0m\n",
      "\u001b[1;31mImportError\u001b[0m: cannot import name 'style' from 'matplotlib' (C:\\Users\\yavuz\\anaconda3\\lib\\site-packages\\matplotlib\\__init__.py)"
     ]
    }
   ],
   "source": [
    "import numpy as np\n",
    "import pandas as pd\n",
    "import matplotlib.pyplot as plt\n",
    "import seaborn as sns\n",
    "#plt.rcParams[\"figure.figsize\"] = (10,6)\n",
    "import warnings\n",
    "warnings.filterwarnings(\"ignore\")\n",
    "warnings.warn(\"this will not show\")"
   ]
  },
  {
   "cell_type": "code",
   "execution_count": null,
   "id": "ed41d312",
   "metadata": {},
   "outputs": [],
   "source": [
    "#pip install xgboost"
   ]
  },
  {
   "cell_type": "code",
   "execution_count": null,
   "id": "7e195827",
   "metadata": {},
   "outputs": [],
   "source": [
    "df = pd.read_csv(\"penguins_size.csv\")\n",
    "df.head()"
   ]
  },
  {
   "cell_type": "markdown",
   "id": "e2d2e801",
   "metadata": {},
   "source": [
    "## Exploratory Data Analysis and Visualization"
   ]
  },
  {
   "cell_type": "code",
   "execution_count": null,
   "id": "37f032ac",
   "metadata": {},
   "outputs": [],
   "source": [
    "df.info()"
   ]
  },
  {
   "cell_type": "code",
   "execution_count": null,
   "id": "8ee62abe",
   "metadata": {},
   "outputs": [],
   "source": [
    "df.describe()"
   ]
  },
  {
   "cell_type": "code",
   "execution_count": null,
   "id": "f9e5635e",
   "metadata": {},
   "outputs": [],
   "source": [
    "df.isnull().sum()"
   ]
  },
  {
   "cell_type": "code",
   "execution_count": null,
   "id": "c7fc3bac",
   "metadata": {},
   "outputs": [],
   "source": [
    "10/344"
   ]
  },
  {
   "cell_type": "code",
   "execution_count": null,
   "id": "3b8df0de",
   "metadata": {},
   "outputs": [],
   "source": [
    "df = df.dropna()"
   ]
  },
  {
   "cell_type": "code",
   "execution_count": null,
   "id": "63f56e83",
   "metadata": {},
   "outputs": [],
   "source": [
    "df.info()"
   ]
  },
  {
   "cell_type": "code",
   "execution_count": null,
   "id": "9030395d",
   "metadata": {},
   "outputs": [],
   "source": [
    "df.head()"
   ]
  },
  {
   "cell_type": "code",
   "execution_count": null,
   "id": "50bfe4c2",
   "metadata": {},
   "outputs": [],
   "source": [
    "df[\"sex\"].unique()"
   ]
  },
  {
   "cell_type": "code",
   "execution_count": null,
   "id": "1439d1aa",
   "metadata": {},
   "outputs": [],
   "source": [
    "df[\"island\"].unique()"
   ]
  },
  {
   "cell_type": "code",
   "execution_count": null,
   "id": "3566e417",
   "metadata": {},
   "outputs": [],
   "source": [
    "df[\"species\"].unique()"
   ]
  },
  {
   "cell_type": "code",
   "execution_count": null,
   "id": "a7c3d2ce",
   "metadata": {},
   "outputs": [],
   "source": [
    "df[df[\"sex\"]== \".\"]"
   ]
  },
  {
   "cell_type": "code",
   "execution_count": null,
   "id": "c277be2e",
   "metadata": {},
   "outputs": [],
   "source": [
    "df[df.species ==\"Gentoo\"].groupby(\"sex\").describe().T"
   ]
  },
  {
   "cell_type": "code",
   "execution_count": null,
   "id": "145fcb8c",
   "metadata": {},
   "outputs": [],
   "source": [
    "df.loc[336, \"sex\"] = \"MALE\""
   ]
  },
  {
   "cell_type": "code",
   "execution_count": null,
   "id": "5aa2d77f",
   "metadata": {},
   "outputs": [],
   "source": [
    "df.loc[336, \"sex\"]"
   ]
  },
  {
   "cell_type": "code",
   "execution_count": null,
   "id": "3ac25caa",
   "metadata": {},
   "outputs": [],
   "source": []
  },
  {
   "cell_type": "markdown",
   "id": "22ccd157",
   "metadata": {},
   "source": [
    "## Visualization"
   ]
  },
  {
   "cell_type": "code",
   "execution_count": null,
   "id": "e2ca118c",
   "metadata": {},
   "outputs": [],
   "source": [
    "df[\"species\"].value_counts()"
   ]
  },
  {
   "cell_type": "code",
   "execution_count": null,
   "id": "4b2f9e7f",
   "metadata": {},
   "outputs": [],
   "source": [
    "sns.countplot(x=\"species\", data = df);"
   ]
  },
  {
   "cell_type": "code",
   "execution_count": null,
   "id": "e1074d8b",
   "metadata": {},
   "outputs": [],
   "source": [
    "sns.catplot(x='species', data=df, kind='count',col='sex')"
   ]
  },
  {
   "cell_type": "code",
   "execution_count": null,
   "id": "1c346637",
   "metadata": {},
   "outputs": [],
   "source": [
    "plt.figure(figsize=(12,6))\n",
    "sns.pairplot(df,hue='species',palette='Dark2')"
   ]
  },
  {
   "cell_type": "code",
   "execution_count": null,
   "id": "c8cdb90c",
   "metadata": {},
   "outputs": [],
   "source": [
    "df.species.unique()"
   ]
  },
  {
   "cell_type": "code",
   "execution_count": null,
   "id": "fd1da9a3",
   "metadata": {},
   "outputs": [],
   "source": [
    "##pip install plotly"
   ]
  },
  {
   "cell_type": "code",
   "execution_count": null,
   "id": "78bad08a",
   "metadata": {},
   "outputs": [],
   "source": [
    "import plotly.express as px"
   ]
  },
  {
   "cell_type": "code",
   "execution_count": null,
   "id": "65625c4b",
   "metadata": {},
   "outputs": [],
   "source": [
    "fig = px.scatter_3d(df, \n",
    "                    x='culmen_length_mm',\n",
    "                    y='flipper_length_mm',\n",
    "                    z='culmen_depth_mm',\n",
    "                    color='species')\n",
    "fig.show();"
   ]
  },
  {
   "cell_type": "code",
   "execution_count": null,
   "id": "4889c853",
   "metadata": {},
   "outputs": [],
   "source": []
  },
  {
   "cell_type": "code",
   "execution_count": null,
   "id": "fa796d89",
   "metadata": {},
   "outputs": [],
   "source": [
    "df.select_dtypes(\"number\")  #numerik olan verileri seçiyoruz"
   ]
  },
  {
   "cell_type": "code",
   "execution_count": null,
   "id": "d9fe2cdb",
   "metadata": {},
   "outputs": [],
   "source": [
    "plt.figure(figsize=(8,6))\n",
    "sns.heatmap(df.select_dtypes(\"number\").corr(),annot=True, cmap='viridis')\n",
    "plt.title(\"Correlation Matrix\")\n",
    "\n",
    "plt.show()\n",
    "#kanat uzunluğuyla ağarlık arasında corr olduğunu seçebiliyoruz"
   ]
  },
  {
   "cell_type": "markdown",
   "id": "666d9a17",
   "metadata": {},
   "source": [
    "## Feature Engineering"
   ]
  },
  {
   "cell_type": "code",
   "execution_count": null,
   "id": "154548f2",
   "metadata": {},
   "outputs": [],
   "source": [
    "df.drop(\"species\", axis =1)  #türleri düşürüp get dummyies "
   ]
  },
  {
   "cell_type": "code",
   "execution_count": null,
   "id": "ac50fd0c",
   "metadata": {},
   "outputs": [],
   "source": [
    "pd.get_dummies(df.drop(\"species\", axis =1), drop_first =True)  #düşürüp bu şekilde sonuç aldık"
   ]
  },
  {
   "cell_type": "markdown",
   "id": "5ed63de2",
   "metadata": {},
   "source": [
    "## Train | Test Split"
   ]
  },
  {
   "cell_type": "code",
   "execution_count": null,
   "id": "004c949b",
   "metadata": {},
   "outputs": [],
   "source": [
    "X = pd.get_dummies(df.drop('species',axis=1),drop_first=True)\n",
    "y = df['species']                                          #model verilen ağırlandırdığı bir şeye bakmaz scale etmeye gerek yok"
   ]
  },
  {
   "cell_type": "code",
   "execution_count": null,
   "id": "3b2f91f5",
   "metadata": {},
   "outputs": [],
   "source": [
    "from sklearn.model_selection import train_test_split"
   ]
  },
  {
   "cell_type": "code",
   "execution_count": null,
   "id": "ac0a7033",
   "metadata": {},
   "outputs": [],
   "source": [
    "X_train, X_test, y_train, y_test = train_test_split(X, y, test_size=0.3, random_state=101)"
   ]
  },
  {
   "cell_type": "markdown",
   "id": "6aafba12",
   "metadata": {},
   "source": [
    "# Modelling - Decision Tree Classifier"
   ]
  },
  {
   "cell_type": "code",
   "execution_count": null,
   "id": "faa53ce9",
   "metadata": {},
   "outputs": [],
   "source": [
    "from sklearn.tree import DecisionTreeClassifier"
   ]
  },
  {
   "cell_type": "code",
   "execution_count": null,
   "id": "00efdad8",
   "metadata": {},
   "outputs": [],
   "source": [
    "DT_model = DecisionTreeClassifier(random_state=101)"
   ]
  },
  {
   "cell_type": "code",
   "execution_count": null,
   "id": "5473e971",
   "metadata": {},
   "outputs": [],
   "source": [
    "DT_model.fit(X_train,y_train)"
   ]
  },
  {
   "cell_type": "code",
   "execution_count": null,
   "id": "0c03cd8e",
   "metadata": {},
   "outputs": [],
   "source": [
    "y_pred = DT_model.predict(X_test)"
   ]
  },
  {
   "cell_type": "code",
   "execution_count": null,
   "id": "d1cddf42",
   "metadata": {},
   "outputs": [],
   "source": []
  },
  {
   "cell_type": "markdown",
   "id": "81dbb2c2",
   "metadata": {},
   "source": [
    "## Model Performance on Classification Tasks"
   ]
  },
  {
   "cell_type": "code",
   "execution_count": null,
   "id": "367386d6",
   "metadata": {},
   "outputs": [],
   "source": [
    "from sklearn.metrics import confusion_matrix,classification_report,plot_confusion_matrix"
   ]
  },
  {
   "cell_type": "code",
   "execution_count": null,
   "id": "c91abc68",
   "metadata": {},
   "outputs": [],
   "source": [
    "def eval_metric(model, X_train, y_train, X_test, y_test):\n",
    "    y_train_pred = model.predict(X_train)\n",
    "    y_pred = model.predict(X_test)\n",
    "    \n",
    "    print(\"Test_Set\")\n",
    "    print(confusion_matrix(y_test, y_pred))\n",
    "    print(classification_report(y_test, y_pred))\n",
    "    print()\n",
    "    print(\"Train_Set\")\n",
    "    print(confusion_matrix(y_train, y_train_pred))\n",
    "    print(classification_report(y_train, y_train_pred))"
   ]
  },
  {
   "cell_type": "code",
   "execution_count": null,
   "id": "7d0ad8ee",
   "metadata": {},
   "outputs": [],
   "source": [
    "plot_confusion_matrix(DT_model,X_test,y_test)"
   ]
  },
  {
   "cell_type": "code",
   "execution_count": null,
   "id": "e3362f1f",
   "metadata": {},
   "outputs": [],
   "source": [
    "from yellowbrick.classifier import ClassPredictionError\n",
    "\n",
    "visualizer = ClassPredictionError(DT_model)\n",
    "\n",
    "# Fit the training data to the visualizer\n",
    "visualizer.fit(X_train, y_train)\n",
    "\n",
    "# Evaluate the model on the test data\n",
    "visualizer.score(X_test, y_test)\n",
    "\n",
    "# Draw visualization\n",
    "visualizer.poof();  #yapılan hataların hangi sınıf üzerinde yapıldığını söylüyor"
   ]
  },
  {
   "cell_type": "code",
   "execution_count": null,
   "id": "dc5cabcf",
   "metadata": {},
   "outputs": [],
   "source": [
    "eval_metric(DT_model, X_train, y_train, X_test, y_test) #tres ve boostingte sıkıntı olmaz"
   ]
  },
  {
   "cell_type": "markdown",
   "id": "d1c296b7",
   "metadata": {},
   "source": [
    "## Cross Validate"
   ]
  },
  {
   "cell_type": "code",
   "execution_count": null,
   "id": "cfb3b1a1",
   "metadata": {},
   "outputs": [],
   "source": [
    "from sklearn.model_selection import cross_val_score, cross_validate\n",
    "from sklearn.metrics import accuracy_score, f1_score, recall_score, precision_score\n",
    "from sklearn.metrics import make_scorer"
   ]
  },
  {
   "cell_type": "code",
   "execution_count": null,
   "id": "545e6dcb",
   "metadata": {},
   "outputs": [],
   "source": [
    "model = DecisionTreeClassifier(max_depth=None, random_state=101)\n",
    "#tüm scorelar birbirine yakın olduğu için micro takıldık \n",
    "\n",
    "scores = cross_validate(model, X_train, y_train, scoring = [\"accuracy\", \"precision_micro\", \"recall_micro\", \"f1_micro\"], cv = 10)\n",
    "df_scores = pd.DataFrame(scores, index = range(1, 11))\n",
    "df_scores"
   ]
  },
  {
   "cell_type": "code",
   "execution_count": null,
   "id": "1c7641bd",
   "metadata": {},
   "outputs": [],
   "source": [
    "df_scores.mean()[2:] #bütün scoreler dengeliyse micro dengesizlik varda macro sayısı "
   ]
  },
  {
   "cell_type": "markdown",
   "id": "24338a55",
   "metadata": {},
   "source": [
    "## Feature Importances"
   ]
  },
  {
   "cell_type": "code",
   "execution_count": null,
   "id": "22b8071a",
   "metadata": {},
   "outputs": [],
   "source": [
    "DT_model.feature_importances_    #\n",
    "#Accuracy scorelara bakılır:\n",
    "#balance micro\n",
    "#inbalance macro\n",
    "#inbalance ama (sayısı fazla olan istersek) weighted  #targıtları doğru tahmin etmek için önemini söylüyor"
   ]
  },
  {
   "cell_type": "code",
   "execution_count": null,
   "id": "479a04d0",
   "metadata": {},
   "outputs": [],
   "source": [
    "df_f_i = pd.DataFrame(index=X.columns, data = DT_model.feature_importances_, \n",
    "                      columns = [\"Feature Importance\"]).sort_values(\"Feature Importance\")\n",
    "df_f_i  #data frame dönüştürüyoruz feature importance"
   ]
  },
  {
   "cell_type": "code",
   "execution_count": null,
   "id": "10df4e12",
   "metadata": {},
   "outputs": [],
   "source": [
    "sns.barplot(x = df_f_i.index, y = 'Feature Importance', data = df_f_i)\n",
    "plt.xticks(rotation = 90)\n",
    "plt.tight_layout()"
   ]
  },
  {
   "cell_type": "markdown",
   "id": "9c2dd5a7",
   "metadata": {},
   "source": [
    "## Drop most important feature"
   ]
  },
  {
   "cell_type": "code",
   "execution_count": null,
   "id": "710d0c0a",
   "metadata": {},
   "outputs": [],
   "source": [
    "X2 = X.drop(columns = [\"flipper_length_mm\"]) \n",
    "# The feature that weighs too much on the estimate can sometimes cause overfitting. For this reason, the most important feature can be dropped and the scores can be checked again"
   ]
  },
  {
   "cell_type": "code",
   "execution_count": null,
   "id": "06e0756e",
   "metadata": {},
   "outputs": [],
   "source": [
    "X_train2, X_test2, y_train2, y_test2 = train_test_split(X2, y, test_size=0.3, random_state=101)"
   ]
  },
  {
   "cell_type": "code",
   "execution_count": null,
   "id": "63f16a95",
   "metadata": {},
   "outputs": [],
   "source": [
    "DT2_model = DecisionTreeClassifier(random_state=101)"
   ]
  },
  {
   "cell_type": "code",
   "execution_count": null,
   "id": "dee88ab7",
   "metadata": {},
   "outputs": [],
   "source": [
    "DT2_model.fit(X_train2, y_train2) "
   ]
  },
  {
   "cell_type": "code",
   "execution_count": null,
   "id": "27ff8339",
   "metadata": {},
   "outputs": [],
   "source": [
    "eval_metric(DT2_model, X_train2, y_train2, X_test2, y_test2)"
   ]
  },
  {
   "cell_type": "code",
   "execution_count": null,
   "id": "1f1d5d40",
   "metadata": {},
   "outputs": [],
   "source": [
    "model = DecisionTreeClassifier(random_state=101)\n",
    "\n",
    "scores = cross_validate(model, X_train2, y_train2, scoring = [\"accuracy\", \"precision_micro\", \"recall_micro\", \"f1_micro\"], cv = 10)\n",
    "df_scores = pd.DataFrame(scores, index = range(1, 11))\n",
    "df_scores"
   ]
  },
  {
   "cell_type": "code",
   "execution_count": null,
   "id": "d6410b28",
   "metadata": {},
   "outputs": [],
   "source": [
    "df_scores.mean()[2:]"
   ]
  },
  {
   "cell_type": "raw",
   "id": "a226b6f2",
   "metadata": {},
   "source": [
    "test_accuracy           0.965942\n",
    "test_precision_micro    0.965942\n",
    "test_recall_micro       0.965942\n",
    "test_f1_micro           0.965942"
   ]
  },
  {
   "cell_type": "code",
   "execution_count": null,
   "id": "0abc01d3",
   "metadata": {},
   "outputs": [],
   "source": [
    "from sklearn.metrics import make_scorer"
   ]
  },
  {
   "cell_type": "code",
   "execution_count": null,
   "id": "6fed1878",
   "metadata": {},
   "outputs": [],
   "source": [
    "scoring = {'precision-Adelie': make_scorer(precision_score,  average=None, labels=[\"Adelie\"]),\n",
    "           'recall-Adelie': make_scorer(recall_score, average=None, labels =[\"Adelie\"]),\n",
    "           'f1-Adelie': make_scorer(f1_score, average=None, labels = [\"Adelie\"]),\n",
    "          \n",
    "          'precision-Chinstrap': make_scorer(precision_score,  average=None, labels=[\"Chinstrap\"]),\n",
    "          'recall-Chinstrap': make_scorer(recall_score, average=None, labels=[\"Chinstrap\"]),\n",
    "          'f1-Chinstrap': make_scorer(f1_score, average=None, labels=[\"Chinstrap\"]),\n",
    "          \n",
    "          \n",
    "          'precision-Gentoo': make_scorer(precision_score,  average=None, labels=[\"Gentoo\"]),\n",
    "          'recall-Gentoo': make_scorer(recall_score, average=None, labels = [\"Gentoo\"]),\n",
    "          'f1-Gentoo': make_scorer(f1_score, average=None, labels = [\"Gentoo\"]),\n",
    "          \n",
    "          }"
   ]
  },
  {
   "cell_type": "code",
   "execution_count": null,
   "id": "4a8fd7f1",
   "metadata": {},
   "outputs": [],
   "source": [
    "model = DecisionTreeClassifier(max_depth=None, random_state=101)\n",
    "\n",
    "scores = cross_validate(model, X_train2, y_train2, scoring = scoring, cv = 10)\n",
    "df_scores = pd.DataFrame(scores, index = range(1, 11))\n",
    "df_scores.mean()[2:]"
   ]
  },
  {
   "cell_type": "markdown",
   "id": "602ca8cf",
   "metadata": {},
   "source": [
    "## Visualize the Tree"
   ]
  },
  {
   "cell_type": "code",
   "execution_count": null,
   "id": "51b8f0aa",
   "metadata": {},
   "outputs": [],
   "source": [
    "from sklearn.tree import plot_tree"
   ]
  },
  {
   "cell_type": "code",
   "execution_count": null,
   "id": "91c4f710",
   "metadata": {},
   "outputs": [],
   "source": [
    "plt.figure(figsize=(12,8))\n",
    "plot_tree(DT_model);"
   ]
  },
  {
   "cell_type": "code",
   "execution_count": null,
   "id": "9a0956e5",
   "metadata": {},
   "outputs": [],
   "source": [
    "plt.figure(figsize=(12,8),dpi=100)\n",
    "plot_tree(DT_model, filled=True, feature_names=X.columns, class_names=df.species.unique());"
   ]
  },
  {
   "cell_type": "markdown",
   "id": "8e8d86e0",
   "metadata": {},
   "source": [
    "## Understanding Hyperparameters\n",
    "\n",
    "### Max depth, min samples split, min samples leaf"
   ]
  },
  {
   "cell_type": "code",
   "execution_count": null,
   "id": "22c41056",
   "metadata": {},
   "outputs": [],
   "source": [
    "def report_model(model):\n",
    "    model_pred = model.predict(X_test)\n",
    "    model_train_pred = model.predict(X_train)\n",
    "    print('\\n')\n",
    "    print(\"Test Set\")\n",
    "    print(confusion_matrix(y_test, model_pred))\n",
    "    print('\\n')\n",
    "    print(classification_report(y_test,model_pred))\n",
    "    print('\\n')\n",
    "    print(\"Train Set\")\n",
    "    print(confusion_matrix(y_train, model_train_pred))\n",
    "    print('\\n')\n",
    "    print(classification_report(y_train,model_train_pred))\n",
    "    plt.figure(figsize=(12,8),dpi=100)\n",
    "    plot_tree(model,filled=True, feature_names=X.columns, class_names=df.species.unique());"
   ]
  },
  {
   "cell_type": "code",
   "execution_count": null,
   "id": "d22b0e88",
   "metadata": {},
   "outputs": [],
   "source": [
    "pruned_tree = DecisionTreeClassifier(max_depth=2, random_state=101)#max_depph 2 katman ağaç olarak dallanmasını istiyoruz\n",
    "pruned_tree.fit(X_train,y_train)                                   #none olursa hiç bir hataya yer olmayana kadar dallanmaya devam et\n",
    "#eğer böylwe yaparsak overfir olur train setine hata yaptırmak istiyoruz bias eklemeliyiz\n",
    "#kırparak yapıyoruz max depth ile oynayarak bunu yapıyoruz train setinin scorunu \n",
    "#kötüleştirip test setini iyileştirmeye çalışıyoruz en fazla kullanılan max_dephtir\n",
    "#min_sample_split bölünmeye devam etmesi için gereken şart max_depth =None diyoruz \n",
    "#min_samples_leaf bir yaprağın yaprak olabilmesi için minimum kaç tane gözlem olması gerektiği\n",
    "#bu durumlar ilede "
   ]
  },
  {
   "cell_type": "code",
   "execution_count": null,
   "id": "2156d024",
   "metadata": {},
   "outputs": [],
   "source": [
    "report_model(pruned_tree,)"
   ]
  },
  {
   "cell_type": "markdown",
   "id": "c76aeb2e",
   "metadata": {},
   "source": [
    "### Max Leaf Nodes"
   ]
  },
  {
   "cell_type": "code",
   "execution_count": null,
   "id": "311a5760",
   "metadata": {},
   "outputs": [],
   "source": [
    "pruned_tree_2 = DecisionTreeClassifier(max_leaf_nodes=5, random_state=101,)#en sonda kalan yaprak sayımı ayarlıyor\n",
    "pruned_tree_2.fit(X_train,y_train)"
   ]
  },
  {
   "cell_type": "code",
   "execution_count": null,
   "id": "883e081e",
   "metadata": {},
   "outputs": [],
   "source": [
    "report_model(pruned_tree_2)"
   ]
  },
  {
   "cell_type": "markdown",
   "id": "127f8473",
   "metadata": {},
   "source": [
    "## Criterion"
   ]
  },
  {
   "cell_type": "code",
   "execution_count": null,
   "id": "a768940e",
   "metadata": {},
   "outputs": [],
   "source": [
    "entropy_tree = DecisionTreeClassifier(criterion='entropy', random_state=101,)\n",
    "entropy_tree.fit(X_train,y_train)"
   ]
  },
  {
   "cell_type": "code",
   "execution_count": null,
   "id": "5febfc23",
   "metadata": {},
   "outputs": [],
   "source": [
    "report_model(entropy_tree)"
   ]
  },
  {
   "cell_type": "markdown",
   "id": "cded33f5",
   "metadata": {},
   "source": [
    "## Max_features, Splitter"
   ]
  },
  {
   "cell_type": "code",
   "execution_count": null,
   "id": "783f6480",
   "metadata": {},
   "outputs": [],
   "source": [
    "tree = DecisionTreeClassifier(splitter = \"best\", max_features=2) # en iyi feature olarak onu seçiyor random için modelin sorduğu\n",
    "#sorular artar best içinde modeli overfite götüren özellikler arasında \n",
    "#max_feature=3 dersek 9 feature içinden  rastgele 3 seçer o featurelar içinden en iyi ayrımı seçip yapar\n",
    "#max_feature ile hepsini kullanmasını istemiyorum random olarak seçip\n",
    "tree.fit(X_train,y_train)"
   ]
  },
  {
   "cell_type": "code",
   "execution_count": null,
   "id": "4186c39c",
   "metadata": {},
   "outputs": [],
   "source": [
    "report_model(tree)"
   ]
  },
  {
   "cell_type": "markdown",
   "id": "3be114a6",
   "metadata": {},
   "source": [
    "## Find Best Parameters"
   ]
  },
  {
   "cell_type": "code",
   "execution_count": null,
   "id": "f8f3280c",
   "metadata": {},
   "outputs": [],
   "source": [
    "from sklearn.model_selection import GridSearchCV"
   ]
  },
  {
   "cell_type": "code",
   "execution_count": null,
   "id": "6aa6843a",
   "metadata": {},
   "outputs": [],
   "source": [
    "model = DecisionTreeClassifier(random_state=101)"
   ]
  },
  {
   "cell_type": "code",
   "execution_count": null,
   "id": "3538f73b",
   "metadata": {},
   "outputs": [],
   "source": [
    "param_grid = {\"splitter\":[\"best\", \"random\"],                         #auto feature karekökünü alır\n",
    "              \"max_features\":[None, \"auto\", \"log2\", 2, 3,4, 5,6, 7], #log2 tüm bunlar overfitten kaçınmak için \n",
    "              \"max_depth\": [None, 2,3, 4, 5],\n",
    "              \"min_samples_leaf\": [1, 2, 3, 4, 5, 6,7],\n",
    "              \"min_samples_split\": [2, 3, 5, 6, 7,8,9]}"
   ]
  },
  {
   "cell_type": "code",
   "execution_count": null,
   "id": "a7b4aa34",
   "metadata": {},
   "outputs": [],
   "source": [
    "grid_model = GridSearchCV(estimator=model,\n",
    "                          param_grid=param_grid,\n",
    "                          scoring='f1_micro',\n",
    "                          cv=10,\n",
    "                          n_jobs = -1)"
   ]
  },
  {
   "cell_type": "code",
   "execution_count": null,
   "id": "6e95a1ff",
   "metadata": {},
   "outputs": [],
   "source": [
    "grid_model.fit(X_train2, y_train2)"
   ]
  },
  {
   "cell_type": "code",
   "execution_count": null,
   "id": "467397aa",
   "metadata": {},
   "outputs": [],
   "source": [
    "grid_model.best_params_"
   ]
  },
  {
   "cell_type": "code",
   "execution_count": null,
   "id": "1f663e32",
   "metadata": {},
   "outputs": [],
   "source": [
    "eval_metric(DT2_model, X_train2, y_train2, X_test2, y_test2)"
   ]
  },
  {
   "cell_type": "code",
   "execution_count": null,
   "id": "f496e821",
   "metadata": {},
   "outputs": [],
   "source": []
  },
  {
   "cell_type": "code",
   "execution_count": null,
   "id": "bfd97aad",
   "metadata": {},
   "outputs": [],
   "source": [
    "print(\"yavuz\")"
   ]
  },
  {
   "cell_type": "code",
   "execution_count": null,
   "id": "de4ec224",
   "metadata": {},
   "outputs": [],
   "source": []
  }
 ],
 "metadata": {
  "kernelspec": {
   "display_name": "Python 3 (ipykernel)",
   "language": "python",
   "name": "python3"
  },
  "language_info": {
   "codemirror_mode": {
    "name": "ipython",
    "version": 3
   },
   "file_extension": ".py",
   "mimetype": "text/x-python",
   "name": "python",
   "nbconvert_exporter": "python",
   "pygments_lexer": "ipython3",
   "version": "3.8.5"
  }
 },
 "nbformat": 4,
 "nbformat_minor": 5
}
