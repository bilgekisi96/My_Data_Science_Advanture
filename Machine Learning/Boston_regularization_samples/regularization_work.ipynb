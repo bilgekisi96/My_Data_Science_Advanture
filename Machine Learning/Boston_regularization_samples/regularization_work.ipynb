{
 "cells": [
  {
   "cell_type": "code",
   "execution_count": 28,
   "id": "ce6f5420",
   "metadata": {},
   "outputs": [],
   "source": [
    "import numpy as np\n",
    "import pandas as pd\n",
    "import matplotlib.pyplot as plt\n",
    "import seaborn as sns\n",
    "from sklearn.model_selection import train_test_split\n",
    "from sklearn.preprocessing import StandardScaler\n",
    "from sklearn.linear_model import LinearRegression\n",
    "import statsmodels.api as sm\n",
    "sns.set()  #if you want to use seaborn themes with matplotlib functions\n",
    "import warnings\n",
    "warnings.filterwarnings('ignore')"
   ]
  },
  {
   "cell_type": "code",
   "execution_count": 23,
   "id": "137b38bd",
   "metadata": {},
   "outputs": [
    {
     "data": {
      "text/html": [
       "<div>\n",
       "<style scoped>\n",
       "    .dataframe tbody tr th:only-of-type {\n",
       "        vertical-align: middle;\n",
       "    }\n",
       "\n",
       "    .dataframe tbody tr th {\n",
       "        vertical-align: top;\n",
       "    }\n",
       "\n",
       "    .dataframe thead th {\n",
       "        text-align: right;\n",
       "    }\n",
       "</style>\n",
       "<table border=\"1\" class=\"dataframe\">\n",
       "  <thead>\n",
       "    <tr style=\"text-align: right;\">\n",
       "      <th></th>\n",
       "      <th>price</th>\n",
       "      <th>LSTAT</th>\n",
       "      <th>LSTAT2</th>\n",
       "      <th>LSTAT3</th>\n",
       "      <th>LSTAT4</th>\n",
       "      <th>LSTAT5</th>\n",
       "      <th>LSTAT6</th>\n",
       "      <th>LSTAT7</th>\n",
       "      <th>LSTAT8</th>\n",
       "      <th>LSTAT9</th>\n",
       "      <th>LSTAT10</th>\n",
       "    </tr>\n",
       "  </thead>\n",
       "  <tbody>\n",
       "    <tr>\n",
       "      <th>0</th>\n",
       "      <td>24.0</td>\n",
       "      <td>4.98</td>\n",
       "      <td>24.8004</td>\n",
       "      <td>123.505992</td>\n",
       "      <td>615.059840</td>\n",
       "      <td>3062.998004</td>\n",
       "      <td>15253.730060</td>\n",
       "      <td>7.596358e+04</td>\n",
       "      <td>3.782986e+05</td>\n",
       "      <td>1.883927e+06</td>\n",
       "      <td>9.381957e+06</td>\n",
       "    </tr>\n",
       "    <tr>\n",
       "      <th>1</th>\n",
       "      <td>21.6</td>\n",
       "      <td>9.14</td>\n",
       "      <td>83.5396</td>\n",
       "      <td>763.551944</td>\n",
       "      <td>6978.864768</td>\n",
       "      <td>63786.823980</td>\n",
       "      <td>583011.571200</td>\n",
       "      <td>5.328726e+06</td>\n",
       "      <td>4.870455e+07</td>\n",
       "      <td>4.451596e+08</td>\n",
       "      <td>4.068759e+09</td>\n",
       "    </tr>\n",
       "    <tr>\n",
       "      <th>2</th>\n",
       "      <td>34.7</td>\n",
       "      <td>4.03</td>\n",
       "      <td>16.2409</td>\n",
       "      <td>65.450827</td>\n",
       "      <td>263.766833</td>\n",
       "      <td>1062.980336</td>\n",
       "      <td>4283.810755</td>\n",
       "      <td>1.726376e+04</td>\n",
       "      <td>6.957294e+04</td>\n",
       "      <td>2.803790e+05</td>\n",
       "      <td>1.129927e+06</td>\n",
       "    </tr>\n",
       "    <tr>\n",
       "      <th>3</th>\n",
       "      <td>33.4</td>\n",
       "      <td>2.94</td>\n",
       "      <td>8.6436</td>\n",
       "      <td>25.412184</td>\n",
       "      <td>74.711821</td>\n",
       "      <td>219.652754</td>\n",
       "      <td>645.779096</td>\n",
       "      <td>1.898591e+03</td>\n",
       "      <td>5.581856e+03</td>\n",
       "      <td>1.641066e+04</td>\n",
       "      <td>4.824733e+04</td>\n",
       "    </tr>\n",
       "    <tr>\n",
       "      <th>4</th>\n",
       "      <td>36.2</td>\n",
       "      <td>5.33</td>\n",
       "      <td>28.4089</td>\n",
       "      <td>151.419437</td>\n",
       "      <td>807.065599</td>\n",
       "      <td>4301.659644</td>\n",
       "      <td>22927.845900</td>\n",
       "      <td>1.222054e+05</td>\n",
       "      <td>6.513549e+05</td>\n",
       "      <td>3.471722e+06</td>\n",
       "      <td>1.850428e+07</td>\n",
       "    </tr>\n",
       "  </tbody>\n",
       "</table>\n",
       "</div>"
      ],
      "text/plain": [
       "   price  LSTAT   LSTAT2      LSTAT3       LSTAT4        LSTAT5  \\\n",
       "0   24.0   4.98  24.8004  123.505992   615.059840   3062.998004   \n",
       "1   21.6   9.14  83.5396  763.551944  6978.864768  63786.823980   \n",
       "2   34.7   4.03  16.2409   65.450827   263.766833   1062.980336   \n",
       "3   33.4   2.94   8.6436   25.412184    74.711821    219.652754   \n",
       "4   36.2   5.33  28.4089  151.419437   807.065599   4301.659644   \n",
       "\n",
       "          LSTAT6        LSTAT7        LSTAT8        LSTAT9       LSTAT10  \n",
       "0   15253.730060  7.596358e+04  3.782986e+05  1.883927e+06  9.381957e+06  \n",
       "1  583011.571200  5.328726e+06  4.870455e+07  4.451596e+08  4.068759e+09  \n",
       "2    4283.810755  1.726376e+04  6.957294e+04  2.803790e+05  1.129927e+06  \n",
       "3     645.779096  1.898591e+03  5.581856e+03  1.641066e+04  4.824733e+04  \n",
       "4   22927.845900  1.222054e+05  6.513549e+05  3.471722e+06  1.850428e+07  "
      ]
     },
     "execution_count": 23,
     "metadata": {},
     "output_type": "execute_result"
    }
   ],
   "source": [
    "df=pd.read_csv(\"Regularization_boston.csv\")\n",
    "df.head()"
   ]
  },
  {
   "cell_type": "code",
   "execution_count": 24,
   "id": "d903b0ee",
   "metadata": {},
   "outputs": [
    {
     "data": {
      "text/plain": [
       "(506, 11)"
      ]
     },
     "execution_count": 24,
     "metadata": {},
     "output_type": "execute_result"
    }
   ],
   "source": [
    "df.shape"
   ]
  },
  {
   "cell_type": "code",
   "execution_count": 25,
   "id": "918fd283",
   "metadata": {},
   "outputs": [
    {
     "name": "stdout",
     "output_type": "stream",
     "text": [
      "<class 'pandas.core.frame.DataFrame'>\n",
      "RangeIndex: 506 entries, 0 to 505\n",
      "Data columns (total 11 columns):\n",
      " #   Column   Non-Null Count  Dtype  \n",
      "---  ------   --------------  -----  \n",
      " 0   price    506 non-null    float64\n",
      " 1   LSTAT    506 non-null    float64\n",
      " 2   LSTAT2   506 non-null    float64\n",
      " 3   LSTAT3   506 non-null    float64\n",
      " 4   LSTAT4   506 non-null    float64\n",
      " 5   LSTAT5   506 non-null    float64\n",
      " 6   LSTAT6   506 non-null    float64\n",
      " 7   LSTAT7   506 non-null    float64\n",
      " 8   LSTAT8   506 non-null    float64\n",
      " 9   LSTAT9   506 non-null    float64\n",
      " 10  LSTAT10  506 non-null    float64\n",
      "dtypes: float64(11)\n",
      "memory usage: 43.6 KB\n"
     ]
    }
   ],
   "source": [
    "df.info()"
   ]
  },
  {
   "cell_type": "code",
   "execution_count": 35,
   "id": "b2b56f6f",
   "metadata": {},
   "outputs": [],
   "source": [
    "sc=StandardScaler()\n",
    "sc_df=sc.fit_transform(df)\n",
    "df_sc = pd.DataFrame(sc_df, columns=df.columns)"
   ]
  },
  {
   "cell_type": "code",
   "execution_count": 36,
   "id": "2b6cc2b3",
   "metadata": {},
   "outputs": [
    {
     "data": {
      "text/html": [
       "<div>\n",
       "<style scoped>\n",
       "    .dataframe tbody tr th:only-of-type {\n",
       "        vertical-align: middle;\n",
       "    }\n",
       "\n",
       "    .dataframe tbody tr th {\n",
       "        vertical-align: top;\n",
       "    }\n",
       "\n",
       "    .dataframe thead th {\n",
       "        text-align: right;\n",
       "    }\n",
       "</style>\n",
       "<table border=\"1\" class=\"dataframe\">\n",
       "  <thead>\n",
       "    <tr style=\"text-align: right;\">\n",
       "      <th></th>\n",
       "      <th>price</th>\n",
       "      <th>LSTAT</th>\n",
       "      <th>LSTAT2</th>\n",
       "      <th>LSTAT3</th>\n",
       "      <th>LSTAT4</th>\n",
       "      <th>LSTAT5</th>\n",
       "      <th>LSTAT6</th>\n",
       "      <th>LSTAT7</th>\n",
       "      <th>LSTAT8</th>\n",
       "      <th>LSTAT9</th>\n",
       "      <th>LSTAT10</th>\n",
       "    </tr>\n",
       "  </thead>\n",
       "  <tbody>\n",
       "    <tr>\n",
       "      <th>0</th>\n",
       "      <td>0.159686</td>\n",
       "      <td>-1.075562</td>\n",
       "      <td>-0.789529</td>\n",
       "      <td>-0.568459</td>\n",
       "      <td>-0.425339</td>\n",
       "      <td>-0.334341</td>\n",
       "      <td>-0.274058</td>\n",
       "      <td>-0.231960</td>\n",
       "      <td>-0.201158</td>\n",
       "      <td>-0.177781</td>\n",
       "      <td>-0.159536</td>\n",
       "    </tr>\n",
       "    <tr>\n",
       "      <th>1</th>\n",
       "      <td>-0.101524</td>\n",
       "      <td>-0.492439</td>\n",
       "      <td>-0.540454</td>\n",
       "      <td>-0.481046</td>\n",
       "      <td>-0.398141</td>\n",
       "      <td>-0.326485</td>\n",
       "      <td>-0.271896</td>\n",
       "      <td>-0.231384</td>\n",
       "      <td>-0.201008</td>\n",
       "      <td>-0.177742</td>\n",
       "      <td>-0.159526</td>\n",
       "    </tr>\n",
       "    <tr>\n",
       "      <th>2</th>\n",
       "      <td>1.324247</td>\n",
       "      <td>-1.208727</td>\n",
       "      <td>-0.825825</td>\n",
       "      <td>-0.576388</td>\n",
       "      <td>-0.426841</td>\n",
       "      <td>-0.334599</td>\n",
       "      <td>-0.274100</td>\n",
       "      <td>-0.231966</td>\n",
       "      <td>-0.201159</td>\n",
       "      <td>-0.177781</td>\n",
       "      <td>-0.159536</td>\n",
       "    </tr>\n",
       "    <tr>\n",
       "      <th>3</th>\n",
       "      <td>1.182758</td>\n",
       "      <td>-1.361517</td>\n",
       "      <td>-0.858040</td>\n",
       "      <td>-0.581856</td>\n",
       "      <td>-0.427649</td>\n",
       "      <td>-0.334708</td>\n",
       "      <td>-0.274114</td>\n",
       "      <td>-0.231968</td>\n",
       "      <td>-0.201159</td>\n",
       "      <td>-0.177781</td>\n",
       "      <td>-0.159536</td>\n",
       "    </tr>\n",
       "    <tr>\n",
       "      <th>4</th>\n",
       "      <td>1.487503</td>\n",
       "      <td>-1.026501</td>\n",
       "      <td>-0.774228</td>\n",
       "      <td>-0.564647</td>\n",
       "      <td>-0.424519</td>\n",
       "      <td>-0.334180</td>\n",
       "      <td>-0.274029</td>\n",
       "      <td>-0.231955</td>\n",
       "      <td>-0.201157</td>\n",
       "      <td>-0.177781</td>\n",
       "      <td>-0.159536</td>\n",
       "    </tr>\n",
       "  </tbody>\n",
       "</table>\n",
       "</div>"
      ],
      "text/plain": [
       "      price     LSTAT    LSTAT2    LSTAT3    LSTAT4    LSTAT5    LSTAT6  \\\n",
       "0  0.159686 -1.075562 -0.789529 -0.568459 -0.425339 -0.334341 -0.274058   \n",
       "1 -0.101524 -0.492439 -0.540454 -0.481046 -0.398141 -0.326485 -0.271896   \n",
       "2  1.324247 -1.208727 -0.825825 -0.576388 -0.426841 -0.334599 -0.274100   \n",
       "3  1.182758 -1.361517 -0.858040 -0.581856 -0.427649 -0.334708 -0.274114   \n",
       "4  1.487503 -1.026501 -0.774228 -0.564647 -0.424519 -0.334180 -0.274029   \n",
       "\n",
       "     LSTAT7    LSTAT8    LSTAT9   LSTAT10  \n",
       "0 -0.231960 -0.201158 -0.177781 -0.159536  \n",
       "1 -0.231384 -0.201008 -0.177742 -0.159526  \n",
       "2 -0.231966 -0.201159 -0.177781 -0.159536  \n",
       "3 -0.231968 -0.201159 -0.177781 -0.159536  \n",
       "4 -0.231955 -0.201157 -0.177781 -0.159536  "
      ]
     },
     "execution_count": 36,
     "metadata": {},
     "output_type": "execute_result"
    }
   ],
   "source": [
    "Y=df_sc.price\n",
    "X=df_sc.drop([\"price\"],axis=1)\n",
    "df_sc.head()"
   ]
  },
  {
   "cell_type": "code",
   "execution_count": 32,
   "id": "672708a9",
   "metadata": {},
   "outputs": [],
   "source": [
    "X_train,X_test,Y_train,Y_test=train_test_split(X,Y,test_size=0.3,random_state=1000)"
   ]
  },
  {
   "cell_type": "code",
   "execution_count": 34,
   "id": "d5025bf1",
   "metadata": {},
   "outputs": [
    {
     "data": {
      "text/plain": [
       "354"
      ]
     },
     "execution_count": 34,
     "metadata": {},
     "output_type": "execute_result"
    }
   ],
   "source": []
  },
  {
   "cell_type": "code",
   "execution_count": null,
   "id": "7bdf43a8",
   "metadata": {},
   "outputs": [],
   "source": []
  }
 ],
 "metadata": {
  "kernelspec": {
   "display_name": "Python 3 (ipykernel)",
   "language": "python",
   "name": "python3"
  },
  "language_info": {
   "codemirror_mode": {
    "name": "ipython",
    "version": 3
   },
   "file_extension": ".py",
   "mimetype": "text/x-python",
   "name": "python",
   "nbconvert_exporter": "python",
   "pygments_lexer": "ipython3",
   "version": "3.9.7"
  }
 },
 "nbformat": 4,
 "nbformat_minor": 5
}
