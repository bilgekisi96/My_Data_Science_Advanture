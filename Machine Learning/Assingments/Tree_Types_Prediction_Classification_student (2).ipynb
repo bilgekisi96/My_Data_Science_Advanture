{
 "cells": [
  {
   "cell_type": "markdown",
   "metadata": {
    "id": "Aw04Z9dIASCz"
   },
   "source": [
    "___\n",
    "\n",
    "<p style=\"text-align: center;\"><img src=\"https://docs.google.com/uc?id=1lY0Uj5R04yMY3-ZppPWxqCr5pvBLYPnV\" class=\"img-fluid\" alt=\"CLRSWY\"></p>\n",
    "\n",
    "___"
   ]
  },
  {
   "cell_type": "markdown",
   "metadata": {
    "cell_style": "split",
    "id": "o9jfMvQRASCz"
   },
   "source": [
    "# WELCOME!"
   ]
  },
  {
   "cell_type": "markdown",
   "metadata": {
    "cell_style": "split",
    "id": "rEckIoqPASCz"
   },
   "source": [
    "In this assignment, you must apply ***EDA*** processes for the development of predictive models. Handling outliers, domain knowledge and feature engineering will be challenges. \n",
    "\n",
    "Also, this project aims to improve your ability to implement algorithms for ***Multi-Class Classification***. Thus, you will have the opportunity to implement many algorithms commonly used for Multi-Class Classification problems.\n",
    "\n",
    "Before diving into the project, please take a look at the determines and tasks."
   ]
  },
  {
   "cell_type": "markdown",
   "metadata": {
    "id": "rWUbnCOHASCz"
   },
   "source": [
    "---\n",
    "---"
   ]
  },
  {
   "cell_type": "markdown",
   "metadata": {
    "cell_style": "split",
    "id": "FxA4M_USASCz"
   },
   "source": [
    "# #Determines"
   ]
  },
  {
   "cell_type": "markdown",
   "metadata": {
    "cell_style": "split",
    "id": "AxyFkA5PASCz"
   },
   "source": [
    "Dataset contains tree observations from four areas of one national forest district. This dataset includes information on tree type, shadow coverage, distance to nearby landmarks, soil type, and local topography. The goal of the project is to build a model that predicts what types of trees grow in an area.\n",
    "***The Forest Dataset*** contains approximately 600 thousand lines, also you can easily find many information about it on the web (especially Kaggle).\n",
    "\n",
    "---\n",
    "\n",
    "To achieve high prediction success, you must understand the data well and develop different approaches that can affect the dependent variable.\n",
    "\n",
    "Firstly, try to understand the dataset column by column using pandas module. Do research within the scope of domain (forest, trees) knowledge on the internet to get to know the data set in the fastest way. \n",
    "\n",
    "You should implement cleaning, handling with outliers and missing values using Pandas, NumPy and other required modules for the best result in modeling. You should do Feature Engineering.\n",
    "\n",
    "After that, your final dataset with the new variables you have created will be ready for model building. You will implement ***Support Vector Machine, XGBoost, Random Forest, Desicion Tree*** algorithms. Also, evaluate the success of your models with appropriate performance metrics.\n",
    "\n",
    "At the end of the project, create a chart comparing the performance of all models and choose the most successful model.\n"
   ]
  },
  {
   "cell_type": "markdown",
   "metadata": {
    "id": "xdOyfC8jASCz"
   },
   "source": [
    "---\n",
    "---"
   ]
  },
  {
   "cell_type": "markdown",
   "metadata": {
    "cell_style": "split",
    "id": "m3DXc1w6ASCz"
   },
   "source": [
    "# #Tasks"
   ]
  },
  {
   "cell_type": "markdown",
   "metadata": {
    "cell_style": "split",
    "id": "UykgYK5-ASCz"
   },
   "source": [
    "#### 1. Exploratory Data Analysis (EDA)\n",
    "- Import Libraries, Load Dataset, Exploring Data\n",
    "\n",
    "    *i. Import Libraries*\n",
    "    \n",
    "    *ii. Load Dataset*\n",
    "    \n",
    "    *iii. Explore Data*\n",
    "\n",
    "#### 2.  Data Cleaning\n",
    "- Detect Missing Values and Outliers \n",
    "\n",
    "    *i. Missing Value Detection*\n",
    "    \n",
    "    *ii. Outlier Detection*\n",
    "    \n",
    "- Deal with Outliers\n",
    "    \n",
    "    *i. Drop Outliers*\n",
    "\n",
    "\n",
    "#### 3. Feature Engineering\n",
    "\n",
    "\n",
    "#### 4. Prediction (Multi-class Classification)\n",
    "- Import libraries\n",
    "- Data Preprocessing\n",
    "- Implement SVM Classifer\n",
    "- Implement Decision Tree Classifier\n",
    "- Implement Random Forest Classifer\n",
    "- Implement XGBoost Classifer\n",
    "- Compare The Models\n",
    "\n"
   ]
  },
  {
   "cell_type": "markdown",
   "metadata": {
    "id": "934v5Lm0ASCz"
   },
   "source": [
    "---\n",
    "---"
   ]
  },
  {
   "cell_type": "markdown",
   "metadata": {
    "id": "70sZDrv1ASCz"
   },
   "source": [
    "## 1. Exploratory Data Analysis"
   ]
  },
  {
   "cell_type": "markdown",
   "metadata": {
    "id": "6AZiiwrgri2o"
   },
   "source": [
    "### Import Libraries, Load Dataset, Exploring Data"
   ]
  },
  {
   "cell_type": "markdown",
   "metadata": {
    "id": "YhoTMDVLASCz"
   },
   "source": [
    "#### *i. Import Libraries*"
   ]
  },
  {
   "cell_type": "markdown",
   "metadata": {
    "id": "lKbc1uEQASCz"
   },
   "source": [
    "Besides Numpy and Pandas, you need to import the necessary modules for data visualization, data preprocessing, Model building and tuning.\n",
    "\n",
    "*Note: Check out the course materials.*"
   ]
  },
  {
   "cell_type": "code",
   "execution_count": 1,
   "metadata": {
    "id": "0ThMJSTCASCz"
   },
   "outputs": [],
   "source": [
    "import numpy as np\n",
    "import pandas as pd\n",
    "import matplotlib.pyplot as plt\n",
    "import seaborn as sns\n",
    "#plt.rcParams[\"figure.figsize\"] = (10,6)\n",
    "import warnings\n",
    "warnings.filterwarnings(\"ignore\")\n",
    "warnings.warn(\"this will not show\")"
   ]
  },
  {
   "cell_type": "markdown",
   "metadata": {
    "id": "OUxd8117ASCz"
   },
   "source": [
    "#### *ii. Load Dataset*"
   ]
  },
  {
   "cell_type": "code",
   "execution_count": 2,
   "metadata": {
    "id": "nO4IbFeNASC0",
    "outputId": "3e72ac87-7dfc-4315-9a5f-302178cf765c"
   },
   "outputs": [
    {
     "data": {
      "text/html": [
       "<div>\n",
       "<style scoped>\n",
       "    .dataframe tbody tr th:only-of-type {\n",
       "        vertical-align: middle;\n",
       "    }\n",
       "\n",
       "    .dataframe tbody tr th {\n",
       "        vertical-align: top;\n",
       "    }\n",
       "\n",
       "    .dataframe thead th {\n",
       "        text-align: right;\n",
       "    }\n",
       "</style>\n",
       "<table border=\"1\" class=\"dataframe\">\n",
       "  <thead>\n",
       "    <tr style=\"text-align: right;\">\n",
       "      <th></th>\n",
       "      <th>Elevation</th>\n",
       "      <th>Aspect</th>\n",
       "      <th>Slope</th>\n",
       "      <th>Horizontal_Distance_To_Hydrology</th>\n",
       "      <th>Vertical_Distance_To_Hydrology</th>\n",
       "      <th>Horizontal_Distance_To_Roadways</th>\n",
       "      <th>Hillshade_9am</th>\n",
       "      <th>Hillshade_Noon</th>\n",
       "      <th>Hillshade_3pm</th>\n",
       "      <th>Horizontal_Distance_To_Fire_Points</th>\n",
       "      <th>...</th>\n",
       "      <th>Soil_Type_32</th>\n",
       "      <th>Soil_Type_33</th>\n",
       "      <th>Soil_Type_34</th>\n",
       "      <th>Soil_Type_35</th>\n",
       "      <th>Soil_Type_36</th>\n",
       "      <th>Soil_Type_37</th>\n",
       "      <th>Soil_Type_38</th>\n",
       "      <th>Soil_Type_39</th>\n",
       "      <th>Soil_Type_40</th>\n",
       "      <th>Cover_Type</th>\n",
       "    </tr>\n",
       "  </thead>\n",
       "  <tbody>\n",
       "    <tr>\n",
       "      <th>0</th>\n",
       "      <td>2696</td>\n",
       "      <td>123</td>\n",
       "      <td>10</td>\n",
       "      <td>212</td>\n",
       "      <td>48</td>\n",
       "      <td>2245</td>\n",
       "      <td>237</td>\n",
       "      <td>231</td>\n",
       "      <td>123</td>\n",
       "      <td>2113</td>\n",
       "      <td>...</td>\n",
       "      <td>0</td>\n",
       "      <td>0</td>\n",
       "      <td>0</td>\n",
       "      <td>0</td>\n",
       "      <td>0</td>\n",
       "      <td>0</td>\n",
       "      <td>0</td>\n",
       "      <td>0</td>\n",
       "      <td>0</td>\n",
       "      <td>6</td>\n",
       "    </tr>\n",
       "    <tr>\n",
       "      <th>1</th>\n",
       "      <td>3269</td>\n",
       "      <td>110</td>\n",
       "      <td>19</td>\n",
       "      <td>134</td>\n",
       "      <td>40</td>\n",
       "      <td>3734</td>\n",
       "      <td>249</td>\n",
       "      <td>216</td>\n",
       "      <td>88</td>\n",
       "      <td>3960</td>\n",
       "      <td>...</td>\n",
       "      <td>0</td>\n",
       "      <td>0</td>\n",
       "      <td>0</td>\n",
       "      <td>0</td>\n",
       "      <td>0</td>\n",
       "      <td>0</td>\n",
       "      <td>1</td>\n",
       "      <td>0</td>\n",
       "      <td>0</td>\n",
       "      <td>1</td>\n",
       "    </tr>\n",
       "    <tr>\n",
       "      <th>2</th>\n",
       "      <td>3283</td>\n",
       "      <td>322</td>\n",
       "      <td>18</td>\n",
       "      <td>346</td>\n",
       "      <td>104</td>\n",
       "      <td>4369</td>\n",
       "      <td>170</td>\n",
       "      <td>217</td>\n",
       "      <td>185</td>\n",
       "      <td>1330</td>\n",
       "      <td>...</td>\n",
       "      <td>0</td>\n",
       "      <td>0</td>\n",
       "      <td>0</td>\n",
       "      <td>0</td>\n",
       "      <td>0</td>\n",
       "      <td>0</td>\n",
       "      <td>1</td>\n",
       "      <td>0</td>\n",
       "      <td>0</td>\n",
       "      <td>7</td>\n",
       "    </tr>\n",
       "    <tr>\n",
       "      <th>3</th>\n",
       "      <td>2847</td>\n",
       "      <td>89</td>\n",
       "      <td>31</td>\n",
       "      <td>270</td>\n",
       "      <td>175</td>\n",
       "      <td>1320</td>\n",
       "      <td>248</td>\n",
       "      <td>173</td>\n",
       "      <td>29</td>\n",
       "      <td>889</td>\n",
       "      <td>...</td>\n",
       "      <td>0</td>\n",
       "      <td>0</td>\n",
       "      <td>0</td>\n",
       "      <td>0</td>\n",
       "      <td>0</td>\n",
       "      <td>0</td>\n",
       "      <td>0</td>\n",
       "      <td>0</td>\n",
       "      <td>0</td>\n",
       "      <td>5</td>\n",
       "    </tr>\n",
       "    <tr>\n",
       "      <th>4</th>\n",
       "      <td>3248</td>\n",
       "      <td>93</td>\n",
       "      <td>12</td>\n",
       "      <td>507</td>\n",
       "      <td>118</td>\n",
       "      <td>570</td>\n",
       "      <td>239</td>\n",
       "      <td>221</td>\n",
       "      <td>110</td>\n",
       "      <td>945</td>\n",
       "      <td>...</td>\n",
       "      <td>0</td>\n",
       "      <td>0</td>\n",
       "      <td>0</td>\n",
       "      <td>0</td>\n",
       "      <td>0</td>\n",
       "      <td>0</td>\n",
       "      <td>0</td>\n",
       "      <td>0</td>\n",
       "      <td>0</td>\n",
       "      <td>7</td>\n",
       "    </tr>\n",
       "    <tr>\n",
       "      <th>...</th>\n",
       "      <td>...</td>\n",
       "      <td>...</td>\n",
       "      <td>...</td>\n",
       "      <td>...</td>\n",
       "      <td>...</td>\n",
       "      <td>...</td>\n",
       "      <td>...</td>\n",
       "      <td>...</td>\n",
       "      <td>...</td>\n",
       "      <td>...</td>\n",
       "      <td>...</td>\n",
       "      <td>...</td>\n",
       "      <td>...</td>\n",
       "      <td>...</td>\n",
       "      <td>...</td>\n",
       "      <td>...</td>\n",
       "      <td>...</td>\n",
       "      <td>...</td>\n",
       "      <td>...</td>\n",
       "      <td>...</td>\n",
       "      <td>...</td>\n",
       "    </tr>\n",
       "    <tr>\n",
       "      <th>249995</th>\n",
       "      <td>2112</td>\n",
       "      <td>339</td>\n",
       "      <td>39</td>\n",
       "      <td>49</td>\n",
       "      <td>17</td>\n",
       "      <td>467</td>\n",
       "      <td>107</td>\n",
       "      <td>151</td>\n",
       "      <td>162</td>\n",
       "      <td>435</td>\n",
       "      <td>...</td>\n",
       "      <td>0</td>\n",
       "      <td>0</td>\n",
       "      <td>0</td>\n",
       "      <td>0</td>\n",
       "      <td>0</td>\n",
       "      <td>0</td>\n",
       "      <td>0</td>\n",
       "      <td>0</td>\n",
       "      <td>0</td>\n",
       "      <td>3</td>\n",
       "    </tr>\n",
       "    <tr>\n",
       "      <th>249996</th>\n",
       "      <td>2872</td>\n",
       "      <td>90</td>\n",
       "      <td>31</td>\n",
       "      <td>251</td>\n",
       "      <td>147</td>\n",
       "      <td>2027</td>\n",
       "      <td>248</td>\n",
       "      <td>172</td>\n",
       "      <td>27</td>\n",
       "      <td>508</td>\n",
       "      <td>...</td>\n",
       "      <td>0</td>\n",
       "      <td>0</td>\n",
       "      <td>0</td>\n",
       "      <td>0</td>\n",
       "      <td>0</td>\n",
       "      <td>0</td>\n",
       "      <td>0</td>\n",
       "      <td>0</td>\n",
       "      <td>0</td>\n",
       "      <td>5</td>\n",
       "    </tr>\n",
       "    <tr>\n",
       "      <th>249997</th>\n",
       "      <td>2336</td>\n",
       "      <td>57</td>\n",
       "      <td>5</td>\n",
       "      <td>0</td>\n",
       "      <td>0</td>\n",
       "      <td>1429</td>\n",
       "      <td>224</td>\n",
       "      <td>228</td>\n",
       "      <td>139</td>\n",
       "      <td>387</td>\n",
       "      <td>...</td>\n",
       "      <td>0</td>\n",
       "      <td>0</td>\n",
       "      <td>0</td>\n",
       "      <td>0</td>\n",
       "      <td>0</td>\n",
       "      <td>0</td>\n",
       "      <td>0</td>\n",
       "      <td>0</td>\n",
       "      <td>0</td>\n",
       "      <td>4</td>\n",
       "    </tr>\n",
       "    <tr>\n",
       "      <th>249998</th>\n",
       "      <td>2563</td>\n",
       "      <td>181</td>\n",
       "      <td>10</td>\n",
       "      <td>0</td>\n",
       "      <td>0</td>\n",
       "      <td>1349</td>\n",
       "      <td>223</td>\n",
       "      <td>246</td>\n",
       "      <td>156</td>\n",
       "      <td>1007</td>\n",
       "      <td>...</td>\n",
       "      <td>0</td>\n",
       "      <td>0</td>\n",
       "      <td>0</td>\n",
       "      <td>0</td>\n",
       "      <td>0</td>\n",
       "      <td>0</td>\n",
       "      <td>0</td>\n",
       "      <td>0</td>\n",
       "      <td>0</td>\n",
       "      <td>5</td>\n",
       "    </tr>\n",
       "    <tr>\n",
       "      <th>249999</th>\n",
       "      <td>3720</td>\n",
       "      <td>354</td>\n",
       "      <td>17</td>\n",
       "      <td>1112</td>\n",
       "      <td>311</td>\n",
       "      <td>5105</td>\n",
       "      <td>189</td>\n",
       "      <td>208</td>\n",
       "      <td>155</td>\n",
       "      <td>3256</td>\n",
       "      <td>...</td>\n",
       "      <td>0</td>\n",
       "      <td>0</td>\n",
       "      <td>0</td>\n",
       "      <td>0</td>\n",
       "      <td>0</td>\n",
       "      <td>0</td>\n",
       "      <td>0</td>\n",
       "      <td>0</td>\n",
       "      <td>1</td>\n",
       "      <td>7</td>\n",
       "    </tr>\n",
       "  </tbody>\n",
       "</table>\n",
       "<p>250000 rows × 55 columns</p>\n",
       "</div>"
      ],
      "text/plain": [
       "        Elevation  Aspect  Slope  Horizontal_Distance_To_Hydrology  \\\n",
       "0            2696     123     10                               212   \n",
       "1            3269     110     19                               134   \n",
       "2            3283     322     18                               346   \n",
       "3            2847      89     31                               270   \n",
       "4            3248      93     12                               507   \n",
       "...           ...     ...    ...                               ...   \n",
       "249995       2112     339     39                                49   \n",
       "249996       2872      90     31                               251   \n",
       "249997       2336      57      5                                 0   \n",
       "249998       2563     181     10                                 0   \n",
       "249999       3720     354     17                              1112   \n",
       "\n",
       "        Vertical_Distance_To_Hydrology  Horizontal_Distance_To_Roadways  \\\n",
       "0                                   48                             2245   \n",
       "1                                   40                             3734   \n",
       "2                                  104                             4369   \n",
       "3                                  175                             1320   \n",
       "4                                  118                              570   \n",
       "...                                ...                              ...   \n",
       "249995                              17                              467   \n",
       "249996                             147                             2027   \n",
       "249997                               0                             1429   \n",
       "249998                               0                             1349   \n",
       "249999                             311                             5105   \n",
       "\n",
       "        Hillshade_9am  Hillshade_Noon  Hillshade_3pm  \\\n",
       "0                 237             231            123   \n",
       "1                 249             216             88   \n",
       "2                 170             217            185   \n",
       "3                 248             173             29   \n",
       "4                 239             221            110   \n",
       "...               ...             ...            ...   \n",
       "249995            107             151            162   \n",
       "249996            248             172             27   \n",
       "249997            224             228            139   \n",
       "249998            223             246            156   \n",
       "249999            189             208            155   \n",
       "\n",
       "        Horizontal_Distance_To_Fire_Points  ...  Soil_Type_32  Soil_Type_33  \\\n",
       "0                                     2113  ...             0             0   \n",
       "1                                     3960  ...             0             0   \n",
       "2                                     1330  ...             0             0   \n",
       "3                                      889  ...             0             0   \n",
       "4                                      945  ...             0             0   \n",
       "...                                    ...  ...           ...           ...   \n",
       "249995                                 435  ...             0             0   \n",
       "249996                                 508  ...             0             0   \n",
       "249997                                 387  ...             0             0   \n",
       "249998                                1007  ...             0             0   \n",
       "249999                                3256  ...             0             0   \n",
       "\n",
       "        Soil_Type_34  Soil_Type_35  Soil_Type_36  Soil_Type_37  Soil_Type_38  \\\n",
       "0                  0             0             0             0             0   \n",
       "1                  0             0             0             0             1   \n",
       "2                  0             0             0             0             1   \n",
       "3                  0             0             0             0             0   \n",
       "4                  0             0             0             0             0   \n",
       "...              ...           ...           ...           ...           ...   \n",
       "249995             0             0             0             0             0   \n",
       "249996             0             0             0             0             0   \n",
       "249997             0             0             0             0             0   \n",
       "249998             0             0             0             0             0   \n",
       "249999             0             0             0             0             0   \n",
       "\n",
       "        Soil_Type_39  Soil_Type_40  Cover_Type  \n",
       "0                  0             0           6  \n",
       "1                  0             0           1  \n",
       "2                  0             0           7  \n",
       "3                  0             0           5  \n",
       "4                  0             0           7  \n",
       "...              ...           ...         ...  \n",
       "249995             0             0           3  \n",
       "249996             0             0           5  \n",
       "249997             0             0           4  \n",
       "249998             0             0           5  \n",
       "249999             0             1           7  \n",
       "\n",
       "[250000 rows x 55 columns]"
      ]
     },
     "execution_count": 2,
     "metadata": {},
     "output_type": "execute_result"
    }
   ],
   "source": [
    "df=pd.read_csv(\"treetypes.csv\")\n",
    "df"
   ]
  },
  {
   "cell_type": "markdown",
   "metadata": {
    "id": "y8W545bnASC0"
   },
   "source": [
    "#### *iii. Explore Data*\n",
    "- Focus on numerical and categorical data\n",
    "- Detect Number of Unique values of each column\n",
    "- Focus on Target Variable (Cover_Type)\n",
    " - Detect relationships and correlations between independent variables and target variable.\n",
    " - It may be nice to visualize the class frequencies of the target variable.\n",
    "- Detect relationships and correlations between independent variables. (You can prefer to keep only one of the highly correlated continuous variables.)\n",
    "- Consider dropping features that contain little data or that you think will not contribute to the model."
   ]
  },
  {
   "cell_type": "code",
   "execution_count": 3,
   "metadata": {},
   "outputs": [
    {
     "name": "stdout",
     "output_type": "stream",
     "text": [
      "<class 'pandas.core.frame.DataFrame'>\n",
      "RangeIndex: 250000 entries, 0 to 249999\n",
      "Data columns (total 55 columns):\n",
      " #   Column                              Non-Null Count   Dtype\n",
      "---  ------                              --------------   -----\n",
      " 0   Elevation                           250000 non-null  int64\n",
      " 1   Aspect                              250000 non-null  int64\n",
      " 2   Slope                               250000 non-null  int64\n",
      " 3   Horizontal_Distance_To_Hydrology    250000 non-null  int64\n",
      " 4   Vertical_Distance_To_Hydrology      250000 non-null  int64\n",
      " 5   Horizontal_Distance_To_Roadways     250000 non-null  int64\n",
      " 6   Hillshade_9am                       250000 non-null  int64\n",
      " 7   Hillshade_Noon                      250000 non-null  int64\n",
      " 8   Hillshade_3pm                       250000 non-null  int64\n",
      " 9   Horizontal_Distance_To_Fire_Points  250000 non-null  int64\n",
      " 10  Wilderness_Area_1                   250000 non-null  int64\n",
      " 11  Wilderness_Area_2                   250000 non-null  int64\n",
      " 12  Wilderness_Area_3                   250000 non-null  int64\n",
      " 13  Wilderness_Area_4                   250000 non-null  int64\n",
      " 14  Soil_Type_1                         250000 non-null  int64\n",
      " 15  Soil_Type_2                         250000 non-null  int64\n",
      " 16  Soil_Type_3                         250000 non-null  int64\n",
      " 17  Soil_Type_4                         250000 non-null  int64\n",
      " 18  Soil_Type_5                         250000 non-null  int64\n",
      " 19  Soil_Type_6                         250000 non-null  int64\n",
      " 20  Soil_Type_7                         250000 non-null  int64\n",
      " 21  Soil_Type_8                         250000 non-null  int64\n",
      " 22  Soil_Type_9                         250000 non-null  int64\n",
      " 23  Soil_Type_10                        250000 non-null  int64\n",
      " 24  Soil_Type_11                        250000 non-null  int64\n",
      " 25  Soil_Type_12                        250000 non-null  int64\n",
      " 26  Soil_Type_13                        250000 non-null  int64\n",
      " 27  Soil_Type_14                        250000 non-null  int64\n",
      " 28  Soil_Type_15                        250000 non-null  int64\n",
      " 29  Soil_Type_16                        250000 non-null  int64\n",
      " 30  Soil_Type_17                        250000 non-null  int64\n",
      " 31  Soil_Type_18                        250000 non-null  int64\n",
      " 32  Soil_Type_19                        250000 non-null  int64\n",
      " 33  Soil_Type_20                        250000 non-null  int64\n",
      " 34  Soil_Type_21                        250000 non-null  int64\n",
      " 35  Soil_Type_22                        250000 non-null  int64\n",
      " 36  Soil_Type_23                        250000 non-null  int64\n",
      " 37  Soil_Type_24                        250000 non-null  int64\n",
      " 38  Soil_Type_25                        250000 non-null  int64\n",
      " 39  Soil_Type_26                        250000 non-null  int64\n",
      " 40  Soil_Type_27                        250000 non-null  int64\n",
      " 41  Soil_Type_28                        250000 non-null  int64\n",
      " 42  Soil_Type_29                        250000 non-null  int64\n",
      " 43  Soil_Type_30                        250000 non-null  int64\n",
      " 44  Soil_Type_31                        250000 non-null  int64\n",
      " 45  Soil_Type_32                        250000 non-null  int64\n",
      " 46  Soil_Type_33                        250000 non-null  int64\n",
      " 47  Soil_Type_34                        250000 non-null  int64\n",
      " 48  Soil_Type_35                        250000 non-null  int64\n",
      " 49  Soil_Type_36                        250000 non-null  int64\n",
      " 50  Soil_Type_37                        250000 non-null  int64\n",
      " 51  Soil_Type_38                        250000 non-null  int64\n",
      " 52  Soil_Type_39                        250000 non-null  int64\n",
      " 53  Soil_Type_40                        250000 non-null  int64\n",
      " 54  Cover_Type                          250000 non-null  int64\n",
      "dtypes: int64(55)\n",
      "memory usage: 104.9 MB\n"
     ]
    }
   ],
   "source": [
    "df.info()"
   ]
  },
  {
   "cell_type": "code",
   "execution_count": 4,
   "metadata": {
    "id": "BVE7_TsoASC0",
    "outputId": "cbe71460-519a-4509-ce9f-6785e3048d3d"
   },
   "outputs": [
    {
     "data": {
      "text/html": [
       "<div>\n",
       "<style scoped>\n",
       "    .dataframe tbody tr th:only-of-type {\n",
       "        vertical-align: middle;\n",
       "    }\n",
       "\n",
       "    .dataframe tbody tr th {\n",
       "        vertical-align: top;\n",
       "    }\n",
       "\n",
       "    .dataframe thead th {\n",
       "        text-align: right;\n",
       "    }\n",
       "</style>\n",
       "<table border=\"1\" class=\"dataframe\">\n",
       "  <thead>\n",
       "    <tr style=\"text-align: right;\">\n",
       "      <th></th>\n",
       "      <th>Elevation</th>\n",
       "      <th>Aspect</th>\n",
       "      <th>Slope</th>\n",
       "      <th>Horizontal_Distance_To_Hydrology</th>\n",
       "      <th>Vertical_Distance_To_Hydrology</th>\n",
       "      <th>Horizontal_Distance_To_Roadways</th>\n",
       "      <th>Hillshade_9am</th>\n",
       "      <th>Hillshade_Noon</th>\n",
       "      <th>Hillshade_3pm</th>\n",
       "      <th>Horizontal_Distance_To_Fire_Points</th>\n",
       "      <th>...</th>\n",
       "      <th>Soil_Type_32</th>\n",
       "      <th>Soil_Type_33</th>\n",
       "      <th>Soil_Type_34</th>\n",
       "      <th>Soil_Type_35</th>\n",
       "      <th>Soil_Type_36</th>\n",
       "      <th>Soil_Type_37</th>\n",
       "      <th>Soil_Type_38</th>\n",
       "      <th>Soil_Type_39</th>\n",
       "      <th>Soil_Type_40</th>\n",
       "      <th>Cover_Type</th>\n",
       "    </tr>\n",
       "  </thead>\n",
       "  <tbody>\n",
       "    <tr>\n",
       "      <th>count</th>\n",
       "      <td>250000.000000</td>\n",
       "      <td>250000.000000</td>\n",
       "      <td>250000.000000</td>\n",
       "      <td>250000.000000</td>\n",
       "      <td>250000.000000</td>\n",
       "      <td>250000.000000</td>\n",
       "      <td>250000.000000</td>\n",
       "      <td>250000.000000</td>\n",
       "      <td>250000.000000</td>\n",
       "      <td>250000.000000</td>\n",
       "      <td>...</td>\n",
       "      <td>250000.000000</td>\n",
       "      <td>250000.000000</td>\n",
       "      <td>250000.000000</td>\n",
       "      <td>250000.000000</td>\n",
       "      <td>250000.000000</td>\n",
       "      <td>250000.000000</td>\n",
       "      <td>250000.000000</td>\n",
       "      <td>250000.000000</td>\n",
       "      <td>250000.000000</td>\n",
       "      <td>250000.000000</td>\n",
       "    </tr>\n",
       "    <tr>\n",
       "      <th>mean</th>\n",
       "      <td>2748.505160</td>\n",
       "      <td>156.212172</td>\n",
       "      <td>16.331052</td>\n",
       "      <td>228.094032</td>\n",
       "      <td>50.897820</td>\n",
       "      <td>1719.966576</td>\n",
       "      <td>212.370488</td>\n",
       "      <td>218.510700</td>\n",
       "      <td>134.502764</td>\n",
       "      <td>1521.756904</td>\n",
       "      <td>...</td>\n",
       "      <td>0.041580</td>\n",
       "      <td>0.039880</td>\n",
       "      <td>0.001500</td>\n",
       "      <td>0.006464</td>\n",
       "      <td>0.000396</td>\n",
       "      <td>0.001852</td>\n",
       "      <td>0.046020</td>\n",
       "      <td>0.041388</td>\n",
       "      <td>0.026892</td>\n",
       "      <td>4.000320</td>\n",
       "    </tr>\n",
       "    <tr>\n",
       "      <th>std</th>\n",
       "      <td>418.300975</td>\n",
       "      <td>109.652847</td>\n",
       "      <td>8.317490</td>\n",
       "      <td>209.630153</td>\n",
       "      <td>61.006967</td>\n",
       "      <td>1330.817603</td>\n",
       "      <td>30.654582</td>\n",
       "      <td>22.680947</td>\n",
       "      <td>46.033892</td>\n",
       "      <td>1107.378373</td>\n",
       "      <td>...</td>\n",
       "      <td>0.199628</td>\n",
       "      <td>0.195678</td>\n",
       "      <td>0.038701</td>\n",
       "      <td>0.080139</td>\n",
       "      <td>0.019896</td>\n",
       "      <td>0.042995</td>\n",
       "      <td>0.209529</td>\n",
       "      <td>0.199186</td>\n",
       "      <td>0.161768</td>\n",
       "      <td>2.001108</td>\n",
       "    </tr>\n",
       "    <tr>\n",
       "      <th>min</th>\n",
       "      <td>1859.000000</td>\n",
       "      <td>0.000000</td>\n",
       "      <td>0.000000</td>\n",
       "      <td>0.000000</td>\n",
       "      <td>-163.000000</td>\n",
       "      <td>0.000000</td>\n",
       "      <td>0.000000</td>\n",
       "      <td>0.000000</td>\n",
       "      <td>0.000000</td>\n",
       "      <td>0.000000</td>\n",
       "      <td>...</td>\n",
       "      <td>0.000000</td>\n",
       "      <td>0.000000</td>\n",
       "      <td>0.000000</td>\n",
       "      <td>0.000000</td>\n",
       "      <td>0.000000</td>\n",
       "      <td>0.000000</td>\n",
       "      <td>0.000000</td>\n",
       "      <td>0.000000</td>\n",
       "      <td>0.000000</td>\n",
       "      <td>1.000000</td>\n",
       "    </tr>\n",
       "    <tr>\n",
       "      <th>25%</th>\n",
       "      <td>2375.000000</td>\n",
       "      <td>65.000000</td>\n",
       "      <td>10.000000</td>\n",
       "      <td>66.000000</td>\n",
       "      <td>5.000000</td>\n",
       "      <td>756.000000</td>\n",
       "      <td>195.000000</td>\n",
       "      <td>206.000000</td>\n",
       "      <td>106.000000</td>\n",
       "      <td>734.000000</td>\n",
       "      <td>...</td>\n",
       "      <td>0.000000</td>\n",
       "      <td>0.000000</td>\n",
       "      <td>0.000000</td>\n",
       "      <td>0.000000</td>\n",
       "      <td>0.000000</td>\n",
       "      <td>0.000000</td>\n",
       "      <td>0.000000</td>\n",
       "      <td>0.000000</td>\n",
       "      <td>0.000000</td>\n",
       "      <td>2.000000</td>\n",
       "    </tr>\n",
       "    <tr>\n",
       "      <th>50%</th>\n",
       "      <td>2753.000000</td>\n",
       "      <td>125.000000</td>\n",
       "      <td>15.000000</td>\n",
       "      <td>180.000000</td>\n",
       "      <td>32.000000</td>\n",
       "      <td>1318.000000</td>\n",
       "      <td>220.000000</td>\n",
       "      <td>222.000000</td>\n",
       "      <td>137.000000</td>\n",
       "      <td>1273.000000</td>\n",
       "      <td>...</td>\n",
       "      <td>0.000000</td>\n",
       "      <td>0.000000</td>\n",
       "      <td>0.000000</td>\n",
       "      <td>0.000000</td>\n",
       "      <td>0.000000</td>\n",
       "      <td>0.000000</td>\n",
       "      <td>0.000000</td>\n",
       "      <td>0.000000</td>\n",
       "      <td>0.000000</td>\n",
       "      <td>4.000000</td>\n",
       "    </tr>\n",
       "    <tr>\n",
       "      <th>75%</th>\n",
       "      <td>3108.000000</td>\n",
       "      <td>260.000000</td>\n",
       "      <td>22.000000</td>\n",
       "      <td>330.000000</td>\n",
       "      <td>79.000000</td>\n",
       "      <td>2294.000000</td>\n",
       "      <td>235.000000</td>\n",
       "      <td>235.000000</td>\n",
       "      <td>167.000000</td>\n",
       "      <td>1998.000000</td>\n",
       "      <td>...</td>\n",
       "      <td>0.000000</td>\n",
       "      <td>0.000000</td>\n",
       "      <td>0.000000</td>\n",
       "      <td>0.000000</td>\n",
       "      <td>0.000000</td>\n",
       "      <td>0.000000</td>\n",
       "      <td>0.000000</td>\n",
       "      <td>0.000000</td>\n",
       "      <td>0.000000</td>\n",
       "      <td>6.000000</td>\n",
       "    </tr>\n",
       "    <tr>\n",
       "      <th>max</th>\n",
       "      <td>3857.000000</td>\n",
       "      <td>360.000000</td>\n",
       "      <td>65.000000</td>\n",
       "      <td>1390.000000</td>\n",
       "      <td>598.000000</td>\n",
       "      <td>7112.000000</td>\n",
       "      <td>254.000000</td>\n",
       "      <td>254.000000</td>\n",
       "      <td>252.000000</td>\n",
       "      <td>7150.000000</td>\n",
       "      <td>...</td>\n",
       "      <td>1.000000</td>\n",
       "      <td>1.000000</td>\n",
       "      <td>1.000000</td>\n",
       "      <td>1.000000</td>\n",
       "      <td>1.000000</td>\n",
       "      <td>1.000000</td>\n",
       "      <td>1.000000</td>\n",
       "      <td>1.000000</td>\n",
       "      <td>1.000000</td>\n",
       "      <td>7.000000</td>\n",
       "    </tr>\n",
       "  </tbody>\n",
       "</table>\n",
       "<p>8 rows × 55 columns</p>\n",
       "</div>"
      ],
      "text/plain": [
       "           Elevation         Aspect          Slope  \\\n",
       "count  250000.000000  250000.000000  250000.000000   \n",
       "mean     2748.505160     156.212172      16.331052   \n",
       "std       418.300975     109.652847       8.317490   \n",
       "min      1859.000000       0.000000       0.000000   \n",
       "25%      2375.000000      65.000000      10.000000   \n",
       "50%      2753.000000     125.000000      15.000000   \n",
       "75%      3108.000000     260.000000      22.000000   \n",
       "max      3857.000000     360.000000      65.000000   \n",
       "\n",
       "       Horizontal_Distance_To_Hydrology  Vertical_Distance_To_Hydrology  \\\n",
       "count                     250000.000000                   250000.000000   \n",
       "mean                         228.094032                       50.897820   \n",
       "std                          209.630153                       61.006967   \n",
       "min                            0.000000                     -163.000000   \n",
       "25%                           66.000000                        5.000000   \n",
       "50%                          180.000000                       32.000000   \n",
       "75%                          330.000000                       79.000000   \n",
       "max                         1390.000000                      598.000000   \n",
       "\n",
       "       Horizontal_Distance_To_Roadways  Hillshade_9am  Hillshade_Noon  \\\n",
       "count                    250000.000000  250000.000000   250000.000000   \n",
       "mean                       1719.966576     212.370488      218.510700   \n",
       "std                        1330.817603      30.654582       22.680947   \n",
       "min                           0.000000       0.000000        0.000000   \n",
       "25%                         756.000000     195.000000      206.000000   \n",
       "50%                        1318.000000     220.000000      222.000000   \n",
       "75%                        2294.000000     235.000000      235.000000   \n",
       "max                        7112.000000     254.000000      254.000000   \n",
       "\n",
       "       Hillshade_3pm  Horizontal_Distance_To_Fire_Points  ...   Soil_Type_32  \\\n",
       "count  250000.000000                       250000.000000  ...  250000.000000   \n",
       "mean      134.502764                         1521.756904  ...       0.041580   \n",
       "std        46.033892                         1107.378373  ...       0.199628   \n",
       "min         0.000000                            0.000000  ...       0.000000   \n",
       "25%       106.000000                          734.000000  ...       0.000000   \n",
       "50%       137.000000                         1273.000000  ...       0.000000   \n",
       "75%       167.000000                         1998.000000  ...       0.000000   \n",
       "max       252.000000                         7150.000000  ...       1.000000   \n",
       "\n",
       "        Soil_Type_33   Soil_Type_34   Soil_Type_35   Soil_Type_36  \\\n",
       "count  250000.000000  250000.000000  250000.000000  250000.000000   \n",
       "mean        0.039880       0.001500       0.006464       0.000396   \n",
       "std         0.195678       0.038701       0.080139       0.019896   \n",
       "min         0.000000       0.000000       0.000000       0.000000   \n",
       "25%         0.000000       0.000000       0.000000       0.000000   \n",
       "50%         0.000000       0.000000       0.000000       0.000000   \n",
       "75%         0.000000       0.000000       0.000000       0.000000   \n",
       "max         1.000000       1.000000       1.000000       1.000000   \n",
       "\n",
       "        Soil_Type_37   Soil_Type_38   Soil_Type_39   Soil_Type_40  \\\n",
       "count  250000.000000  250000.000000  250000.000000  250000.000000   \n",
       "mean        0.001852       0.046020       0.041388       0.026892   \n",
       "std         0.042995       0.209529       0.199186       0.161768   \n",
       "min         0.000000       0.000000       0.000000       0.000000   \n",
       "25%         0.000000       0.000000       0.000000       0.000000   \n",
       "50%         0.000000       0.000000       0.000000       0.000000   \n",
       "75%         0.000000       0.000000       0.000000       0.000000   \n",
       "max         1.000000       1.000000       1.000000       1.000000   \n",
       "\n",
       "          Cover_Type  \n",
       "count  250000.000000  \n",
       "mean        4.000320  \n",
       "std         2.001108  \n",
       "min         1.000000  \n",
       "25%         2.000000  \n",
       "50%         4.000000  \n",
       "75%         6.000000  \n",
       "max         7.000000  \n",
       "\n",
       "[8 rows x 55 columns]"
      ]
     },
     "execution_count": 4,
     "metadata": {},
     "output_type": "execute_result"
    }
   ],
   "source": [
    "df.describe()"
   ]
  },
  {
   "cell_type": "code",
   "execution_count": 5,
   "metadata": {},
   "outputs": [
    {
     "data": {
      "text/plain": [
       "(247479, 55)"
      ]
     },
     "execution_count": 5,
     "metadata": {},
     "output_type": "execute_result"
    }
   ],
   "source": [
    "df=df.drop_duplicates()\n",
    "df.shape"
   ]
  },
  {
   "cell_type": "code",
   "execution_count": 6,
   "metadata": {},
   "outputs": [
    {
     "data": {
      "text/plain": [
       "1    35835\n",
       "2    35780\n",
       "5    35514\n",
       "7    35481\n",
       "6    35430\n",
       "3    35273\n",
       "4    34166\n",
       "Name: Cover_Type, dtype: int64"
      ]
     },
     "execution_count": 6,
     "metadata": {},
     "output_type": "execute_result"
    }
   ],
   "source": [
    "df.Cover_Type.value_counts()"
   ]
  },
  {
   "cell_type": "markdown",
   "metadata": {
    "id": "fQeP_Dhtri3v"
   },
   "source": [
    "***\n",
    "***"
   ]
  },
  {
   "cell_type": "markdown",
   "metadata": {
    "id": "kdwJqW45ASC0"
   },
   "source": [
    "## 2.  Data Cleaning"
   ]
  },
  {
   "cell_type": "markdown",
   "metadata": {
    "id": "h95eEjnEASC0"
   },
   "source": [
    "### Detect Missing Values and Outliers"
   ]
  },
  {
   "cell_type": "markdown",
   "metadata": {
    "id": "TNvbnTdnASC0"
   },
   "source": [
    "#### *i. Missing Value Detection*"
   ]
  },
  {
   "cell_type": "code",
   "execution_count": 7,
   "metadata": {
    "id": "VkLpnVcvASC0",
    "outputId": "d78bb4cb-7c66-4b98-b3eb-df199d0b6a28"
   },
   "outputs": [
    {
     "data": {
      "text/plain": [
       "Elevation                             0\n",
       "Aspect                                0\n",
       "Slope                                 0\n",
       "Horizontal_Distance_To_Hydrology      0\n",
       "Vertical_Distance_To_Hydrology        0\n",
       "Horizontal_Distance_To_Roadways       0\n",
       "Hillshade_9am                         0\n",
       "Hillshade_Noon                        0\n",
       "Hillshade_3pm                         0\n",
       "Horizontal_Distance_To_Fire_Points    0\n",
       "Wilderness_Area_1                     0\n",
       "Wilderness_Area_2                     0\n",
       "Wilderness_Area_3                     0\n",
       "Wilderness_Area_4                     0\n",
       "Soil_Type_1                           0\n",
       "Soil_Type_2                           0\n",
       "Soil_Type_3                           0\n",
       "Soil_Type_4                           0\n",
       "Soil_Type_5                           0\n",
       "Soil_Type_6                           0\n",
       "Soil_Type_7                           0\n",
       "Soil_Type_8                           0\n",
       "Soil_Type_9                           0\n",
       "Soil_Type_10                          0\n",
       "Soil_Type_11                          0\n",
       "Soil_Type_12                          0\n",
       "Soil_Type_13                          0\n",
       "Soil_Type_14                          0\n",
       "Soil_Type_15                          0\n",
       "Soil_Type_16                          0\n",
       "Soil_Type_17                          0\n",
       "Soil_Type_18                          0\n",
       "Soil_Type_19                          0\n",
       "Soil_Type_20                          0\n",
       "Soil_Type_21                          0\n",
       "Soil_Type_22                          0\n",
       "Soil_Type_23                          0\n",
       "Soil_Type_24                          0\n",
       "Soil_Type_25                          0\n",
       "Soil_Type_26                          0\n",
       "Soil_Type_27                          0\n",
       "Soil_Type_28                          0\n",
       "Soil_Type_29                          0\n",
       "Soil_Type_30                          0\n",
       "Soil_Type_31                          0\n",
       "Soil_Type_32                          0\n",
       "Soil_Type_33                          0\n",
       "Soil_Type_34                          0\n",
       "Soil_Type_35                          0\n",
       "Soil_Type_36                          0\n",
       "Soil_Type_37                          0\n",
       "Soil_Type_38                          0\n",
       "Soil_Type_39                          0\n",
       "Soil_Type_40                          0\n",
       "Cover_Type                            0\n",
       "dtype: int64"
      ]
     },
     "execution_count": 7,
     "metadata": {},
     "output_type": "execute_result"
    }
   ],
   "source": [
    "df.isnull().sum()"
   ]
  },
  {
   "cell_type": "markdown",
   "metadata": {
    "id": "AdTLXhWeASC0"
   },
   "source": [
    "#### *ii. Outlier Detection*\n",
    "\n",
    "The columns which have continuous value should be examined in terms of [outliers](https://datascience.foundation/sciencewhitepaper/knowing-all-about-outliers-in-machine-learning) (Watch out for columns that look like continuous but not continuous!). Some algorithms are [sensitive to outliers](https://arsrinevetha.medium.com/ml-algorithms-sensitivity-towards-outliers-f3862a13c94d), but some algorithms can tolerate them. You can decide to outlier detection according to the algorithm you will use.\n",
    "- You can check the outliers shape of continous features with respect to the target (Cover_Type) classes.\n",
    "- You can check how many outliers are there of each continuous variables.\n",
    "- The columns which have continuous value should be examined in terms of outliers.\n",
    "- You can define a function to detect outliers in accordance with the ``zscore`` or ``IQR``."
   ]
  },
  {
   "cell_type": "code",
   "execution_count": 8,
   "metadata": {},
   "outputs": [
    {
     "data": {
      "text/plain": [
       "array([[1983,  361,   59, 1294,  578],\n",
       "       [6501,  207,  165,  253, 6487],\n",
       "       [   2,    2,    2,    2,    2],\n",
       "       [   2,    2,    2,    2,    2],\n",
       "       [   2,    2,    2,    2,    2],\n",
       "       [   2,    2,    2,    2,    2],\n",
       "       [   2,    2,    2,    2,    2],\n",
       "       [   2,    2,    2,    2,    2],\n",
       "       [   2,    2,    2,    2,    2],\n",
       "       [   2,    2,    2,    2,    2],\n",
       "       [   2,    2,    2,    2,    7]])"
      ]
     },
     "execution_count": 8,
     "metadata": {},
     "output_type": "execute_result"
    }
   ],
   "source": [
    "np.array([len(df[i].value_counts()) for i in df.columns]).reshape(11,5)\n"
   ]
  },
  {
   "cell_type": "code",
   "execution_count": 9,
   "metadata": {},
   "outputs": [
    {
     "data": {
      "text/html": [
       "<div>\n",
       "<style scoped>\n",
       "    .dataframe tbody tr th:only-of-type {\n",
       "        vertical-align: middle;\n",
       "    }\n",
       "\n",
       "    .dataframe tbody tr th {\n",
       "        vertical-align: top;\n",
       "    }\n",
       "\n",
       "    .dataframe thead th {\n",
       "        text-align: right;\n",
       "    }\n",
       "</style>\n",
       "<table border=\"1\" class=\"dataframe\">\n",
       "  <thead>\n",
       "    <tr style=\"text-align: right;\">\n",
       "      <th></th>\n",
       "      <th>Elevation</th>\n",
       "      <th>Aspect</th>\n",
       "      <th>Slope</th>\n",
       "      <th>Horizontal_Distance_To_Hydrology</th>\n",
       "      <th>Vertical_Distance_To_Hydrology</th>\n",
       "      <th>Horizontal_Distance_To_Roadways</th>\n",
       "      <th>Hillshade_9am</th>\n",
       "      <th>Hillshade_Noon</th>\n",
       "      <th>Hillshade_3pm</th>\n",
       "      <th>Horizontal_Distance_To_Fire_Points</th>\n",
       "    </tr>\n",
       "  </thead>\n",
       "  <tbody>\n",
       "    <tr>\n",
       "      <th>0</th>\n",
       "      <td>2696</td>\n",
       "      <td>123</td>\n",
       "      <td>10</td>\n",
       "      <td>212</td>\n",
       "      <td>48</td>\n",
       "      <td>2245</td>\n",
       "      <td>237</td>\n",
       "      <td>231</td>\n",
       "      <td>123</td>\n",
       "      <td>2113</td>\n",
       "    </tr>\n",
       "    <tr>\n",
       "      <th>1</th>\n",
       "      <td>3269</td>\n",
       "      <td>110</td>\n",
       "      <td>19</td>\n",
       "      <td>134</td>\n",
       "      <td>40</td>\n",
       "      <td>3734</td>\n",
       "      <td>249</td>\n",
       "      <td>216</td>\n",
       "      <td>88</td>\n",
       "      <td>3960</td>\n",
       "    </tr>\n",
       "    <tr>\n",
       "      <th>2</th>\n",
       "      <td>3283</td>\n",
       "      <td>322</td>\n",
       "      <td>18</td>\n",
       "      <td>346</td>\n",
       "      <td>104</td>\n",
       "      <td>4369</td>\n",
       "      <td>170</td>\n",
       "      <td>217</td>\n",
       "      <td>185</td>\n",
       "      <td>1330</td>\n",
       "    </tr>\n",
       "    <tr>\n",
       "      <th>3</th>\n",
       "      <td>2847</td>\n",
       "      <td>89</td>\n",
       "      <td>31</td>\n",
       "      <td>270</td>\n",
       "      <td>175</td>\n",
       "      <td>1320</td>\n",
       "      <td>248</td>\n",
       "      <td>173</td>\n",
       "      <td>29</td>\n",
       "      <td>889</td>\n",
       "    </tr>\n",
       "    <tr>\n",
       "      <th>4</th>\n",
       "      <td>3248</td>\n",
       "      <td>93</td>\n",
       "      <td>12</td>\n",
       "      <td>507</td>\n",
       "      <td>118</td>\n",
       "      <td>570</td>\n",
       "      <td>239</td>\n",
       "      <td>221</td>\n",
       "      <td>110</td>\n",
       "      <td>945</td>\n",
       "    </tr>\n",
       "    <tr>\n",
       "      <th>...</th>\n",
       "      <td>...</td>\n",
       "      <td>...</td>\n",
       "      <td>...</td>\n",
       "      <td>...</td>\n",
       "      <td>...</td>\n",
       "      <td>...</td>\n",
       "      <td>...</td>\n",
       "      <td>...</td>\n",
       "      <td>...</td>\n",
       "      <td>...</td>\n",
       "    </tr>\n",
       "    <tr>\n",
       "      <th>249995</th>\n",
       "      <td>2112</td>\n",
       "      <td>339</td>\n",
       "      <td>39</td>\n",
       "      <td>49</td>\n",
       "      <td>17</td>\n",
       "      <td>467</td>\n",
       "      <td>107</td>\n",
       "      <td>151</td>\n",
       "      <td>162</td>\n",
       "      <td>435</td>\n",
       "    </tr>\n",
       "    <tr>\n",
       "      <th>249996</th>\n",
       "      <td>2872</td>\n",
       "      <td>90</td>\n",
       "      <td>31</td>\n",
       "      <td>251</td>\n",
       "      <td>147</td>\n",
       "      <td>2027</td>\n",
       "      <td>248</td>\n",
       "      <td>172</td>\n",
       "      <td>27</td>\n",
       "      <td>508</td>\n",
       "    </tr>\n",
       "    <tr>\n",
       "      <th>249997</th>\n",
       "      <td>2336</td>\n",
       "      <td>57</td>\n",
       "      <td>5</td>\n",
       "      <td>0</td>\n",
       "      <td>0</td>\n",
       "      <td>1429</td>\n",
       "      <td>224</td>\n",
       "      <td>228</td>\n",
       "      <td>139</td>\n",
       "      <td>387</td>\n",
       "    </tr>\n",
       "    <tr>\n",
       "      <th>249998</th>\n",
       "      <td>2563</td>\n",
       "      <td>181</td>\n",
       "      <td>10</td>\n",
       "      <td>0</td>\n",
       "      <td>0</td>\n",
       "      <td>1349</td>\n",
       "      <td>223</td>\n",
       "      <td>246</td>\n",
       "      <td>156</td>\n",
       "      <td>1007</td>\n",
       "    </tr>\n",
       "    <tr>\n",
       "      <th>249999</th>\n",
       "      <td>3720</td>\n",
       "      <td>354</td>\n",
       "      <td>17</td>\n",
       "      <td>1112</td>\n",
       "      <td>311</td>\n",
       "      <td>5105</td>\n",
       "      <td>189</td>\n",
       "      <td>208</td>\n",
       "      <td>155</td>\n",
       "      <td>3256</td>\n",
       "    </tr>\n",
       "  </tbody>\n",
       "</table>\n",
       "<p>247479 rows × 10 columns</p>\n",
       "</div>"
      ],
      "text/plain": [
       "        Elevation  Aspect  Slope  Horizontal_Distance_To_Hydrology  \\\n",
       "0            2696     123     10                               212   \n",
       "1            3269     110     19                               134   \n",
       "2            3283     322     18                               346   \n",
       "3            2847      89     31                               270   \n",
       "4            3248      93     12                               507   \n",
       "...           ...     ...    ...                               ...   \n",
       "249995       2112     339     39                                49   \n",
       "249996       2872      90     31                               251   \n",
       "249997       2336      57      5                                 0   \n",
       "249998       2563     181     10                                 0   \n",
       "249999       3720     354     17                              1112   \n",
       "\n",
       "        Vertical_Distance_To_Hydrology  Horizontal_Distance_To_Roadways  \\\n",
       "0                                   48                             2245   \n",
       "1                                   40                             3734   \n",
       "2                                  104                             4369   \n",
       "3                                  175                             1320   \n",
       "4                                  118                              570   \n",
       "...                                ...                              ...   \n",
       "249995                              17                              467   \n",
       "249996                             147                             2027   \n",
       "249997                               0                             1429   \n",
       "249998                               0                             1349   \n",
       "249999                             311                             5105   \n",
       "\n",
       "        Hillshade_9am  Hillshade_Noon  Hillshade_3pm  \\\n",
       "0                 237             231            123   \n",
       "1                 249             216             88   \n",
       "2                 170             217            185   \n",
       "3                 248             173             29   \n",
       "4                 239             221            110   \n",
       "...               ...             ...            ...   \n",
       "249995            107             151            162   \n",
       "249996            248             172             27   \n",
       "249997            224             228            139   \n",
       "249998            223             246            156   \n",
       "249999            189             208            155   \n",
       "\n",
       "        Horizontal_Distance_To_Fire_Points  \n",
       "0                                     2113  \n",
       "1                                     3960  \n",
       "2                                     1330  \n",
       "3                                      889  \n",
       "4                                      945  \n",
       "...                                    ...  \n",
       "249995                                 435  \n",
       "249996                                 508  \n",
       "249997                                 387  \n",
       "249998                                1007  \n",
       "249999                                3256  \n",
       "\n",
       "[247479 rows x 10 columns]"
      ]
     },
     "execution_count": 9,
     "metadata": {},
     "output_type": "execute_result"
    }
   ],
   "source": [
    "df.iloc[:,0:10]"
   ]
  },
  {
   "cell_type": "code",
   "execution_count": 10,
   "metadata": {},
   "outputs": [
    {
     "data": {
      "text/plain": [
       "array([[247479, 247479, 247476, 246717, 246523],\n",
       "       [247469, 247401, 247285, 247479, 245145],\n",
       "       [188191, 239161, 247479, 247479, 242959],\n",
       "       [238607, 233428, 235884, 245241, 238306],\n",
       "       [247464, 247456, 247326, 216203, 241634],\n",
       "       [243545, 239546, 245939, 247478, 246335],\n",
       "       [240038, 246609, 246763, 245589, 247322],\n",
       "       [241978, 235635, 243635, 247421, 246695],\n",
       "       [247268, 247330, 226377, 235862, 242501],\n",
       "       [237112, 237549, 247106, 245873, 247380],\n",
       "       [247020, 236033, 237187, 240781, 247479]])"
      ]
     },
     "execution_count": 10,
     "metadata": {},
     "output_type": "execute_result"
    }
   ],
   "source": [
    "liste=[]\n",
    "for i in df.columns:\n",
    "    whisker_width=3\n",
    "    col=df[i]\n",
    "    q1 = col.quantile(0.25)                 \n",
    "    q3 = col.quantile(0.75)\n",
    "    iqr = q3 - q1\n",
    "    # Apply filter with respect to IQR, including optional whiskers\n",
    "    filt = ((col >= q1 - whisker_width*iqr) & (col <= q3 + whisker_width*iqr))\n",
    "    liste.append(df.loc[filt].shape[0])\n",
    "np.array(liste).reshape(11,5)"
   ]
  },
  {
   "cell_type": "code",
   "execution_count": null,
   "metadata": {},
   "outputs": [],
   "source": []
  },
  {
   "cell_type": "markdown",
   "metadata": {
    "id": "2cj4fc_jASC0",
    "outputId": "9c055feb-840f-4a12-c8be-632f77488157",
    "scrolled": true
   },
   "source": []
  },
  {
   "cell_type": "markdown",
   "metadata": {
    "id": "ax0-S9b6ri3I"
   },
   "source": [
    "### Deal with Outliers"
   ]
  },
  {
   "cell_type": "markdown",
   "metadata": {
    "id": "XfVCLwHlASC0"
   },
   "source": [
    "#### *ii. Drop Outliers*"
   ]
  },
  {
   "cell_type": "code",
   "execution_count": 11,
   "metadata": {
    "scrolled": false
   },
   "outputs": [
    {
     "name": "stdout",
     "output_type": "stream",
     "text": [
      "['Elevation', 'Aspect', 'Slope', 'Horizontal_Distance_To_Hydrology', 'Vertical_Distance_To_Hydrology', 'Horizontal_Distance_To_Roadways', 'Hillshade_9am', 'Hillshade_Noon', 'Hillshade_3pm', 'Horizontal_Distance_To_Fire_Points']\n"
     ]
    }
   ],
   "source": [
    "# to get list of continious features\n",
    "numeric = []\n",
    "\n",
    "for col in df.columns:\n",
    "    if df[col].nunique() > 7 : numeric.append(col)\n",
    "print(numeric)"
   ]
  },
  {
   "cell_type": "code",
   "execution_count": 12,
   "metadata": {},
   "outputs": [
    {
     "data": {
      "image/png": "[encoded data removed]",
      "text/plain": [
       "<Figure size 1080x1080 with 10 Axes>"
      ]
     },
     "metadata": {
      "needs_background": "light"
     },
     "output_type": "display_data"
    }
   ],
   "source": [
    "fig , ax = plt.subplots(5,2,figsize=(15,15))\n",
    "counter = 0\n",
    "for i in range(5):\n",
    "    for x in range(2):\n",
    "        sns.boxplot(y = df[numeric[counter]] , x = df[\"Cover_Type\"], ax=ax[i,x])\n",
    "        counter +=1"
   ]
  },
  {
   "cell_type": "code",
   "execution_count": null,
   "metadata": {},
   "outputs": [],
   "source": []
  },
  {
   "cell_type": "markdown",
   "metadata": {
    "id": "il9xamPwzEUv"
   },
   "source": [
    "### Now, let's take a closer look at correlation of continuous columns."
   ]
  },
  {
   "cell_type": "code",
   "execution_count": 13,
   "metadata": {},
   "outputs": [
    {
     "data": {
      "text/plain": [
       "<AxesSubplot:>"
      ]
     },
     "execution_count": 13,
     "metadata": {},
     "output_type": "execute_result"
    },
    {
     "data": {
      "image/png": "[encoded data removed]",
      "text/plain": [
       "<Figure size 1080x1080 with 2 Axes>"
      ]
     },
     "metadata": {
      "needs_background": "light"
     },
     "output_type": "display_data"
    }
   ],
   "source": [
    "plt.figure(figsize=(15,15))\n",
    "sns.heatmap(df.iloc[:,0:10].corr(),annot=True)"
   ]
  },
  {
   "cell_type": "code",
   "execution_count": 14,
   "metadata": {},
   "outputs": [],
   "source": [
    "lst = ['Elevation', 'Aspect', 'Slope', 'Horizontal_Distance_To_Hydrology', 'Vertical_Distance_To_Hydrology', \n",
    "            'Horizontal_Distance_To_Roadways', 'Hillshade_9am', 'Hillshade_Noon', 'Hillshade_3pm', 'Horizontal_Distance_To_Fire_Points']"
   ]
  },
  {
   "cell_type": "code",
   "execution_count": 15,
   "metadata": {},
   "outputs": [
    {
     "data": {
      "text/html": [
       "<div>\n",
       "<style scoped>\n",
       "    .dataframe tbody tr th:only-of-type {\n",
       "        vertical-align: middle;\n",
       "    }\n",
       "\n",
       "    .dataframe tbody tr th {\n",
       "        vertical-align: top;\n",
       "    }\n",
       "\n",
       "    .dataframe thead th {\n",
       "        text-align: right;\n",
       "    }\n",
       "</style>\n",
       "<table border=\"1\" class=\"dataframe\">\n",
       "  <thead>\n",
       "    <tr style=\"text-align: right;\">\n",
       "      <th></th>\n",
       "      <th>Elevation</th>\n",
       "      <th>Aspect</th>\n",
       "      <th>Slope</th>\n",
       "      <th>Horizontal_Distance_To_Hydrology</th>\n",
       "      <th>Vertical_Distance_To_Hydrology</th>\n",
       "      <th>Horizontal_Distance_To_Roadways</th>\n",
       "      <th>Hillshade_9am</th>\n",
       "      <th>Hillshade_Noon</th>\n",
       "      <th>Hillshade_3pm</th>\n",
       "      <th>Horizontal_Distance_To_Fire_Points</th>\n",
       "      <th>...</th>\n",
       "      <th>Soil_Type_32</th>\n",
       "      <th>Soil_Type_33</th>\n",
       "      <th>Soil_Type_34</th>\n",
       "      <th>Soil_Type_35</th>\n",
       "      <th>Soil_Type_36</th>\n",
       "      <th>Soil_Type_37</th>\n",
       "      <th>Soil_Type_38</th>\n",
       "      <th>Soil_Type_39</th>\n",
       "      <th>Soil_Type_40</th>\n",
       "      <th>Cover_Type</th>\n",
       "    </tr>\n",
       "  </thead>\n",
       "  <tbody>\n",
       "    <tr>\n",
       "      <th>0</th>\n",
       "      <td>2696</td>\n",
       "      <td>123</td>\n",
       "      <td>10</td>\n",
       "      <td>212</td>\n",
       "      <td>48</td>\n",
       "      <td>2245</td>\n",
       "      <td>237</td>\n",
       "      <td>231</td>\n",
       "      <td>123</td>\n",
       "      <td>2113</td>\n",
       "      <td>...</td>\n",
       "      <td>0</td>\n",
       "      <td>0</td>\n",
       "      <td>0</td>\n",
       "      <td>0</td>\n",
       "      <td>0</td>\n",
       "      <td>0</td>\n",
       "      <td>0</td>\n",
       "      <td>0</td>\n",
       "      <td>0</td>\n",
       "      <td>6</td>\n",
       "    </tr>\n",
       "    <tr>\n",
       "      <th>1</th>\n",
       "      <td>3269</td>\n",
       "      <td>110</td>\n",
       "      <td>19</td>\n",
       "      <td>134</td>\n",
       "      <td>40</td>\n",
       "      <td>3734</td>\n",
       "      <td>249</td>\n",
       "      <td>216</td>\n",
       "      <td>88</td>\n",
       "      <td>3960</td>\n",
       "      <td>...</td>\n",
       "      <td>0</td>\n",
       "      <td>0</td>\n",
       "      <td>0</td>\n",
       "      <td>0</td>\n",
       "      <td>0</td>\n",
       "      <td>0</td>\n",
       "      <td>1</td>\n",
       "      <td>0</td>\n",
       "      <td>0</td>\n",
       "      <td>1</td>\n",
       "    </tr>\n",
       "    <tr>\n",
       "      <th>2</th>\n",
       "      <td>3283</td>\n",
       "      <td>322</td>\n",
       "      <td>18</td>\n",
       "      <td>346</td>\n",
       "      <td>104</td>\n",
       "      <td>4369</td>\n",
       "      <td>170</td>\n",
       "      <td>217</td>\n",
       "      <td>185</td>\n",
       "      <td>1330</td>\n",
       "      <td>...</td>\n",
       "      <td>0</td>\n",
       "      <td>0</td>\n",
       "      <td>0</td>\n",
       "      <td>0</td>\n",
       "      <td>0</td>\n",
       "      <td>0</td>\n",
       "      <td>1</td>\n",
       "      <td>0</td>\n",
       "      <td>0</td>\n",
       "      <td>7</td>\n",
       "    </tr>\n",
       "    <tr>\n",
       "      <th>3</th>\n",
       "      <td>2847</td>\n",
       "      <td>89</td>\n",
       "      <td>31</td>\n",
       "      <td>270</td>\n",
       "      <td>175</td>\n",
       "      <td>1320</td>\n",
       "      <td>248</td>\n",
       "      <td>173</td>\n",
       "      <td>29</td>\n",
       "      <td>889</td>\n",
       "      <td>...</td>\n",
       "      <td>0</td>\n",
       "      <td>0</td>\n",
       "      <td>0</td>\n",
       "      <td>0</td>\n",
       "      <td>0</td>\n",
       "      <td>0</td>\n",
       "      <td>0</td>\n",
       "      <td>0</td>\n",
       "      <td>0</td>\n",
       "      <td>5</td>\n",
       "    </tr>\n",
       "    <tr>\n",
       "      <th>4</th>\n",
       "      <td>3248</td>\n",
       "      <td>93</td>\n",
       "      <td>12</td>\n",
       "      <td>507</td>\n",
       "      <td>118</td>\n",
       "      <td>570</td>\n",
       "      <td>239</td>\n",
       "      <td>221</td>\n",
       "      <td>110</td>\n",
       "      <td>945</td>\n",
       "      <td>...</td>\n",
       "      <td>0</td>\n",
       "      <td>0</td>\n",
       "      <td>0</td>\n",
       "      <td>0</td>\n",
       "      <td>0</td>\n",
       "      <td>0</td>\n",
       "      <td>0</td>\n",
       "      <td>0</td>\n",
       "      <td>0</td>\n",
       "      <td>7</td>\n",
       "    </tr>\n",
       "    <tr>\n",
       "      <th>...</th>\n",
       "      <td>...</td>\n",
       "      <td>...</td>\n",
       "      <td>...</td>\n",
       "      <td>...</td>\n",
       "      <td>...</td>\n",
       "      <td>...</td>\n",
       "      <td>...</td>\n",
       "      <td>...</td>\n",
       "      <td>...</td>\n",
       "      <td>...</td>\n",
       "      <td>...</td>\n",
       "      <td>...</td>\n",
       "      <td>...</td>\n",
       "      <td>...</td>\n",
       "      <td>...</td>\n",
       "      <td>...</td>\n",
       "      <td>...</td>\n",
       "      <td>...</td>\n",
       "      <td>...</td>\n",
       "      <td>...</td>\n",
       "      <td>...</td>\n",
       "    </tr>\n",
       "    <tr>\n",
       "      <th>249995</th>\n",
       "      <td>2112</td>\n",
       "      <td>339</td>\n",
       "      <td>39</td>\n",
       "      <td>49</td>\n",
       "      <td>17</td>\n",
       "      <td>467</td>\n",
       "      <td>107</td>\n",
       "      <td>151</td>\n",
       "      <td>162</td>\n",
       "      <td>435</td>\n",
       "      <td>...</td>\n",
       "      <td>0</td>\n",
       "      <td>0</td>\n",
       "      <td>0</td>\n",
       "      <td>0</td>\n",
       "      <td>0</td>\n",
       "      <td>0</td>\n",
       "      <td>0</td>\n",
       "      <td>0</td>\n",
       "      <td>0</td>\n",
       "      <td>3</td>\n",
       "    </tr>\n",
       "    <tr>\n",
       "      <th>249996</th>\n",
       "      <td>2872</td>\n",
       "      <td>90</td>\n",
       "      <td>31</td>\n",
       "      <td>251</td>\n",
       "      <td>147</td>\n",
       "      <td>2027</td>\n",
       "      <td>248</td>\n",
       "      <td>172</td>\n",
       "      <td>27</td>\n",
       "      <td>508</td>\n",
       "      <td>...</td>\n",
       "      <td>0</td>\n",
       "      <td>0</td>\n",
       "      <td>0</td>\n",
       "      <td>0</td>\n",
       "      <td>0</td>\n",
       "      <td>0</td>\n",
       "      <td>0</td>\n",
       "      <td>0</td>\n",
       "      <td>0</td>\n",
       "      <td>5</td>\n",
       "    </tr>\n",
       "    <tr>\n",
       "      <th>249997</th>\n",
       "      <td>2336</td>\n",
       "      <td>57</td>\n",
       "      <td>5</td>\n",
       "      <td>0</td>\n",
       "      <td>0</td>\n",
       "      <td>1429</td>\n",
       "      <td>224</td>\n",
       "      <td>228</td>\n",
       "      <td>139</td>\n",
       "      <td>387</td>\n",
       "      <td>...</td>\n",
       "      <td>0</td>\n",
       "      <td>0</td>\n",
       "      <td>0</td>\n",
       "      <td>0</td>\n",
       "      <td>0</td>\n",
       "      <td>0</td>\n",
       "      <td>0</td>\n",
       "      <td>0</td>\n",
       "      <td>0</td>\n",
       "      <td>4</td>\n",
       "    </tr>\n",
       "    <tr>\n",
       "      <th>249998</th>\n",
       "      <td>2563</td>\n",
       "      <td>181</td>\n",
       "      <td>10</td>\n",
       "      <td>0</td>\n",
       "      <td>0</td>\n",
       "      <td>1349</td>\n",
       "      <td>223</td>\n",
       "      <td>246</td>\n",
       "      <td>156</td>\n",
       "      <td>1007</td>\n",
       "      <td>...</td>\n",
       "      <td>0</td>\n",
       "      <td>0</td>\n",
       "      <td>0</td>\n",
       "      <td>0</td>\n",
       "      <td>0</td>\n",
       "      <td>0</td>\n",
       "      <td>0</td>\n",
       "      <td>0</td>\n",
       "      <td>0</td>\n",
       "      <td>5</td>\n",
       "    </tr>\n",
       "    <tr>\n",
       "      <th>249999</th>\n",
       "      <td>3720</td>\n",
       "      <td>354</td>\n",
       "      <td>17</td>\n",
       "      <td>1112</td>\n",
       "      <td>311</td>\n",
       "      <td>5105</td>\n",
       "      <td>189</td>\n",
       "      <td>208</td>\n",
       "      <td>155</td>\n",
       "      <td>3256</td>\n",
       "      <td>...</td>\n",
       "      <td>0</td>\n",
       "      <td>0</td>\n",
       "      <td>0</td>\n",
       "      <td>0</td>\n",
       "      <td>0</td>\n",
       "      <td>0</td>\n",
       "      <td>0</td>\n",
       "      <td>0</td>\n",
       "      <td>1</td>\n",
       "      <td>7</td>\n",
       "    </tr>\n",
       "  </tbody>\n",
       "</table>\n",
       "<p>247479 rows × 55 columns</p>\n",
       "</div>"
      ],
      "text/plain": [
       "        Elevation  Aspect  Slope  Horizontal_Distance_To_Hydrology  \\\n",
       "0            2696     123     10                               212   \n",
       "1            3269     110     19                               134   \n",
       "2            3283     322     18                               346   \n",
       "3            2847      89     31                               270   \n",
       "4            3248      93     12                               507   \n",
       "...           ...     ...    ...                               ...   \n",
       "249995       2112     339     39                                49   \n",
       "249996       2872      90     31                               251   \n",
       "249997       2336      57      5                                 0   \n",
       "249998       2563     181     10                                 0   \n",
       "249999       3720     354     17                              1112   \n",
       "\n",
       "        Vertical_Distance_To_Hydrology  Horizontal_Distance_To_Roadways  \\\n",
       "0                                   48                             2245   \n",
       "1                                   40                             3734   \n",
       "2                                  104                             4369   \n",
       "3                                  175                             1320   \n",
       "4                                  118                              570   \n",
       "...                                ...                              ...   \n",
       "249995                              17                              467   \n",
       "249996                             147                             2027   \n",
       "249997                               0                             1429   \n",
       "249998                               0                             1349   \n",
       "249999                             311                             5105   \n",
       "\n",
       "        Hillshade_9am  Hillshade_Noon  Hillshade_3pm  \\\n",
       "0                 237             231            123   \n",
       "1                 249             216             88   \n",
       "2                 170             217            185   \n",
       "3                 248             173             29   \n",
       "4                 239             221            110   \n",
       "...               ...             ...            ...   \n",
       "249995            107             151            162   \n",
       "249996            248             172             27   \n",
       "249997            224             228            139   \n",
       "249998            223             246            156   \n",
       "249999            189             208            155   \n",
       "\n",
       "        Horizontal_Distance_To_Fire_Points  ...  Soil_Type_32  Soil_Type_33  \\\n",
       "0                                     2113  ...             0             0   \n",
       "1                                     3960  ...             0             0   \n",
       "2                                     1330  ...             0             0   \n",
       "3                                      889  ...             0             0   \n",
       "4                                      945  ...             0             0   \n",
       "...                                    ...  ...           ...           ...   \n",
       "249995                                 435  ...             0             0   \n",
       "249996                                 508  ...             0             0   \n",
       "249997                                 387  ...             0             0   \n",
       "249998                                1007  ...             0             0   \n",
       "249999                                3256  ...             0             0   \n",
       "\n",
       "        Soil_Type_34  Soil_Type_35  Soil_Type_36  Soil_Type_37  Soil_Type_38  \\\n",
       "0                  0             0             0             0             0   \n",
       "1                  0             0             0             0             1   \n",
       "2                  0             0             0             0             1   \n",
       "3                  0             0             0             0             0   \n",
       "4                  0             0             0             0             0   \n",
       "...              ...           ...           ...           ...           ...   \n",
       "249995             0             0             0             0             0   \n",
       "249996             0             0             0             0             0   \n",
       "249997             0             0             0             0             0   \n",
       "249998             0             0             0             0             0   \n",
       "249999             0             0             0             0             0   \n",
       "\n",
       "        Soil_Type_39  Soil_Type_40  Cover_Type  \n",
       "0                  0             0           6  \n",
       "1                  0             0           1  \n",
       "2                  0             0           7  \n",
       "3                  0             0           5  \n",
       "4                  0             0           7  \n",
       "...              ...           ...         ...  \n",
       "249995             0             0           3  \n",
       "249996             0             0           5  \n",
       "249997             0             0           4  \n",
       "249998             0             0           5  \n",
       "249999             0             1           7  \n",
       "\n",
       "[247479 rows x 55 columns]"
      ]
     },
     "execution_count": 15,
     "metadata": {},
     "output_type": "execute_result"
    }
   ],
   "source": [
    "df"
   ]
  },
  {
   "cell_type": "code",
   "execution_count": 16,
   "metadata": {},
   "outputs": [],
   "source": [
    "def outlier_report(df, cols, whisker=1.5):\n",
    "    res = {}\n",
    "    for col in cols:\n",
    "        iqr = np.quantile(df[col],[.25,.75])[1] - np.quantile(df[col],[.25,.75])[0]\n",
    "        lower_limit = np.quantile(df[col],[.25,.75])[0]- iqr*whisker \n",
    "        upper_limit = np.quantile(df[col],[.25,.75])[1]+iqr*whisker\n",
    "        num = len([c for c in df[col].to_list() if (c<lower_limit or c>upper_limit)])\n",
    "        if num > 0:res[col]={\"lower_limit\":lower_limit, \"upper_limit\":upper_limit, \"iqr\": iqr, \"# of outliers\":num}\n",
    "    return pd.DataFrame(res).T\n",
    "res = outlier_report(df, lst)"
   ]
  },
  {
   "cell_type": "code",
   "execution_count": 17,
   "metadata": {},
   "outputs": [
    {
     "data": {
      "text/html": [
       "<div>\n",
       "<style scoped>\n",
       "    .dataframe tbody tr th:only-of-type {\n",
       "        vertical-align: middle;\n",
       "    }\n",
       "\n",
       "    .dataframe tbody tr th {\n",
       "        vertical-align: top;\n",
       "    }\n",
       "\n",
       "    .dataframe thead th {\n",
       "        text-align: right;\n",
       "    }\n",
       "</style>\n",
       "<table border=\"1\" class=\"dataframe\">\n",
       "  <thead>\n",
       "    <tr style=\"text-align: right;\">\n",
       "      <th></th>\n",
       "      <th>lower_limit</th>\n",
       "      <th>upper_limit</th>\n",
       "      <th>iqr</th>\n",
       "      <th># of outliers</th>\n",
       "    </tr>\n",
       "  </thead>\n",
       "  <tbody>\n",
       "    <tr>\n",
       "      <th>Slope</th>\n",
       "      <td>-8.0</td>\n",
       "      <td>40.0</td>\n",
       "      <td>12.0</td>\n",
       "      <td>845.0</td>\n",
       "    </tr>\n",
       "    <tr>\n",
       "      <th>Horizontal_Distance_To_Hydrology</th>\n",
       "      <td>-327.5</td>\n",
       "      <td>724.5</td>\n",
       "      <td>263.0</td>\n",
       "      <td>8196.0</td>\n",
       "    </tr>\n",
       "    <tr>\n",
       "      <th>Vertical_Distance_To_Hydrology</th>\n",
       "      <td>-106.0</td>\n",
       "      <td>190.0</td>\n",
       "      <td>74.0</td>\n",
       "      <td>9140.0</td>\n",
       "    </tr>\n",
       "    <tr>\n",
       "      <th>Horizontal_Distance_To_Roadways</th>\n",
       "      <td>-1560.0</td>\n",
       "      <td>4624.0</td>\n",
       "      <td>1546.0</td>\n",
       "      <td>12511.0</td>\n",
       "    </tr>\n",
       "    <tr>\n",
       "      <th>Hillshade_9am</th>\n",
       "      <td>135.0</td>\n",
       "      <td>295.0</td>\n",
       "      <td>40.0</td>\n",
       "      <td>5610.0</td>\n",
       "    </tr>\n",
       "    <tr>\n",
       "      <th>Hillshade_Noon</th>\n",
       "      <td>162.5</td>\n",
       "      <td>278.5</td>\n",
       "      <td>29.0</td>\n",
       "      <td>5865.0</td>\n",
       "    </tr>\n",
       "    <tr>\n",
       "      <th>Hillshade_3pm</th>\n",
       "      <td>14.5</td>\n",
       "      <td>258.5</td>\n",
       "      <td>61.0</td>\n",
       "      <td>2146.0</td>\n",
       "    </tr>\n",
       "    <tr>\n",
       "      <th>Horizontal_Distance_To_Fire_Points</th>\n",
       "      <td>-1167.5</td>\n",
       "      <td>3908.5</td>\n",
       "      <td>1269.0</td>\n",
       "      <td>10375.0</td>\n",
       "    </tr>\n",
       "  </tbody>\n",
       "</table>\n",
       "</div>"
      ],
      "text/plain": [
       "                                    lower_limit  upper_limit     iqr  \\\n",
       "Slope                                      -8.0         40.0    12.0   \n",
       "Horizontal_Distance_To_Hydrology         -327.5        724.5   263.0   \n",
       "Vertical_Distance_To_Hydrology           -106.0        190.0    74.0   \n",
       "Horizontal_Distance_To_Roadways         -1560.0       4624.0  1546.0   \n",
       "Hillshade_9am                             135.0        295.0    40.0   \n",
       "Hillshade_Noon                            162.5        278.5    29.0   \n",
       "Hillshade_3pm                              14.5        258.5    61.0   \n",
       "Horizontal_Distance_To_Fire_Points      -1167.5       3908.5  1269.0   \n",
       "\n",
       "                                    # of outliers  \n",
       "Slope                                       845.0  \n",
       "Horizontal_Distance_To_Hydrology           8196.0  \n",
       "Vertical_Distance_To_Hydrology             9140.0  \n",
       "Horizontal_Distance_To_Roadways           12511.0  \n",
       "Hillshade_9am                              5610.0  \n",
       "Hillshade_Noon                             5865.0  \n",
       "Hillshade_3pm                              2146.0  \n",
       "Horizontal_Distance_To_Fire_Points        10375.0  "
      ]
     },
     "execution_count": 17,
     "metadata": {},
     "output_type": "execute_result"
    }
   ],
   "source": [
    "res"
   ]
  },
  {
   "cell_type": "code",
   "execution_count": 18,
   "metadata": {},
   "outputs": [],
   "source": [
    "df1=df.copy()\n",
    "for col in res.index:\n",
    "    # print(res.loc[col][\"lower_limit\"], res.loc[col][\"upper_limit\"])\n",
    "    df1=df1[(df1[col] >= res.loc[col][\"lower_limit\"]) & (df1[col] <= res.loc[col][\"upper_limit\"])]"
   ]
  },
  {
   "cell_type": "code",
   "execution_count": 19,
   "metadata": {},
   "outputs": [
    {
     "data": {
      "text/plain": [
       "((247479, 55), (203046, 55), 44433)"
      ]
     },
     "execution_count": 19,
     "metadata": {},
     "output_type": "execute_result"
    }
   ],
   "source": [
    "df.shape, df1.shape, df.shape[0]- df1.shape[0]"
   ]
  },
  {
   "cell_type": "code",
   "execution_count": 20,
   "metadata": {},
   "outputs": [
    {
     "data": {
      "image/png": "[encoded data removed]",
      "text/plain": [
       "<Figure size 1440x1440 with 10 Axes>"
      ]
     },
     "metadata": {
      "needs_background": "light"
     },
     "output_type": "display_data"
    }
   ],
   "source": [
    "plt.figure(figsize=(20,20))\n",
    "for i,col in enumerate(lst,1):\n",
    "    plt.subplot(5,2,i)\n",
    "    plt.title(col)\n",
    "    sns.boxplot(y=df1[col], x=df[\"Cover_Type\"])\n",
    "    plt.tight_layout()"
   ]
  },
  {
   "cell_type": "code",
   "execution_count": 21,
   "metadata": {},
   "outputs": [
    {
     "data": {
      "image/png": "[encoded data removed]",
      "text/plain": [
       "<Figure size 1080x1080 with 1 Axes>"
      ]
     },
     "metadata": {
      "needs_background": "light"
     },
     "output_type": "display_data"
    }
   ],
   "source": [
    "plt.figure(figsize=(15,15))\n",
    "sns.countplot(df1.Cover_Type);\n",
    "for i,val in enumerate(df1[\"Cover_Type\"].value_counts().sort_index().to_list()):\n",
    "    plt.text(i-.1,val+400,str(val),fontdict={\"color\":\"Blue\",\"fontsize\":14})\n",
    "    # print(i,val)\n",
    "plt.text(2,36000,\"Class Number\",fontdict={\"color\":\"Black\",\"fontsize\":22});"
   ]
  },
  {
   "cell_type": "code",
   "execution_count": null,
   "metadata": {},
   "outputs": [],
   "source": []
  },
  {
   "cell_type": "markdown",
   "metadata": {
    "id": "WjDFWFcgASC0"
   },
   "source": [
    "***\n",
    "***"
   ]
  },
  {
   "cell_type": "markdown",
   "metadata": {
    "id": "UzffSKptri3v"
   },
   "source": [
    "## 3. Feature Engineering"
   ]
  },
  {
   "cell_type": "markdown",
   "metadata": {
    "id": "yP5LibfOASC0"
   },
   "source": [
    "### My Plan of Feature Extraction\n",
    "- First, I decided to produce&transform a new column with ``Horizontal_Distance_To_Hydrology`` and ``Vertical_Distance_To_Hydrology`` columns. New column will contain the values of **Hypotenuse** of ``horizantal`` and ``vertical`` distances.\n",
    "\n",
    "- As second, we can produce&transform an additional column which contains **average** of Horizantal Distances to Hydrology and Roadways.\n",
    "\n",
    "- Third, I decided to transform a new column which contains **average** of `Elevation` and ``Vertical_Distance_To_Hydrology`` columns. So that, there is no need to have ``Horizontal_Distance_To_Hydrology`` and ``Vertical_Distance_To_Hydrology`` columns, because I have new columns which represent more value than them. I decide to drop these columns.\n",
    "\n",
    "- Note that, after seeing the result of the models, there may be a possibility of making minor changes to the features in the modeling phase."
   ]
  },
  {
   "cell_type": "code",
   "execution_count": 22,
   "metadata": {
    "cell_style": "center"
   },
   "outputs": [],
   "source": [
    "df1[\"hypo_distance\"] = (df1[\"Horizontal_Distance_To_Hydrology\"]**2 + df1[\"Vertical_Distance_To_Hydrology\"]**2)**.5\n",
    "df1[\"Average_Dist_Road_Hydro\"] = (df1.Horizontal_Distance_To_Hydrology + df1.Horizontal_Distance_To_Roadways)/2 \n",
    "df1[\"Average_Elevation_Hydro\"] = (df1.Elevation + df1.Vertical_Distance_To_Hydrology) /2"
   ]
  },
  {
   "cell_type": "code",
   "execution_count": 23,
   "metadata": {},
   "outputs": [],
   "source": [
    "df1.drop([\n",
    "    \"Horizontal_Distance_To_Hydrology\", \"Vertical_Distance_To_Hydrology\",\n",
    "    \"Horizontal_Distance_To_Roadways\", \"Elevation\"\n",
    "], axis=1, inplace=True)"
   ]
  },
  {
   "cell_type": "code",
   "execution_count": 24,
   "metadata": {},
   "outputs": [
    {
     "data": {
      "text/plain": [
       "['Aspect',\n",
       " 'Slope',\n",
       " 'Hillshade_9am',\n",
       " 'Hillshade_Noon',\n",
       " 'Hillshade_3pm',\n",
       " 'Horizontal_Distance_To_Fire_Points',\n",
       " 'hypo_distance',\n",
       " 'Average_Dist_Road_Hydro',\n",
       " 'Average_Elevation_Hydro']"
      ]
     },
     "execution_count": 24,
     "metadata": {},
     "output_type": "execute_result"
    }
   ],
   "source": [
    "numeric_cols = [ col for col in df1.columns if df1[col].nunique() > 7]\n",
    "numeric_cols"
   ]
  },
  {
   "cell_type": "code",
   "execution_count": 25,
   "metadata": {
    "scrolled": true
   },
   "outputs": [
    {
     "data": {
      "image/png": "[encoded data removed]",
      "text/plain": [
       "<Figure size 1800x936 with 2 Axes>"
      ]
     },
     "metadata": {
      "needs_background": "light"
     },
     "output_type": "display_data"
    }
   ],
   "source": [
    "corr = df1[numeric_cols].corr()\n",
    "mask = np.triu(np.ones_like(corr))\n",
    "plt.figure(figsize=(25, 13))\n",
    "sns.heatmap(corr, mask=mask, annot=True, cmap=\"viridis\", square=True, linewidths=.5);"
   ]
  },
  {
   "cell_type": "code",
   "execution_count": 26,
   "metadata": {},
   "outputs": [
    {
     "data": {
      "text/plain": [
       "(203046, 54)"
      ]
     },
     "execution_count": 26,
     "metadata": {},
     "output_type": "execute_result"
    }
   ],
   "source": [
    "df1.shape"
   ]
  },
  {
   "cell_type": "code",
   "execution_count": 27,
   "metadata": {},
   "outputs": [
    {
     "data": {
      "text/plain": [
       "['Aspect',\n",
       " 'Slope',\n",
       " 'Hillshade_9am',\n",
       " 'Hillshade_Noon',\n",
       " 'Hillshade_3pm',\n",
       " 'Horizontal_Distance_To_Fire_Points',\n",
       " 'hypo_distance',\n",
       " 'Average_Dist_Road_Hydro',\n",
       " 'Average_Elevation_Hydro']"
      ]
     },
     "execution_count": 27,
     "metadata": {},
     "output_type": "execute_result"
    }
   ],
   "source": [
    "tsp=[i for i in df1.columns if len(df1[i].value_counts().values)>7]\n",
    "tsp"
   ]
  },
  {
   "cell_type": "code",
   "execution_count": 28,
   "metadata": {},
   "outputs": [],
   "source": [
    "def outlier_report(df, cols, whisker=1.5):\n",
    "    res = {}\n",
    "    for col in cols:\n",
    "        iqr = np.quantile(df[col],[.25,.75])[1] - np.quantile(df[col],[.25,.75])[0]\n",
    "        lower_limit = np.quantile(df[col],[.25,.75])[0]- iqr*whisker \n",
    "        upper_limit = np.quantile(df[col],[.25,.75])[1]+iqr*whisker\n",
    "        num = len([c for c in df[col].to_list() if (c<lower_limit or c>upper_limit)])\n",
    "        if num > 0:res[col]={\"lower_limit\":lower_limit, \"upper_limit\":upper_limit, \"iqr\": iqr, \"# of outliers\":num}\n",
    "    return pd.DataFrame(res).T\n",
    "res = outlier_report(df1, tsp)"
   ]
  },
  {
   "cell_type": "code",
   "execution_count": 29,
   "metadata": {},
   "outputs": [
    {
     "data": {
      "text/html": [
       "<div>\n",
       "<style scoped>\n",
       "    .dataframe tbody tr th:only-of-type {\n",
       "        vertical-align: middle;\n",
       "    }\n",
       "\n",
       "    .dataframe tbody tr th {\n",
       "        vertical-align: top;\n",
       "    }\n",
       "\n",
       "    .dataframe thead th {\n",
       "        text-align: right;\n",
       "    }\n",
       "</style>\n",
       "<table border=\"1\" class=\"dataframe\">\n",
       "  <thead>\n",
       "    <tr style=\"text-align: right;\">\n",
       "      <th></th>\n",
       "      <th>lower_limit</th>\n",
       "      <th>upper_limit</th>\n",
       "      <th>iqr</th>\n",
       "      <th># of outliers</th>\n",
       "    </tr>\n",
       "  </thead>\n",
       "  <tbody>\n",
       "    <tr>\n",
       "      <th>Slope</th>\n",
       "      <td>-6.500000</td>\n",
       "      <td>37.500000</td>\n",
       "      <td>11.000000</td>\n",
       "      <td>271.0</td>\n",
       "    </tr>\n",
       "    <tr>\n",
       "      <th>Hillshade_9am</th>\n",
       "      <td>141.000000</td>\n",
       "      <td>293.000000</td>\n",
       "      <td>38.000000</td>\n",
       "      <td>1808.0</td>\n",
       "    </tr>\n",
       "    <tr>\n",
       "      <th>Hillshade_Noon</th>\n",
       "      <td>167.500000</td>\n",
       "      <td>275.500000</td>\n",
       "      <td>27.000000</td>\n",
       "      <td>1795.0</td>\n",
       "    </tr>\n",
       "    <tr>\n",
       "      <th>Hillshade_3pm</th>\n",
       "      <td>17.500000</td>\n",
       "      <td>253.500000</td>\n",
       "      <td>59.000000</td>\n",
       "      <td>192.0</td>\n",
       "    </tr>\n",
       "    <tr>\n",
       "      <th>Horizontal_Distance_To_Fire_Points</th>\n",
       "      <td>-995.000000</td>\n",
       "      <td>3573.000000</td>\n",
       "      <td>1142.000000</td>\n",
       "      <td>2786.0</td>\n",
       "    </tr>\n",
       "    <tr>\n",
       "      <th>hypo_distance</th>\n",
       "      <td>-318.725934</td>\n",
       "      <td>691.565052</td>\n",
       "      <td>252.572747</td>\n",
       "      <td>1237.0</td>\n",
       "    </tr>\n",
       "    <tr>\n",
       "      <th>Average_Dist_Road_Hydro</th>\n",
       "      <td>-520.500000</td>\n",
       "      <td>2107.500000</td>\n",
       "      <td>657.000000</td>\n",
       "      <td>6595.0</td>\n",
       "    </tr>\n",
       "  </tbody>\n",
       "</table>\n",
       "</div>"
      ],
      "text/plain": [
       "                                    lower_limit  upper_limit          iqr  \\\n",
       "Slope                                 -6.500000    37.500000    11.000000   \n",
       "Hillshade_9am                        141.000000   293.000000    38.000000   \n",
       "Hillshade_Noon                       167.500000   275.500000    27.000000   \n",
       "Hillshade_3pm                         17.500000   253.500000    59.000000   \n",
       "Horizontal_Distance_To_Fire_Points  -995.000000  3573.000000  1142.000000   \n",
       "hypo_distance                       -318.725934   691.565052   252.572747   \n",
       "Average_Dist_Road_Hydro             -520.500000  2107.500000   657.000000   \n",
       "\n",
       "                                    # of outliers  \n",
       "Slope                                       271.0  \n",
       "Hillshade_9am                              1808.0  \n",
       "Hillshade_Noon                             1795.0  \n",
       "Hillshade_3pm                               192.0  \n",
       "Horizontal_Distance_To_Fire_Points         2786.0  \n",
       "hypo_distance                              1237.0  \n",
       "Average_Dist_Road_Hydro                    6595.0  "
      ]
     },
     "execution_count": 29,
     "metadata": {},
     "output_type": "execute_result"
    }
   ],
   "source": [
    "res"
   ]
  },
  {
   "cell_type": "code",
   "execution_count": 30,
   "metadata": {},
   "outputs": [
    {
     "data": {
      "text/plain": [
       "Aspect                                0\n",
       "Slope                                 0\n",
       "Hillshade_9am                         0\n",
       "Hillshade_Noon                        0\n",
       "Hillshade_3pm                         0\n",
       "Horizontal_Distance_To_Fire_Points    0\n",
       "Wilderness_Area_1                     0\n",
       "Wilderness_Area_2                     0\n",
       "Wilderness_Area_3                     0\n",
       "Wilderness_Area_4                     0\n",
       "Soil_Type_1                           0\n",
       "Soil_Type_2                           0\n",
       "Soil_Type_3                           0\n",
       "Soil_Type_4                           0\n",
       "Soil_Type_5                           0\n",
       "Soil_Type_6                           0\n",
       "Soil_Type_7                           0\n",
       "Soil_Type_8                           0\n",
       "Soil_Type_9                           0\n",
       "Soil_Type_10                          0\n",
       "Soil_Type_11                          0\n",
       "Soil_Type_12                          0\n",
       "Soil_Type_13                          0\n",
       "Soil_Type_14                          0\n",
       "Soil_Type_15                          0\n",
       "Soil_Type_16                          0\n",
       "Soil_Type_17                          0\n",
       "Soil_Type_18                          0\n",
       "Soil_Type_19                          0\n",
       "Soil_Type_20                          0\n",
       "Soil_Type_21                          0\n",
       "Soil_Type_22                          0\n",
       "Soil_Type_23                          0\n",
       "Soil_Type_24                          0\n",
       "Soil_Type_25                          0\n",
       "Soil_Type_26                          0\n",
       "Soil_Type_27                          0\n",
       "Soil_Type_28                          0\n",
       "Soil_Type_29                          0\n",
       "Soil_Type_30                          0\n",
       "Soil_Type_31                          0\n",
       "Soil_Type_32                          0\n",
       "Soil_Type_33                          0\n",
       "Soil_Type_34                          0\n",
       "Soil_Type_35                          0\n",
       "Soil_Type_36                          0\n",
       "Soil_Type_37                          0\n",
       "Soil_Type_38                          0\n",
       "Soil_Type_39                          0\n",
       "Soil_Type_40                          0\n",
       "Cover_Type                            0\n",
       "hypo_distance                         0\n",
       "Average_Dist_Road_Hydro               0\n",
       "Average_Elevation_Hydro               0\n",
       "dtype: int64"
      ]
     },
     "execution_count": 30,
     "metadata": {},
     "output_type": "execute_result"
    }
   ],
   "source": [
    "df1.isnull().sum()"
   ]
  },
  {
   "cell_type": "markdown",
   "metadata": {
    "id": "45zRLFdDASC0"
   },
   "source": [
    "***\n",
    "***"
   ]
  },
  {
   "cell_type": "markdown",
   "metadata": {
    "id": "Ylwp86BnIbfD"
   },
   "source": [
    "## 4. Prediction (Multi-class Classification)"
   ]
  },
  {
   "cell_type": "markdown",
   "metadata": {
    "id": "-hmyNTpmASC0"
   },
   "source": [
    "If you have done, use your data set resulting from Feature Engineering task. If you haven't done Feature Engineering, use the latest version of your data set.\n",
    "In this section, you have two main tasks that apply to each algorithm:\n",
    "1. Model Building and Prediction\n",
    "\n",
    " - SVM (Use ``LinearSVC`` model from``sklearn.svm`` module)\n",
    " - Decision Tree (Use ``DecisionTreeClassifier`` model from ``sklearn.tree`` module)\n",
    " - Random Forest (Use ``RandomForestClassifier`` model from ``sklearn.ensemble`` module) \n",
    " - XGBoost (Use ``XGBClassifier`` model from``xgboost`` module)\n",
    "\n",
    "2. Visualizing the Result\n",
    "\n",
    "- Use [yellowbrick](https://www.scikit-yb.org/en/latest/), [seaborn](https://seaborn.pydata.org/tutorial/regression.html) or [matplotlib](https://matplotlib.org/) modules to visualize the model results.\n",
    "\n",
    "- Show three plots for the results:\n",
    " - Class Prediction Error Bar Plot\n",
    " - Confusion Matrix\n",
    " - Classification Report"
   ]
  },
  {
   "cell_type": "markdown",
   "metadata": {
    "id": "5bKNukyEASC0"
   },
   "source": [
    "### Import Libraries"
   ]
  },
  {
   "cell_type": "code",
   "execution_count": 31,
   "metadata": {
    "id": "44t5jjukASC0"
   },
   "outputs": [],
   "source": [
    "from sklearn.model_selection import train_test_split"
   ]
  },
  {
   "cell_type": "markdown",
   "metadata": {
    "id": "c-HeuK9FIbfJ"
   },
   "source": [
    "### Data Preprocessing"
   ]
  },
  {
   "cell_type": "markdown",
   "metadata": {
    "id": "W22WncJ9ASC0"
   },
   "source": [
    "- Drop target variable\n",
    "- Train-Test Split\n",
    "\n",
    "*Note: You can use the train and test data generated here for all algorithms.*"
   ]
  },
  {
   "cell_type": "code",
   "execution_count": 32,
   "metadata": {
    "id": "MFD5URwnASC0"
   },
   "outputs": [],
   "source": [
    "y = df1.Cover_Type\n",
    "df1.drop(\"Cover_Type\",axis=1,inplace=True)\n",
    "X=df1\n",
    "X_train,X_test,y_train,y_test = train_test_split(X,y,test_size=0.3,random_state=42)\n"
   ]
  },
  {
   "cell_type": "code",
   "execution_count": null,
   "metadata": {},
   "outputs": [],
   "source": []
  },
  {
   "cell_type": "markdown",
   "metadata": {
    "id": "rOisMsLIASC0"
   },
   "source": [
    "### Implement Support Vector Machine\n",
    "- Import the modul \n",
    "- Fit the model \n",
    "- Predict the test set\n",
    "- Visualize and evaluate the result (use yellowbrick module)\n",
    "\n",
    "*Note: You probably won't get a successful result. You may need to make some changes to the model or data. This may be a topic worth investigating, you decide.*"
   ]
  },
  {
   "cell_type": "code",
   "execution_count": 33,
   "metadata": {
    "cell_style": "split",
    "id": "OMc5EJsiASC0",
    "outputId": "aafd92bb-6097-4bb8-f5bc-6ce5c2e5d259"
   },
   "outputs": [],
   "source": [
    "from sklearn.svm import SVC\n",
    "from sklearn.metrics import classification_report,confusion_matrix\n",
    "from sklearn.preprocessing import StandardScaler,MinMaxScaler\n",
    "#from sklearn.pipeline import Pipeline"
   ]
  },
  {
   "cell_type": "code",
   "execution_count": 34,
   "metadata": {},
   "outputs": [],
   "source": [
    "scaler = MinMaxScaler()\n",
    "scaler.fit(X_train)\n",
    "X_train_scaled = scaler.transform(X_train)\n",
    "X_test_scaled = scaler.transform(X_test)"
   ]
  },
  {
   "cell_type": "code",
   "execution_count": 35,
   "metadata": {},
   "outputs": [],
   "source": [
    "model_LSVC = SVC(max_iter=1000)#!!!!!"
   ]
  },
  {
   "cell_type": "code",
   "execution_count": 36,
   "metadata": {},
   "outputs": [
    {
     "data": {
      "text/plain": [
       "SVC(max_iter=1000)"
      ]
     },
     "execution_count": 36,
     "metadata": {},
     "output_type": "execute_result"
    }
   ],
   "source": [
    "model_LSVC.fit(X_train_scaled, y_train)"
   ]
  },
  {
   "cell_type": "code",
   "execution_count": 37,
   "metadata": {},
   "outputs": [],
   "source": [
    "y_pred_test = model_LSVC.predict(X_test_scaled)"
   ]
  },
  {
   "cell_type": "code",
   "execution_count": 38,
   "metadata": {},
   "outputs": [],
   "source": [
    "y_pred_train = model_LSVC.predict(X_train_scaled)"
   ]
  },
  {
   "cell_type": "code",
   "execution_count": 39,
   "metadata": {},
   "outputs": [
    {
     "data": {
      "text/plain": [
       "0.47478412187674424"
      ]
     },
     "execution_count": 39,
     "metadata": {},
     "output_type": "execute_result"
    }
   ],
   "source": [
    "model_LSVC.score(X_test_scaled,y_test)"
   ]
  },
  {
   "cell_type": "code",
   "execution_count": 40,
   "metadata": {},
   "outputs": [
    {
     "data": {
      "image/png": "[encoded data removed]",
      "text/plain": [
       "<Figure size 576x396 with 1 Axes>"
      ]
     },
     "metadata": {},
     "output_type": "display_data"
    },
    {
     "data": {
      "text/plain": [
       "<AxesSubplot:title={'center':'Class Prediction Error for SVC'}, xlabel='actual class', ylabel='number of predicted class'>"
      ]
     },
     "execution_count": 40,
     "metadata": {},
     "output_type": "execute_result"
    }
   ],
   "source": [
    "from yellowbrick.classifier import ClassPredictionError\n",
    "visualizer = ClassPredictionError(model_LSVC)\n",
    "\n",
    "# Fit the training data to the visualizer\n",
    "visualizer.fit(X_train_scaled, y_train)\n",
    "\n",
    "# Evaluate the model on the test data\n",
    "visualizer.score(X_test_scaled, y_test)\n",
    "\n",
    "# Draw visualization\n",
    "visualizer.show()"
   ]
  },
  {
   "cell_type": "markdown",
   "metadata": {},
   "source": [
    "# BAGGING USING ******"
   ]
  },
  {
   "cell_type": "code",
   "execution_count": 41,
   "metadata": {},
   "outputs": [],
   "source": [
    "from sklearn.ensemble import BaggingClassifier"
   ]
  },
  {
   "cell_type": "code",
   "execution_count": 42,
   "metadata": {},
   "outputs": [],
   "source": [
    "model_SVC = SVC(kernel=\"linear\")\n",
    "model_baggingSVC = BaggingClassifier(model_SVC, n_jobs=-1, n_estimators=5, max_samples=0.1)\n",
    "model_baggingSVC.fit(X_train_scaled, y_train)\n",
    "\n",
    "y_pred_test = model_baggingSVC.predict(X_test_scaled)\n",
    "y_pred_train = model_baggingSVC.predict(X_train_scaled)"
   ]
  },
  {
   "cell_type": "code",
   "execution_count": 43,
   "metadata": {},
   "outputs": [],
   "source": [
    "from sklearn.metrics import confusion_matrix, classification_report\n",
    "from sklearn.metrics import plot_confusion_matrix"
   ]
  },
  {
   "cell_type": "code",
   "execution_count": 44,
   "metadata": {},
   "outputs": [
    {
     "name": "stdout",
     "output_type": "stream",
     "text": [
      "TEST\n",
      "[[5330 1256   37    0  472   42  860]\n",
      " [1652 3792  271    4 1650  351   42]\n",
      " [   0   86 4809 1325  288 2325    0]\n",
      " [   0    0  550 8968    0  313    0]\n",
      " [  34 1153  457    0 7264  299    0]\n",
      " [   1  209 1987  811  258 6138    0]\n",
      " [1292    0    0    0    0    0 6588]]\n",
      "              precision    recall  f1-score   support\n",
      "\n",
      "           1       0.64      0.67      0.65      7997\n",
      "           2       0.58      0.49      0.53      7762\n",
      "           3       0.59      0.54      0.57      8833\n",
      "           4       0.81      0.91      0.86      9831\n",
      "           5       0.73      0.79      0.76      9207\n",
      "           6       0.65      0.65      0.65      9404\n",
      "           7       0.88      0.84      0.86      7880\n",
      "\n",
      "    accuracy                           0.70     60914\n",
      "   macro avg       0.70      0.70      0.70     60914\n",
      "weighted avg       0.70      0.70      0.70     60914\n",
      "\n"
     ]
    },
    {
     "data": {
      "image/png": "[encoded data removed]",
      "text/plain": [
       "<Figure size 576x396 with 2 Axes>"
      ]
     },
     "metadata": {},
     "output_type": "display_data"
    }
   ],
   "source": [
    "print(\"TEST\")\n",
    "print(confusion_matrix(y_test, y_pred_test))\n",
    "print(classification_report(y_test, y_pred_test))\n",
    "plot_confusion_matrix(model_baggingSVC, X_test_scaled, y_test);"
   ]
  },
  {
   "cell_type": "code",
   "execution_count": 45,
   "metadata": {},
   "outputs": [
    {
     "data": {
      "image/png": "[encoded data removed]",
      "text/plain": [
       "<Figure size 576x396 with 1 Axes>"
      ]
     },
     "metadata": {},
     "output_type": "display_data"
    },
    {
     "data": {
      "text/plain": [
       "<AxesSubplot:title={'center':'SVC Confusion Matrix'}, xlabel='Predicted Class', ylabel='True Class'>"
      ]
     },
     "execution_count": 45,
     "metadata": {},
     "output_type": "execute_result"
    }
   ],
   "source": [
    "from yellowbrick.classifier import ConfusionMatrix\n",
    "cm = ConfusionMatrix(model_LSVC)\n",
    "cm.fit(X_train_scaled, y_train)\n",
    "cm.score(X_test_scaled, y_test)\n",
    "cm.show()"
   ]
  },
  {
   "cell_type": "code",
   "execution_count": 46,
   "metadata": {},
   "outputs": [],
   "source": [
    "from sklearn.metrics import f1_score, accuracy_score\n",
    "scores = {}"
   ]
  },
  {
   "cell_type": "code",
   "execution_count": 47,
   "metadata": {},
   "outputs": [
    {
     "data": {
      "text/plain": [
       "((60914,), (60914,))"
      ]
     },
     "execution_count": 47,
     "metadata": {},
     "output_type": "execute_result"
    }
   ],
   "source": [
    "y_test.shape, y_pred_test.shape"
   ]
  },
  {
   "cell_type": "code",
   "execution_count": 48,
   "metadata": {},
   "outputs": [
    {
     "data": {
      "text/plain": [
       "{'model_LSVC': {'f1_score_test': 0.4793186341460013,\n",
       "  'f1_score_train': 0.4808116829197847,\n",
       "  'accuracy_score_test': 0.47478412187674424,\n",
       "  'accuracy_score_train': 0.4757619677482903}}"
      ]
     },
     "execution_count": 48,
     "metadata": {},
     "output_type": "execute_result"
    }
   ],
   "source": [
    "y_pred_test = model_LSVC.predict(X_test_scaled)\n",
    "y_pred_train = model_LSVC.predict(X_train_scaled)\n",
    "scores[\"model_LSVC\"]={}\n",
    "scores[\"model_LSVC\"][\"f1_score_test\"] = f1_score(y_test, y_pred_test, average=\"macro\")\n",
    "scores[\"model_LSVC\"][\"f1_score_train\"] = f1_score(y_train, y_pred_train, average=\"macro\")\n",
    "scores[\"model_LSVC\"][\"accuracy_score_test\"] = accuracy_score(y_test, y_pred_test)\n",
    "scores[\"model_LSVC\"][\"accuracy_score_train\"] = accuracy_score(y_train, y_pred_train)\n",
    "SVMS=scores\n",
    "SVMS\n",
    "#max iterr 1000 aldım bu şekilde döndürdü svm ile bagging yaklaşımı çok daha kullanışlıdır "
   ]
  },
  {
   "cell_type": "markdown",
   "metadata": {
    "id": "s2bAc81fASC0"
   },
   "source": [
    "### Implement Decision Tree Classifier\n",
    "- Import the modul \n",
    "- Fit the model \n",
    "- Predict the test set\n",
    "- Visualize and evaluate the result (use yellowbrick module)"
   ]
  },
  {
   "cell_type": "code",
   "execution_count": 49,
   "metadata": {
    "cell_style": "split"
   },
   "outputs": [],
   "source": [
    "from sklearn.tree import DecisionTreeClassifier"
   ]
  },
  {
   "cell_type": "code",
   "execution_count": 50,
   "metadata": {},
   "outputs": [],
   "source": [
    "DT_model = DecisionTreeClassifier(random_state=101)"
   ]
  },
  {
   "cell_type": "code",
   "execution_count": 51,
   "metadata": {},
   "outputs": [
    {
     "data": {
      "text/plain": [
       "DecisionTreeClassifier(random_state=101)"
      ]
     },
     "execution_count": 51,
     "metadata": {},
     "output_type": "execute_result"
    }
   ],
   "source": [
    "DT_model.fit(X_train,y_train) #abi kurban olurum bu hızına ama senin :) "
   ]
  },
  {
   "cell_type": "code",
   "execution_count": 52,
   "metadata": {},
   "outputs": [],
   "source": [
    "y_pred = DT_model.predict(X_test)"
   ]
  },
  {
   "cell_type": "code",
   "execution_count": 53,
   "metadata": {},
   "outputs": [],
   "source": [
    "from sklearn.metrics import confusion_matrix,classification_report,plot_confusion_matrix"
   ]
  },
  {
   "cell_type": "code",
   "execution_count": 54,
   "metadata": {},
   "outputs": [],
   "source": [
    "def eval_metric(model, X_train, y_train, X_test, y_test):\n",
    "    y_train_pred = model.predict(X_train)\n",
    "    y_pred = model.predict(X_test)\n",
    "    \n",
    "    print(\"Test_Set\")\n",
    "    print(confusion_matrix(y_test, y_pred))\n",
    "    print(classification_report(y_test, y_pred))\n",
    "    print()\n",
    "    print(\"Train_Set\")\n",
    "    print(confusion_matrix(y_train, y_train_pred))\n",
    "    print(classification_report(y_train, y_train_pred))"
   ]
  },
  {
   "cell_type": "code",
   "execution_count": 55,
   "metadata": {},
   "outputs": [
    {
     "data": {
      "text/plain": [
       "<sklearn.metrics._plot.confusion_matrix.ConfusionMatrixDisplay at 0x2282913f700>"
      ]
     },
     "execution_count": 55,
     "metadata": {},
     "output_type": "execute_result"
    },
    {
     "data": {
      "image/png": "[encoded data removed]",
      "text/plain": [
       "<Figure size 576x396 with 2 Axes>"
      ]
     },
     "metadata": {},
     "output_type": "display_data"
    }
   ],
   "source": [
    "plot_confusion_matrix(DT_model,X_test,y_test)"
   ]
  },
  {
   "cell_type": "code",
   "execution_count": 56,
   "metadata": {},
   "outputs": [
    {
     "data": {
      "image/png": "[encoded data removed]",
      "text/plain": [
       "<Figure size 576x396 with 1 Axes>"
      ]
     },
     "metadata": {},
     "output_type": "display_data"
    }
   ],
   "source": [
    "from yellowbrick.classifier import ClassPredictionError\n",
    "\n",
    "visualizer = ClassPredictionError(DT_model)\n",
    "\n",
    "# Fit the training data to the visualizer\n",
    "visualizer.fit(X_train, y_train)\n",
    "\n",
    "# Evaluate the model on the test data\n",
    "visualizer.score(X_test, y_test)\n",
    "\n",
    "# Draw visualization\n",
    "visualizer.poof();  #yapılan hataların hangi sınıf üzerinde yapıldığını söylüyor"
   ]
  },
  {
   "cell_type": "code",
   "execution_count": 57,
   "metadata": {},
   "outputs": [
    {
     "name": "stdout",
     "output_type": "stream",
     "text": [
      "Test_Set\n",
      "[[6656 1063   11    0   58    9  200]\n",
      " [1139 6042  146    0  281  122   32]\n",
      " [   7   99 8106  113   54  454    0]\n",
      " [   0    0   71 9720    0   40    0]\n",
      " [  40  152   16    0 8974   25    0]\n",
      " [   8   69  367   76   18 8866    0]\n",
      " [ 153   13    0    0    0    0 7714]]\n",
      "              precision    recall  f1-score   support\n",
      "\n",
      "           1       0.83      0.83      0.83      7997\n",
      "           2       0.81      0.78      0.79      7762\n",
      "           3       0.93      0.92      0.92      8833\n",
      "           4       0.98      0.99      0.98      9831\n",
      "           5       0.96      0.97      0.97      9207\n",
      "           6       0.93      0.94      0.94      9404\n",
      "           7       0.97      0.98      0.97      7880\n",
      "\n",
      "    accuracy                           0.92     60914\n",
      "   macro avg       0.92      0.92      0.92     60914\n",
      "weighted avg       0.92      0.92      0.92     60914\n",
      "\n",
      "\n",
      "Train_Set\n",
      "[[18720     0     0     0     0     0     0]\n",
      " [    0 18076     0     0     0     0     0]\n",
      " [    0     0 20655     0     0     0     0]\n",
      " [    0     0     0 22865     0     0     0]\n",
      " [    0     0     0     0 21214     0     0]\n",
      " [    0     0     0     0     0 22283     0]\n",
      " [    0     0     0     0     0     0 18319]]\n",
      "              precision    recall  f1-score   support\n",
      "\n",
      "           1       1.00      1.00      1.00     18720\n",
      "           2       1.00      1.00      1.00     18076\n",
      "           3       1.00      1.00      1.00     20655\n",
      "           4       1.00      1.00      1.00     22865\n",
      "           5       1.00      1.00      1.00     21214\n",
      "           6       1.00      1.00      1.00     22283\n",
      "           7       1.00      1.00      1.00     18319\n",
      "\n",
      "    accuracy                           1.00    142132\n",
      "   macro avg       1.00      1.00      1.00    142132\n",
      "weighted avg       1.00      1.00      1.00    142132\n",
      "\n"
     ]
    }
   ],
   "source": [
    "eval_metric(DT_model, X_train, y_train, X_test, y_test) #tres ve boostingte sıkıntı olmaz\n",
    "                                                        #böyle güzel sonuçları almakta hani bi güzel sanki"
   ]
  },
  {
   "cell_type": "code",
   "execution_count": 58,
   "metadata": {},
   "outputs": [],
   "source": [
    "#hemen cv yapıp bakıcam şimdi kontrol şart;"
   ]
  },
  {
   "cell_type": "code",
   "execution_count": 59,
   "metadata": {},
   "outputs": [],
   "source": [
    "from sklearn.model_selection import cross_val_score, cross_validate\n",
    "from sklearn.metrics import accuracy_score, f1_score, recall_score, precision_score\n",
    "from sklearn.metrics import make_scorer"
   ]
  },
  {
   "cell_type": "code",
   "execution_count": 60,
   "metadata": {},
   "outputs": [
    {
     "data": {
      "text/html": [
       "<div>\n",
       "<style scoped>\n",
       "    .dataframe tbody tr th:only-of-type {\n",
       "        vertical-align: middle;\n",
       "    }\n",
       "\n",
       "    .dataframe tbody tr th {\n",
       "        vertical-align: top;\n",
       "    }\n",
       "\n",
       "    .dataframe thead th {\n",
       "        text-align: right;\n",
       "    }\n",
       "</style>\n",
       "<table border=\"1\" class=\"dataframe\">\n",
       "  <thead>\n",
       "    <tr style=\"text-align: right;\">\n",
       "      <th></th>\n",
       "      <th>fit_time</th>\n",
       "      <th>score_time</th>\n",
       "      <th>test_accuracy</th>\n",
       "      <th>test_precision_macro</th>\n",
       "      <th>test_recall_macro</th>\n",
       "      <th>test_f1_macro</th>\n",
       "    </tr>\n",
       "  </thead>\n",
       "  <tbody>\n",
       "    <tr>\n",
       "      <th>1</th>\n",
       "      <td>2.279722</td>\n",
       "      <td>0.032980</td>\n",
       "      <td>0.915717</td>\n",
       "      <td>0.910945</td>\n",
       "      <td>0.911235</td>\n",
       "      <td>0.910994</td>\n",
       "    </tr>\n",
       "    <tr>\n",
       "      <th>2</th>\n",
       "      <td>2.275635</td>\n",
       "      <td>0.034981</td>\n",
       "      <td>0.915647</td>\n",
       "      <td>0.911002</td>\n",
       "      <td>0.911248</td>\n",
       "      <td>0.911095</td>\n",
       "    </tr>\n",
       "    <tr>\n",
       "      <th>3</th>\n",
       "      <td>2.252622</td>\n",
       "      <td>0.031978</td>\n",
       "      <td>0.917188</td>\n",
       "      <td>0.912861</td>\n",
       "      <td>0.913011</td>\n",
       "      <td>0.912848</td>\n",
       "    </tr>\n",
       "    <tr>\n",
       "      <th>4</th>\n",
       "      <td>2.115775</td>\n",
       "      <td>0.031250</td>\n",
       "      <td>0.915922</td>\n",
       "      <td>0.911089</td>\n",
       "      <td>0.911438</td>\n",
       "      <td>0.911149</td>\n",
       "    </tr>\n",
       "    <tr>\n",
       "      <th>5</th>\n",
       "      <td>2.298752</td>\n",
       "      <td>0.034979</td>\n",
       "      <td>0.918947</td>\n",
       "      <td>0.915010</td>\n",
       "      <td>0.915003</td>\n",
       "      <td>0.914942</td>\n",
       "    </tr>\n",
       "    <tr>\n",
       "      <th>6</th>\n",
       "      <td>2.327678</td>\n",
       "      <td>0.033981</td>\n",
       "      <td>0.911841</td>\n",
       "      <td>0.907149</td>\n",
       "      <td>0.907148</td>\n",
       "      <td>0.906996</td>\n",
       "    </tr>\n",
       "    <tr>\n",
       "      <th>7</th>\n",
       "      <td>2.321336</td>\n",
       "      <td>0.030664</td>\n",
       "      <td>0.916274</td>\n",
       "      <td>0.911894</td>\n",
       "      <td>0.911957</td>\n",
       "      <td>0.911862</td>\n",
       "    </tr>\n",
       "    <tr>\n",
       "      <th>8</th>\n",
       "      <td>2.487438</td>\n",
       "      <td>0.040974</td>\n",
       "      <td>0.917962</td>\n",
       "      <td>0.914092</td>\n",
       "      <td>0.914039</td>\n",
       "      <td>0.914025</td>\n",
       "    </tr>\n",
       "    <tr>\n",
       "      <th>9</th>\n",
       "      <td>2.464253</td>\n",
       "      <td>0.031246</td>\n",
       "      <td>0.916907</td>\n",
       "      <td>0.912219</td>\n",
       "      <td>0.912423</td>\n",
       "      <td>0.912236</td>\n",
       "    </tr>\n",
       "    <tr>\n",
       "      <th>10</th>\n",
       "      <td>2.422539</td>\n",
       "      <td>0.031980</td>\n",
       "      <td>0.915641</td>\n",
       "      <td>0.910973</td>\n",
       "      <td>0.911134</td>\n",
       "      <td>0.910978</td>\n",
       "    </tr>\n",
       "  </tbody>\n",
       "</table>\n",
       "</div>"
      ],
      "text/plain": [
       "    fit_time  score_time  test_accuracy  test_precision_macro  \\\n",
       "1   2.279722    0.032980       0.915717              0.910945   \n",
       "2   2.275635    0.034981       0.915647              0.911002   \n",
       "3   2.252622    0.031978       0.917188              0.912861   \n",
       "4   2.115775    0.031250       0.915922              0.911089   \n",
       "5   2.298752    0.034979       0.918947              0.915010   \n",
       "6   2.327678    0.033981       0.911841              0.907149   \n",
       "7   2.321336    0.030664       0.916274              0.911894   \n",
       "8   2.487438    0.040974       0.917962              0.914092   \n",
       "9   2.464253    0.031246       0.916907              0.912219   \n",
       "10  2.422539    0.031980       0.915641              0.910973   \n",
       "\n",
       "    test_recall_macro  test_f1_macro  \n",
       "1            0.911235       0.910994  \n",
       "2            0.911248       0.911095  \n",
       "3            0.913011       0.912848  \n",
       "4            0.911438       0.911149  \n",
       "5            0.915003       0.914942  \n",
       "6            0.907148       0.906996  \n",
       "7            0.911957       0.911862  \n",
       "8            0.914039       0.914025  \n",
       "9            0.912423       0.912236  \n",
       "10           0.911134       0.910978  "
      ]
     },
     "execution_count": 60,
     "metadata": {},
     "output_type": "execute_result"
    }
   ],
   "source": [
    "model = DecisionTreeClassifier(max_depth=None, random_state=101)\n",
    "#tüm scorelar birbirine yakın olduğu için micro takıldık \n",
    "#sonuna kadar dallanmaya devam et\n",
    "scores = cross_validate(model, X_train, y_train, scoring = [\"accuracy\", \"precision_macro\", \"recall_macro\", \"f1_macro\"], cv = 10)\n",
    "df_scores = pd.DataFrame(scores, index = range(1, 11))\n",
    "df_scores"
   ]
  },
  {
   "cell_type": "code",
   "execution_count": 61,
   "metadata": {},
   "outputs": [
    {
     "data": {
      "text/plain": [
       "test_accuracy           0.916205\n",
       "test_precision_macro    0.911723\n",
       "test_recall_macro       0.911864\n",
       "test_f1_macro           0.911713\n",
       "dtype: float64"
      ]
     },
     "execution_count": 61,
     "metadata": {},
     "output_type": "execute_result"
    }
   ],
   "source": [
    "DTS=df_scores.mean()[2:] #bütün scoreler dengeliyse micro dengesizlik varda macro sayısı \n",
    "#çokta büyük bi fark olmamış 94-95 lerde geziodu\n",
    "DTS"
   ]
  },
  {
   "cell_type": "code",
   "execution_count": 62,
   "metadata": {},
   "outputs": [
    {
     "data": {
      "text/plain": [
       "array([3.47969952e-02, 1.98253669e-02, 4.21164996e-02, 3.28764939e-02,\n",
       "       1.89203782e-02, 1.07735121e-01, 2.28752949e-02, 2.95949030e-03,\n",
       "       4.03117378e-03, 1.03359570e-02, 1.27628095e-03, 3.48313440e-03,\n",
       "       2.17567267e-02, 1.68451582e-02, 1.18512437e-03, 2.37286421e-03,\n",
       "       0.00000000e+00, 0.00000000e+00, 4.39235660e-05, 1.24401764e-02,\n",
       "       4.45521615e-03, 7.85427009e-04, 6.40416987e-03, 2.22683344e-04,\n",
       "       0.00000000e+00, 3.97820934e-04, 4.03684534e-03, 0.00000000e+00,\n",
       "       2.89102116e-04, 1.65134338e-03, 1.17618107e-04, 3.83330198e-03,\n",
       "       3.86676075e-03, 2.45093881e-03, 0.00000000e+00, 1.59624044e-04,\n",
       "       9.73176646e-05, 1.56574013e-04, 2.80595807e-03, 1.03773394e-03,\n",
       "       5.11964347e-03, 4.69174661e-03, 5.24219264e-03, 1.08841231e-03,\n",
       "       9.42128013e-04, 0.00000000e+00, 3.15352249e-05, 3.24260180e-03,\n",
       "       6.19082869e-03, 5.78529022e-04, 1.03160298e-01, 1.08673958e-01,\n",
       "       3.72393530e-01])"
      ]
     },
     "execution_count": 62,
     "metadata": {},
     "output_type": "execute_result"
    }
   ],
   "source": [
    "DT_model.feature_importances_ "
   ]
  },
  {
   "cell_type": "code",
   "execution_count": 63,
   "metadata": {},
   "outputs": [
    {
     "data": {
      "text/html": [
       "<div>\n",
       "<style scoped>\n",
       "    .dataframe tbody tr th:only-of-type {\n",
       "        vertical-align: middle;\n",
       "    }\n",
       "\n",
       "    .dataframe tbody tr th {\n",
       "        vertical-align: top;\n",
       "    }\n",
       "\n",
       "    .dataframe thead th {\n",
       "        text-align: right;\n",
       "    }\n",
       "</style>\n",
       "<table border=\"1\" class=\"dataframe\">\n",
       "  <thead>\n",
       "    <tr style=\"text-align: right;\">\n",
       "      <th></th>\n",
       "      <th>Feature Importance</th>\n",
       "    </tr>\n",
       "  </thead>\n",
       "  <tbody>\n",
       "    <tr>\n",
       "      <th>Soil_Type_25</th>\n",
       "      <td>0.000000</td>\n",
       "    </tr>\n",
       "    <tr>\n",
       "      <th>Soil_Type_18</th>\n",
       "      <td>0.000000</td>\n",
       "    </tr>\n",
       "    <tr>\n",
       "      <th>Soil_Type_15</th>\n",
       "      <td>0.000000</td>\n",
       "    </tr>\n",
       "    <tr>\n",
       "      <th>Soil_Type_36</th>\n",
       "      <td>0.000000</td>\n",
       "    </tr>\n",
       "    <tr>\n",
       "      <th>Soil_Type_8</th>\n",
       "      <td>0.000000</td>\n",
       "    </tr>\n",
       "    <tr>\n",
       "      <th>Soil_Type_7</th>\n",
       "      <td>0.000000</td>\n",
       "    </tr>\n",
       "    <tr>\n",
       "      <th>Soil_Type_37</th>\n",
       "      <td>0.000032</td>\n",
       "    </tr>\n",
       "    <tr>\n",
       "      <th>Soil_Type_9</th>\n",
       "      <td>0.000044</td>\n",
       "    </tr>\n",
       "    <tr>\n",
       "      <th>Soil_Type_27</th>\n",
       "      <td>0.000097</td>\n",
       "    </tr>\n",
       "    <tr>\n",
       "      <th>Soil_Type_21</th>\n",
       "      <td>0.000118</td>\n",
       "    </tr>\n",
       "    <tr>\n",
       "      <th>Soil_Type_28</th>\n",
       "      <td>0.000157</td>\n",
       "    </tr>\n",
       "    <tr>\n",
       "      <th>Soil_Type_26</th>\n",
       "      <td>0.000160</td>\n",
       "    </tr>\n",
       "    <tr>\n",
       "      <th>Soil_Type_14</th>\n",
       "      <td>0.000223</td>\n",
       "    </tr>\n",
       "    <tr>\n",
       "      <th>Soil_Type_19</th>\n",
       "      <td>0.000289</td>\n",
       "    </tr>\n",
       "    <tr>\n",
       "      <th>Soil_Type_16</th>\n",
       "      <td>0.000398</td>\n",
       "    </tr>\n",
       "    <tr>\n",
       "      <th>Soil_Type_40</th>\n",
       "      <td>0.000579</td>\n",
       "    </tr>\n",
       "    <tr>\n",
       "      <th>Soil_Type_12</th>\n",
       "      <td>0.000785</td>\n",
       "    </tr>\n",
       "    <tr>\n",
       "      <th>Soil_Type_35</th>\n",
       "      <td>0.000942</td>\n",
       "    </tr>\n",
       "    <tr>\n",
       "      <th>Soil_Type_30</th>\n",
       "      <td>0.001038</td>\n",
       "    </tr>\n",
       "    <tr>\n",
       "      <th>Soil_Type_34</th>\n",
       "      <td>0.001088</td>\n",
       "    </tr>\n",
       "    <tr>\n",
       "      <th>Soil_Type_5</th>\n",
       "      <td>0.001185</td>\n",
       "    </tr>\n",
       "    <tr>\n",
       "      <th>Soil_Type_1</th>\n",
       "      <td>0.001276</td>\n",
       "    </tr>\n",
       "    <tr>\n",
       "      <th>Soil_Type_20</th>\n",
       "      <td>0.001651</td>\n",
       "    </tr>\n",
       "    <tr>\n",
       "      <th>Soil_Type_6</th>\n",
       "      <td>0.002373</td>\n",
       "    </tr>\n",
       "    <tr>\n",
       "      <th>Soil_Type_24</th>\n",
       "      <td>0.002451</td>\n",
       "    </tr>\n",
       "    <tr>\n",
       "      <th>Soil_Type_29</th>\n",
       "      <td>0.002806</td>\n",
       "    </tr>\n",
       "    <tr>\n",
       "      <th>Wilderness_Area_2</th>\n",
       "      <td>0.002959</td>\n",
       "    </tr>\n",
       "    <tr>\n",
       "      <th>Soil_Type_38</th>\n",
       "      <td>0.003243</td>\n",
       "    </tr>\n",
       "    <tr>\n",
       "      <th>Soil_Type_2</th>\n",
       "      <td>0.003483</td>\n",
       "    </tr>\n",
       "    <tr>\n",
       "      <th>Soil_Type_22</th>\n",
       "      <td>0.003833</td>\n",
       "    </tr>\n",
       "    <tr>\n",
       "      <th>Soil_Type_23</th>\n",
       "      <td>0.003867</td>\n",
       "    </tr>\n",
       "    <tr>\n",
       "      <th>Wilderness_Area_3</th>\n",
       "      <td>0.004031</td>\n",
       "    </tr>\n",
       "    <tr>\n",
       "      <th>Soil_Type_17</th>\n",
       "      <td>0.004037</td>\n",
       "    </tr>\n",
       "    <tr>\n",
       "      <th>Soil_Type_11</th>\n",
       "      <td>0.004455</td>\n",
       "    </tr>\n",
       "    <tr>\n",
       "      <th>Soil_Type_32</th>\n",
       "      <td>0.004692</td>\n",
       "    </tr>\n",
       "    <tr>\n",
       "      <th>Soil_Type_31</th>\n",
       "      <td>0.005120</td>\n",
       "    </tr>\n",
       "    <tr>\n",
       "      <th>Soil_Type_33</th>\n",
       "      <td>0.005242</td>\n",
       "    </tr>\n",
       "    <tr>\n",
       "      <th>Soil_Type_39</th>\n",
       "      <td>0.006191</td>\n",
       "    </tr>\n",
       "    <tr>\n",
       "      <th>Soil_Type_13</th>\n",
       "      <td>0.006404</td>\n",
       "    </tr>\n",
       "    <tr>\n",
       "      <th>Wilderness_Area_4</th>\n",
       "      <td>0.010336</td>\n",
       "    </tr>\n",
       "    <tr>\n",
       "      <th>Soil_Type_10</th>\n",
       "      <td>0.012440</td>\n",
       "    </tr>\n",
       "    <tr>\n",
       "      <th>Soil_Type_4</th>\n",
       "      <td>0.016845</td>\n",
       "    </tr>\n",
       "    <tr>\n",
       "      <th>Hillshade_3pm</th>\n",
       "      <td>0.018920</td>\n",
       "    </tr>\n",
       "    <tr>\n",
       "      <th>Slope</th>\n",
       "      <td>0.019825</td>\n",
       "    </tr>\n",
       "    <tr>\n",
       "      <th>Soil_Type_3</th>\n",
       "      <td>0.021757</td>\n",
       "    </tr>\n",
       "    <tr>\n",
       "      <th>Wilderness_Area_1</th>\n",
       "      <td>0.022875</td>\n",
       "    </tr>\n",
       "    <tr>\n",
       "      <th>Hillshade_Noon</th>\n",
       "      <td>0.032876</td>\n",
       "    </tr>\n",
       "    <tr>\n",
       "      <th>Aspect</th>\n",
       "      <td>0.034797</td>\n",
       "    </tr>\n",
       "    <tr>\n",
       "      <th>Hillshade_9am</th>\n",
       "      <td>0.042116</td>\n",
       "    </tr>\n",
       "    <tr>\n",
       "      <th>hypo_distance</th>\n",
       "      <td>0.103160</td>\n",
       "    </tr>\n",
       "    <tr>\n",
       "      <th>Horizontal_Distance_To_Fire_Points</th>\n",
       "      <td>0.107735</td>\n",
       "    </tr>\n",
       "    <tr>\n",
       "      <th>Average_Dist_Road_Hydro</th>\n",
       "      <td>0.108674</td>\n",
       "    </tr>\n",
       "    <tr>\n",
       "      <th>Average_Elevation_Hydro</th>\n",
       "      <td>0.372394</td>\n",
       "    </tr>\n",
       "  </tbody>\n",
       "</table>\n",
       "</div>"
      ],
      "text/plain": [
       "                                    Feature Importance\n",
       "Soil_Type_25                                  0.000000\n",
       "Soil_Type_18                                  0.000000\n",
       "Soil_Type_15                                  0.000000\n",
       "Soil_Type_36                                  0.000000\n",
       "Soil_Type_8                                   0.000000\n",
       "Soil_Type_7                                   0.000000\n",
       "Soil_Type_37                                  0.000032\n",
       "Soil_Type_9                                   0.000044\n",
       "Soil_Type_27                                  0.000097\n",
       "Soil_Type_21                                  0.000118\n",
       "Soil_Type_28                                  0.000157\n",
       "Soil_Type_26                                  0.000160\n",
       "Soil_Type_14                                  0.000223\n",
       "Soil_Type_19                                  0.000289\n",
       "Soil_Type_16                                  0.000398\n",
       "Soil_Type_40                                  0.000579\n",
       "Soil_Type_12                                  0.000785\n",
       "Soil_Type_35                                  0.000942\n",
       "Soil_Type_30                                  0.001038\n",
       "Soil_Type_34                                  0.001088\n",
       "Soil_Type_5                                   0.001185\n",
       "Soil_Type_1                                   0.001276\n",
       "Soil_Type_20                                  0.001651\n",
       "Soil_Type_6                                   0.002373\n",
       "Soil_Type_24                                  0.002451\n",
       "Soil_Type_29                                  0.002806\n",
       "Wilderness_Area_2                             0.002959\n",
       "Soil_Type_38                                  0.003243\n",
       "Soil_Type_2                                   0.003483\n",
       "Soil_Type_22                                  0.003833\n",
       "Soil_Type_23                                  0.003867\n",
       "Wilderness_Area_3                             0.004031\n",
       "Soil_Type_17                                  0.004037\n",
       "Soil_Type_11                                  0.004455\n",
       "Soil_Type_32                                  0.004692\n",
       "Soil_Type_31                                  0.005120\n",
       "Soil_Type_33                                  0.005242\n",
       "Soil_Type_39                                  0.006191\n",
       "Soil_Type_13                                  0.006404\n",
       "Wilderness_Area_4                             0.010336\n",
       "Soil_Type_10                                  0.012440\n",
       "Soil_Type_4                                   0.016845\n",
       "Hillshade_3pm                                 0.018920\n",
       "Slope                                         0.019825\n",
       "Soil_Type_3                                   0.021757\n",
       "Wilderness_Area_1                             0.022875\n",
       "Hillshade_Noon                                0.032876\n",
       "Aspect                                        0.034797\n",
       "Hillshade_9am                                 0.042116\n",
       "hypo_distance                                 0.103160\n",
       "Horizontal_Distance_To_Fire_Points            0.107735\n",
       "Average_Dist_Road_Hydro                       0.108674\n",
       "Average_Elevation_Hydro                       0.372394"
      ]
     },
     "execution_count": 63,
     "metadata": {},
     "output_type": "execute_result"
    }
   ],
   "source": [
    "df_f_i = pd.DataFrame(index=X.columns, data = DT_model.feature_importances_, \n",
    "                      columns = [\"Feature Importance\"]).sort_values(\"Feature Importance\")\n",
    "df_f_i  #data frame dönüştürüyoruz feature importance"
   ]
  },
  {
   "cell_type": "code",
   "execution_count": 64,
   "metadata": {},
   "outputs": [
    {
     "data": {
      "image/png": "[encoded data removed]",
      "text/plain": [
       "<Figure size 576x396 with 1 Axes>"
      ]
     },
     "metadata": {},
     "output_type": "display_data"
    }
   ],
   "source": [
    "sns.barplot(x = df_f_i.index, y = 'Feature Importance', data = df_f_i)\n",
    "plt.xticks(rotation = 90)\n",
    "plt.tight_layout()"
   ]
  },
  {
   "cell_type": "markdown",
   "metadata": {},
   "source": [
    "# Drop most important feature"
   ]
  },
  {
   "cell_type": "code",
   "execution_count": 65,
   "metadata": {},
   "outputs": [],
   "source": [
    "X2 = X.drop(columns = [\"Average_Elevation_Hydro\"]) #overfit için yaptım lakin gereksizmiş"
   ]
  },
  {
   "cell_type": "code",
   "execution_count": 66,
   "metadata": {},
   "outputs": [],
   "source": [
    "X_train2, X_test2, y_train2, y_test2 = train_test_split(X2, y, test_size=0.3, random_state=101)"
   ]
  },
  {
   "cell_type": "code",
   "execution_count": 67,
   "metadata": {},
   "outputs": [],
   "source": [
    "DT2_model = DecisionTreeClassifier(random_state=101)"
   ]
  },
  {
   "cell_type": "code",
   "execution_count": 68,
   "metadata": {},
   "outputs": [
    {
     "data": {
      "text/plain": [
       "DecisionTreeClassifier(random_state=101)"
      ]
     },
     "execution_count": 68,
     "metadata": {},
     "output_type": "execute_result"
    }
   ],
   "source": [
    "DT2_model.fit(X_train2, y_train2) "
   ]
  },
  {
   "cell_type": "code",
   "execution_count": 69,
   "metadata": {},
   "outputs": [
    {
     "name": "stdout",
     "output_type": "stream",
     "text": [
      "Test_Set\n",
      "[[6358 1236   33    0  110   54  187]\n",
      " [1305 5845  159    6  231  154   95]\n",
      " [  33  161 7991  180   56  471    4]\n",
      " [   0    3   86 9641    0   57    0]\n",
      " [  54  114   56    0 8825   34    5]\n",
      " [  33   83  453   88   48 8855    4]\n",
      " [ 120   49    7    0   11    3 7616]]\n",
      "              precision    recall  f1-score   support\n",
      "\n",
      "           1       0.80      0.80      0.80      7978\n",
      "           2       0.78      0.75      0.76      7795\n",
      "           3       0.91      0.90      0.90      8896\n",
      "           4       0.97      0.99      0.98      9787\n",
      "           5       0.95      0.97      0.96      9088\n",
      "           6       0.92      0.93      0.92      9564\n",
      "           7       0.96      0.98      0.97      7806\n",
      "\n",
      "    accuracy                           0.91     60914\n",
      "   macro avg       0.90      0.90      0.90     60914\n",
      "weighted avg       0.90      0.91      0.90     60914\n",
      "\n",
      "\n",
      "Train_Set\n",
      "[[18739     0     0     0     0     0     0]\n",
      " [    0 18043     0     0     0     0     0]\n",
      " [    0     0 20592     0     0     0     0]\n",
      " [    0     0     0 22909     0     0     0]\n",
      " [    0     0     0     0 21333     0     0]\n",
      " [    0     0     0     0     0 22123     0]\n",
      " [    0     0     0     0     0     0 18393]]\n",
      "              precision    recall  f1-score   support\n",
      "\n",
      "           1       1.00      1.00      1.00     18739\n",
      "           2       1.00      1.00      1.00     18043\n",
      "           3       1.00      1.00      1.00     20592\n",
      "           4       1.00      1.00      1.00     22909\n",
      "           5       1.00      1.00      1.00     21333\n",
      "           6       1.00      1.00      1.00     22123\n",
      "           7       1.00      1.00      1.00     18393\n",
      "\n",
      "    accuracy                           1.00    142132\n",
      "   macro avg       1.00      1.00      1.00    142132\n",
      "weighted avg       1.00      1.00      1.00    142132\n",
      "\n"
     ]
    }
   ],
   "source": [
    "eval_metric(DT2_model, X_train2, y_train2, X_test2, y_test2)"
   ]
  },
  {
   "cell_type": "code",
   "execution_count": 70,
   "metadata": {},
   "outputs": [
    {
     "data": {
      "text/html": [
       "<div>\n",
       "<style scoped>\n",
       "    .dataframe tbody tr th:only-of-type {\n",
       "        vertical-align: middle;\n",
       "    }\n",
       "\n",
       "    .dataframe tbody tr th {\n",
       "        vertical-align: top;\n",
       "    }\n",
       "\n",
       "    .dataframe thead th {\n",
       "        text-align: right;\n",
       "    }\n",
       "</style>\n",
       "<table border=\"1\" class=\"dataframe\">\n",
       "  <thead>\n",
       "    <tr style=\"text-align: right;\">\n",
       "      <th></th>\n",
       "      <th>fit_time</th>\n",
       "      <th>score_time</th>\n",
       "      <th>test_accuracy</th>\n",
       "      <th>test_precision_macro</th>\n",
       "      <th>test_recall_macro</th>\n",
       "      <th>test_f1_macro</th>\n",
       "    </tr>\n",
       "  </thead>\n",
       "  <tbody>\n",
       "    <tr>\n",
       "      <th>1</th>\n",
       "      <td>2.068333</td>\n",
       "      <td>0.032980</td>\n",
       "      <td>0.891867</td>\n",
       "      <td>0.886350</td>\n",
       "      <td>0.886906</td>\n",
       "      <td>0.886559</td>\n",
       "    </tr>\n",
       "    <tr>\n",
       "      <th>2</th>\n",
       "      <td>2.040051</td>\n",
       "      <td>0.031252</td>\n",
       "      <td>0.900732</td>\n",
       "      <td>0.895266</td>\n",
       "      <td>0.895741</td>\n",
       "      <td>0.895442</td>\n",
       "    </tr>\n",
       "    <tr>\n",
       "      <th>3</th>\n",
       "      <td>2.053998</td>\n",
       "      <td>0.031254</td>\n",
       "      <td>0.897840</td>\n",
       "      <td>0.892398</td>\n",
       "      <td>0.892719</td>\n",
       "      <td>0.892479</td>\n",
       "    </tr>\n",
       "    <tr>\n",
       "      <th>4</th>\n",
       "      <td>2.109480</td>\n",
       "      <td>0.031249</td>\n",
       "      <td>0.890663</td>\n",
       "      <td>0.884706</td>\n",
       "      <td>0.885223</td>\n",
       "      <td>0.884912</td>\n",
       "    </tr>\n",
       "    <tr>\n",
       "      <th>5</th>\n",
       "      <td>2.072637</td>\n",
       "      <td>0.032981</td>\n",
       "      <td>0.896714</td>\n",
       "      <td>0.891032</td>\n",
       "      <td>0.891151</td>\n",
       "      <td>0.890890</td>\n",
       "    </tr>\n",
       "    <tr>\n",
       "      <th>6</th>\n",
       "      <td>2.120586</td>\n",
       "      <td>0.046871</td>\n",
       "      <td>0.894463</td>\n",
       "      <td>0.888870</td>\n",
       "      <td>0.889303</td>\n",
       "      <td>0.889012</td>\n",
       "    </tr>\n",
       "    <tr>\n",
       "      <th>7</th>\n",
       "      <td>2.103584</td>\n",
       "      <td>0.033980</td>\n",
       "      <td>0.895659</td>\n",
       "      <td>0.889753</td>\n",
       "      <td>0.890355</td>\n",
       "      <td>0.889942</td>\n",
       "    </tr>\n",
       "    <tr>\n",
       "      <th>8</th>\n",
       "      <td>2.157339</td>\n",
       "      <td>0.044832</td>\n",
       "      <td>0.895940</td>\n",
       "      <td>0.890186</td>\n",
       "      <td>0.890610</td>\n",
       "      <td>0.890328</td>\n",
       "    </tr>\n",
       "    <tr>\n",
       "      <th>9</th>\n",
       "      <td>2.063685</td>\n",
       "      <td>0.031253</td>\n",
       "      <td>0.896433</td>\n",
       "      <td>0.890648</td>\n",
       "      <td>0.891045</td>\n",
       "      <td>0.890720</td>\n",
       "    </tr>\n",
       "    <tr>\n",
       "      <th>10</th>\n",
       "      <td>2.129942</td>\n",
       "      <td>0.046870</td>\n",
       "      <td>0.894111</td>\n",
       "      <td>0.888541</td>\n",
       "      <td>0.888999</td>\n",
       "      <td>0.888693</td>\n",
       "    </tr>\n",
       "  </tbody>\n",
       "</table>\n",
       "</div>"
      ],
      "text/plain": [
       "    fit_time  score_time  test_accuracy  test_precision_macro  \\\n",
       "1   2.068333    0.032980       0.891867              0.886350   \n",
       "2   2.040051    0.031252       0.900732              0.895266   \n",
       "3   2.053998    0.031254       0.897840              0.892398   \n",
       "4   2.109480    0.031249       0.890663              0.884706   \n",
       "5   2.072637    0.032981       0.896714              0.891032   \n",
       "6   2.120586    0.046871       0.894463              0.888870   \n",
       "7   2.103584    0.033980       0.895659              0.889753   \n",
       "8   2.157339    0.044832       0.895940              0.890186   \n",
       "9   2.063685    0.031253       0.896433              0.890648   \n",
       "10  2.129942    0.046870       0.894111              0.888541   \n",
       "\n",
       "    test_recall_macro  test_f1_macro  \n",
       "1            0.886906       0.886559  \n",
       "2            0.895741       0.895442  \n",
       "3            0.892719       0.892479  \n",
       "4            0.885223       0.884912  \n",
       "5            0.891151       0.890890  \n",
       "6            0.889303       0.889012  \n",
       "7            0.890355       0.889942  \n",
       "8            0.890610       0.890328  \n",
       "9            0.891045       0.890720  \n",
       "10           0.888999       0.888693  "
      ]
     },
     "execution_count": 70,
     "metadata": {},
     "output_type": "execute_result"
    }
   ],
   "source": [
    "model = DecisionTreeClassifier(random_state=101)\n",
    "\n",
    "scores = cross_validate(model, X_train2, y_train2, scoring = [\"accuracy\", \"precision_macro\", \"recall_macro\", \"f1_macro\"], cv = 10)\n",
    "df_scores = pd.DataFrame(scores, index = range(1, 11))\n",
    "df_scores   #scorelarımın düştüğünü gördüm"
   ]
  },
  {
   "cell_type": "code",
   "execution_count": 71,
   "metadata": {},
   "outputs": [
    {
     "data": {
      "text/plain": [
       "test_accuracy           0.895442\n",
       "test_precision_macro    0.889775\n",
       "test_recall_macro       0.890205\n",
       "test_f1_macro           0.889898\n",
       "dtype: float64"
      ]
     },
     "execution_count": 71,
     "metadata": {},
     "output_type": "execute_result"
    }
   ],
   "source": [
    "df_scores.mean()[2:] #0.89 ortalama"
   ]
  },
  {
   "cell_type": "code",
   "execution_count": null,
   "metadata": {},
   "outputs": [],
   "source": []
  },
  {
   "cell_type": "code",
   "execution_count": null,
   "metadata": {},
   "outputs": [],
   "source": []
  },
  {
   "cell_type": "markdown",
   "metadata": {},
   "source": [
    "# GRID SEARCH çok fazla zaman tüketti "
   ]
  },
  {
   "cell_type": "markdown",
   "metadata": {},
   "source": [
    "from sklearn.model_selection import GridSearchCV\n",
    "from sklearn.tree import DecisionTreeClassifier"
   ]
  },
  {
   "cell_type": "markdown",
   "metadata": {},
   "source": [
    "model = DecisionTreeClassifier(random_state=101)"
   ]
  },
  {
   "cell_type": "markdown",
   "metadata": {},
   "source": [
    "param_grid = {\"splitter\":[\"best\", \"random\"],                         #auto feature karekökünü alır\n",
    "              \"max_features\":[None, \"auto\", \"log2\"],#, 2, 3,4, 5,6, 7], #log2 tüm bunlar overfitten kaçınmak için \n",
    "              \"max_depth\": [None, 2,3],#, 4, 5],\n",
    "              \"min_samples_leaf\": [1, 2],#, 3, 4, 5, 6,7],\n",
    "              \"min_samples_split\": [2, 3]}#, 5, 6, 7,8,9]}"
   ]
  },
  {
   "cell_type": "markdown",
   "metadata": {},
   "source": [
    "grid_model = GridSearchCV(estimator=model,\n",
    "                          param_grid=param_grid,\n",
    "                          scoring='f1_macro',\n",
    "                          cv=10,\n",
    "                          n_jobs = -1)"
   ]
  },
  {
   "cell_type": "markdown",
   "metadata": {},
   "source": [
    "grid_model.fit(X_train, y_train)"
   ]
  },
  {
   "cell_type": "markdown",
   "metadata": {},
   "source": [
    "grid_model.best_params_"
   ]
  },
  {
   "cell_type": "markdown",
   "metadata": {},
   "source": [
    "model_Tree_tuned = DecisionTreeClassifier(max_depth= None, max_features= None, min_samples_leaf= 1, min_samples_split = 2, splitter='best')\n",
    "model_Tree_tuned.fit(X_train , y_train)"
   ]
  },
  {
   "cell_type": "markdown",
   "metadata": {},
   "source": [
    "y_pred_test = model_Tree_tuned.predict(X_test)\n",
    "y_pred_train = model_Tree_tuned.predict(X_train)"
   ]
  },
  {
   "cell_type": "markdown",
   "metadata": {},
   "source": []
  },
  {
   "cell_type": "code",
   "execution_count": 72,
   "metadata": {},
   "outputs": [],
   "source": [
    "#eval_model(model_Tree,X_train, y_train, X_test, y_test,y_pred_test,y_pred_train)"
   ]
  },
  {
   "cell_type": "markdown",
   "metadata": {
    "id": "8-Hv3OSrASC0"
   },
   "source": [
    "### Implement Random Forest Classifier\n",
    "- Import the modul \n",
    "- Fit the model \n",
    "- Predict the test set\n",
    "- Visualize and evaluate the result (use yellowbrick module)"
   ]
  },
  {
   "cell_type": "code",
   "execution_count": 73,
   "metadata": {},
   "outputs": [],
   "source": [
    "from sklearn.metrics import confusion_matrix,classification_report,plot_confusion_matrix\n",
    "\n",
    "def eval_metric(model, X_train, y_train, X_test, y_test):\n",
    "    y_train_pred = model.predict(X_train)\n",
    "    y_pred = model.predict(X_test)\n",
    "    \n",
    "    print(\"Test_Set\")\n",
    "    print(confusion_matrix(y_test, y_pred))\n",
    "    print(classification_report(y_test, y_pred))\n",
    "    print()\n",
    "    print(\"Train_Set\")\n",
    "    print(confusion_matrix(y_train, y_train_pred))\n",
    "    print(classification_report(y_train, y_train_pred))"
   ]
  },
  {
   "cell_type": "code",
   "execution_count": 74,
   "metadata": {
    "cell_style": "split",
    "id": "C871JJvXASC0"
   },
   "outputs": [
    {
     "data": {
      "application/javascript": [
       "\n",
       "        if (window._pyforest_update_imports_cell) { window._pyforest_update_imports_cell('from sklearn.ensemble import RandomForestClassifier'); }\n",
       "    "
      ],
      "text/plain": [
       "<IPython.core.display.Javascript object>"
      ]
     },
     "metadata": {},
     "output_type": "display_data"
    },
    {
     "name": "stdout",
     "output_type": "stream",
     "text": [
      "Test_Set\n",
      "[[7102  677    9    0   45   12  152]\n",
      " [ 661 6569  140    0  214  166   12]\n",
      " [   1   15 8346   96   18  357    0]\n",
      " [   0    0    6 9819    0    6    0]\n",
      " [   0   27   21    0 9149   10    0]\n",
      " [   0    7  154   59    3 9181    0]\n",
      " [  29    1    0    0    0    0 7850]]\n",
      "              precision    recall  f1-score   support\n",
      "\n",
      "           1       0.91      0.89      0.90      7997\n",
      "           2       0.90      0.85      0.87      7762\n",
      "           3       0.96      0.94      0.95      8833\n",
      "           4       0.98      1.00      0.99      9831\n",
      "           5       0.97      0.99      0.98      9207\n",
      "           6       0.94      0.98      0.96      9404\n",
      "           7       0.98      1.00      0.99      7880\n",
      "\n",
      "    accuracy                           0.95     60914\n",
      "   macro avg       0.95      0.95      0.95     60914\n",
      "weighted avg       0.95      0.95      0.95     60914\n",
      "\n",
      "\n",
      "Train_Set\n",
      "[[18720     0     0     0     0     0     0]\n",
      " [    0 18076     0     0     0     0     0]\n",
      " [    0     0 20655     0     0     0     0]\n",
      " [    0     0     0 22865     0     0     0]\n",
      " [    0     0     0     0 21214     0     0]\n",
      " [    0     0     0     0     0 22283     0]\n",
      " [    0     0     0     0     0     0 18319]]\n",
      "              precision    recall  f1-score   support\n",
      "\n",
      "           1       1.00      1.00      1.00     18720\n",
      "           2       1.00      1.00      1.00     18076\n",
      "           3       1.00      1.00      1.00     20655\n",
      "           4       1.00      1.00      1.00     22865\n",
      "           5       1.00      1.00      1.00     21214\n",
      "           6       1.00      1.00      1.00     22283\n",
      "           7       1.00      1.00      1.00     18319\n",
      "\n",
      "    accuracy                           1.00    142132\n",
      "   macro avg       1.00      1.00      1.00    142132\n",
      "weighted avg       1.00      1.00      1.00    142132\n",
      "\n"
     ]
    }
   ],
   "source": [
    "rf_model = RandomForestClassifier(random_state=101)\n",
    "rf_model.fit(X_train,y_train)\n",
    "eval_metric(rf_model, X_train, y_train, X_test, y_test)"
   ]
  },
  {
   "cell_type": "code",
   "execution_count": 75,
   "metadata": {},
   "outputs": [
    {
     "data": {
      "application/javascript": [
       "\n",
       "        if (window._pyforest_update_imports_cell) { window._pyforest_update_imports_cell('from sklearn.ensemble import RandomForestClassifier'); }\n",
       "    "
      ],
      "text/plain": [
       "<IPython.core.display.Javascript object>"
      ]
     },
     "metadata": {},
     "output_type": "display_data"
    },
    {
     "data": {
      "text/plain": [
       "test_accuracy           0.951489\n",
       "test_precision_macro    0.949234\n",
       "test_recall_macro       0.948251\n",
       "test_f1_macro           0.948517\n",
       "dtype: float64"
      ]
     },
     "execution_count": 75,
     "metadata": {},
     "output_type": "execute_result"
    }
   ],
   "source": [
    "from sklearn.model_selection import cross_val_score, cross_validate\n",
    "from sklearn.metrics import accuracy_score, f1_score, recall_score, precision_score\n",
    "from sklearn.metrics import make_scorer\n",
    "model = RandomForestClassifier(random_state=101)\n",
    "\n",
    "scores = cross_validate(model, X_train, y_train, scoring = [\"accuracy\", \"precision_macro\", \"recall_macro\", \"f1_macro\"], cv = 10)\n",
    "df_scores = pd.DataFrame(scores, index = range(1, 11))\n",
    "RFS=df_scores.mean()[2:] #random forest sonucuda burada ortaya çıkıyor\n",
    "RFS"
   ]
  },
  {
   "cell_type": "code",
   "execution_count": null,
   "metadata": {},
   "outputs": [],
   "source": []
  },
  {
   "cell_type": "markdown",
   "metadata": {},
   "source": [
    "# RF Model Feature Importance"
   ]
  },
  {
   "cell_type": "code",
   "execution_count": 76,
   "metadata": {},
   "outputs": [
    {
     "data": {
      "text/html": [
       "<div>\n",
       "<style scoped>\n",
       "    .dataframe tbody tr th:only-of-type {\n",
       "        vertical-align: middle;\n",
       "    }\n",
       "\n",
       "    .dataframe tbody tr th {\n",
       "        vertical-align: top;\n",
       "    }\n",
       "\n",
       "    .dataframe thead th {\n",
       "        text-align: right;\n",
       "    }\n",
       "</style>\n",
       "<table border=\"1\" class=\"dataframe\">\n",
       "  <thead>\n",
       "    <tr style=\"text-align: right;\">\n",
       "      <th></th>\n",
       "      <th>Feature Importance</th>\n",
       "    </tr>\n",
       "  </thead>\n",
       "  <tbody>\n",
       "    <tr>\n",
       "      <th>Average_Elevation_Hydro</th>\n",
       "      <td>0.227035</td>\n",
       "    </tr>\n",
       "    <tr>\n",
       "      <th>Average_Dist_Road_Hydro</th>\n",
       "      <td>0.105403</td>\n",
       "    </tr>\n",
       "    <tr>\n",
       "      <th>hypo_distance</th>\n",
       "      <td>0.090935</td>\n",
       "    </tr>\n",
       "    <tr>\n",
       "      <th>Horizontal_Distance_To_Fire_Points</th>\n",
       "      <td>0.090894</td>\n",
       "    </tr>\n",
       "    <tr>\n",
       "      <th>Aspect</th>\n",
       "      <td>0.050350</td>\n",
       "    </tr>\n",
       "    <tr>\n",
       "      <th>Hillshade_9am</th>\n",
       "      <td>0.048286</td>\n",
       "    </tr>\n",
       "    <tr>\n",
       "      <th>Wilderness_Area_4</th>\n",
       "      <td>0.044940</td>\n",
       "    </tr>\n",
       "    <tr>\n",
       "      <th>Hillshade_3pm</th>\n",
       "      <td>0.043810</td>\n",
       "    </tr>\n",
       "    <tr>\n",
       "      <th>Hillshade_Noon</th>\n",
       "      <td>0.042220</td>\n",
       "    </tr>\n",
       "    <tr>\n",
       "      <th>Slope</th>\n",
       "      <td>0.033284</td>\n",
       "    </tr>\n",
       "    <tr>\n",
       "      <th>Soil_Type_10</th>\n",
       "      <td>0.021242</td>\n",
       "    </tr>\n",
       "    <tr>\n",
       "      <th>Wilderness_Area_3</th>\n",
       "      <td>0.020416</td>\n",
       "    </tr>\n",
       "    <tr>\n",
       "      <th>Soil_Type_39</th>\n",
       "      <td>0.017916</td>\n",
       "    </tr>\n",
       "    <tr>\n",
       "      <th>Soil_Type_3</th>\n",
       "      <td>0.017522</td>\n",
       "    </tr>\n",
       "    <tr>\n",
       "      <th>Soil_Type_38</th>\n",
       "      <td>0.015694</td>\n",
       "    </tr>\n",
       "    <tr>\n",
       "      <th>Soil_Type_4</th>\n",
       "      <td>0.015609</td>\n",
       "    </tr>\n",
       "    <tr>\n",
       "      <th>Wilderness_Area_1</th>\n",
       "      <td>0.015582</td>\n",
       "    </tr>\n",
       "    <tr>\n",
       "      <th>Soil_Type_2</th>\n",
       "      <td>0.009317</td>\n",
       "    </tr>\n",
       "    <tr>\n",
       "      <th>Soil_Type_30</th>\n",
       "      <td>0.007967</td>\n",
       "    </tr>\n",
       "    <tr>\n",
       "      <th>Soil_Type_22</th>\n",
       "      <td>0.006661</td>\n",
       "    </tr>\n",
       "    <tr>\n",
       "      <th>Soil_Type_23</th>\n",
       "      <td>0.006657</td>\n",
       "    </tr>\n",
       "    <tr>\n",
       "      <th>Soil_Type_13</th>\n",
       "      <td>0.006277</td>\n",
       "    </tr>\n",
       "    <tr>\n",
       "      <th>Soil_Type_40</th>\n",
       "      <td>0.006272</td>\n",
       "    </tr>\n",
       "    <tr>\n",
       "      <th>Soil_Type_32</th>\n",
       "      <td>0.005128</td>\n",
       "    </tr>\n",
       "    <tr>\n",
       "      <th>Soil_Type_33</th>\n",
       "      <td>0.005097</td>\n",
       "    </tr>\n",
       "    <tr>\n",
       "      <th>Soil_Type_17</th>\n",
       "      <td>0.005078</td>\n",
       "    </tr>\n",
       "    <tr>\n",
       "      <th>Soil_Type_12</th>\n",
       "      <td>0.004962</td>\n",
       "    </tr>\n",
       "    <tr>\n",
       "      <th>Wilderness_Area_2</th>\n",
       "      <td>0.004637</td>\n",
       "    </tr>\n",
       "    <tr>\n",
       "      <th>Soil_Type_29</th>\n",
       "      <td>0.004391</td>\n",
       "    </tr>\n",
       "    <tr>\n",
       "      <th>Soil_Type_11</th>\n",
       "      <td>0.004167</td>\n",
       "    </tr>\n",
       "    <tr>\n",
       "      <th>Soil_Type_31</th>\n",
       "      <td>0.004135</td>\n",
       "    </tr>\n",
       "    <tr>\n",
       "      <th>Soil_Type_6</th>\n",
       "      <td>0.003503</td>\n",
       "    </tr>\n",
       "    <tr>\n",
       "      <th>Soil_Type_24</th>\n",
       "      <td>0.003282</td>\n",
       "    </tr>\n",
       "    <tr>\n",
       "      <th>Soil_Type_1</th>\n",
       "      <td>0.002196</td>\n",
       "    </tr>\n",
       "    <tr>\n",
       "      <th>Soil_Type_35</th>\n",
       "      <td>0.002111</td>\n",
       "    </tr>\n",
       "    <tr>\n",
       "      <th>Soil_Type_20</th>\n",
       "      <td>0.001679</td>\n",
       "    </tr>\n",
       "    <tr>\n",
       "      <th>Soil_Type_5</th>\n",
       "      <td>0.001439</td>\n",
       "    </tr>\n",
       "    <tr>\n",
       "      <th>Soil_Type_26</th>\n",
       "      <td>0.000635</td>\n",
       "    </tr>\n",
       "    <tr>\n",
       "      <th>Soil_Type_16</th>\n",
       "      <td>0.000525</td>\n",
       "    </tr>\n",
       "    <tr>\n",
       "      <th>Soil_Type_14</th>\n",
       "      <td>0.000523</td>\n",
       "    </tr>\n",
       "    <tr>\n",
       "      <th>Soil_Type_34</th>\n",
       "      <td>0.000485</td>\n",
       "    </tr>\n",
       "    <tr>\n",
       "      <th>Soil_Type_37</th>\n",
       "      <td>0.000439</td>\n",
       "    </tr>\n",
       "    <tr>\n",
       "      <th>Soil_Type_19</th>\n",
       "      <td>0.000363</td>\n",
       "    </tr>\n",
       "    <tr>\n",
       "      <th>Soil_Type_21</th>\n",
       "      <td>0.000285</td>\n",
       "    </tr>\n",
       "    <tr>\n",
       "      <th>Soil_Type_27</th>\n",
       "      <td>0.000182</td>\n",
       "    </tr>\n",
       "    <tr>\n",
       "      <th>Soil_Type_18</th>\n",
       "      <td>0.000159</td>\n",
       "    </tr>\n",
       "    <tr>\n",
       "      <th>Soil_Type_9</th>\n",
       "      <td>0.000140</td>\n",
       "    </tr>\n",
       "    <tr>\n",
       "      <th>Soil_Type_28</th>\n",
       "      <td>0.000129</td>\n",
       "    </tr>\n",
       "    <tr>\n",
       "      <th>Soil_Type_25</th>\n",
       "      <td>0.000028</td>\n",
       "    </tr>\n",
       "    <tr>\n",
       "      <th>Soil_Type_36</th>\n",
       "      <td>0.000011</td>\n",
       "    </tr>\n",
       "    <tr>\n",
       "      <th>Soil_Type_8</th>\n",
       "      <td>0.000000</td>\n",
       "    </tr>\n",
       "    <tr>\n",
       "      <th>Soil_Type_7</th>\n",
       "      <td>0.000000</td>\n",
       "    </tr>\n",
       "    <tr>\n",
       "      <th>Soil_Type_15</th>\n",
       "      <td>0.000000</td>\n",
       "    </tr>\n",
       "  </tbody>\n",
       "</table>\n",
       "</div>"
      ],
      "text/plain": [
       "                                    Feature Importance\n",
       "Average_Elevation_Hydro                       0.227035\n",
       "Average_Dist_Road_Hydro                       0.105403\n",
       "hypo_distance                                 0.090935\n",
       "Horizontal_Distance_To_Fire_Points            0.090894\n",
       "Aspect                                        0.050350\n",
       "Hillshade_9am                                 0.048286\n",
       "Wilderness_Area_4                             0.044940\n",
       "Hillshade_3pm                                 0.043810\n",
       "Hillshade_Noon                                0.042220\n",
       "Slope                                         0.033284\n",
       "Soil_Type_10                                  0.021242\n",
       "Wilderness_Area_3                             0.020416\n",
       "Soil_Type_39                                  0.017916\n",
       "Soil_Type_3                                   0.017522\n",
       "Soil_Type_38                                  0.015694\n",
       "Soil_Type_4                                   0.015609\n",
       "Wilderness_Area_1                             0.015582\n",
       "Soil_Type_2                                   0.009317\n",
       "Soil_Type_30                                  0.007967\n",
       "Soil_Type_22                                  0.006661\n",
       "Soil_Type_23                                  0.006657\n",
       "Soil_Type_13                                  0.006277\n",
       "Soil_Type_40                                  0.006272\n",
       "Soil_Type_32                                  0.005128\n",
       "Soil_Type_33                                  0.005097\n",
       "Soil_Type_17                                  0.005078\n",
       "Soil_Type_12                                  0.004962\n",
       "Wilderness_Area_2                             0.004637\n",
       "Soil_Type_29                                  0.004391\n",
       "Soil_Type_11                                  0.004167\n",
       "Soil_Type_31                                  0.004135\n",
       "Soil_Type_6                                   0.003503\n",
       "Soil_Type_24                                  0.003282\n",
       "Soil_Type_1                                   0.002196\n",
       "Soil_Type_35                                  0.002111\n",
       "Soil_Type_20                                  0.001679\n",
       "Soil_Type_5                                   0.001439\n",
       "Soil_Type_26                                  0.000635\n",
       "Soil_Type_16                                  0.000525\n",
       "Soil_Type_14                                  0.000523\n",
       "Soil_Type_34                                  0.000485\n",
       "Soil_Type_37                                  0.000439\n",
       "Soil_Type_19                                  0.000363\n",
       "Soil_Type_21                                  0.000285\n",
       "Soil_Type_27                                  0.000182\n",
       "Soil_Type_18                                  0.000159\n",
       "Soil_Type_9                                   0.000140\n",
       "Soil_Type_28                                  0.000129\n",
       "Soil_Type_25                                  0.000028\n",
       "Soil_Type_36                                  0.000011\n",
       "Soil_Type_8                                   0.000000\n",
       "Soil_Type_7                                   0.000000\n",
       "Soil_Type_15                                  0.000000"
      ]
     },
     "execution_count": 76,
     "metadata": {},
     "output_type": "execute_result"
    }
   ],
   "source": [
    "rf_feature_imp = pd.DataFrame(index = X.columns, data = rf_model.feature_importances_,\n",
    "                              columns = [\"Feature Importance\"]).sort_values(\"Feature Importance\", ascending = False)\n",
    "rf_feature_imp"
   ]
  },
  {
   "cell_type": "code",
   "execution_count": 77,
   "metadata": {},
   "outputs": [
    {
     "data": {
      "image/png": "[encoded data removed]",
      "text/plain": [
       "<Figure size 1296x1296 with 1 Axes>"
      ]
     },
     "metadata": {},
     "output_type": "display_data"
    }
   ],
   "source": [
    "plt.figure(figsize=(18,18))\n",
    "ax = sns.barplot(x=rf_feature_imp[\"Feature Importance\"], y=rf_feature_imp.index)\n",
    "plt.title(\"Feature Importance for Random Forest\")\n",
    "plt.show()"
   ]
  },
  {
   "cell_type": "code",
   "execution_count": 78,
   "metadata": {
    "scrolled": true
   },
   "outputs": [
    {
     "data": {
      "text/html": [
       "<div>\n",
       "<style scoped>\n",
       "    .dataframe tbody tr th:only-of-type {\n",
       "        vertical-align: middle;\n",
       "    }\n",
       "\n",
       "    .dataframe tbody tr th {\n",
       "        vertical-align: top;\n",
       "    }\n",
       "\n",
       "    .dataframe thead th {\n",
       "        text-align: right;\n",
       "    }\n",
       "</style>\n",
       "<table border=\"1\" class=\"dataframe\">\n",
       "  <thead>\n",
       "    <tr style=\"text-align: right;\">\n",
       "      <th></th>\n",
       "      <th>Feature Importance</th>\n",
       "      <th>Feature Importance</th>\n",
       "    </tr>\n",
       "  </thead>\n",
       "  <tbody>\n",
       "    <tr>\n",
       "      <th>Average_Elevation_Hydro</th>\n",
       "      <td>0.227035</td>\n",
       "      <td>0.372394</td>\n",
       "    </tr>\n",
       "    <tr>\n",
       "      <th>Average_Dist_Road_Hydro</th>\n",
       "      <td>0.105403</td>\n",
       "      <td>0.108674</td>\n",
       "    </tr>\n",
       "    <tr>\n",
       "      <th>hypo_distance</th>\n",
       "      <td>0.090935</td>\n",
       "      <td>0.103160</td>\n",
       "    </tr>\n",
       "    <tr>\n",
       "      <th>Horizontal_Distance_To_Fire_Points</th>\n",
       "      <td>0.090894</td>\n",
       "      <td>0.107735</td>\n",
       "    </tr>\n",
       "    <tr>\n",
       "      <th>Aspect</th>\n",
       "      <td>0.050350</td>\n",
       "      <td>0.034797</td>\n",
       "    </tr>\n",
       "    <tr>\n",
       "      <th>Hillshade_9am</th>\n",
       "      <td>0.048286</td>\n",
       "      <td>0.042116</td>\n",
       "    </tr>\n",
       "    <tr>\n",
       "      <th>Wilderness_Area_4</th>\n",
       "      <td>0.044940</td>\n",
       "      <td>0.010336</td>\n",
       "    </tr>\n",
       "    <tr>\n",
       "      <th>Hillshade_3pm</th>\n",
       "      <td>0.043810</td>\n",
       "      <td>0.018920</td>\n",
       "    </tr>\n",
       "    <tr>\n",
       "      <th>Hillshade_Noon</th>\n",
       "      <td>0.042220</td>\n",
       "      <td>0.032876</td>\n",
       "    </tr>\n",
       "    <tr>\n",
       "      <th>Slope</th>\n",
       "      <td>0.033284</td>\n",
       "      <td>0.019825</td>\n",
       "    </tr>\n",
       "    <tr>\n",
       "      <th>Soil_Type_10</th>\n",
       "      <td>0.021242</td>\n",
       "      <td>0.012440</td>\n",
       "    </tr>\n",
       "    <tr>\n",
       "      <th>Wilderness_Area_3</th>\n",
       "      <td>0.020416</td>\n",
       "      <td>0.004031</td>\n",
       "    </tr>\n",
       "    <tr>\n",
       "      <th>Soil_Type_39</th>\n",
       "      <td>0.017916</td>\n",
       "      <td>0.006191</td>\n",
       "    </tr>\n",
       "    <tr>\n",
       "      <th>Soil_Type_3</th>\n",
       "      <td>0.017522</td>\n",
       "      <td>0.021757</td>\n",
       "    </tr>\n",
       "    <tr>\n",
       "      <th>Soil_Type_38</th>\n",
       "      <td>0.015694</td>\n",
       "      <td>0.003243</td>\n",
       "    </tr>\n",
       "    <tr>\n",
       "      <th>Soil_Type_4</th>\n",
       "      <td>0.015609</td>\n",
       "      <td>0.016845</td>\n",
       "    </tr>\n",
       "    <tr>\n",
       "      <th>Wilderness_Area_1</th>\n",
       "      <td>0.015582</td>\n",
       "      <td>0.022875</td>\n",
       "    </tr>\n",
       "    <tr>\n",
       "      <th>Soil_Type_2</th>\n",
       "      <td>0.009317</td>\n",
       "      <td>0.003483</td>\n",
       "    </tr>\n",
       "    <tr>\n",
       "      <th>Soil_Type_30</th>\n",
       "      <td>0.007967</td>\n",
       "      <td>0.001038</td>\n",
       "    </tr>\n",
       "    <tr>\n",
       "      <th>Soil_Type_22</th>\n",
       "      <td>0.006661</td>\n",
       "      <td>0.003833</td>\n",
       "    </tr>\n",
       "    <tr>\n",
       "      <th>Soil_Type_23</th>\n",
       "      <td>0.006657</td>\n",
       "      <td>0.003867</td>\n",
       "    </tr>\n",
       "    <tr>\n",
       "      <th>Soil_Type_13</th>\n",
       "      <td>0.006277</td>\n",
       "      <td>0.006404</td>\n",
       "    </tr>\n",
       "    <tr>\n",
       "      <th>Soil_Type_40</th>\n",
       "      <td>0.006272</td>\n",
       "      <td>0.000579</td>\n",
       "    </tr>\n",
       "    <tr>\n",
       "      <th>Soil_Type_32</th>\n",
       "      <td>0.005128</td>\n",
       "      <td>0.004692</td>\n",
       "    </tr>\n",
       "    <tr>\n",
       "      <th>Soil_Type_33</th>\n",
       "      <td>0.005097</td>\n",
       "      <td>0.005242</td>\n",
       "    </tr>\n",
       "    <tr>\n",
       "      <th>Soil_Type_17</th>\n",
       "      <td>0.005078</td>\n",
       "      <td>0.004037</td>\n",
       "    </tr>\n",
       "    <tr>\n",
       "      <th>Soil_Type_12</th>\n",
       "      <td>0.004962</td>\n",
       "      <td>0.000785</td>\n",
       "    </tr>\n",
       "    <tr>\n",
       "      <th>Wilderness_Area_2</th>\n",
       "      <td>0.004637</td>\n",
       "      <td>0.002959</td>\n",
       "    </tr>\n",
       "    <tr>\n",
       "      <th>Soil_Type_29</th>\n",
       "      <td>0.004391</td>\n",
       "      <td>0.002806</td>\n",
       "    </tr>\n",
       "    <tr>\n",
       "      <th>Soil_Type_11</th>\n",
       "      <td>0.004167</td>\n",
       "      <td>0.004455</td>\n",
       "    </tr>\n",
       "    <tr>\n",
       "      <th>Soil_Type_31</th>\n",
       "      <td>0.004135</td>\n",
       "      <td>0.005120</td>\n",
       "    </tr>\n",
       "    <tr>\n",
       "      <th>Soil_Type_6</th>\n",
       "      <td>0.003503</td>\n",
       "      <td>0.002373</td>\n",
       "    </tr>\n",
       "    <tr>\n",
       "      <th>Soil_Type_24</th>\n",
       "      <td>0.003282</td>\n",
       "      <td>0.002451</td>\n",
       "    </tr>\n",
       "    <tr>\n",
       "      <th>Soil_Type_1</th>\n",
       "      <td>0.002196</td>\n",
       "      <td>0.001276</td>\n",
       "    </tr>\n",
       "    <tr>\n",
       "      <th>Soil_Type_35</th>\n",
       "      <td>0.002111</td>\n",
       "      <td>0.000942</td>\n",
       "    </tr>\n",
       "    <tr>\n",
       "      <th>Soil_Type_20</th>\n",
       "      <td>0.001679</td>\n",
       "      <td>0.001651</td>\n",
       "    </tr>\n",
       "    <tr>\n",
       "      <th>Soil_Type_5</th>\n",
       "      <td>0.001439</td>\n",
       "      <td>0.001185</td>\n",
       "    </tr>\n",
       "    <tr>\n",
       "      <th>Soil_Type_26</th>\n",
       "      <td>0.000635</td>\n",
       "      <td>0.000160</td>\n",
       "    </tr>\n",
       "    <tr>\n",
       "      <th>Soil_Type_16</th>\n",
       "      <td>0.000525</td>\n",
       "      <td>0.000398</td>\n",
       "    </tr>\n",
       "    <tr>\n",
       "      <th>Soil_Type_14</th>\n",
       "      <td>0.000523</td>\n",
       "      <td>0.000223</td>\n",
       "    </tr>\n",
       "    <tr>\n",
       "      <th>Soil_Type_34</th>\n",
       "      <td>0.000485</td>\n",
       "      <td>0.001088</td>\n",
       "    </tr>\n",
       "    <tr>\n",
       "      <th>Soil_Type_37</th>\n",
       "      <td>0.000439</td>\n",
       "      <td>0.000032</td>\n",
       "    </tr>\n",
       "    <tr>\n",
       "      <th>Soil_Type_19</th>\n",
       "      <td>0.000363</td>\n",
       "      <td>0.000289</td>\n",
       "    </tr>\n",
       "    <tr>\n",
       "      <th>Soil_Type_21</th>\n",
       "      <td>0.000285</td>\n",
       "      <td>0.000118</td>\n",
       "    </tr>\n",
       "    <tr>\n",
       "      <th>Soil_Type_27</th>\n",
       "      <td>0.000182</td>\n",
       "      <td>0.000097</td>\n",
       "    </tr>\n",
       "    <tr>\n",
       "      <th>Soil_Type_18</th>\n",
       "      <td>0.000159</td>\n",
       "      <td>0.000000</td>\n",
       "    </tr>\n",
       "    <tr>\n",
       "      <th>Soil_Type_9</th>\n",
       "      <td>0.000140</td>\n",
       "      <td>0.000044</td>\n",
       "    </tr>\n",
       "    <tr>\n",
       "      <th>Soil_Type_28</th>\n",
       "      <td>0.000129</td>\n",
       "      <td>0.000157</td>\n",
       "    </tr>\n",
       "    <tr>\n",
       "      <th>Soil_Type_25</th>\n",
       "      <td>0.000028</td>\n",
       "      <td>0.000000</td>\n",
       "    </tr>\n",
       "    <tr>\n",
       "      <th>Soil_Type_36</th>\n",
       "      <td>0.000011</td>\n",
       "      <td>0.000000</td>\n",
       "    </tr>\n",
       "    <tr>\n",
       "      <th>Soil_Type_8</th>\n",
       "      <td>0.000000</td>\n",
       "      <td>0.000000</td>\n",
       "    </tr>\n",
       "    <tr>\n",
       "      <th>Soil_Type_7</th>\n",
       "      <td>0.000000</td>\n",
       "      <td>0.000000</td>\n",
       "    </tr>\n",
       "    <tr>\n",
       "      <th>Soil_Type_15</th>\n",
       "      <td>0.000000</td>\n",
       "      <td>0.000000</td>\n",
       "    </tr>\n",
       "  </tbody>\n",
       "</table>\n",
       "</div>"
      ],
      "text/plain": [
       "                                    Feature Importance  Feature Importance\n",
       "Average_Elevation_Hydro                       0.227035            0.372394\n",
       "Average_Dist_Road_Hydro                       0.105403            0.108674\n",
       "hypo_distance                                 0.090935            0.103160\n",
       "Horizontal_Distance_To_Fire_Points            0.090894            0.107735\n",
       "Aspect                                        0.050350            0.034797\n",
       "Hillshade_9am                                 0.048286            0.042116\n",
       "Wilderness_Area_4                             0.044940            0.010336\n",
       "Hillshade_3pm                                 0.043810            0.018920\n",
       "Hillshade_Noon                                0.042220            0.032876\n",
       "Slope                                         0.033284            0.019825\n",
       "Soil_Type_10                                  0.021242            0.012440\n",
       "Wilderness_Area_3                             0.020416            0.004031\n",
       "Soil_Type_39                                  0.017916            0.006191\n",
       "Soil_Type_3                                   0.017522            0.021757\n",
       "Soil_Type_38                                  0.015694            0.003243\n",
       "Soil_Type_4                                   0.015609            0.016845\n",
       "Wilderness_Area_1                             0.015582            0.022875\n",
       "Soil_Type_2                                   0.009317            0.003483\n",
       "Soil_Type_30                                  0.007967            0.001038\n",
       "Soil_Type_22                                  0.006661            0.003833\n",
       "Soil_Type_23                                  0.006657            0.003867\n",
       "Soil_Type_13                                  0.006277            0.006404\n",
       "Soil_Type_40                                  0.006272            0.000579\n",
       "Soil_Type_32                                  0.005128            0.004692\n",
       "Soil_Type_33                                  0.005097            0.005242\n",
       "Soil_Type_17                                  0.005078            0.004037\n",
       "Soil_Type_12                                  0.004962            0.000785\n",
       "Wilderness_Area_2                             0.004637            0.002959\n",
       "Soil_Type_29                                  0.004391            0.002806\n",
       "Soil_Type_11                                  0.004167            0.004455\n",
       "Soil_Type_31                                  0.004135            0.005120\n",
       "Soil_Type_6                                   0.003503            0.002373\n",
       "Soil_Type_24                                  0.003282            0.002451\n",
       "Soil_Type_1                                   0.002196            0.001276\n",
       "Soil_Type_35                                  0.002111            0.000942\n",
       "Soil_Type_20                                  0.001679            0.001651\n",
       "Soil_Type_5                                   0.001439            0.001185\n",
       "Soil_Type_26                                  0.000635            0.000160\n",
       "Soil_Type_16                                  0.000525            0.000398\n",
       "Soil_Type_14                                  0.000523            0.000223\n",
       "Soil_Type_34                                  0.000485            0.001088\n",
       "Soil_Type_37                                  0.000439            0.000032\n",
       "Soil_Type_19                                  0.000363            0.000289\n",
       "Soil_Type_21                                  0.000285            0.000118\n",
       "Soil_Type_27                                  0.000182            0.000097\n",
       "Soil_Type_18                                  0.000159            0.000000\n",
       "Soil_Type_9                                   0.000140            0.000044\n",
       "Soil_Type_28                                  0.000129            0.000157\n",
       "Soil_Type_25                                  0.000028            0.000000\n",
       "Soil_Type_36                                  0.000011            0.000000\n",
       "Soil_Type_8                                   0.000000            0.000000\n",
       "Soil_Type_7                                   0.000000            0.000000\n",
       "Soil_Type_15                                  0.000000            0.000000"
      ]
     },
     "execution_count": 78,
     "metadata": {},
     "output_type": "execute_result"
    }
   ],
   "source": [
    "pd.concat([rf_feature_imp, df_f_i], axis=1)"
   ]
  },
  {
   "cell_type": "markdown",
   "metadata": {},
   "source": [
    "# GRID SEARCH RF"
   ]
  },
  {
   "cell_type": "code",
   "execution_count": 79,
   "metadata": {},
   "outputs": [],
   "source": [
    "#from sklearn.metrics import f1_score, accuracy_score\n",
    "#param_grid = {'n_estimators':[50, 100, 300],\n",
    "#             'max_features':[3, 4, \"auto\"],   #64 ve 128 i kontrol ederke \n",
    "#             'max_depth':[3, 5, 7],\n",
    "#             'min_samples_split':[2, 5]}"
   ]
  },
  {
   "cell_type": "code",
   "execution_count": 80,
   "metadata": {},
   "outputs": [],
   "source": [
    "#model = RandomForestClassifier(class_weight = \"balanced\", random_state=101)\n",
    "#rf_grid_model = GridSearchCV(model, param_grid, scoring = \"f1_macro\", n_jobs = -1, verbose = 2).fit(X_train, y_train)\n",
    "#recall iyileştiricek şekilde grid serach yap demiştik "
   ]
  },
  {
   "cell_type": "code",
   "execution_count": 81,
   "metadata": {},
   "outputs": [],
   "source": [
    "#rf_grid_model.best_params_"
   ]
  },
  {
   "cell_type": "code",
   "execution_count": 82,
   "metadata": {},
   "outputs": [],
   "source": [
    "#eval_metric(rf_grid_model, X_train, y_train, X_test, y_test)"
   ]
  },
  {
   "cell_type": "markdown",
   "metadata": {
    "id": "eI7Zd8TLIbfK"
   },
   "source": [
    "### Implement XGBoost Classifer\n",
    "- Import the modul \n",
    "- Fit the model \n",
    "- Predict the test set\n",
    "- Visualize and evaluate the result (use yellowbrick module)"
   ]
  },
  {
   "cell_type": "code",
   "execution_count": 83,
   "metadata": {},
   "outputs": [],
   "source": [
    "from sklearn.metrics import confusion_matrix,classification_report,plot_confusion_matrix\n",
    "\n",
    "def eval_metric(model, X_train, y_train, X_test, y_test):\n",
    "    y_train_pred = model.predict(X_train)\n",
    "    y_pred = model.predict(X_test)\n",
    "    \n",
    "    print(\"Test_Set\")\n",
    "    print(confusion_matrix(y_test, y_pred))\n",
    "    print(classification_report(y_test, y_pred))\n",
    "    print()\n",
    "    print(\"Train_Set\")\n",
    "    print(confusion_matrix(y_train, y_train_pred))\n",
    "    print(classification_report(y_train, y_train_pred))"
   ]
  },
  {
   "cell_type": "code",
   "execution_count": 84,
   "metadata": {
    "cell_style": "split",
    "id": "ZER2XJrrASC0",
    "outputId": "72d0f64e-9751-45b7-d275-8eaec1fed6b1"
   },
   "outputs": [
    {
     "name": "stdout",
     "output_type": "stream",
     "text": [
      "[16:28:12] WARNING: C:/Users/Administrator/workspace/xgboost-win64_release_1.5.1/src/learner.cc:1115: Starting in XGBoost 1.3.0, the default evaluation metric used with the objective 'multi:softprob' was changed from 'merror' to 'mlogloss'. Explicitly set eval_metric if you'd like to restore the old behavior.\n"
     ]
    }
   ],
   "source": [
    "from xgboost import XGBClassifier\n",
    "model_XGB = XGBClassifier().fit(X_train , y_train)\n",
    "y_pred_test = model_XGB.predict(X_test)\n",
    "y_pred_train = model_XGB.predict(X_train)\n"
   ]
  },
  {
   "cell_type": "code",
   "execution_count": 85,
   "metadata": {},
   "outputs": [
    {
     "name": "stdout",
     "output_type": "stream",
     "text": [
      "Test_Set\n",
      "[[6642  928    8    0  117   14  288]\n",
      " [1214 5644  187    0  494  206   17]\n",
      " [   0   28 7748  131   62  864    0]\n",
      " [   0    0   17 9802    0   12    0]\n",
      " [   1   50   37    0 9088   31    0]\n",
      " [   0   32  411   58   25 8878    0]\n",
      " [  56    0    0    0    0    0 7824]]\n",
      "              precision    recall  f1-score   support\n",
      "\n",
      "           1       0.84      0.83      0.83      7997\n",
      "           2       0.84      0.73      0.78      7762\n",
      "           3       0.92      0.88      0.90      8833\n",
      "           4       0.98      1.00      0.99      9831\n",
      "           5       0.93      0.99      0.96      9207\n",
      "           6       0.89      0.94      0.91      9404\n",
      "           7       0.96      0.99      0.98      7880\n",
      "\n",
      "    accuracy                           0.91     60914\n",
      "   macro avg       0.91      0.91      0.91     60914\n",
      "weighted avg       0.91      0.91      0.91     60914\n",
      "\n",
      "\n",
      "Train_Set\n",
      "[[16327  1674     8     0   241    12   458]\n",
      " [ 2148 14451   297     1   839   310    30]\n",
      " [    0    26 18635   192    97  1705     0]\n",
      " [    0     0    20 22828     0    17     0]\n",
      " [    0    66    55     0 21030    63     0]\n",
      " [    0    27   716    82    59 21399     0]\n",
      " [   71     0     0     0     0     0 18248]]\n",
      "              precision    recall  f1-score   support\n",
      "\n",
      "           1       0.88      0.87      0.88     18720\n",
      "           2       0.89      0.80      0.84     18076\n",
      "           3       0.94      0.90      0.92     20655\n",
      "           4       0.99      1.00      0.99     22865\n",
      "           5       0.94      0.99      0.97     21214\n",
      "           6       0.91      0.96      0.93     22283\n",
      "           7       0.97      1.00      0.98     18319\n",
      "\n",
      "    accuracy                           0.94    142132\n",
      "   macro avg       0.93      0.93      0.93    142132\n",
      "weighted avg       0.93      0.94      0.93    142132\n",
      "\n"
     ]
    }
   ],
   "source": [
    "eval_metric(model_XGB, X_train, y_train, X_test, y_test)"
   ]
  },
  {
   "cell_type": "code",
   "execution_count": 86,
   "metadata": {},
   "outputs": [
    {
     "data": {
      "text/html": [
       "<div>\n",
       "<style scoped>\n",
       "    .dataframe tbody tr th:only-of-type {\n",
       "        vertical-align: middle;\n",
       "    }\n",
       "\n",
       "    .dataframe tbody tr th {\n",
       "        vertical-align: top;\n",
       "    }\n",
       "\n",
       "    .dataframe thead th {\n",
       "        text-align: right;\n",
       "    }\n",
       "</style>\n",
       "<table border=\"1\" class=\"dataframe\">\n",
       "  <thead>\n",
       "    <tr style=\"text-align: right;\">\n",
       "      <th></th>\n",
       "      <th>fi</th>\n",
       "    </tr>\n",
       "  </thead>\n",
       "  <tbody>\n",
       "    <tr>\n",
       "      <th>Wilderness_Area_4</th>\n",
       "      <td>0.285398</td>\n",
       "    </tr>\n",
       "    <tr>\n",
       "      <th>Soil_Type_3</th>\n",
       "      <td>0.073147</td>\n",
       "    </tr>\n",
       "    <tr>\n",
       "      <th>Soil_Type_10</th>\n",
       "      <td>0.058877</td>\n",
       "    </tr>\n",
       "    <tr>\n",
       "      <th>Soil_Type_12</th>\n",
       "      <td>0.054934</td>\n",
       "    </tr>\n",
       "    <tr>\n",
       "      <th>Average_Elevation_Hydro</th>\n",
       "      <td>0.051351</td>\n",
       "    </tr>\n",
       "    <tr>\n",
       "      <th>Soil_Type_30</th>\n",
       "      <td>0.050050</td>\n",
       "    </tr>\n",
       "    <tr>\n",
       "      <th>Soil_Type_4</th>\n",
       "      <td>0.036744</td>\n",
       "    </tr>\n",
       "    <tr>\n",
       "      <th>Wilderness_Area_1</th>\n",
       "      <td>0.027878</td>\n",
       "    </tr>\n",
       "    <tr>\n",
       "      <th>Soil_Type_39</th>\n",
       "      <td>0.027056</td>\n",
       "    </tr>\n",
       "    <tr>\n",
       "      <th>Soil_Type_22</th>\n",
       "      <td>0.024534</td>\n",
       "    </tr>\n",
       "    <tr>\n",
       "      <th>Soil_Type_38</th>\n",
       "      <td>0.021657</td>\n",
       "    </tr>\n",
       "    <tr>\n",
       "      <th>Soil_Type_2</th>\n",
       "      <td>0.018555</td>\n",
       "    </tr>\n",
       "    <tr>\n",
       "      <th>Soil_Type_32</th>\n",
       "      <td>0.018043</td>\n",
       "    </tr>\n",
       "    <tr>\n",
       "      <th>Soil_Type_17</th>\n",
       "      <td>0.015072</td>\n",
       "    </tr>\n",
       "    <tr>\n",
       "      <th>hypo_distance</th>\n",
       "      <td>0.013319</td>\n",
       "    </tr>\n",
       "    <tr>\n",
       "      <th>Soil_Type_13</th>\n",
       "      <td>0.012814</td>\n",
       "    </tr>\n",
       "    <tr>\n",
       "      <th>Soil_Type_23</th>\n",
       "      <td>0.011912</td>\n",
       "    </tr>\n",
       "    <tr>\n",
       "      <th>Wilderness_Area_3</th>\n",
       "      <td>0.011749</td>\n",
       "    </tr>\n",
       "    <tr>\n",
       "      <th>Soil_Type_6</th>\n",
       "      <td>0.011624</td>\n",
       "    </tr>\n",
       "    <tr>\n",
       "      <th>Soil_Type_29</th>\n",
       "      <td>0.011530</td>\n",
       "    </tr>\n",
       "    <tr>\n",
       "      <th>Soil_Type_31</th>\n",
       "      <td>0.011401</td>\n",
       "    </tr>\n",
       "    <tr>\n",
       "      <th>Soil_Type_33</th>\n",
       "      <td>0.011387</td>\n",
       "    </tr>\n",
       "    <tr>\n",
       "      <th>Soil_Type_1</th>\n",
       "      <td>0.011080</td>\n",
       "    </tr>\n",
       "    <tr>\n",
       "      <th>Hillshade_9am</th>\n",
       "      <td>0.009530</td>\n",
       "    </tr>\n",
       "    <tr>\n",
       "      <th>Soil_Type_24</th>\n",
       "      <td>0.009158</td>\n",
       "    </tr>\n",
       "    <tr>\n",
       "      <th>Soil_Type_11</th>\n",
       "      <td>0.008924</td>\n",
       "    </tr>\n",
       "    <tr>\n",
       "      <th>Wilderness_Area_2</th>\n",
       "      <td>0.008175</td>\n",
       "    </tr>\n",
       "    <tr>\n",
       "      <th>Average_Dist_Road_Hydro</th>\n",
       "      <td>0.008019</td>\n",
       "    </tr>\n",
       "    <tr>\n",
       "      <th>Soil_Type_5</th>\n",
       "      <td>0.007765</td>\n",
       "    </tr>\n",
       "    <tr>\n",
       "      <th>Horizontal_Distance_To_Fire_Points</th>\n",
       "      <td>0.006774</td>\n",
       "    </tr>\n",
       "    <tr>\n",
       "      <th>Hillshade_Noon</th>\n",
       "      <td>0.006740</td>\n",
       "    </tr>\n",
       "    <tr>\n",
       "      <th>Soil_Type_20</th>\n",
       "      <td>0.005896</td>\n",
       "    </tr>\n",
       "    <tr>\n",
       "      <th>Aspect</th>\n",
       "      <td>0.005411</td>\n",
       "    </tr>\n",
       "    <tr>\n",
       "      <th>Soil_Type_35</th>\n",
       "      <td>0.005221</td>\n",
       "    </tr>\n",
       "    <tr>\n",
       "      <th>Soil_Type_40</th>\n",
       "      <td>0.005145</td>\n",
       "    </tr>\n",
       "    <tr>\n",
       "      <th>Soil_Type_14</th>\n",
       "      <td>0.005138</td>\n",
       "    </tr>\n",
       "    <tr>\n",
       "      <th>Slope</th>\n",
       "      <td>0.004784</td>\n",
       "    </tr>\n",
       "    <tr>\n",
       "      <th>Soil_Type_21</th>\n",
       "      <td>0.004646</td>\n",
       "    </tr>\n",
       "    <tr>\n",
       "      <th>Hillshade_3pm</th>\n",
       "      <td>0.004195</td>\n",
       "    </tr>\n",
       "    <tr>\n",
       "      <th>Soil_Type_37</th>\n",
       "      <td>0.004148</td>\n",
       "    </tr>\n",
       "    <tr>\n",
       "      <th>Soil_Type_34</th>\n",
       "      <td>0.004068</td>\n",
       "    </tr>\n",
       "    <tr>\n",
       "      <th>Soil_Type_26</th>\n",
       "      <td>0.003147</td>\n",
       "    </tr>\n",
       "    <tr>\n",
       "      <th>Soil_Type_19</th>\n",
       "      <td>0.002676</td>\n",
       "    </tr>\n",
       "    <tr>\n",
       "      <th>Soil_Type_27</th>\n",
       "      <td>0.002625</td>\n",
       "    </tr>\n",
       "    <tr>\n",
       "      <th>Soil_Type_9</th>\n",
       "      <td>0.002574</td>\n",
       "    </tr>\n",
       "    <tr>\n",
       "      <th>Soil_Type_28</th>\n",
       "      <td>0.002406</td>\n",
       "    </tr>\n",
       "    <tr>\n",
       "      <th>Soil_Type_16</th>\n",
       "      <td>0.001829</td>\n",
       "    </tr>\n",
       "    <tr>\n",
       "      <th>Soil_Type_25</th>\n",
       "      <td>0.000490</td>\n",
       "    </tr>\n",
       "    <tr>\n",
       "      <th>Soil_Type_18</th>\n",
       "      <td>0.000404</td>\n",
       "    </tr>\n",
       "    <tr>\n",
       "      <th>Soil_Type_15</th>\n",
       "      <td>0.000000</td>\n",
       "    </tr>\n",
       "    <tr>\n",
       "      <th>Soil_Type_36</th>\n",
       "      <td>0.000000</td>\n",
       "    </tr>\n",
       "    <tr>\n",
       "      <th>Soil_Type_8</th>\n",
       "      <td>0.000000</td>\n",
       "    </tr>\n",
       "    <tr>\n",
       "      <th>Soil_Type_7</th>\n",
       "      <td>0.000000</td>\n",
       "    </tr>\n",
       "  </tbody>\n",
       "</table>\n",
       "</div>"
      ],
      "text/plain": [
       "                                          fi\n",
       "Wilderness_Area_4                   0.285398\n",
       "Soil_Type_3                         0.073147\n",
       "Soil_Type_10                        0.058877\n",
       "Soil_Type_12                        0.054934\n",
       "Average_Elevation_Hydro             0.051351\n",
       "Soil_Type_30                        0.050050\n",
       "Soil_Type_4                         0.036744\n",
       "Wilderness_Area_1                   0.027878\n",
       "Soil_Type_39                        0.027056\n",
       "Soil_Type_22                        0.024534\n",
       "Soil_Type_38                        0.021657\n",
       "Soil_Type_2                         0.018555\n",
       "Soil_Type_32                        0.018043\n",
       "Soil_Type_17                        0.015072\n",
       "hypo_distance                       0.013319\n",
       "Soil_Type_13                        0.012814\n",
       "Soil_Type_23                        0.011912\n",
       "Wilderness_Area_3                   0.011749\n",
       "Soil_Type_6                         0.011624\n",
       "Soil_Type_29                        0.011530\n",
       "Soil_Type_31                        0.011401\n",
       "Soil_Type_33                        0.011387\n",
       "Soil_Type_1                         0.011080\n",
       "Hillshade_9am                       0.009530\n",
       "Soil_Type_24                        0.009158\n",
       "Soil_Type_11                        0.008924\n",
       "Wilderness_Area_2                   0.008175\n",
       "Average_Dist_Road_Hydro             0.008019\n",
       "Soil_Type_5                         0.007765\n",
       "Horizontal_Distance_To_Fire_Points  0.006774\n",
       "Hillshade_Noon                      0.006740\n",
       "Soil_Type_20                        0.005896\n",
       "Aspect                              0.005411\n",
       "Soil_Type_35                        0.005221\n",
       "Soil_Type_40                        0.005145\n",
       "Soil_Type_14                        0.005138\n",
       "Slope                               0.004784\n",
       "Soil_Type_21                        0.004646\n",
       "Hillshade_3pm                       0.004195\n",
       "Soil_Type_37                        0.004148\n",
       "Soil_Type_34                        0.004068\n",
       "Soil_Type_26                        0.003147\n",
       "Soil_Type_19                        0.002676\n",
       "Soil_Type_27                        0.002625\n",
       "Soil_Type_9                         0.002574\n",
       "Soil_Type_28                        0.002406\n",
       "Soil_Type_16                        0.001829\n",
       "Soil_Type_25                        0.000490\n",
       "Soil_Type_18                        0.000404\n",
       "Soil_Type_15                        0.000000\n",
       "Soil_Type_36                        0.000000\n",
       "Soil_Type_8                         0.000000\n",
       "Soil_Type_7                         0.000000"
      ]
     },
     "execution_count": 86,
     "metadata": {},
     "output_type": "execute_result"
    }
   ],
   "source": [
    "fi = pd.DataFrame(model_XGB.feature_importances_, index=list(X_train.columns), columns=[\"fi\"])\n",
    "fi = fi.sort_values(\"fi\",ascending=False)\n",
    "fi"
   ]
  },
  {
   "cell_type": "code",
   "execution_count": 87,
   "metadata": {},
   "outputs": [
    {
     "name": "stdout",
     "output_type": "stream",
     "text": [
      "[16:32:17] WARNING: C:/Users/Administrator/workspace/xgboost-win64_release_1.5.1/src/learner.cc:1115: Starting in XGBoost 1.3.0, the default evaluation metric used with the objective 'multi:softprob' was changed from 'merror' to 'mlogloss'. Explicitly set eval_metric if you'd like to restore the old behavior.\n",
      "[16:35:38] WARNING: C:/Users/Administrator/workspace/xgboost-win64_release_1.5.1/src/learner.cc:1115: Starting in XGBoost 1.3.0, the default evaluation metric used with the objective 'multi:softprob' was changed from 'merror' to 'mlogloss'. Explicitly set eval_metric if you'd like to restore the old behavior.\n",
      "[16:38:54] WARNING: C:/Users/Administrator/workspace/xgboost-win64_release_1.5.1/src/learner.cc:1115: Starting in XGBoost 1.3.0, the default evaluation metric used with the objective 'multi:softprob' was changed from 'merror' to 'mlogloss'. Explicitly set eval_metric if you'd like to restore the old behavior.\n",
      "[16:42:08] WARNING: C:/Users/Administrator/workspace/xgboost-win64_release_1.5.1/src/learner.cc:1115: Starting in XGBoost 1.3.0, the default evaluation metric used with the objective 'multi:softprob' was changed from 'merror' to 'mlogloss'. Explicitly set eval_metric if you'd like to restore the old behavior.\n",
      "[16:45:10] WARNING: C:/Users/Administrator/workspace/xgboost-win64_release_1.5.1/src/learner.cc:1115: Starting in XGBoost 1.3.0, the default evaluation metric used with the objective 'multi:softprob' was changed from 'merror' to 'mlogloss'. Explicitly set eval_metric if you'd like to restore the old behavior.\n",
      "[16:48:16] WARNING: C:/Users/Administrator/workspace/xgboost-win64_release_1.5.1/src/learner.cc:1115: Starting in XGBoost 1.3.0, the default evaluation metric used with the objective 'multi:softprob' was changed from 'merror' to 'mlogloss'. Explicitly set eval_metric if you'd like to restore the old behavior.\n",
      "[16:51:24] WARNING: C:/Users/Administrator/workspace/xgboost-win64_release_1.5.1/src/learner.cc:1115: Starting in XGBoost 1.3.0, the default evaluation metric used with the objective 'multi:softprob' was changed from 'merror' to 'mlogloss'. Explicitly set eval_metric if you'd like to restore the old behavior.\n",
      "[16:54:33] WARNING: C:/Users/Administrator/workspace/xgboost-win64_release_1.5.1/src/learner.cc:1115: Starting in XGBoost 1.3.0, the default evaluation metric used with the objective 'multi:softprob' was changed from 'merror' to 'mlogloss'. Explicitly set eval_metric if you'd like to restore the old behavior.\n",
      "[16:57:44] WARNING: C:/Users/Administrator/workspace/xgboost-win64_release_1.5.1/src/learner.cc:1115: Starting in XGBoost 1.3.0, the default evaluation metric used with the objective 'multi:softprob' was changed from 'merror' to 'mlogloss'. Explicitly set eval_metric if you'd like to restore the old behavior.\n",
      "[17:00:45] WARNING: C:/Users/Administrator/workspace/xgboost-win64_release_1.5.1/src/learner.cc:1115: Starting in XGBoost 1.3.0, the default evaluation metric used with the objective 'multi:softprob' was changed from 'merror' to 'mlogloss'. Explicitly set eval_metric if you'd like to restore the old behavior.\n"
     ]
    },
    {
     "data": {
      "text/plain": [
       "test_accuracy           0.913960\n",
       "test_precision_macro    0.910396\n",
       "test_recall_macro       0.909128\n",
       "test_f1_macro           0.908908\n",
       "dtype: float64"
      ]
     },
     "execution_count": 87,
     "metadata": {},
     "output_type": "execute_result"
    }
   ],
   "source": [
    "from sklearn.model_selection import cross_val_score, cross_validate\n",
    "from sklearn.metrics import accuracy_score, f1_score, recall_score, precision_score\n",
    "from sklearn.metrics import make_scorer\n",
    "model =XGBClassifier()\n",
    "\n",
    "scores = cross_validate(model, X_train, y_train, scoring = [\"accuracy\", \"precision_macro\", \"recall_macro\", \"f1_macro\"], cv = 10)\n",
    "df_scores = pd.DataFrame(scores, index = range(1, 11))\n",
    "XGBS=df_scores.mean()[2:] #random forest sonucuda burada ortaya çıkıyor\n",
    "XGBS"
   ]
  },
  {
   "cell_type": "markdown",
   "metadata": {
    "id": "67xA-4xdASC0"
   },
   "source": [
    "### Compare The Models\n",
    "\n",
    "So far, you have created a multi-classifier model with 4 different algorithms and made predictions. You can observe the performance of the models together with a barplot of your choice.\n",
    "\n",
    "- Which algorithm did you achieve the highest prediction performance with? \n",
    "- What could be the factors that cause this? What are the principles of the most successful algorithm and its differences from other algorithms? \n",
    "\n",
    "In contrast;\n",
    "\n",
    "- Which algorithm did you achieve the lowest prediction performance with? \n",
    "- What could be the factors that cause this? What are the principles of the most successful algorithm and its differences from other algorithms? \n",
    "\n",
    "The answers you will look for to these questions will increase your gains from Machine Learning course."
   ]
  },
  {
   "cell_type": "code",
   "execution_count": 145,
   "metadata": {},
   "outputs": [
    {
     "data": {
      "text/plain": [
       "f1_score_test           0.479319\n",
       "f1_score_train          0.480812\n",
       "accuracy_score_test     0.474784\n",
       "accuracy_score_train    0.475762\n",
       "dtype: float64"
      ]
     },
     "execution_count": 145,
     "metadata": {},
     "output_type": "execute_result"
    }
   ],
   "source": [
    "\n",
    "\n",
    "SVMS"
   ]
  },
  {
   "cell_type": "code",
   "execution_count": 89,
   "metadata": {},
   "outputs": [
    {
     "data": {
      "text/plain": [
       "test_accuracy           0.916205\n",
       "test_precision_macro    0.911723\n",
       "test_recall_macro       0.911864\n",
       "test_f1_macro           0.911713\n",
       "dtype: float64"
      ]
     },
     "execution_count": 89,
     "metadata": {},
     "output_type": "execute_result"
    }
   ],
   "source": [
    "DTS"
   ]
  },
  {
   "cell_type": "code",
   "execution_count": 90,
   "metadata": {},
   "outputs": [
    {
     "data": {
      "text/plain": [
       "test_accuracy           0.951489\n",
       "test_precision_macro    0.949234\n",
       "test_recall_macro       0.948251\n",
       "test_f1_macro           0.948517\n",
       "dtype: float64"
      ]
     },
     "execution_count": 90,
     "metadata": {},
     "output_type": "execute_result"
    }
   ],
   "source": [
    "RFS"
   ]
  },
  {
   "cell_type": "code",
   "execution_count": 91,
   "metadata": {},
   "outputs": [
    {
     "data": {
      "text/plain": [
       "test_accuracy           0.913960\n",
       "test_precision_macro    0.910396\n",
       "test_recall_macro       0.909128\n",
       "test_f1_macro           0.908908\n",
       "dtype: float64"
      ]
     },
     "execution_count": 91,
     "metadata": {},
     "output_type": "execute_result"
    }
   ],
   "source": [
    "XGBS"
   ]
  },
  {
   "cell_type": "markdown",
   "metadata": {
    "id": "9F79Rr6OzEVM"
   },
   "source": [
    "# Accuracy Comparison"
   ]
  },
  {
   "cell_type": "markdown",
   "metadata": {},
   "source": []
  },
  {
   "cell_type": "code",
   "execution_count": 138,
   "metadata": {},
   "outputs": [
    {
     "data": {
      "text/html": [
       "<div>\n",
       "<style scoped>\n",
       "    .dataframe tbody tr th:only-of-type {\n",
       "        vertical-align: middle;\n",
       "    }\n",
       "\n",
       "    .dataframe tbody tr th {\n",
       "        vertical-align: top;\n",
       "    }\n",
       "\n",
       "    .dataframe thead th {\n",
       "        text-align: right;\n",
       "    }\n",
       "</style>\n",
       "<table border=\"1\" class=\"dataframe\">\n",
       "  <thead>\n",
       "    <tr style=\"text-align: right;\">\n",
       "      <th></th>\n",
       "      <th>RFS</th>\n",
       "      <th>DTS</th>\n",
       "      <th>XGBS</th>\n",
       "    </tr>\n",
       "  </thead>\n",
       "  <tbody>\n",
       "    <tr>\n",
       "      <th>test_accuracy</th>\n",
       "      <td>0.951489</td>\n",
       "      <td>0.916205</td>\n",
       "      <td>0.913960</td>\n",
       "    </tr>\n",
       "    <tr>\n",
       "      <th>test_precision_macro</th>\n",
       "      <td>0.949234</td>\n",
       "      <td>0.911723</td>\n",
       "      <td>0.910396</td>\n",
       "    </tr>\n",
       "    <tr>\n",
       "      <th>test_recall_macro</th>\n",
       "      <td>0.948251</td>\n",
       "      <td>0.911864</td>\n",
       "      <td>0.909128</td>\n",
       "    </tr>\n",
       "    <tr>\n",
       "      <th>test_f1_macro</th>\n",
       "      <td>0.948517</td>\n",
       "      <td>0.911713</td>\n",
       "      <td>0.908908</td>\n",
       "    </tr>\n",
       "  </tbody>\n",
       "</table>\n",
       "</div>"
      ],
      "text/plain": [
       "                           RFS       DTS      XGBS\n",
       "test_accuracy         0.951489  0.916205  0.913960\n",
       "test_precision_macro  0.949234  0.911723  0.910396\n",
       "test_recall_macro     0.948251  0.911864  0.909128\n",
       "test_f1_macro         0.948517  0.911713  0.908908"
      ]
     },
     "execution_count": 138,
     "metadata": {},
     "output_type": "execute_result"
    }
   ],
   "source": [
    "comp = pd.concat([RFS,DTS,XGBS],axis=1)\n",
    "comp.rename(columns={0: \"RFS\", 1: \"DTS\",2:\"XGBS\"},inplace=True)\n",
    "comp"
   ]
  },
  {
   "cell_type": "code",
   "execution_count": 142,
   "metadata": {},
   "outputs": [
    {
     "data": {
      "text/html": [
       "<div>\n",
       "<style scoped>\n",
       "    .dataframe tbody tr th:only-of-type {\n",
       "        vertical-align: middle;\n",
       "    }\n",
       "\n",
       "    .dataframe tbody tr th {\n",
       "        vertical-align: top;\n",
       "    }\n",
       "\n",
       "    .dataframe thead th {\n",
       "        text-align: right;\n",
       "    }\n",
       "</style>\n",
       "<table border=\"1\" class=\"dataframe\">\n",
       "  <thead>\n",
       "    <tr style=\"text-align: right;\">\n",
       "      <th></th>\n",
       "      <th>RFS</th>\n",
       "      <th>DTS</th>\n",
       "      <th>XGBS</th>\n",
       "    </tr>\n",
       "  </thead>\n",
       "  <tbody>\n",
       "    <tr>\n",
       "      <th>test_accuracy</th>\n",
       "      <td>0.951489</td>\n",
       "      <td>0.916205</td>\n",
       "      <td>0.91396</td>\n",
       "    </tr>\n",
       "  </tbody>\n",
       "</table>\n",
       "</div>"
      ],
      "text/plain": [
       "                    RFS       DTS     XGBS\n",
       "test_accuracy  0.951489  0.916205  0.91396"
      ]
     },
     "execution_count": 142,
     "metadata": {},
     "output_type": "execute_result"
    }
   ],
   "source": [
    "comp.loc[[\"test_accuracy\"]]"
   ]
  },
  {
   "cell_type": "code",
   "execution_count": 161,
   "metadata": {},
   "outputs": [],
   "source": [
    "dfc=pd.DataFrame(SVMS).T.rename(columns={\"accuracy_score_test\":\"test_accuracy\",\"f1_score_test\":\"test_f1_macro\"}).T\n",
    "SVMS=dfc[0]\n",
    "dfc[\"SVMS\"]=SVMS"
   ]
  },
  {
   "cell_type": "code",
   "execution_count": 162,
   "metadata": {},
   "outputs": [
    {
     "data": {
      "text/html": [
       "<div>\n",
       "<style scoped>\n",
       "    .dataframe tbody tr th:only-of-type {\n",
       "        vertical-align: middle;\n",
       "    }\n",
       "\n",
       "    .dataframe tbody tr th {\n",
       "        vertical-align: top;\n",
       "    }\n",
       "\n",
       "    .dataframe thead th {\n",
       "        text-align: right;\n",
       "    }\n",
       "</style>\n",
       "<table border=\"1\" class=\"dataframe\">\n",
       "  <thead>\n",
       "    <tr style=\"text-align: right;\">\n",
       "      <th></th>\n",
       "      <th>0</th>\n",
       "      <th>1</th>\n",
       "      <th>2</th>\n",
       "      <th>SVMS</th>\n",
       "    </tr>\n",
       "  </thead>\n",
       "  <tbody>\n",
       "    <tr>\n",
       "      <th>test_accuracy</th>\n",
       "      <td>0.951489</td>\n",
       "      <td>0.916205</td>\n",
       "      <td>0.913960</td>\n",
       "      <td>0.474784</td>\n",
       "    </tr>\n",
       "    <tr>\n",
       "      <th>test_precision_macro</th>\n",
       "      <td>0.949234</td>\n",
       "      <td>0.911723</td>\n",
       "      <td>0.910396</td>\n",
       "      <td>NaN</td>\n",
       "    </tr>\n",
       "    <tr>\n",
       "      <th>test_recall_macro</th>\n",
       "      <td>0.948251</td>\n",
       "      <td>0.911864</td>\n",
       "      <td>0.909128</td>\n",
       "      <td>NaN</td>\n",
       "    </tr>\n",
       "    <tr>\n",
       "      <th>test_f1_macro</th>\n",
       "      <td>0.948517</td>\n",
       "      <td>0.911713</td>\n",
       "      <td>0.908908</td>\n",
       "      <td>0.479319</td>\n",
       "    </tr>\n",
       "    <tr>\n",
       "      <th>f1_score_train</th>\n",
       "      <td>NaN</td>\n",
       "      <td>NaN</td>\n",
       "      <td>NaN</td>\n",
       "      <td>0.480812</td>\n",
       "    </tr>\n",
       "    <tr>\n",
       "      <th>accuracy_score_train</th>\n",
       "      <td>NaN</td>\n",
       "      <td>NaN</td>\n",
       "      <td>NaN</td>\n",
       "      <td>0.475762</td>\n",
       "    </tr>\n",
       "  </tbody>\n",
       "</table>\n",
       "</div>"
      ],
      "text/plain": [
       "                             0         1         2      SVMS\n",
       "test_accuracy         0.951489  0.916205  0.913960  0.474784\n",
       "test_precision_macro  0.949234  0.911723  0.910396       NaN\n",
       "test_recall_macro     0.948251  0.911864  0.909128       NaN\n",
       "test_f1_macro         0.948517  0.911713  0.908908  0.479319\n",
       "f1_score_train             NaN       NaN       NaN  0.480812\n",
       "accuracy_score_train       NaN       NaN       NaN  0.475762"
      ]
     },
     "execution_count": 162,
     "metadata": {},
     "output_type": "execute_result"
    }
   ],
   "source": [
    "comp = pd.concat([RFS,DTS,XGBS,dfc[\"SVMS\"]],axis=1)\n",
    "comp"
   ]
  },
  {
   "cell_type": "code",
   "execution_count": 163,
   "metadata": {},
   "outputs": [],
   "source": [
    "comp.rename(columns={0: \"RFS\", 1: \"DTS\",2:\"XGBS\"},inplace=True)"
   ]
  },
  {
   "cell_type": "code",
   "execution_count": 164,
   "metadata": {},
   "outputs": [
    {
     "data": {
      "text/plain": [
       "<AxesSubplot:>"
      ]
     },
     "execution_count": 164,
     "metadata": {},
     "output_type": "execute_result"
    },
    {
     "data": {
      "image/png": "[encoded data removed]",
      "text/plain": [
       "<Figure size 576x396 with 1 Axes>"
      ]
     },
     "metadata": {},
     "output_type": "display_data"
    }
   ],
   "source": [
    "comp\n",
    "comp.loc[[\"test_accuracy\"]].plot.barh()"
   ]
  },
  {
   "cell_type": "markdown",
   "metadata": {
    "id": "jOJwsa3RzEVN"
   },
   "source": [
    "# F1 Score Comparison"
   ]
  },
  {
   "cell_type": "code",
   "execution_count": 165,
   "metadata": {},
   "outputs": [
    {
     "data": {
      "text/plain": [
       "<AxesSubplot:>"
      ]
     },
     "execution_count": 165,
     "metadata": {},
     "output_type": "execute_result"
    },
    {
     "data": {
      "image/png": "[encoded data removed]",
      "text/plain": [
       "<Figure size 576x396 with 1 Axes>"
      ]
     },
     "metadata": {},
     "output_type": "display_data"
    }
   ],
   "source": [
    "comp\n",
    "comp.loc[[\"test_f1_macro\"]].plot.barh()"
   ]
  },
  {
   "cell_type": "markdown",
   "metadata": {},
   "source": []
  },
  {
   "cell_type": "markdown",
   "metadata": {
    "id": "e6wYrrIuASC0"
   },
   "source": [
    "___\n",
    "\n",
    "<p style=\"text-align: center;\"><img src=\"https://docs.google.com/uc?id=1lY0Uj5R04yMY3-ZppPWxqCr5pvBLYPnV\" class=\"img-fluid\" alt=\"CLRSWY\"></p>\n",
    "\n",
    "___"
   ]
  },
  {
   "cell_type": "code",
   "execution_count": null,
   "metadata": {},
   "outputs": [],
   "source": []
  }
 ],
 "metadata": {
  "colab": {
   "collapsed_sections": [],
   "name": "Tree Types Prediction_Classification_Inclass.ipynb",
   "provenance": []
  },
  "hide_input": false,
  "kernelspec": {
   "display_name": "Python 3 (ipykernel)",
   "language": "python",
   "name": "python3"
  },
  "language_info": {
   "codemirror_mode": {
    "name": "ipython",
    "version": 3
   },
   "file_extension": ".py",
   "mimetype": "text/x-python",
   "name": "python",
   "nbconvert_exporter": "python",
   "pygments_lexer": "ipython3",
   "version": "3.9.7"
  },
  "toc": {
   "base_numbering": 1,
   "nav_menu": {},
   "number_sections": true,
   "sideBar": true,
   "skip_h1_title": false,
   "title_cell": "Table of Contents",
   "title_sidebar": "Contents",
   "toc_cell": false,
   "toc_position": {},
   "toc_section_display": true,
   "toc_window_display": false
  },
  "varInspector": {
   "cols": {
    "lenName": 16,
    "lenType": 16,
    "lenVar": 40
   },
   "kernels_config": {
    "python": {
     "delete_cmd_postfix": "",
     "delete_cmd_prefix": "del ",
     "library": "var_list.py",
     "varRefreshCmd": "print(var_dic_list())"
    },
    "r": {
     "delete_cmd_postfix": ") ",
     "delete_cmd_prefix": "rm(",
     "library": "var_list.r",
     "varRefreshCmd": "cat(var_dic_list()) "
    }
   },
   "oldHeight": 326.85,
   "position": {
    "height": "40px",
    "left": "1233.2px",
    "right": "20px",
    "top": "120px",
    "width": "250px"
   },
   "types_to_exclude": [
    "module",
    "function",
    "builtin_function_or_method",
    "instance",
    "_Feature"
   ],
   "varInspector_section_display": "none",
   "window_display": false
  }
 },
 "nbformat": 4,
 "nbformat_minor": 1
}
