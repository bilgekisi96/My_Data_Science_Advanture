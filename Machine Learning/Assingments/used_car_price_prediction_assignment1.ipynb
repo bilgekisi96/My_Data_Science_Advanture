{
 "cells": [
  {
   "cell_type": "markdown",
   "metadata": {
    "id": "curQqdpMbV8a"
   },
   "source": [
    "<img src=\"https://miro.medium.com/max/647/1*ZOcUPrSXLYucFxppoI-dYg.png\">"
   ]
  },
  {
   "cell_type": "markdown",
   "metadata": {
    "id": "vIdfp9zXbV8w"
   },
   "source": [
    "# Problem definition\n"
   ]
  },
  {
   "cell_type": "markdown",
   "metadata": {
    "id": "_f1vwRmsbV8z"
   },
   "source": [
    "For this project we are using a car dataset, where we want to predict the selling price of car based on its certain features.\n",
    "Since we need to find the real value, with real calculation, therefore this problem is regression problem. \n",
    "We will be using linear regression to solve this problem.\n",
    "\n",
    "General equation of Multiple Linear Regression:\n",
    "$$y = \\beta_0 + \\beta_{1}x_1 + \\beta_{2}x_2 + \\beta_{3}x_3 + \\beta_{4}x_4 + ... + \\beta_{n}x_n$$"
   ]
  },
  {
   "cell_type": "markdown",
   "metadata": {
    "id": "m79bZ3ojbV82"
   },
   "source": [
    "# Libraries"
   ]
  },
  {
   "cell_type": "code",
   "execution_count": 491,
   "metadata": {
    "id": "zk6tvPRBbV84"
   },
   "outputs": [],
   "source": [
    "import numpy as np\n",
    "import pandas as pd\n",
    "import matplotlib.pyplot as plt\n",
    "import seaborn as sns\n",
    "plt.rcParams[\"figure.figsize\"] = (10,6)\n",
    "pd.set_option('display.max_columns', 100)"
   ]
  },
  {
   "cell_type": "markdown",
   "metadata": {
    "id": "Zu7fPn5HbV87"
   },
   "source": [
    "# Data Gathering"
   ]
  },
  {
   "cell_type": "code",
   "execution_count": 492,
   "metadata": {
    "id": "Hgyy7dkrbV89"
   },
   "outputs": [
    {
     "name": "stdout",
     "output_type": "stream",
     "text": [
      "<class 'pandas.core.frame.DataFrame'>\n",
      "RangeIndex: 301 entries, 0 to 300\n",
      "Data columns (total 9 columns):\n",
      " #   Column         Non-Null Count  Dtype  \n",
      "---  ------         --------------  -----  \n",
      " 0   Car_Name       301 non-null    object \n",
      " 1   Year           301 non-null    int64  \n",
      " 2   Selling_Price  301 non-null    float64\n",
      " 3   Present_Price  301 non-null    float64\n",
      " 4   Kms_Driven     301 non-null    int64  \n",
      " 5   Fuel_Type      301 non-null    object \n",
      " 6   Seller_Type    301 non-null    object \n",
      " 7   Transmission   301 non-null    object \n",
      " 8   Owner          301 non-null    int64  \n",
      "dtypes: float64(2), int64(3), object(4)\n",
      "memory usage: 21.3+ KB\n"
     ]
    }
   ],
   "source": [
    "df=pd.read_csv(\"car_dataset.csv\")\n",
    "df.info()"
   ]
  },
  {
   "cell_type": "code",
   "execution_count": 493,
   "metadata": {},
   "outputs": [
    {
     "data": {
      "text/html": [
       "<div>\n",
       "<style scoped>\n",
       "    .dataframe tbody tr th:only-of-type {\n",
       "        vertical-align: middle;\n",
       "    }\n",
       "\n",
       "    .dataframe tbody tr th {\n",
       "        vertical-align: top;\n",
       "    }\n",
       "\n",
       "    .dataframe thead th {\n",
       "        text-align: right;\n",
       "    }\n",
       "</style>\n",
       "<table border=\"1\" class=\"dataframe\">\n",
       "  <thead>\n",
       "    <tr style=\"text-align: right;\">\n",
       "      <th></th>\n",
       "      <th>Year</th>\n",
       "      <th>Selling_Price</th>\n",
       "      <th>Present_Price</th>\n",
       "      <th>Kms_Driven</th>\n",
       "      <th>Owner</th>\n",
       "    </tr>\n",
       "  </thead>\n",
       "  <tbody>\n",
       "    <tr>\n",
       "      <th>count</th>\n",
       "      <td>301.000000</td>\n",
       "      <td>301.000000</td>\n",
       "      <td>301.000000</td>\n",
       "      <td>301.000000</td>\n",
       "      <td>301.000000</td>\n",
       "    </tr>\n",
       "    <tr>\n",
       "      <th>mean</th>\n",
       "      <td>2013.627907</td>\n",
       "      <td>4.661296</td>\n",
       "      <td>7.628472</td>\n",
       "      <td>36947.205980</td>\n",
       "      <td>0.043189</td>\n",
       "    </tr>\n",
       "    <tr>\n",
       "      <th>std</th>\n",
       "      <td>2.891554</td>\n",
       "      <td>5.082812</td>\n",
       "      <td>8.644115</td>\n",
       "      <td>38886.883882</td>\n",
       "      <td>0.247915</td>\n",
       "    </tr>\n",
       "    <tr>\n",
       "      <th>min</th>\n",
       "      <td>2003.000000</td>\n",
       "      <td>0.100000</td>\n",
       "      <td>0.320000</td>\n",
       "      <td>500.000000</td>\n",
       "      <td>0.000000</td>\n",
       "    </tr>\n",
       "    <tr>\n",
       "      <th>25%</th>\n",
       "      <td>2012.000000</td>\n",
       "      <td>0.900000</td>\n",
       "      <td>1.200000</td>\n",
       "      <td>15000.000000</td>\n",
       "      <td>0.000000</td>\n",
       "    </tr>\n",
       "    <tr>\n",
       "      <th>50%</th>\n",
       "      <td>2014.000000</td>\n",
       "      <td>3.600000</td>\n",
       "      <td>6.400000</td>\n",
       "      <td>32000.000000</td>\n",
       "      <td>0.000000</td>\n",
       "    </tr>\n",
       "    <tr>\n",
       "      <th>75%</th>\n",
       "      <td>2016.000000</td>\n",
       "      <td>6.000000</td>\n",
       "      <td>9.900000</td>\n",
       "      <td>48767.000000</td>\n",
       "      <td>0.000000</td>\n",
       "    </tr>\n",
       "    <tr>\n",
       "      <th>max</th>\n",
       "      <td>2018.000000</td>\n",
       "      <td>35.000000</td>\n",
       "      <td>92.600000</td>\n",
       "      <td>500000.000000</td>\n",
       "      <td>3.000000</td>\n",
       "    </tr>\n",
       "  </tbody>\n",
       "</table>\n",
       "</div>"
      ],
      "text/plain": [
       "              Year  Selling_Price  Present_Price     Kms_Driven       Owner\n",
       "count   301.000000     301.000000     301.000000     301.000000  301.000000\n",
       "mean   2013.627907       4.661296       7.628472   36947.205980    0.043189\n",
       "std       2.891554       5.082812       8.644115   38886.883882    0.247915\n",
       "min    2003.000000       0.100000       0.320000     500.000000    0.000000\n",
       "25%    2012.000000       0.900000       1.200000   15000.000000    0.000000\n",
       "50%    2014.000000       3.600000       6.400000   32000.000000    0.000000\n",
       "75%    2016.000000       6.000000       9.900000   48767.000000    0.000000\n",
       "max    2018.000000      35.000000      92.600000  500000.000000    3.000000"
      ]
     },
     "execution_count": 493,
     "metadata": {},
     "output_type": "execute_result"
    }
   ],
   "source": [
    "df.describe()"
   ]
  },
  {
   "cell_type": "code",
   "execution_count": 494,
   "metadata": {},
   "outputs": [
    {
     "data": {
      "text/html": [
       "<div>\n",
       "<style scoped>\n",
       "    .dataframe tbody tr th:only-of-type {\n",
       "        vertical-align: middle;\n",
       "    }\n",
       "\n",
       "    .dataframe tbody tr th {\n",
       "        vertical-align: top;\n",
       "    }\n",
       "\n",
       "    .dataframe thead th {\n",
       "        text-align: right;\n",
       "    }\n",
       "</style>\n",
       "<table border=\"1\" class=\"dataframe\">\n",
       "  <thead>\n",
       "    <tr style=\"text-align: right;\">\n",
       "      <th></th>\n",
       "      <th>Car_Name</th>\n",
       "      <th>Year</th>\n",
       "      <th>Selling_Price</th>\n",
       "      <th>Present_Price</th>\n",
       "      <th>Kms_Driven</th>\n",
       "      <th>Fuel_Type</th>\n",
       "      <th>Seller_Type</th>\n",
       "      <th>Transmission</th>\n",
       "      <th>Owner</th>\n",
       "    </tr>\n",
       "  </thead>\n",
       "  <tbody>\n",
       "    <tr>\n",
       "      <th>0</th>\n",
       "      <td>ritz</td>\n",
       "      <td>2014</td>\n",
       "      <td>3.35</td>\n",
       "      <td>5.59</td>\n",
       "      <td>27000</td>\n",
       "      <td>Petrol</td>\n",
       "      <td>Dealer</td>\n",
       "      <td>Manual</td>\n",
       "      <td>0</td>\n",
       "    </tr>\n",
       "    <tr>\n",
       "      <th>1</th>\n",
       "      <td>sx4</td>\n",
       "      <td>2013</td>\n",
       "      <td>4.75</td>\n",
       "      <td>9.54</td>\n",
       "      <td>43000</td>\n",
       "      <td>Diesel</td>\n",
       "      <td>Dealer</td>\n",
       "      <td>Manual</td>\n",
       "      <td>0</td>\n",
       "    </tr>\n",
       "    <tr>\n",
       "      <th>2</th>\n",
       "      <td>ciaz</td>\n",
       "      <td>2017</td>\n",
       "      <td>7.25</td>\n",
       "      <td>9.85</td>\n",
       "      <td>6900</td>\n",
       "      <td>Petrol</td>\n",
       "      <td>Dealer</td>\n",
       "      <td>Manual</td>\n",
       "      <td>0</td>\n",
       "    </tr>\n",
       "    <tr>\n",
       "      <th>3</th>\n",
       "      <td>wagon r</td>\n",
       "      <td>2011</td>\n",
       "      <td>2.85</td>\n",
       "      <td>4.15</td>\n",
       "      <td>5200</td>\n",
       "      <td>Petrol</td>\n",
       "      <td>Dealer</td>\n",
       "      <td>Manual</td>\n",
       "      <td>0</td>\n",
       "    </tr>\n",
       "    <tr>\n",
       "      <th>4</th>\n",
       "      <td>swift</td>\n",
       "      <td>2014</td>\n",
       "      <td>4.60</td>\n",
       "      <td>6.87</td>\n",
       "      <td>42450</td>\n",
       "      <td>Diesel</td>\n",
       "      <td>Dealer</td>\n",
       "      <td>Manual</td>\n",
       "      <td>0</td>\n",
       "    </tr>\n",
       "  </tbody>\n",
       "</table>\n",
       "</div>"
      ],
      "text/plain": [
       "  Car_Name  Year  Selling_Price  Present_Price  Kms_Driven Fuel_Type  \\\n",
       "0     ritz  2014           3.35           5.59       27000    Petrol   \n",
       "1      sx4  2013           4.75           9.54       43000    Diesel   \n",
       "2     ciaz  2017           7.25           9.85        6900    Petrol   \n",
       "3  wagon r  2011           2.85           4.15        5200    Petrol   \n",
       "4    swift  2014           4.60           6.87       42450    Diesel   \n",
       "\n",
       "  Seller_Type Transmission  Owner  \n",
       "0      Dealer       Manual      0  \n",
       "1      Dealer       Manual      0  \n",
       "2      Dealer       Manual      0  \n",
       "3      Dealer       Manual      0  \n",
       "4      Dealer       Manual      0  "
      ]
     },
     "execution_count": 494,
     "metadata": {},
     "output_type": "execute_result"
    }
   ],
   "source": [
    "df.head()"
   ]
  },
  {
   "cell_type": "code",
   "execution_count": 495,
   "metadata": {},
   "outputs": [],
   "source": [
    "df[\"Year\"]=df.Year.max()-df.Year"
   ]
  },
  {
   "cell_type": "code",
   "execution_count": 496,
   "metadata": {},
   "outputs": [
    {
     "data": {
      "text/plain": [
       "Car_Name         0\n",
       "Year             0\n",
       "Selling_Price    0\n",
       "Present_Price    0\n",
       "Kms_Driven       0\n",
       "Fuel_Type        0\n",
       "Seller_Type      0\n",
       "Transmission     0\n",
       "Owner            0\n",
       "dtype: int64"
      ]
     },
     "execution_count": 496,
     "metadata": {},
     "output_type": "execute_result"
    }
   ],
   "source": [
    "df.isnull().sum()"
   ]
  },
  {
   "cell_type": "code",
   "execution_count": 497,
   "metadata": {},
   "outputs": [
    {
     "data": {
      "text/html": [
       "<div>\n",
       "<style scoped>\n",
       "    .dataframe tbody tr th:only-of-type {\n",
       "        vertical-align: middle;\n",
       "    }\n",
       "\n",
       "    .dataframe tbody tr th {\n",
       "        vertical-align: top;\n",
       "    }\n",
       "\n",
       "    .dataframe thead th {\n",
       "        text-align: right;\n",
       "    }\n",
       "</style>\n",
       "<table border=\"1\" class=\"dataframe\">\n",
       "  <thead>\n",
       "    <tr style=\"text-align: right;\">\n",
       "      <th></th>\n",
       "      <th>Year</th>\n",
       "      <th>Selling_Price</th>\n",
       "      <th>Present_Price</th>\n",
       "      <th>Kms_Driven</th>\n",
       "      <th>Owner</th>\n",
       "    </tr>\n",
       "  </thead>\n",
       "  <tbody>\n",
       "    <tr>\n",
       "      <th>Year</th>\n",
       "      <td>1.000000</td>\n",
       "      <td>-0.236141</td>\n",
       "      <td>0.047584</td>\n",
       "      <td>0.524342</td>\n",
       "      <td>0.182104</td>\n",
       "    </tr>\n",
       "    <tr>\n",
       "      <th>Selling_Price</th>\n",
       "      <td>-0.236141</td>\n",
       "      <td>1.000000</td>\n",
       "      <td>0.878983</td>\n",
       "      <td>0.029187</td>\n",
       "      <td>-0.088344</td>\n",
       "    </tr>\n",
       "    <tr>\n",
       "      <th>Present_Price</th>\n",
       "      <td>0.047584</td>\n",
       "      <td>0.878983</td>\n",
       "      <td>1.000000</td>\n",
       "      <td>0.203647</td>\n",
       "      <td>0.008057</td>\n",
       "    </tr>\n",
       "    <tr>\n",
       "      <th>Kms_Driven</th>\n",
       "      <td>0.524342</td>\n",
       "      <td>0.029187</td>\n",
       "      <td>0.203647</td>\n",
       "      <td>1.000000</td>\n",
       "      <td>0.089216</td>\n",
       "    </tr>\n",
       "    <tr>\n",
       "      <th>Owner</th>\n",
       "      <td>0.182104</td>\n",
       "      <td>-0.088344</td>\n",
       "      <td>0.008057</td>\n",
       "      <td>0.089216</td>\n",
       "      <td>1.000000</td>\n",
       "    </tr>\n",
       "  </tbody>\n",
       "</table>\n",
       "</div>"
      ],
      "text/plain": [
       "                   Year  Selling_Price  Present_Price  Kms_Driven     Owner\n",
       "Year           1.000000      -0.236141       0.047584    0.524342  0.182104\n",
       "Selling_Price -0.236141       1.000000       0.878983    0.029187 -0.088344\n",
       "Present_Price  0.047584       0.878983       1.000000    0.203647  0.008057\n",
       "Kms_Driven     0.524342       0.029187       0.203647    1.000000  0.089216\n",
       "Owner          0.182104      -0.088344       0.008057    0.089216  1.000000"
      ]
     },
     "execution_count": 497,
     "metadata": {},
     "output_type": "execute_result"
    }
   ],
   "source": [
    "df.corr()"
   ]
  },
  {
   "cell_type": "code",
   "execution_count": 498,
   "metadata": {},
   "outputs": [
    {
     "data": {
      "text/plain": [
       "<AxesSubplot:>"
      ]
     },
     "execution_count": 498,
     "metadata": {},
     "output_type": "execute_result"
    },
    {
     "data": {
      "image/png": "[encoded data removed]",
      "text/plain": [
       "<Figure size 720x432 with 2 Axes>"
      ]
     },
     "metadata": {},
     "output_type": "display_data"
    }
   ],
   "source": [
    "sns.heatmap(df.corr(),annot=True)"
   ]
  },
  {
   "cell_type": "code",
   "execution_count": 499,
   "metadata": {},
   "outputs": [
    {
     "data": {
      "text/plain": [
       "city                        26\n",
       "corolla altis               16\n",
       "verna                       14\n",
       "fortuner                    11\n",
       "brio                        10\n",
       "                            ..\n",
       "Honda CB Trigger             1\n",
       "Yamaha FZ S                  1\n",
       "Bajaj Pulsar 135 LS          1\n",
       "Activa 4g                    1\n",
       "Bajaj Avenger Street 220     1\n",
       "Name: Car_Name, Length: 98, dtype: int64"
      ]
     },
     "execution_count": 499,
     "metadata": {},
     "output_type": "execute_result"
    }
   ],
   "source": [
    "df.Car_Name.value_counts()"
   ]
  },
  {
   "cell_type": "code",
   "execution_count": 500,
   "metadata": {},
   "outputs": [
    {
     "data": {
      "text/plain": [
       "Petrol    239\n",
       "Diesel     60\n",
       "CNG         2\n",
       "Name: Fuel_Type, dtype: int64"
      ]
     },
     "execution_count": 500,
     "metadata": {},
     "output_type": "execute_result"
    }
   ],
   "source": [
    "df.Fuel_Type.value_counts()"
   ]
  },
  {
   "cell_type": "code",
   "execution_count": 501,
   "metadata": {},
   "outputs": [
    {
     "data": {
      "text/plain": [
       "Dealer        195\n",
       "Individual    106\n",
       "Name: Seller_Type, dtype: int64"
      ]
     },
     "execution_count": 501,
     "metadata": {},
     "output_type": "execute_result"
    }
   ],
   "source": [
    "df.Seller_Type.value_counts()"
   ]
  },
  {
   "cell_type": "code",
   "execution_count": 502,
   "metadata": {},
   "outputs": [
    {
     "data": {
      "text/plain": [
       "Manual       261\n",
       "Automatic     40\n",
       "Name: Transmission, dtype: int64"
      ]
     },
     "execution_count": 502,
     "metadata": {},
     "output_type": "execute_result"
    }
   ],
   "source": [
    "df.Transmission.value_counts()"
   ]
  },
  {
   "cell_type": "code",
   "execution_count": 503,
   "metadata": {
    "scrolled": true
   },
   "outputs": [],
   "source": [
    "df_dm = pd.get_dummies(df)"
   ]
  },
  {
   "cell_type": "code",
   "execution_count": 504,
   "metadata": {},
   "outputs": [
    {
     "data": {
      "text/plain": [
       "(301, 110)"
      ]
     },
     "execution_count": 504,
     "metadata": {},
     "output_type": "execute_result"
    }
   ],
   "source": [
    "df_dm.shape"
   ]
  },
  {
   "cell_type": "code",
   "execution_count": 505,
   "metadata": {},
   "outputs": [
    {
     "data": {
      "text/plain": [
       "Index(['Year', 'Selling_Price', 'Present_Price', 'Kms_Driven', 'Owner',\n",
       "       'Car_Name_800', 'Car_Name_Activa 3g', 'Car_Name_Activa 4g',\n",
       "       'Car_Name_Bajaj  ct 100', 'Car_Name_Bajaj Avenger 150',\n",
       "       ...\n",
       "       'Car_Name_vitara brezza', 'Car_Name_wagon r', 'Car_Name_xcent',\n",
       "       'Fuel_Type_CNG', 'Fuel_Type_Diesel', 'Fuel_Type_Petrol',\n",
       "       'Seller_Type_Dealer', 'Seller_Type_Individual',\n",
       "       'Transmission_Automatic', 'Transmission_Manual'],\n",
       "      dtype='object', length=110)"
      ]
     },
     "execution_count": 505,
     "metadata": {},
     "output_type": "execute_result"
    }
   ],
   "source": [
    "df_dm.columns"
   ]
  },
  {
   "cell_type": "markdown",
   "metadata": {
    "id": "EyXAGsjnbV8_"
   },
   "source": [
    "# Data Preparation"
   ]
  },
  {
   "cell_type": "code",
   "execution_count": 506,
   "metadata": {
    "id": "zoySlXabbV9B"
   },
   "outputs": [],
   "source": [
    "Y=df_dm[\"Selling_Price\"]\n",
    "X=df_dm.drop([\"Selling_Price\"],axis=1)\n"
   ]
  },
  {
   "cell_type": "markdown",
   "metadata": {
    "id": "12PKntblbV9C"
   },
   "source": [
    "# Feature Engineering"
   ]
  },
  {
   "cell_type": "markdown",
   "metadata": {
    "id": "P49wP0afbV9E"
   },
   "source": [
    "<ul>Fuel_Type feature:\n",
    "    <li>Fuel is Petrol if Fuel_type_diesel = 0 ,Fuel_Type_Petrol = 1</li>\n",
    "    <li>Fuel is Diesel if Fuel_type_diesel = 1 ,Fuel_Type_Petrol = 0</li>\n",
    "    <li>Fuel is cng if Fuel_type_diesel = 0 ,Fuel_Type_Petrol = 0</li>\n",
    "   </ul>\n",
    "<ul>Transmission feature:\n",
    "    <li>transmission is manual if Transmission_Manual = 1</li> \n",
    "    <li>transmission is automatic if Transmission_Manual = 0</li></ul>\n",
    "<ul>Seller_Type feature:\n",
    "    <li>Seller_Type is Individual if Seller_Type_Individual = 1 </li> \n",
    "    <li>Seller_Type is dealer if Seller_Type_Individual = 0</li> </ul>\n",
    "    \n"
   ]
  },
  {
   "cell_type": "markdown",
   "metadata": {
    "id": "Pe9yr6oCbV9I"
   },
   "source": [
    "### Features and target variable"
   ]
  },
  {
   "cell_type": "code",
   "execution_count": null,
   "metadata": {
    "id": "OMnKPR41bV9K"
   },
   "outputs": [],
   "source": []
  },
  {
   "cell_type": "markdown",
   "metadata": {
    "id": "IxhZbAYsbV9L"
   },
   "source": [
    "### Splitting data into training and testing"
   ]
  },
  {
   "cell_type": "code",
   "execution_count": 507,
   "metadata": {
    "id": "aS1EZ-6bbV9N"
   },
   "outputs": [],
   "source": [
    "from sklearn.model_selection import train_test_split\n",
    "\n",
    "X_train,X_test,y_train,y_test=train_test_split(X,Y,test_size=0.3,random_state=42)"
   ]
  },
  {
   "cell_type": "code",
   "execution_count": 508,
   "metadata": {},
   "outputs": [
    {
     "data": {
      "text/plain": [
       "MinMaxScaler()"
      ]
     },
     "execution_count": 508,
     "metadata": {},
     "output_type": "execute_result"
    }
   ],
   "source": [
    "from sklearn.preprocessing import StandardScaler , MinMaxScaler, RobustScaler\n",
    "\n",
    "scale=MinMaxScaler()\n",
    "scale.fit(X_train)"
   ]
  },
  {
   "cell_type": "code",
   "execution_count": 509,
   "metadata": {},
   "outputs": [
    {
     "data": {
      "text/plain": [
       "210"
      ]
     },
     "execution_count": 509,
     "metadata": {},
     "output_type": "execute_result"
    }
   ],
   "source": [
    "X_train_scaled=scale.transform(X_train)\n",
    "len(X_train_scaled)"
   ]
  },
  {
   "cell_type": "code",
   "execution_count": 510,
   "metadata": {},
   "outputs": [
    {
     "data": {
      "text/plain": [
       "91"
      ]
     },
     "execution_count": 510,
     "metadata": {},
     "output_type": "execute_result"
    }
   ],
   "source": [
    "X_test_scaled=scale.transform(X_test)\n",
    "len(X_test_scaled)"
   ]
  },
  {
   "cell_type": "markdown",
   "metadata": {
    "id": "KMJ-3iGxbV9O"
   },
   "source": [
    "##  Model Building (Linear Regression)"
   ]
  },
  {
   "cell_type": "code",
   "execution_count": 511,
   "metadata": {
    "id": "VEOdF27LbV9P"
   },
   "outputs": [
    {
     "data": {
      "text/plain": [
       "LinearRegression()"
      ]
     },
     "execution_count": 511,
     "metadata": {},
     "output_type": "execute_result"
    }
   ],
   "source": [
    "from sklearn.linear_model import LinearRegression \n",
    "LR_model=LinearRegression()\n",
    "LR_model.fit(X_train_scaled,y_train)"
   ]
  },
  {
   "cell_type": "markdown",
   "metadata": {
    "id": "6T7pkytsbV9Q"
   },
   "source": [
    "# Interpret the model"
   ]
  },
  {
   "cell_type": "code",
   "execution_count": 512,
   "metadata": {
    "id": "TS-KF0JtbV9R"
   },
   "outputs": [
    {
     "data": {
      "text/plain": [
       "array([-1.26444349e+13,  9.90625000e+00,  5.65625000e+00, -6.56250000e-01,\n",
       "        8.71875000e+00,  6.71875000e+00,  1.65625000e+00, -2.87801780e+13,\n",
       "        8.43750000e-01,  6.78125000e+00,  3.63114304e+12,  5.93750000e-01,\n",
       "        8.28125000e+00,  5.68769685e+13,  6.46875000e+00,  2.21875000e+00,\n",
       "        2.90625000e+00,  1.13437500e+01, -9.04381436e+13, -2.71660582e+13,\n",
       "        1.05592542e+14,  8.09375000e+00,  6.34375000e+00,  2.28125000e+00,\n",
       "       -1.47438323e+14,  3.65625000e+00,  5.09375000e+00,  1.96875000e+00,\n",
       "        2.96875000e+00,  2.71875000e+00, -3.12500000e-02,  8.96875000e+00,\n",
       "       -2.09375000e+00,  2.09375000e+00,  8.28125000e+00,  4.15625000e+00,\n",
       "        5.46875000e+00,  6.34375000e+00,  3.34375000e+00,  7.09375000e+00,\n",
       "        5.59375000e+00,  5.98425052e+13,  4.15625000e+00, -2.81250000e-01,\n",
       "        3.79634808e+12,  2.81250000e-01,  8.28125000e+00,  9.43750000e+00,\n",
       "        3.78125000e+00,  4.28125000e+00,  6.09375000e+00,  3.09375000e+00,\n",
       "        2.35625000e+01,  2.12187500e+01,  6.96875000e+00,  9.84375000e+00,\n",
       "        5.03125000e+00,  9.09375000e+00,  6.56250000e-01,  6.87500000e+00,\n",
       "        3.46875000e+00,  3.12500000e-02,  9.06250000e-01, -1.17092229e+13,\n",
       "        5.09375000e+00,  2.96875000e+00,  2.32500000e+01,  2.04062500e+01,\n",
       "        5.78125000e+00, -6.78477306e+13,  3.84375000e+00,  4.59375000e+00,\n",
       "        5.78125000e+00,  4.28125000e+00,  1.15625000e+00,  2.97033890e+13,\n",
       "        2.34375000e+00,  1.20937500e+01, -1.33798226e+13,  9.15625000e+00,\n",
       "        4.90625000e+00,  3.28125000e+00,  3.46875000e+00,  1.89062500e+01,\n",
       "        2.34375000e+00,  1.61562500e+01,  2.81250000e-01,  3.90625000e+00,\n",
       "       -1.79053882e+14,  1.78437500e+01,  1.90625000e+00])"
      ]
     },
     "execution_count": 512,
     "metadata": {},
     "output_type": "execute_result"
    }
   ],
   "source": [
    "y_pred=LR_model.predict(X_test_scaled)\n",
    "y_train_pred=LR_model.predict(X_train_scaled)\n",
    "y_pred"
   ]
  },
  {
   "cell_type": "markdown",
   "metadata": {
    "id": "Xf8mmQdSbV9R"
   },
   "source": [
    "# Model Evaluation"
   ]
  },
  {
   "cell_type": "code",
   "execution_count": 513,
   "metadata": {},
   "outputs": [
    {
     "data": {
      "image/png": "[encoded data removed]",
      "text/plain": [
       "<Figure size 360x360 with 1 Axes>"
      ]
     },
     "metadata": {},
     "output_type": "display_data"
    }
   ],
   "source": [
    "residuals = y_test-y_pred\n",
    "sns.displot(residuals, kind=\"kde\");"
   ]
  },
  {
   "cell_type": "code",
   "execution_count": 514,
   "metadata": {
    "id": "cZTXxOlxbV9T"
   },
   "outputs": [
    {
     "data": {
      "text/html": [
       "<div>\n",
       "<style scoped>\n",
       "    .dataframe tbody tr th:only-of-type {\n",
       "        vertical-align: middle;\n",
       "    }\n",
       "\n",
       "    .dataframe tbody tr th {\n",
       "        vertical-align: top;\n",
       "    }\n",
       "\n",
       "    .dataframe thead th {\n",
       "        text-align: right;\n",
       "    }\n",
       "</style>\n",
       "<table border=\"1\" class=\"dataframe\">\n",
       "  <thead>\n",
       "    <tr style=\"text-align: right;\">\n",
       "      <th></th>\n",
       "      <th>linear_train</th>\n",
       "      <th>linear_test</th>\n",
       "    </tr>\n",
       "  </thead>\n",
       "  <tbody>\n",
       "    <tr>\n",
       "      <th>R2</th>\n",
       "      <td>0.953785</td>\n",
       "      <td>-3.376830e+25</td>\n",
       "    </tr>\n",
       "    <tr>\n",
       "      <th>mae</th>\n",
       "      <td>0.614804</td>\n",
       "      <td>9.207700e+12</td>\n",
       "    </tr>\n",
       "    <tr>\n",
       "      <th>mse</th>\n",
       "      <td>1.134233</td>\n",
       "      <td>9.615254e+26</td>\n",
       "    </tr>\n",
       "    <tr>\n",
       "      <th>rmse</th>\n",
       "      <td>1.065004</td>\n",
       "      <td>3.100847e+13</td>\n",
       "    </tr>\n",
       "  </tbody>\n",
       "</table>\n",
       "</div>"
      ],
      "text/plain": [
       "      linear_train   linear_test\n",
       "R2        0.953785 -3.376830e+25\n",
       "mae       0.614804  9.207700e+12\n",
       "mse       1.134233  9.615254e+26\n",
       "rmse      1.065004  3.100847e+13"
      ]
     },
     "execution_count": 514,
     "metadata": {},
     "output_type": "execute_result"
    }
   ],
   "source": [
    "from sklearn.metrics import mean_absolute_error,mean_squared_error,r2_score\n",
    "\n",
    "def train_val(y_train, y_train_pred, y_test, y_pred, i):\n",
    "    \n",
    "    scores = {i+\"_train\": {\"R2\" : r2_score(y_train, y_train_pred),\n",
    "    \"mae\" : mean_absolute_error(y_train, y_train_pred),\n",
    "    \"mse\" : mean_squared_error(y_train, y_train_pred),                          \n",
    "    \"rmse\" : np.sqrt(mean_squared_error(y_train, y_train_pred))},\n",
    "    \n",
    "    i+\"_test\": {\"R2\" : r2_score(y_test, y_pred),\n",
    "    \"mae\" : mean_absolute_error(y_test, y_pred),\n",
    "    \"mse\" : mean_squared_error(y_test, y_pred),\n",
    "    \"rmse\" : np.sqrt(mean_squared_error(y_test, y_pred))}}\n",
    "    \n",
    "    return pd.DataFrame(scores)\n",
    "\n",
    "ls =train_val(y_train, y_train_pred, y_test, y_pred, \"linear\") #aralrında uçurum var overfit olduğunu tesbit ettim \n",
    "ls"
   ]
  },
  {
   "cell_type": "code",
   "execution_count": null,
   "metadata": {},
   "outputs": [],
   "source": []
  },
  {
   "cell_type": "code",
   "execution_count": 594,
   "metadata": {},
   "outputs": [],
   "source": [
    "from sklearn.metrics import SCORERS    #içerisindeki tüm metricleri vaeriyor\n"
   ]
  },
  {
   "cell_type": "code",
   "execution_count": 516,
   "metadata": {},
   "outputs": [],
   "source": [
    "from sklearn.model_selection import cross_validate, cross_val_score"
   ]
  },
  {
   "cell_type": "code",
   "execution_count": 517,
   "metadata": {},
   "outputs": [],
   "source": [
    "model = LinearRegression()\n",
    "scores = cross_validate(model, X_train_scaled, y_train, scoring = ['r2', 'neg_mean_absolute_error','neg_mean_squared_error', \\\n",
    "                                                            'neg_root_mean_squared_error'], cv = 5)"
   ]
  },
  {
   "cell_type": "code",
   "execution_count": 518,
   "metadata": {},
   "outputs": [
    {
     "data": {
      "text/html": [
       "<div>\n",
       "<style scoped>\n",
       "    .dataframe tbody tr th:only-of-type {\n",
       "        vertical-align: middle;\n",
       "    }\n",
       "\n",
       "    .dataframe tbody tr th {\n",
       "        vertical-align: top;\n",
       "    }\n",
       "\n",
       "    .dataframe thead th {\n",
       "        text-align: right;\n",
       "    }\n",
       "</style>\n",
       "<table border=\"1\" class=\"dataframe\">\n",
       "  <thead>\n",
       "    <tr style=\"text-align: right;\">\n",
       "      <th></th>\n",
       "      <th>fit_time</th>\n",
       "      <th>score_time</th>\n",
       "      <th>test_r2</th>\n",
       "      <th>test_neg_mean_absolute_error</th>\n",
       "      <th>test_neg_mean_squared_error</th>\n",
       "      <th>test_neg_root_mean_squared_error</th>\n",
       "    </tr>\n",
       "  </thead>\n",
       "  <tbody>\n",
       "    <tr>\n",
       "      <th>1</th>\n",
       "      <td>0.015619</td>\n",
       "      <td>0.0</td>\n",
       "      <td>-2.861514e+23</td>\n",
       "      <td>-1.046333e+12</td>\n",
       "      <td>-1.173457e+25</td>\n",
       "      <td>-3.425576e+12</td>\n",
       "    </tr>\n",
       "    <tr>\n",
       "      <th>2</th>\n",
       "      <td>0.015624</td>\n",
       "      <td>0.0</td>\n",
       "      <td>-5.772289e+23</td>\n",
       "      <td>-1.550945e+12</td>\n",
       "      <td>-1.086947e+25</td>\n",
       "      <td>-3.296887e+12</td>\n",
       "    </tr>\n",
       "    <tr>\n",
       "      <th>3</th>\n",
       "      <td>0.015626</td>\n",
       "      <td>0.0</td>\n",
       "      <td>-5.755872e+22</td>\n",
       "      <td>-2.498379e+11</td>\n",
       "      <td>-6.918280e+23</td>\n",
       "      <td>-8.317620e+11</td>\n",
       "    </tr>\n",
       "    <tr>\n",
       "      <th>4</th>\n",
       "      <td>0.015622</td>\n",
       "      <td>0.0</td>\n",
       "      <td>-1.591531e+24</td>\n",
       "      <td>-2.287472e+12</td>\n",
       "      <td>-5.177029e+25</td>\n",
       "      <td>-7.195157e+12</td>\n",
       "    </tr>\n",
       "    <tr>\n",
       "      <th>5</th>\n",
       "      <td>0.015626</td>\n",
       "      <td>0.0</td>\n",
       "      <td>-8.588980e+22</td>\n",
       "      <td>-5.027278e+11</td>\n",
       "      <td>-1.524531e+24</td>\n",
       "      <td>-1.234719e+12</td>\n",
       "    </tr>\n",
       "  </tbody>\n",
       "</table>\n",
       "</div>"
      ],
      "text/plain": [
       "   fit_time  score_time       test_r2  test_neg_mean_absolute_error  \\\n",
       "1  0.015619         0.0 -2.861514e+23                 -1.046333e+12   \n",
       "2  0.015624         0.0 -5.772289e+23                 -1.550945e+12   \n",
       "3  0.015626         0.0 -5.755872e+22                 -2.498379e+11   \n",
       "4  0.015622         0.0 -1.591531e+24                 -2.287472e+12   \n",
       "5  0.015626         0.0 -8.588980e+22                 -5.027278e+11   \n",
       "\n",
       "   test_neg_mean_squared_error  test_neg_root_mean_squared_error  \n",
       "1                -1.173457e+25                     -3.425576e+12  \n",
       "2                -1.086947e+25                     -3.296887e+12  \n",
       "3                -6.918280e+23                     -8.317620e+11  \n",
       "4                -5.177029e+25                     -7.195157e+12  \n",
       "5                -1.524531e+24                     -1.234719e+12  "
      ]
     },
     "execution_count": 518,
     "metadata": {},
     "output_type": "execute_result"
    }
   ],
   "source": [
    "pd.DataFrame(scores, index = range(1,6))"
   ]
  },
  {
   "cell_type": "code",
   "execution_count": 519,
   "metadata": {},
   "outputs": [
    {
     "data": {
      "text/plain": [
       "test_r2                            -5.196720e+23\n",
       "test_neg_mean_absolute_error       -1.127463e+12\n",
       "test_neg_mean_squared_error        -1.531814e+25\n",
       "test_neg_root_mean_squared_error   -3.196820e+12\n",
       "dtype: float64"
      ]
     },
     "execution_count": 519,
     "metadata": {},
     "output_type": "execute_result"
    }
   ],
   "source": [
    "scores = pd.DataFrame(scores, index=range(1,6))\n",
    "scores.iloc[:, 2:].mean() #scorların ortalaması hala uçurum devam ediyor "
   ]
  },
  {
   "cell_type": "code",
   "execution_count": 520,
   "metadata": {},
   "outputs": [
    {
     "data": {
      "text/html": [
       "<div>\n",
       "<style scoped>\n",
       "    .dataframe tbody tr th:only-of-type {\n",
       "        vertical-align: middle;\n",
       "    }\n",
       "\n",
       "    .dataframe tbody tr th {\n",
       "        vertical-align: top;\n",
       "    }\n",
       "\n",
       "    .dataframe thead th {\n",
       "        text-align: right;\n",
       "    }\n",
       "</style>\n",
       "<table border=\"1\" class=\"dataframe\">\n",
       "  <thead>\n",
       "    <tr style=\"text-align: right;\">\n",
       "      <th></th>\n",
       "      <th>linear_train</th>\n",
       "      <th>linear_test</th>\n",
       "    </tr>\n",
       "  </thead>\n",
       "  <tbody>\n",
       "    <tr>\n",
       "      <th>R2</th>\n",
       "      <td>0.953785</td>\n",
       "      <td>-3.376830e+25</td>\n",
       "    </tr>\n",
       "    <tr>\n",
       "      <th>mae</th>\n",
       "      <td>0.614804</td>\n",
       "      <td>9.207700e+12</td>\n",
       "    </tr>\n",
       "    <tr>\n",
       "      <th>mse</th>\n",
       "      <td>1.134233</td>\n",
       "      <td>9.615254e+26</td>\n",
       "    </tr>\n",
       "    <tr>\n",
       "      <th>rmse</th>\n",
       "      <td>1.065004</td>\n",
       "      <td>3.100847e+13</td>\n",
       "    </tr>\n",
       "  </tbody>\n",
       "</table>\n",
       "</div>"
      ],
      "text/plain": [
       "      linear_train   linear_test\n",
       "R2        0.953785 -3.376830e+25\n",
       "mae       0.614804  9.207700e+12\n",
       "mse       1.134233  9.615254e+26\n",
       "rmse      1.065004  3.100847e+13"
      ]
     },
     "execution_count": 520,
     "metadata": {},
     "output_type": "execute_result"
    }
   ],
   "source": [
    "train_val(y_train, y_train_pred, y_test, y_pred, \"linear\") #aşırı overfit"
   ]
  },
  {
   "cell_type": "markdown",
   "metadata": {
    "id": "ngfv0b5vbnO6"
   },
   "source": [
    "# Regularization"
   ]
  },
  {
   "cell_type": "markdown",
   "metadata": {
    "id": "PbnRHneJbV9T"
   },
   "source": [
    "# Ridge"
   ]
  },
  {
   "cell_type": "code",
   "execution_count": 521,
   "metadata": {
    "id": "sLbDL68AbV9V"
   },
   "outputs": [],
   "source": [
    "from sklearn.linear_model import Ridge"
   ]
  },
  {
   "cell_type": "code",
   "execution_count": 522,
   "metadata": {},
   "outputs": [],
   "source": [
    "ridge_model = Ridge(alpha=1, random_state=42)"
   ]
  },
  {
   "cell_type": "code",
   "execution_count": 523,
   "metadata": {},
   "outputs": [
    {
     "data": {
      "text/plain": [
       "Ridge(alpha=1, random_state=42)"
      ]
     },
     "execution_count": 523,
     "metadata": {},
     "output_type": "execute_result"
    }
   ],
   "source": [
    "ridge_model.fit(X_train_scaled, y_train)"
   ]
  },
  {
   "cell_type": "code",
   "execution_count": 524,
   "metadata": {},
   "outputs": [],
   "source": [
    "y_pred = ridge_model.predict(X_test_scaled)\n",
    "y_train_pred = ridge_model.predict(X_train_scaled)"
   ]
  },
  {
   "cell_type": "code",
   "execution_count": 525,
   "metadata": {},
   "outputs": [
    {
     "data": {
      "text/html": [
       "<div>\n",
       "<style scoped>\n",
       "    .dataframe tbody tr th:only-of-type {\n",
       "        vertical-align: middle;\n",
       "    }\n",
       "\n",
       "    .dataframe tbody tr th {\n",
       "        vertical-align: top;\n",
       "    }\n",
       "\n",
       "    .dataframe thead th {\n",
       "        text-align: right;\n",
       "    }\n",
       "</style>\n",
       "<table border=\"1\" class=\"dataframe\">\n",
       "  <thead>\n",
       "    <tr style=\"text-align: right;\">\n",
       "      <th></th>\n",
       "      <th>ridge_train</th>\n",
       "      <th>ridge_test</th>\n",
       "    </tr>\n",
       "  </thead>\n",
       "  <tbody>\n",
       "    <tr>\n",
       "      <th>R2</th>\n",
       "      <td>0.894160</td>\n",
       "      <td>0.869645</td>\n",
       "    </tr>\n",
       "    <tr>\n",
       "      <th>mae</th>\n",
       "      <td>0.938048</td>\n",
       "      <td>1.306398</td>\n",
       "    </tr>\n",
       "    <tr>\n",
       "      <th>mse</th>\n",
       "      <td>2.597600</td>\n",
       "      <td>3.711741</td>\n",
       "    </tr>\n",
       "    <tr>\n",
       "      <th>rmse</th>\n",
       "      <td>1.611707</td>\n",
       "      <td>1.926588</td>\n",
       "    </tr>\n",
       "  </tbody>\n",
       "</table>\n",
       "</div>"
      ],
      "text/plain": [
       "      ridge_train  ridge_test\n",
       "R2       0.894160    0.869645\n",
       "mae      0.938048    1.306398\n",
       "mse      2.597600    3.711741\n",
       "rmse     1.611707    1.926588"
      ]
     },
     "execution_count": 525,
     "metadata": {},
     "output_type": "execute_result"
    }
   ],
   "source": [
    "rs = train_val(y_train, y_train_pred, y_test, y_pred, \"ridge\")\n",
    "rs"
   ]
  },
  {
   "cell_type": "code",
   "execution_count": 526,
   "metadata": {},
   "outputs": [
    {
     "data": {
      "text/html": [
       "<div>\n",
       "<style scoped>\n",
       "    .dataframe tbody tr th:only-of-type {\n",
       "        vertical-align: middle;\n",
       "    }\n",
       "\n",
       "    .dataframe tbody tr th {\n",
       "        vertical-align: top;\n",
       "    }\n",
       "\n",
       "    .dataframe thead th {\n",
       "        text-align: right;\n",
       "    }\n",
       "</style>\n",
       "<table border=\"1\" class=\"dataframe\">\n",
       "  <thead>\n",
       "    <tr style=\"text-align: right;\">\n",
       "      <th></th>\n",
       "      <th>linear_train</th>\n",
       "      <th>linear_test</th>\n",
       "      <th>ridge_train</th>\n",
       "      <th>ridge_test</th>\n",
       "    </tr>\n",
       "  </thead>\n",
       "  <tbody>\n",
       "    <tr>\n",
       "      <th>R2</th>\n",
       "      <td>0.953785</td>\n",
       "      <td>-3.376830e+25</td>\n",
       "      <td>0.894160</td>\n",
       "      <td>0.869645</td>\n",
       "    </tr>\n",
       "    <tr>\n",
       "      <th>mae</th>\n",
       "      <td>0.614804</td>\n",
       "      <td>9.207700e+12</td>\n",
       "      <td>0.938048</td>\n",
       "      <td>1.306398</td>\n",
       "    </tr>\n",
       "    <tr>\n",
       "      <th>mse</th>\n",
       "      <td>1.134233</td>\n",
       "      <td>9.615254e+26</td>\n",
       "      <td>2.597600</td>\n",
       "      <td>3.711741</td>\n",
       "    </tr>\n",
       "    <tr>\n",
       "      <th>rmse</th>\n",
       "      <td>1.065004</td>\n",
       "      <td>3.100847e+13</td>\n",
       "      <td>1.611707</td>\n",
       "      <td>1.926588</td>\n",
       "    </tr>\n",
       "  </tbody>\n",
       "</table>\n",
       "</div>"
      ],
      "text/plain": [
       "      linear_train   linear_test  ridge_train  ridge_test\n",
       "R2        0.953785 -3.376830e+25     0.894160    0.869645\n",
       "mae       0.614804  9.207700e+12     0.938048    1.306398\n",
       "mse       1.134233  9.615254e+26     2.597600    3.711741\n",
       "rmse      1.065004  3.100847e+13     1.611707    1.926588"
      ]
     },
     "execution_count": 526,
     "metadata": {},
     "output_type": "execute_result"
    }
   ],
   "source": [
    "pd.concat([ls, rs], axis=1) #overfit azaltıldı"
   ]
  },
  {
   "cell_type": "markdown",
   "metadata": {},
   "source": [
    "# For Ridge Regression CV with alpha : 1"
   ]
  },
  {
   "cell_type": "code",
   "execution_count": 527,
   "metadata": {},
   "outputs": [],
   "source": [
    "model = Ridge(alpha=1, random_state=42)\n",
    "scores = cross_validate(model, X_train_scaled, y_train,\n",
    "                    scoring=['r2', 'neg_mean_absolute_error','neg_mean_squared_error','neg_root_mean_squared_error'], cv=5)"
   ]
  },
  {
   "cell_type": "code",
   "execution_count": 528,
   "metadata": {},
   "outputs": [
    {
     "data": {
      "text/html": [
       "<div>\n",
       "<style scoped>\n",
       "    .dataframe tbody tr th:only-of-type {\n",
       "        vertical-align: middle;\n",
       "    }\n",
       "\n",
       "    .dataframe tbody tr th {\n",
       "        vertical-align: top;\n",
       "    }\n",
       "\n",
       "    .dataframe thead th {\n",
       "        text-align: right;\n",
       "    }\n",
       "</style>\n",
       "<table border=\"1\" class=\"dataframe\">\n",
       "  <thead>\n",
       "    <tr style=\"text-align: right;\">\n",
       "      <th></th>\n",
       "      <th>fit_time</th>\n",
       "      <th>score_time</th>\n",
       "      <th>test_r2</th>\n",
       "      <th>test_neg_mean_absolute_error</th>\n",
       "      <th>test_neg_mean_squared_error</th>\n",
       "      <th>test_neg_root_mean_squared_error</th>\n",
       "    </tr>\n",
       "  </thead>\n",
       "  <tbody>\n",
       "    <tr>\n",
       "      <th>1</th>\n",
       "      <td>0.0</td>\n",
       "      <td>0.015625</td>\n",
       "      <td>0.527390</td>\n",
       "      <td>-2.141277</td>\n",
       "      <td>-19.380925</td>\n",
       "      <td>-4.402377</td>\n",
       "    </tr>\n",
       "    <tr>\n",
       "      <th>2</th>\n",
       "      <td>0.0</td>\n",
       "      <td>0.000000</td>\n",
       "      <td>0.870228</td>\n",
       "      <td>-1.051899</td>\n",
       "      <td>-2.443659</td>\n",
       "      <td>-1.563221</td>\n",
       "    </tr>\n",
       "    <tr>\n",
       "      <th>3</th>\n",
       "      <td>0.0</td>\n",
       "      <td>0.000000</td>\n",
       "      <td>0.871905</td>\n",
       "      <td>-0.920812</td>\n",
       "      <td>-1.539637</td>\n",
       "      <td>-1.240821</td>\n",
       "    </tr>\n",
       "    <tr>\n",
       "      <th>4</th>\n",
       "      <td>0.0</td>\n",
       "      <td>0.000000</td>\n",
       "      <td>0.754406</td>\n",
       "      <td>-1.504869</td>\n",
       "      <td>-7.988823</td>\n",
       "      <td>-2.826451</td>\n",
       "    </tr>\n",
       "    <tr>\n",
       "      <th>5</th>\n",
       "      <td>0.0</td>\n",
       "      <td>0.000000</td>\n",
       "      <td>0.858690</td>\n",
       "      <td>-1.208542</td>\n",
       "      <td>-2.508240</td>\n",
       "      <td>-1.583742</td>\n",
       "    </tr>\n",
       "  </tbody>\n",
       "</table>\n",
       "</div>"
      ],
      "text/plain": [
       "   fit_time  score_time   test_r2  test_neg_mean_absolute_error  \\\n",
       "1       0.0    0.015625  0.527390                     -2.141277   \n",
       "2       0.0    0.000000  0.870228                     -1.051899   \n",
       "3       0.0    0.000000  0.871905                     -0.920812   \n",
       "4       0.0    0.000000  0.754406                     -1.504869   \n",
       "5       0.0    0.000000  0.858690                     -1.208542   \n",
       "\n",
       "   test_neg_mean_squared_error  test_neg_root_mean_squared_error  \n",
       "1                   -19.380925                         -4.402377  \n",
       "2                    -2.443659                         -1.563221  \n",
       "3                    -1.539637                         -1.240821  \n",
       "4                    -7.988823                         -2.826451  \n",
       "5                    -2.508240                         -1.583742  "
      ]
     },
     "execution_count": 528,
     "metadata": {},
     "output_type": "execute_result"
    }
   ],
   "source": [
    "pd.DataFrame(scores, index = range(1, 6))"
   ]
  },
  {
   "cell_type": "code",
   "execution_count": 529,
   "metadata": {},
   "outputs": [
    {
     "data": {
      "text/plain": [
       "test_r2                             0.776524\n",
       "test_neg_mean_absolute_error       -1.365480\n",
       "test_neg_mean_squared_error        -6.772257\n",
       "test_neg_root_mean_squared_error   -2.323322\n",
       "dtype: float64"
      ]
     },
     "execution_count": 529,
     "metadata": {},
     "output_type": "execute_result"
    }
   ],
   "source": [
    "scores = pd.DataFrame(scores, index = range(1, 6)) #scorlar birbirine yakın bir sorun yok\n",
    "scores.iloc[:,2:].mean()"
   ]
  },
  {
   "cell_type": "code",
   "execution_count": 530,
   "metadata": {},
   "outputs": [
    {
     "data": {
      "text/html": [
       "<div>\n",
       "<style scoped>\n",
       "    .dataframe tbody tr th:only-of-type {\n",
       "        vertical-align: middle;\n",
       "    }\n",
       "\n",
       "    .dataframe tbody tr th {\n",
       "        vertical-align: top;\n",
       "    }\n",
       "\n",
       "    .dataframe thead th {\n",
       "        text-align: right;\n",
       "    }\n",
       "</style>\n",
       "<table border=\"1\" class=\"dataframe\">\n",
       "  <thead>\n",
       "    <tr style=\"text-align: right;\">\n",
       "      <th></th>\n",
       "      <th>ridge_train</th>\n",
       "      <th>ridge_test</th>\n",
       "    </tr>\n",
       "  </thead>\n",
       "  <tbody>\n",
       "    <tr>\n",
       "      <th>R2</th>\n",
       "      <td>0.894160</td>\n",
       "      <td>0.869645</td>\n",
       "    </tr>\n",
       "    <tr>\n",
       "      <th>mae</th>\n",
       "      <td>0.938048</td>\n",
       "      <td>1.306398</td>\n",
       "    </tr>\n",
       "    <tr>\n",
       "      <th>mse</th>\n",
       "      <td>2.597600</td>\n",
       "      <td>3.711741</td>\n",
       "    </tr>\n",
       "    <tr>\n",
       "      <th>rmse</th>\n",
       "      <td>1.611707</td>\n",
       "      <td>1.926588</td>\n",
       "    </tr>\n",
       "  </tbody>\n",
       "</table>\n",
       "</div>"
      ],
      "text/plain": [
       "      ridge_train  ridge_test\n",
       "R2       0.894160    0.869645\n",
       "mae      0.938048    1.306398\n",
       "mse      2.597600    3.711741\n",
       "rmse     1.611707    1.926588"
      ]
     },
     "execution_count": 530,
     "metadata": {},
     "output_type": "execute_result"
    }
   ],
   "source": [
    "train_val(y_train, y_train_pred, y_test, y_pred, \"ridge\") #rmse ödüllendirmede yapıyor"
   ]
  },
  {
   "cell_type": "code",
   "execution_count": 531,
   "metadata": {},
   "outputs": [],
   "source": [
    "from sklearn.linear_model import RidgeCV"
   ]
  },
  {
   "cell_type": "code",
   "execution_count": 532,
   "metadata": {},
   "outputs": [
    {
     "data": {
      "text/plain": [
       "array([0.01, 0.02, 0.03, 0.04, 0.05, 0.06, 0.07, 0.08, 0.09, 0.1 , 0.11,\n",
       "       0.12, 0.13, 0.14, 0.15, 0.16, 0.17, 0.18, 0.19, 0.2 , 0.21, 0.22,\n",
       "       0.23, 0.24, 0.25, 0.26, 0.27, 0.28, 0.29, 0.3 , 0.31, 0.32, 0.33,\n",
       "       0.34, 0.35, 0.36, 0.37, 0.38, 0.39, 0.4 , 0.41, 0.42, 0.43, 0.44,\n",
       "       0.45, 0.46, 0.47, 0.48, 0.49, 0.5 , 0.51, 0.52, 0.53, 0.54, 0.55,\n",
       "       0.56, 0.57, 0.58, 0.59, 0.6 , 0.61, 0.62, 0.63, 0.64, 0.65, 0.66,\n",
       "       0.67, 0.68, 0.69, 0.7 , 0.71, 0.72, 0.73, 0.74, 0.75, 0.76, 0.77,\n",
       "       0.78, 0.79, 0.8 , 0.81, 0.82, 0.83, 0.84, 0.85, 0.86, 0.87, 0.88,\n",
       "       0.89, 0.9 , 0.91, 0.92, 0.93, 0.94, 0.95, 0.96, 0.97, 0.98, 0.99,\n",
       "       1.  ])"
      ]
     },
     "execution_count": 532,
     "metadata": {},
     "output_type": "execute_result"
    }
   ],
   "source": [
    "alpha_space = np.linspace(0.01, 1, 100)   #en iyi alpha modelini seçmeye lineer regrasyon overfitting\n",
    "alpha_space"
   ]
  },
  {
   "cell_type": "code",
   "execution_count": 533,
   "metadata": {},
   "outputs": [],
   "source": [
    "ridge_cv_model = RidgeCV(alphas=alpha_space, cv = 5, scoring= \"neg_root_mean_squared_error\")"
   ]
  },
  {
   "cell_type": "code",
   "execution_count": 534,
   "metadata": {},
   "outputs": [
    {
     "data": {
      "text/plain": [
       "RidgeCV(alphas=array([0.01, 0.02, 0.03, 0.04, 0.05, 0.06, 0.07, 0.08, 0.09, 0.1 , 0.11,\n",
       "       0.12, 0.13, 0.14, 0.15, 0.16, 0.17, 0.18, 0.19, 0.2 , 0.21, 0.22,\n",
       "       0.23, 0.24, 0.25, 0.26, 0.27, 0.28, 0.29, 0.3 , 0.31, 0.32, 0.33,\n",
       "       0.34, 0.35, 0.36, 0.37, 0.38, 0.39, 0.4 , 0.41, 0.42, 0.43, 0.44,\n",
       "       0.45, 0.46, 0.47, 0.48, 0.49, 0.5 , 0.51, 0.52, 0.53, 0.54, 0.55,\n",
       "       0.56, 0.57, 0.58, 0.59, 0.6 , 0.61, 0.62, 0.63, 0.64, 0.65, 0.66,\n",
       "       0.67, 0.68, 0.69, 0.7 , 0.71, 0.72, 0.73, 0.74, 0.75, 0.76, 0.77,\n",
       "       0.78, 0.79, 0.8 , 0.81, 0.82, 0.83, 0.84, 0.85, 0.86, 0.87, 0.88,\n",
       "       0.89, 0.9 , 0.91, 0.92, 0.93, 0.94, 0.95, 0.96, 0.97, 0.98, 0.99,\n",
       "       1.  ]),\n",
       "        cv=5, scoring='neg_root_mean_squared_error')"
      ]
     },
     "execution_count": 534,
     "metadata": {},
     "output_type": "execute_result"
    }
   ],
   "source": [
    "ridge_cv_model.fit(X_train_scaled, y_train)"
   ]
  },
  {
   "cell_type": "code",
   "execution_count": 535,
   "metadata": {},
   "outputs": [
    {
     "data": {
      "text/plain": [
       "0.03"
      ]
     },
     "execution_count": 535,
     "metadata": {},
     "output_type": "execute_result"
    }
   ],
   "source": [
    "ridge_cv_model.alpha_ "
   ]
  },
  {
   "cell_type": "code",
   "execution_count": 536,
   "metadata": {},
   "outputs": [
    {
     "data": {
      "text/plain": [
       "-2.118746107261812"
      ]
     },
     "execution_count": 536,
     "metadata": {},
     "output_type": "execute_result"
    }
   ],
   "source": [
    "ridge_cv_model.best_score_"
   ]
  },
  {
   "cell_type": "code",
   "execution_count": 537,
   "metadata": {},
   "outputs": [],
   "source": [
    "y_pred = ridge_cv_model.predict(X_test_scaled)\n",
    "y_train_pred = ridge_cv_model.predict(X_train_scaled)"
   ]
  },
  {
   "cell_type": "code",
   "execution_count": 538,
   "metadata": {},
   "outputs": [
    {
     "data": {
      "text/html": [
       "<div>\n",
       "<style scoped>\n",
       "    .dataframe tbody tr th:only-of-type {\n",
       "        vertical-align: middle;\n",
       "    }\n",
       "\n",
       "    .dataframe tbody tr th {\n",
       "        vertical-align: top;\n",
       "    }\n",
       "\n",
       "    .dataframe thead th {\n",
       "        text-align: right;\n",
       "    }\n",
       "</style>\n",
       "<table border=\"1\" class=\"dataframe\">\n",
       "  <thead>\n",
       "    <tr style=\"text-align: right;\">\n",
       "      <th></th>\n",
       "      <th>ridge_cv_train</th>\n",
       "      <th>ridge_cv_test</th>\n",
       "    </tr>\n",
       "  </thead>\n",
       "  <tbody>\n",
       "    <tr>\n",
       "      <th>R2</th>\n",
       "      <td>0.949462</td>\n",
       "      <td>0.856809</td>\n",
       "    </tr>\n",
       "    <tr>\n",
       "      <th>mae</th>\n",
       "      <td>0.591668</td>\n",
       "      <td>1.319021</td>\n",
       "    </tr>\n",
       "    <tr>\n",
       "      <th>mse</th>\n",
       "      <td>1.240329</td>\n",
       "      <td>4.077242</td>\n",
       "    </tr>\n",
       "    <tr>\n",
       "      <th>rmse</th>\n",
       "      <td>1.113700</td>\n",
       "      <td>2.019218</td>\n",
       "    </tr>\n",
       "  </tbody>\n",
       "</table>\n",
       "</div>"
      ],
      "text/plain": [
       "      ridge_cv_train  ridge_cv_test\n",
       "R2          0.949462       0.856809\n",
       "mae         0.591668       1.319021\n",
       "mse         1.240329       4.077242\n",
       "rmse        1.113700       2.019218"
      ]
     },
     "execution_count": 538,
     "metadata": {},
     "output_type": "execute_result"
    }
   ],
   "source": [
    "rcs = train_val(y_train, y_train_pred, y_test, y_pred, \"ridge_cv\")\n",
    "rcs"
   ]
  },
  {
   "cell_type": "code",
   "execution_count": 539,
   "metadata": {},
   "outputs": [
    {
     "data": {
      "text/html": [
       "<div>\n",
       "<style scoped>\n",
       "    .dataframe tbody tr th:only-of-type {\n",
       "        vertical-align: middle;\n",
       "    }\n",
       "\n",
       "    .dataframe tbody tr th {\n",
       "        vertical-align: top;\n",
       "    }\n",
       "\n",
       "    .dataframe thead th {\n",
       "        text-align: right;\n",
       "    }\n",
       "</style>\n",
       "<table border=\"1\" class=\"dataframe\">\n",
       "  <thead>\n",
       "    <tr style=\"text-align: right;\">\n",
       "      <th></th>\n",
       "      <th>linear_train</th>\n",
       "      <th>linear_test</th>\n",
       "      <th>ridge_train</th>\n",
       "      <th>ridge_test</th>\n",
       "      <th>ridge_cv_train</th>\n",
       "      <th>ridge_cv_test</th>\n",
       "    </tr>\n",
       "  </thead>\n",
       "  <tbody>\n",
       "    <tr>\n",
       "      <th>R2</th>\n",
       "      <td>0.953785</td>\n",
       "      <td>-3.376830e+25</td>\n",
       "      <td>0.894160</td>\n",
       "      <td>0.869645</td>\n",
       "      <td>0.949462</td>\n",
       "      <td>0.856809</td>\n",
       "    </tr>\n",
       "    <tr>\n",
       "      <th>mae</th>\n",
       "      <td>0.614804</td>\n",
       "      <td>9.207700e+12</td>\n",
       "      <td>0.938048</td>\n",
       "      <td>1.306398</td>\n",
       "      <td>0.591668</td>\n",
       "      <td>1.319021</td>\n",
       "    </tr>\n",
       "    <tr>\n",
       "      <th>mse</th>\n",
       "      <td>1.134233</td>\n",
       "      <td>9.615254e+26</td>\n",
       "      <td>2.597600</td>\n",
       "      <td>3.711741</td>\n",
       "      <td>1.240329</td>\n",
       "      <td>4.077242</td>\n",
       "    </tr>\n",
       "    <tr>\n",
       "      <th>rmse</th>\n",
       "      <td>1.065004</td>\n",
       "      <td>3.100847e+13</td>\n",
       "      <td>1.611707</td>\n",
       "      <td>1.926588</td>\n",
       "      <td>1.113700</td>\n",
       "      <td>2.019218</td>\n",
       "    </tr>\n",
       "  </tbody>\n",
       "</table>\n",
       "</div>"
      ],
      "text/plain": [
       "      linear_train   linear_test  ridge_train  ridge_test  ridge_cv_train  \\\n",
       "R2        0.953785 -3.376830e+25     0.894160    0.869645        0.949462   \n",
       "mae       0.614804  9.207700e+12     0.938048    1.306398        0.591668   \n",
       "mse       1.134233  9.615254e+26     2.597600    3.711741        1.240329   \n",
       "rmse      1.065004  3.100847e+13     1.611707    1.926588        1.113700   \n",
       "\n",
       "      ridge_cv_test  \n",
       "R2         0.856809  \n",
       "mae        1.319021  \n",
       "mse        4.077242  \n",
       "rmse       2.019218  "
      ]
     },
     "execution_count": 539,
     "metadata": {},
     "output_type": "execute_result"
    }
   ],
   "source": [
    "pd.concat([ls, rs, rcs], axis = 1)"
   ]
  },
  {
   "cell_type": "markdown",
   "metadata": {
    "id": "B_T57TpNbV9V"
   },
   "source": [
    "# Lasso"
   ]
  },
  {
   "cell_type": "code",
   "execution_count": 540,
   "metadata": {
    "id": "MBAiMxBAbV9W"
   },
   "outputs": [],
   "source": [
    "from sklearn.linear_model import Lasso, LassoCV"
   ]
  },
  {
   "cell_type": "code",
   "execution_count": 541,
   "metadata": {},
   "outputs": [
    {
     "data": {
      "text/plain": [
       "Lasso(alpha=1, random_state=42)"
      ]
     },
     "execution_count": 541,
     "metadata": {},
     "output_type": "execute_result"
    }
   ],
   "source": [
    "lasso_model = Lasso(alpha=1, random_state=42)  #modeli sıfırlıyoruz parametreler aynı olmalı alınan scorlar bizi yanıltmasın diye\n",
    "lasso_model.fit(X_train_scaled, y_train)"
   ]
  },
  {
   "cell_type": "code",
   "execution_count": 542,
   "metadata": {},
   "outputs": [],
   "source": [
    "y_pred = lasso_model.predict(X_test_scaled)\n",
    "y_train_pred = lasso_model.predict(X_train_scaled)"
   ]
  },
  {
   "cell_type": "code",
   "execution_count": 543,
   "metadata": {},
   "outputs": [
    {
     "data": {
      "text/html": [
       "<div>\n",
       "<style scoped>\n",
       "    .dataframe tbody tr th:only-of-type {\n",
       "        vertical-align: middle;\n",
       "    }\n",
       "\n",
       "    .dataframe tbody tr th {\n",
       "        vertical-align: top;\n",
       "    }\n",
       "\n",
       "    .dataframe thead th {\n",
       "        text-align: right;\n",
       "    }\n",
       "</style>\n",
       "<table border=\"1\" class=\"dataframe\">\n",
       "  <thead>\n",
       "    <tr style=\"text-align: right;\">\n",
       "      <th></th>\n",
       "      <th>lasso_train</th>\n",
       "      <th>lasso_test</th>\n",
       "    </tr>\n",
       "  </thead>\n",
       "  <tbody>\n",
       "    <tr>\n",
       "      <th>R2</th>\n",
       "      <td>0.126310</td>\n",
       "      <td>0.121726</td>\n",
       "    </tr>\n",
       "    <tr>\n",
       "      <th>mae</th>\n",
       "      <td>2.964977</td>\n",
       "      <td>3.372374</td>\n",
       "    </tr>\n",
       "    <tr>\n",
       "      <th>mse</th>\n",
       "      <td>21.442652</td>\n",
       "      <td>25.008152</td>\n",
       "    </tr>\n",
       "    <tr>\n",
       "      <th>rmse</th>\n",
       "      <td>4.630621</td>\n",
       "      <td>5.000815</td>\n",
       "    </tr>\n",
       "  </tbody>\n",
       "</table>\n",
       "</div>"
      ],
      "text/plain": [
       "      lasso_train  lasso_test\n",
       "R2       0.126310    0.121726\n",
       "mae      2.964977    3.372374\n",
       "mse     21.442652   25.008152\n",
       "rmse     4.630621    5.000815"
      ]
     },
     "execution_count": 543,
     "metadata": {},
     "output_type": "execute_result"
    }
   ],
   "source": [
    "lss = train_val(y_train, y_train_pred, y_test, y_pred, \"lasso\") #model lasso ile underfit kalmış ridge ve lasso dada \n",
    "lss"
   ]
  },
  {
   "cell_type": "code",
   "execution_count": 544,
   "metadata": {},
   "outputs": [
    {
     "data": {
      "text/html": [
       "<div>\n",
       "<style scoped>\n",
       "    .dataframe tbody tr th:only-of-type {\n",
       "        vertical-align: middle;\n",
       "    }\n",
       "\n",
       "    .dataframe tbody tr th {\n",
       "        vertical-align: top;\n",
       "    }\n",
       "\n",
       "    .dataframe thead th {\n",
       "        text-align: right;\n",
       "    }\n",
       "</style>\n",
       "<table border=\"1\" class=\"dataframe\">\n",
       "  <thead>\n",
       "    <tr style=\"text-align: right;\">\n",
       "      <th></th>\n",
       "      <th>linear_train</th>\n",
       "      <th>linear_test</th>\n",
       "      <th>ridge_train</th>\n",
       "      <th>ridge_test</th>\n",
       "      <th>ridge_cv_train</th>\n",
       "      <th>ridge_cv_test</th>\n",
       "      <th>lasso_train</th>\n",
       "      <th>lasso_test</th>\n",
       "    </tr>\n",
       "  </thead>\n",
       "  <tbody>\n",
       "    <tr>\n",
       "      <th>R2</th>\n",
       "      <td>0.953785</td>\n",
       "      <td>-3.376830e+25</td>\n",
       "      <td>0.894160</td>\n",
       "      <td>0.869645</td>\n",
       "      <td>0.949462</td>\n",
       "      <td>0.856809</td>\n",
       "      <td>0.126310</td>\n",
       "      <td>0.121726</td>\n",
       "    </tr>\n",
       "    <tr>\n",
       "      <th>mae</th>\n",
       "      <td>0.614804</td>\n",
       "      <td>9.207700e+12</td>\n",
       "      <td>0.938048</td>\n",
       "      <td>1.306398</td>\n",
       "      <td>0.591668</td>\n",
       "      <td>1.319021</td>\n",
       "      <td>2.964977</td>\n",
       "      <td>3.372374</td>\n",
       "    </tr>\n",
       "    <tr>\n",
       "      <th>mse</th>\n",
       "      <td>1.134233</td>\n",
       "      <td>9.615254e+26</td>\n",
       "      <td>2.597600</td>\n",
       "      <td>3.711741</td>\n",
       "      <td>1.240329</td>\n",
       "      <td>4.077242</td>\n",
       "      <td>21.442652</td>\n",
       "      <td>25.008152</td>\n",
       "    </tr>\n",
       "    <tr>\n",
       "      <th>rmse</th>\n",
       "      <td>1.065004</td>\n",
       "      <td>3.100847e+13</td>\n",
       "      <td>1.611707</td>\n",
       "      <td>1.926588</td>\n",
       "      <td>1.113700</td>\n",
       "      <td>2.019218</td>\n",
       "      <td>4.630621</td>\n",
       "      <td>5.000815</td>\n",
       "    </tr>\n",
       "  </tbody>\n",
       "</table>\n",
       "</div>"
      ],
      "text/plain": [
       "      linear_train   linear_test  ridge_train  ridge_test  ridge_cv_train  \\\n",
       "R2        0.953785 -3.376830e+25     0.894160    0.869645        0.949462   \n",
       "mae       0.614804  9.207700e+12     0.938048    1.306398        0.591668   \n",
       "mse       1.134233  9.615254e+26     2.597600    3.711741        1.240329   \n",
       "rmse      1.065004  3.100847e+13     1.611707    1.926588        1.113700   \n",
       "\n",
       "      ridge_cv_test  lasso_train  lasso_test  \n",
       "R2         0.856809     0.126310    0.121726  \n",
       "mae        1.319021     2.964977    3.372374  \n",
       "mse        4.077242    21.442652   25.008152  \n",
       "rmse       2.019218     4.630621    5.000815  "
      ]
     },
     "execution_count": 544,
     "metadata": {},
     "output_type": "execute_result"
    }
   ],
   "source": [
    "pd.concat([ls, rs, rcs, lss], axis = 1)"
   ]
  },
  {
   "cell_type": "markdown",
   "metadata": {},
   "source": [
    "# For Lasso CV with Default Alpha : 1"
   ]
  },
  {
   "cell_type": "code",
   "execution_count": 545,
   "metadata": {},
   "outputs": [],
   "source": [
    "model = Lasso(alpha=1, random_state=42)\n",
    "scores = cross_validate(model, X_train_scaled, y_train,\n",
    "                        scoring=['r2', 'neg_mean_absolute_error','neg_mean_squared_error','neg_root_mean_squared_error'], cv=5)"
   ]
  },
  {
   "cell_type": "code",
   "execution_count": 546,
   "metadata": {},
   "outputs": [
    {
     "data": {
      "text/html": [
       "<div>\n",
       "<style scoped>\n",
       "    .dataframe tbody tr th:only-of-type {\n",
       "        vertical-align: middle;\n",
       "    }\n",
       "\n",
       "    .dataframe tbody tr th {\n",
       "        vertical-align: top;\n",
       "    }\n",
       "\n",
       "    .dataframe thead th {\n",
       "        text-align: right;\n",
       "    }\n",
       "</style>\n",
       "<table border=\"1\" class=\"dataframe\">\n",
       "  <thead>\n",
       "    <tr style=\"text-align: right;\">\n",
       "      <th></th>\n",
       "      <th>fit_time</th>\n",
       "      <th>score_time</th>\n",
       "      <th>test_r2</th>\n",
       "      <th>test_neg_mean_absolute_error</th>\n",
       "      <th>test_neg_mean_squared_error</th>\n",
       "      <th>test_neg_root_mean_squared_error</th>\n",
       "    </tr>\n",
       "  </thead>\n",
       "  <tbody>\n",
       "    <tr>\n",
       "      <th>1</th>\n",
       "      <td>0.001997</td>\n",
       "      <td>0.002000</td>\n",
       "      <td>0.059427</td>\n",
       "      <td>-3.791034</td>\n",
       "      <td>-38.571288</td>\n",
       "      <td>-6.210579</td>\n",
       "    </tr>\n",
       "    <tr>\n",
       "      <th>2</th>\n",
       "      <td>0.002782</td>\n",
       "      <td>0.001004</td>\n",
       "      <td>0.140922</td>\n",
       "      <td>-3.020915</td>\n",
       "      <td>-16.176800</td>\n",
       "      <td>-4.022039</td>\n",
       "    </tr>\n",
       "    <tr>\n",
       "      <th>3</th>\n",
       "      <td>0.003000</td>\n",
       "      <td>0.000996</td>\n",
       "      <td>0.249191</td>\n",
       "      <td>-2.116144</td>\n",
       "      <td>-9.024363</td>\n",
       "      <td>-3.004058</td>\n",
       "    </tr>\n",
       "    <tr>\n",
       "      <th>4</th>\n",
       "      <td>0.001999</td>\n",
       "      <td>0.001998</td>\n",
       "      <td>0.058324</td>\n",
       "      <td>-3.251211</td>\n",
       "      <td>-30.631407</td>\n",
       "      <td>-5.534565</td>\n",
       "    </tr>\n",
       "    <tr>\n",
       "      <th>5</th>\n",
       "      <td>0.001999</td>\n",
       "      <td>0.000999</td>\n",
       "      <td>0.177001</td>\n",
       "      <td>-2.908517</td>\n",
       "      <td>-14.608111</td>\n",
       "      <td>-3.822056</td>\n",
       "    </tr>\n",
       "  </tbody>\n",
       "</table>\n",
       "</div>"
      ],
      "text/plain": [
       "   fit_time  score_time   test_r2  test_neg_mean_absolute_error  \\\n",
       "1  0.001997    0.002000  0.059427                     -3.791034   \n",
       "2  0.002782    0.001004  0.140922                     -3.020915   \n",
       "3  0.003000    0.000996  0.249191                     -2.116144   \n",
       "4  0.001999    0.001998  0.058324                     -3.251211   \n",
       "5  0.001999    0.000999  0.177001                     -2.908517   \n",
       "\n",
       "   test_neg_mean_squared_error  test_neg_root_mean_squared_error  \n",
       "1                   -38.571288                         -6.210579  \n",
       "2                   -16.176800                         -4.022039  \n",
       "3                    -9.024363                         -3.004058  \n",
       "4                   -30.631407                         -5.534565  \n",
       "5                   -14.608111                         -3.822056  "
      ]
     },
     "execution_count": 546,
     "metadata": {},
     "output_type": "execute_result"
    }
   ],
   "source": [
    "pd.DataFrame(scores, index = range(1, 6))"
   ]
  },
  {
   "cell_type": "code",
   "execution_count": 547,
   "metadata": {},
   "outputs": [
    {
     "data": {
      "text/plain": [
       "test_r2                              0.136973\n",
       "test_neg_mean_absolute_error        -3.017564\n",
       "test_neg_mean_squared_error        -21.802394\n",
       "test_neg_root_mean_squared_error    -4.518659\n",
       "dtype: float64"
      ]
     },
     "execution_count": 547,
     "metadata": {},
     "output_type": "execute_result"
    }
   ],
   "source": [
    "scores = pd.DataFrame(scores, index = range(1, 6))\n",
    "scores.iloc[:,2:].mean()"
   ]
  },
  {
   "cell_type": "code",
   "execution_count": 548,
   "metadata": {},
   "outputs": [
    {
     "data": {
      "text/html": [
       "<div>\n",
       "<style scoped>\n",
       "    .dataframe tbody tr th:only-of-type {\n",
       "        vertical-align: middle;\n",
       "    }\n",
       "\n",
       "    .dataframe tbody tr th {\n",
       "        vertical-align: top;\n",
       "    }\n",
       "\n",
       "    .dataframe thead th {\n",
       "        text-align: right;\n",
       "    }\n",
       "</style>\n",
       "<table border=\"1\" class=\"dataframe\">\n",
       "  <thead>\n",
       "    <tr style=\"text-align: right;\">\n",
       "      <th></th>\n",
       "      <th>lasso_train</th>\n",
       "      <th>lasso_test</th>\n",
       "    </tr>\n",
       "  </thead>\n",
       "  <tbody>\n",
       "    <tr>\n",
       "      <th>R2</th>\n",
       "      <td>0.126310</td>\n",
       "      <td>0.121726</td>\n",
       "    </tr>\n",
       "    <tr>\n",
       "      <th>mae</th>\n",
       "      <td>2.964977</td>\n",
       "      <td>3.372374</td>\n",
       "    </tr>\n",
       "    <tr>\n",
       "      <th>mse</th>\n",
       "      <td>21.442652</td>\n",
       "      <td>25.008152</td>\n",
       "    </tr>\n",
       "    <tr>\n",
       "      <th>rmse</th>\n",
       "      <td>4.630621</td>\n",
       "      <td>5.000815</td>\n",
       "    </tr>\n",
       "  </tbody>\n",
       "</table>\n",
       "</div>"
      ],
      "text/plain": [
       "      lasso_train  lasso_test\n",
       "R2       0.126310    0.121726\n",
       "mae      2.964977    3.372374\n",
       "mse     21.442652   25.008152\n",
       "rmse     4.630621    5.000815"
      ]
     },
     "execution_count": 548,
     "metadata": {},
     "output_type": "execute_result"
    }
   ],
   "source": [
    "train_val(y_train, y_train_pred, y_test, y_pred, \"lasso\")  #terrible :) "
   ]
  },
  {
   "cell_type": "code",
   "execution_count": 549,
   "metadata": {},
   "outputs": [
    {
     "data": {
      "text/plain": [
       "array([-0.        ,  0.        ,  0.        , -0.        , -0.        ,\n",
       "       -0.        ,  0.        ,  0.        , -0.        , -0.        ,\n",
       "       -0.        , -0.        , -0.        , -0.        , -0.        ,\n",
       "       -0.        ,  0.        , -0.        , -0.        , -0.        ,\n",
       "       -0.        , -0.        ,  0.        , -0.        , -0.        ,\n",
       "       -0.        ,  0.        , -0.        , -0.        , -0.        ,\n",
       "       -0.        ,  0.        , -0.        , -0.        ,  0.        ,\n",
       "       -0.        , -0.        , -0.        ,  0.        , -0.        ,\n",
       "       -0.        , -0.        ,  0.        , -0.        , -0.        ,\n",
       "       -0.        , -0.        , -0.        ,  0.        , -0.        ,\n",
       "       -0.        , -0.        , -0.        , -0.        , -0.        ,\n",
       "       -0.        , -0.        , -0.        , -0.        , -0.        ,\n",
       "        0.        , -0.        , -0.        , -0.        , -0.        ,\n",
       "        0.        , -0.        , -0.        , -0.        ,  0.        ,\n",
       "       -0.        , -0.        ,  0.        ,  0.        ,  0.        ,\n",
       "        0.        ,  0.        , -0.        ,  0.        , -0.        ,\n",
       "        0.        , -0.        , -0.        , -0.        , -0.        ,\n",
       "        0.        , -0.        , -0.        ,  0.        , -0.        ,\n",
       "        0.        ,  0.        ,  0.        , -0.        , -0.        ,\n",
       "        0.        ,  0.        , -0.        ,  0.        ,  0.        ,\n",
       "       -0.        ,  0.        , -0.        ,  0.22328447, -0.        ,\n",
       "        1.15465895, -0.        ,  0.        , -0.        ])"
      ]
     },
     "execution_count": 549,
     "metadata": {},
     "output_type": "execute_result"
    }
   ],
   "source": [
    "lasso_model.coef_  #elimizde 2 feature kalmış gidip müşteriye sormalıyız minimum feature ile max score elde etmek istermisin \n",
    "#%10 luk bir kayıp senin işini görürmü"
   ]
  },
  {
   "cell_type": "code",
   "execution_count": 550,
   "metadata": {},
   "outputs": [
    {
     "data": {
      "text/plain": [
       "2"
      ]
     },
     "execution_count": 550,
     "metadata": {},
     "output_type": "execute_result"
    }
   ],
   "source": [
    "len([i for i in lasso_model.coef_ if i!=0])"
   ]
  },
  {
   "cell_type": "markdown",
   "metadata": {},
   "source": [
    "# Choosing best alpha value with Cross-Validation"
   ]
  },
  {
   "cell_type": "code",
   "execution_count": 551,
   "metadata": {},
   "outputs": [],
   "source": [
    "lasso_cv_model = LassoCV(alphas = alpha_space, cv = 5, max_iter=100000, random_state=42) "
   ]
  },
  {
   "cell_type": "code",
   "execution_count": 552,
   "metadata": {},
   "outputs": [
    {
     "data": {
      "text/plain": [
       "LassoCV(alphas=array([0.01, 0.02, 0.03, 0.04, 0.05, 0.06, 0.07, 0.08, 0.09, 0.1 , 0.11,\n",
       "       0.12, 0.13, 0.14, 0.15, 0.16, 0.17, 0.18, 0.19, 0.2 , 0.21, 0.22,\n",
       "       0.23, 0.24, 0.25, 0.26, 0.27, 0.28, 0.29, 0.3 , 0.31, 0.32, 0.33,\n",
       "       0.34, 0.35, 0.36, 0.37, 0.38, 0.39, 0.4 , 0.41, 0.42, 0.43, 0.44,\n",
       "       0.45, 0.46, 0.47, 0.48, 0.49, 0.5 , 0.51, 0.52, 0.53, 0.54, 0.55,\n",
       "       0.56, 0.57, 0.58, 0.59, 0.6 , 0.61, 0.62, 0.63, 0.64, 0.65, 0.66,\n",
       "       0.67, 0.68, 0.69, 0.7 , 0.71, 0.72, 0.73, 0.74, 0.75, 0.76, 0.77,\n",
       "       0.78, 0.79, 0.8 , 0.81, 0.82, 0.83, 0.84, 0.85, 0.86, 0.87, 0.88,\n",
       "       0.89, 0.9 , 0.91, 0.92, 0.93, 0.94, 0.95, 0.96, 0.97, 0.98, 0.99,\n",
       "       1.  ]),\n",
       "        cv=5, max_iter=100000, random_state=42)"
      ]
     },
     "execution_count": 552,
     "metadata": {},
     "output_type": "execute_result"
    }
   ],
   "source": [
    "lasso_cv_model.fit(X_train_scaled, y_train)"
   ]
  },
  {
   "cell_type": "code",
   "execution_count": 553,
   "metadata": {},
   "outputs": [
    {
     "data": {
      "text/plain": [
       "0.01"
      ]
     },
     "execution_count": 553,
     "metadata": {},
     "output_type": "execute_result"
    }
   ],
   "source": [
    "lasso_cv_model.alpha_  "
   ]
  },
  {
   "cell_type": "code",
   "execution_count": 554,
   "metadata": {},
   "outputs": [
    {
     "data": {
      "text/plain": [
       "array([1.  , 0.99, 0.98, 0.97, 0.96, 0.95, 0.94, 0.93, 0.92, 0.91, 0.9 ,\n",
       "       0.89, 0.88, 0.87, 0.86, 0.85, 0.84, 0.83, 0.82, 0.81, 0.8 , 0.79,\n",
       "       0.78, 0.77, 0.76, 0.75, 0.74, 0.73, 0.72, 0.71, 0.7 , 0.69, 0.68,\n",
       "       0.67, 0.66, 0.65, 0.64, 0.63, 0.62, 0.61, 0.6 , 0.59, 0.58, 0.57,\n",
       "       0.56, 0.55, 0.54, 0.53, 0.52, 0.51, 0.5 , 0.49, 0.48, 0.47, 0.46,\n",
       "       0.45, 0.44, 0.43, 0.42, 0.41, 0.4 , 0.39, 0.38, 0.37, 0.36, 0.35,\n",
       "       0.34, 0.33, 0.32, 0.31, 0.3 , 0.29, 0.28, 0.27, 0.26, 0.25, 0.24,\n",
       "       0.23, 0.22, 0.21, 0.2 , 0.19, 0.18, 0.17, 0.16, 0.15, 0.14, 0.13,\n",
       "       0.12, 0.11, 0.1 , 0.09, 0.08, 0.07, 0.06, 0.05, 0.04, 0.03, 0.02,\n",
       "       0.01])"
      ]
     },
     "execution_count": 554,
     "metadata": {},
     "output_type": "execute_result"
    }
   ],
   "source": [
    "alpha_space[::-1]"
   ]
  },
  {
   "cell_type": "code",
   "execution_count": 555,
   "metadata": {},
   "outputs": [
    {
     "data": {
      "text/plain": [
       "3.1194073876709796"
      ]
     },
     "execution_count": 555,
     "metadata": {},
     "output_type": "execute_result"
    }
   ],
   "source": [
    "lasso_cv_model.mse_path_[-1].mean()"
   ]
  },
  {
   "cell_type": "code",
   "execution_count": 556,
   "metadata": {},
   "outputs": [],
   "source": [
    "y_pred = lasso_cv_model.predict(X_test_scaled)   #Lasso(alpha =0.01)\n",
    "y_train_pred = lasso_cv_model.predict(X_train_scaled)"
   ]
  },
  {
   "cell_type": "code",
   "execution_count": 557,
   "metadata": {},
   "outputs": [
    {
     "data": {
      "text/html": [
       "<div>\n",
       "<style scoped>\n",
       "    .dataframe tbody tr th:only-of-type {\n",
       "        vertical-align: middle;\n",
       "    }\n",
       "\n",
       "    .dataframe tbody tr th {\n",
       "        vertical-align: top;\n",
       "    }\n",
       "\n",
       "    .dataframe thead th {\n",
       "        text-align: right;\n",
       "    }\n",
       "</style>\n",
       "<table border=\"1\" class=\"dataframe\">\n",
       "  <thead>\n",
       "    <tr style=\"text-align: right;\">\n",
       "      <th></th>\n",
       "      <th>lasso_cv_train</th>\n",
       "      <th>lasso_cv_test</th>\n",
       "    </tr>\n",
       "  </thead>\n",
       "  <tbody>\n",
       "    <tr>\n",
       "      <th>R2</th>\n",
       "      <td>0.919095</td>\n",
       "      <td>0.901471</td>\n",
       "    </tr>\n",
       "    <tr>\n",
       "      <th>mae</th>\n",
       "      <td>0.919019</td>\n",
       "      <td>1.148304</td>\n",
       "    </tr>\n",
       "    <tr>\n",
       "      <th>mse</th>\n",
       "      <td>1.985629</td>\n",
       "      <td>2.805545</td>\n",
       "    </tr>\n",
       "    <tr>\n",
       "      <th>rmse</th>\n",
       "      <td>1.409124</td>\n",
       "      <td>1.674976</td>\n",
       "    </tr>\n",
       "  </tbody>\n",
       "</table>\n",
       "</div>"
      ],
      "text/plain": [
       "      lasso_cv_train  lasso_cv_test\n",
       "R2          0.919095       0.901471\n",
       "mae         0.919019       1.148304\n",
       "mse         1.985629       2.805545\n",
       "rmse        1.409124       1.674976"
      ]
     },
     "execution_count": 557,
     "metadata": {},
     "output_type": "execute_result"
    }
   ],
   "source": [
    "lcs = train_val(y_train, y_train_pred, y_test, y_pred, \"lasso_cv\")#0.01 alpha değeri ile dahada scorların iyileştiğini görebiliyoruz\n",
    "lcs"
   ]
  },
  {
   "cell_type": "code",
   "execution_count": 558,
   "metadata": {},
   "outputs": [
    {
     "data": {
      "text/html": [
       "<div>\n",
       "<style scoped>\n",
       "    .dataframe tbody tr th:only-of-type {\n",
       "        vertical-align: middle;\n",
       "    }\n",
       "\n",
       "    .dataframe tbody tr th {\n",
       "        vertical-align: top;\n",
       "    }\n",
       "\n",
       "    .dataframe thead th {\n",
       "        text-align: right;\n",
       "    }\n",
       "</style>\n",
       "<table border=\"1\" class=\"dataframe\">\n",
       "  <thead>\n",
       "    <tr style=\"text-align: right;\">\n",
       "      <th></th>\n",
       "      <th>linear_train</th>\n",
       "      <th>linear_test</th>\n",
       "      <th>ridge_train</th>\n",
       "      <th>ridge_test</th>\n",
       "      <th>ridge_cv_train</th>\n",
       "      <th>ridge_cv_test</th>\n",
       "      <th>lasso_train</th>\n",
       "      <th>lasso_test</th>\n",
       "      <th>lasso_cv_train</th>\n",
       "      <th>lasso_cv_test</th>\n",
       "    </tr>\n",
       "  </thead>\n",
       "  <tbody>\n",
       "    <tr>\n",
       "      <th>R2</th>\n",
       "      <td>0.953785</td>\n",
       "      <td>-3.376830e+25</td>\n",
       "      <td>0.894160</td>\n",
       "      <td>0.869645</td>\n",
       "      <td>0.949462</td>\n",
       "      <td>0.856809</td>\n",
       "      <td>0.126310</td>\n",
       "      <td>0.121726</td>\n",
       "      <td>0.919095</td>\n",
       "      <td>0.901471</td>\n",
       "    </tr>\n",
       "    <tr>\n",
       "      <th>mae</th>\n",
       "      <td>0.614804</td>\n",
       "      <td>9.207700e+12</td>\n",
       "      <td>0.938048</td>\n",
       "      <td>1.306398</td>\n",
       "      <td>0.591668</td>\n",
       "      <td>1.319021</td>\n",
       "      <td>2.964977</td>\n",
       "      <td>3.372374</td>\n",
       "      <td>0.919019</td>\n",
       "      <td>1.148304</td>\n",
       "    </tr>\n",
       "    <tr>\n",
       "      <th>mse</th>\n",
       "      <td>1.134233</td>\n",
       "      <td>9.615254e+26</td>\n",
       "      <td>2.597600</td>\n",
       "      <td>3.711741</td>\n",
       "      <td>1.240329</td>\n",
       "      <td>4.077242</td>\n",
       "      <td>21.442652</td>\n",
       "      <td>25.008152</td>\n",
       "      <td>1.985629</td>\n",
       "      <td>2.805545</td>\n",
       "    </tr>\n",
       "    <tr>\n",
       "      <th>rmse</th>\n",
       "      <td>1.065004</td>\n",
       "      <td>3.100847e+13</td>\n",
       "      <td>1.611707</td>\n",
       "      <td>1.926588</td>\n",
       "      <td>1.113700</td>\n",
       "      <td>2.019218</td>\n",
       "      <td>4.630621</td>\n",
       "      <td>5.000815</td>\n",
       "      <td>1.409124</td>\n",
       "      <td>1.674976</td>\n",
       "    </tr>\n",
       "  </tbody>\n",
       "</table>\n",
       "</div>"
      ],
      "text/plain": [
       "      linear_train   linear_test  ridge_train  ridge_test  ridge_cv_train  \\\n",
       "R2        0.953785 -3.376830e+25     0.894160    0.869645        0.949462   \n",
       "mae       0.614804  9.207700e+12     0.938048    1.306398        0.591668   \n",
       "mse       1.134233  9.615254e+26     2.597600    3.711741        1.240329   \n",
       "rmse      1.065004  3.100847e+13     1.611707    1.926588        1.113700   \n",
       "\n",
       "      ridge_cv_test  lasso_train  lasso_test  lasso_cv_train  lasso_cv_test  \n",
       "R2         0.856809     0.126310    0.121726        0.919095       0.901471  \n",
       "mae        1.319021     2.964977    3.372374        0.919019       1.148304  \n",
       "mse        4.077242    21.442652   25.008152        1.985629       2.805545  \n",
       "rmse       2.019218     4.630621    5.000815        1.409124       1.674976  "
      ]
     },
     "execution_count": 558,
     "metadata": {},
     "output_type": "execute_result"
    }
   ],
   "source": [
    "pd.concat([ls,rs, rcs, lss, lcs], axis = 1)"
   ]
  },
  {
   "cell_type": "code",
   "execution_count": 559,
   "metadata": {},
   "outputs": [
    {
     "data": {
      "text/plain": [
       "array([-5.60561626e+00,  3.38405239e+01, -3.47386646e-02, -0.00000000e+00,\n",
       "        1.40345899e+00,  0.00000000e+00,  0.00000000e+00,  0.00000000e+00,\n",
       "       -0.00000000e+00, -0.00000000e+00, -0.00000000e+00, -0.00000000e+00,\n",
       "        0.00000000e+00,  0.00000000e+00,  0.00000000e+00, -0.00000000e+00,\n",
       "        0.00000000e+00, -0.00000000e+00,  6.58821131e-01,  0.00000000e+00,\n",
       "        0.00000000e+00, -0.00000000e+00,  0.00000000e+00, -0.00000000e+00,\n",
       "       -0.00000000e+00,  0.00000000e+00,  0.00000000e+00,  0.00000000e+00,\n",
       "        2.08432622e-01, -0.00000000e+00, -0.00000000e+00,  0.00000000e+00,\n",
       "       -0.00000000e+00,  1.07577165e+00,  0.00000000e+00, -1.25120071e+00,\n",
       "       -3.92247606e-01,  1.91167942e-01,  0.00000000e+00, -0.00000000e+00,\n",
       "        0.00000000e+00, -0.00000000e+00,  0.00000000e+00,  0.00000000e+00,\n",
       "       -0.00000000e+00, -0.00000000e+00, -0.00000000e+00, -0.00000000e+00,\n",
       "        0.00000000e+00, -0.00000000e+00,  0.00000000e+00,  0.00000000e+00,\n",
       "        0.00000000e+00, -0.00000000e+00,  0.00000000e+00, -0.00000000e+00,\n",
       "        0.00000000e+00, -0.00000000e+00, -0.00000000e+00,  0.00000000e+00,\n",
       "        0.00000000e+00, -0.00000000e+00, -0.00000000e+00,  0.00000000e+00,\n",
       "       -0.00000000e+00,  0.00000000e+00, -0.00000000e+00, -2.99236177e-01,\n",
       "       -1.22278430e-01, -0.00000000e+00,  0.00000000e+00, -2.28124595e+00,\n",
       "        1.23203297e-01,  7.37074309e-01,  0.00000000e+00, -3.93383696e-01,\n",
       "        2.77289036e+00, -0.00000000e+00,  7.63518742e-01, -8.15217451e-01,\n",
       "        0.00000000e+00, -0.00000000e+00,  0.00000000e+00, -0.00000000e+00,\n",
       "       -1.99416006e-01,  3.61537318e+00, -0.00000000e+00,  0.00000000e+00,\n",
       "        0.00000000e+00, -0.00000000e+00,  3.72293566e+00,  0.00000000e+00,\n",
       "       -0.00000000e+00, -0.00000000e+00, -0.00000000e+00,  0.00000000e+00,\n",
       "        0.00000000e+00, -0.00000000e+00,  4.01815668e-01,  0.00000000e+00,\n",
       "        0.00000000e+00, -0.00000000e+00, -0.00000000e+00,  1.16754834e+00,\n",
       "       -0.00000000e+00,  1.46714474e+00, -1.76064780e-16,  9.56168585e-01,\n",
       "       -9.97419616e-16])"
      ]
     },
     "execution_count": 559,
     "metadata": {},
     "output_type": "execute_result"
    }
   ],
   "source": [
    "lasso_cv_model.coef_"
   ]
  },
  {
   "cell_type": "code",
   "execution_count": 560,
   "metadata": {},
   "outputs": [
    {
     "data": {
      "text/plain": [
       "28"
      ]
     },
     "execution_count": 560,
     "metadata": {},
     "output_type": "execute_result"
    }
   ],
   "source": [
    "len([i for i in lasso_cv_model.coef_ if i!=0])"
   ]
  },
  {
   "cell_type": "code",
   "execution_count": null,
   "metadata": {},
   "outputs": [],
   "source": []
  },
  {
   "cell_type": "markdown",
   "metadata": {
    "id": "26QEobIEbV9X"
   },
   "source": [
    "## Elastic-Net "
   ]
  },
  {
   "cell_type": "code",
   "execution_count": 561,
   "metadata": {
    "id": "hIgltF9YbV9Y"
   },
   "outputs": [],
   "source": [
    "from sklearn.linear_model import ElasticNet, ElasticNetCV"
   ]
  },
  {
   "cell_type": "code",
   "execution_count": 562,
   "metadata": {},
   "outputs": [
    {
     "data": {
      "text/plain": [
       "ElasticNet(alpha=1, random_state=42)"
      ]
     },
     "execution_count": 562,
     "metadata": {},
     "output_type": "execute_result"
    }
   ],
   "source": [
    "elastic_model = ElasticNet(alpha=1, l1_ratio=0.5, random_state=42)\n",
    "elastic_model.fit(X_train_scaled, y_train)  "
   ]
  },
  {
   "cell_type": "code",
   "execution_count": 563,
   "metadata": {},
   "outputs": [],
   "source": [
    "y_pred = elastic_model.predict(X_test_scaled)\n",
    "y_train_pred = elastic_model.predict(X_train_scaled)"
   ]
  },
  {
   "cell_type": "code",
   "execution_count": 564,
   "metadata": {},
   "outputs": [
    {
     "data": {
      "text/html": [
       "<div>\n",
       "<style scoped>\n",
       "    .dataframe tbody tr th:only-of-type {\n",
       "        vertical-align: middle;\n",
       "    }\n",
       "\n",
       "    .dataframe tbody tr th {\n",
       "        vertical-align: top;\n",
       "    }\n",
       "\n",
       "    .dataframe thead th {\n",
       "        text-align: right;\n",
       "    }\n",
       "</style>\n",
       "<table border=\"1\" class=\"dataframe\">\n",
       "  <thead>\n",
       "    <tr style=\"text-align: right;\">\n",
       "      <th></th>\n",
       "      <th>elastic_train</th>\n",
       "      <th>elastic_test</th>\n",
       "    </tr>\n",
       "  </thead>\n",
       "  <tbody>\n",
       "    <tr>\n",
       "      <th>R2</th>\n",
       "      <td>0.224736</td>\n",
       "      <td>0.212087</td>\n",
       "    </tr>\n",
       "    <tr>\n",
       "      <th>mae</th>\n",
       "      <td>2.776190</td>\n",
       "      <td>3.124668</td>\n",
       "    </tr>\n",
       "    <tr>\n",
       "      <th>mse</th>\n",
       "      <td>19.027030</td>\n",
       "      <td>22.435194</td>\n",
       "    </tr>\n",
       "    <tr>\n",
       "      <th>rmse</th>\n",
       "      <td>4.361998</td>\n",
       "      <td>4.736580</td>\n",
       "    </tr>\n",
       "  </tbody>\n",
       "</table>\n",
       "</div>"
      ],
      "text/plain": [
       "      elastic_train  elastic_test\n",
       "R2         0.224736      0.212087\n",
       "mae        2.776190      3.124668\n",
       "mse       19.027030     22.435194\n",
       "rmse       4.361998      4.736580"
      ]
     },
     "execution_count": 564,
     "metadata": {},
     "output_type": "execute_result"
    }
   ],
   "source": [
    "es = train_val(y_train, y_train_pred, y_test, y_pred, \"elastic\")\n",
    "es"
   ]
  },
  {
   "cell_type": "code",
   "execution_count": 565,
   "metadata": {},
   "outputs": [
    {
     "data": {
      "text/html": [
       "<div>\n",
       "<style scoped>\n",
       "    .dataframe tbody tr th:only-of-type {\n",
       "        vertical-align: middle;\n",
       "    }\n",
       "\n",
       "    .dataframe tbody tr th {\n",
       "        vertical-align: top;\n",
       "    }\n",
       "\n",
       "    .dataframe thead th {\n",
       "        text-align: right;\n",
       "    }\n",
       "</style>\n",
       "<table border=\"1\" class=\"dataframe\">\n",
       "  <thead>\n",
       "    <tr style=\"text-align: right;\">\n",
       "      <th></th>\n",
       "      <th>linear_train</th>\n",
       "      <th>linear_test</th>\n",
       "      <th>ridge_train</th>\n",
       "      <th>ridge_test</th>\n",
       "      <th>ridge_cv_train</th>\n",
       "      <th>ridge_cv_test</th>\n",
       "      <th>lasso_train</th>\n",
       "      <th>lasso_test</th>\n",
       "      <th>lasso_cv_train</th>\n",
       "      <th>lasso_cv_test</th>\n",
       "      <th>elastic_train</th>\n",
       "      <th>elastic_test</th>\n",
       "    </tr>\n",
       "  </thead>\n",
       "  <tbody>\n",
       "    <tr>\n",
       "      <th>R2</th>\n",
       "      <td>0.953785</td>\n",
       "      <td>-3.376830e+25</td>\n",
       "      <td>0.894160</td>\n",
       "      <td>0.869645</td>\n",
       "      <td>0.949462</td>\n",
       "      <td>0.856809</td>\n",
       "      <td>0.126310</td>\n",
       "      <td>0.121726</td>\n",
       "      <td>0.919095</td>\n",
       "      <td>0.901471</td>\n",
       "      <td>0.224736</td>\n",
       "      <td>0.212087</td>\n",
       "    </tr>\n",
       "    <tr>\n",
       "      <th>mae</th>\n",
       "      <td>0.614804</td>\n",
       "      <td>9.207700e+12</td>\n",
       "      <td>0.938048</td>\n",
       "      <td>1.306398</td>\n",
       "      <td>0.591668</td>\n",
       "      <td>1.319021</td>\n",
       "      <td>2.964977</td>\n",
       "      <td>3.372374</td>\n",
       "      <td>0.919019</td>\n",
       "      <td>1.148304</td>\n",
       "      <td>2.776190</td>\n",
       "      <td>3.124668</td>\n",
       "    </tr>\n",
       "    <tr>\n",
       "      <th>mse</th>\n",
       "      <td>1.134233</td>\n",
       "      <td>9.615254e+26</td>\n",
       "      <td>2.597600</td>\n",
       "      <td>3.711741</td>\n",
       "      <td>1.240329</td>\n",
       "      <td>4.077242</td>\n",
       "      <td>21.442652</td>\n",
       "      <td>25.008152</td>\n",
       "      <td>1.985629</td>\n",
       "      <td>2.805545</td>\n",
       "      <td>19.027030</td>\n",
       "      <td>22.435194</td>\n",
       "    </tr>\n",
       "    <tr>\n",
       "      <th>rmse</th>\n",
       "      <td>1.065004</td>\n",
       "      <td>3.100847e+13</td>\n",
       "      <td>1.611707</td>\n",
       "      <td>1.926588</td>\n",
       "      <td>1.113700</td>\n",
       "      <td>2.019218</td>\n",
       "      <td>4.630621</td>\n",
       "      <td>5.000815</td>\n",
       "      <td>1.409124</td>\n",
       "      <td>1.674976</td>\n",
       "      <td>4.361998</td>\n",
       "      <td>4.736580</td>\n",
       "    </tr>\n",
       "  </tbody>\n",
       "</table>\n",
       "</div>"
      ],
      "text/plain": [
       "      linear_train   linear_test  ridge_train  ridge_test  ridge_cv_train  \\\n",
       "R2        0.953785 -3.376830e+25     0.894160    0.869645        0.949462   \n",
       "mae       0.614804  9.207700e+12     0.938048    1.306398        0.591668   \n",
       "mse       1.134233  9.615254e+26     2.597600    3.711741        1.240329   \n",
       "rmse      1.065004  3.100847e+13     1.611707    1.926588        1.113700   \n",
       "\n",
       "      ridge_cv_test  lasso_train  lasso_test  lasso_cv_train  lasso_cv_test  \\\n",
       "R2         0.856809     0.126310    0.121726        0.919095       0.901471   \n",
       "mae        1.319021     2.964977    3.372374        0.919019       1.148304   \n",
       "mse        4.077242    21.442652   25.008152        1.985629       2.805545   \n",
       "rmse       2.019218     4.630621    5.000815        1.409124       1.674976   \n",
       "\n",
       "      elastic_train  elastic_test  \n",
       "R2         0.224736      0.212087  \n",
       "mae        2.776190      3.124668  \n",
       "mse       19.027030     22.435194  \n",
       "rmse       4.361998      4.736580  "
      ]
     },
     "execution_count": 565,
     "metadata": {},
     "output_type": "execute_result"
    }
   ],
   "source": [
    "pd.concat([ls,rs, rcs, lss, lcs, es], axis = 1)"
   ]
  },
  {
   "cell_type": "code",
   "execution_count": 566,
   "metadata": {},
   "outputs": [],
   "source": [
    "model = ElasticNet(alpha=1, l1_ratio=0.5, random_state=42)\n",
    "scores = cross_validate(model, X_train_scaled, y_train,\n",
    "                        scoring=['r2', 'neg_mean_absolute_error','neg_mean_squared_error','neg_root_mean_squared_error'], cv=5)"
   ]
  },
  {
   "cell_type": "code",
   "execution_count": 567,
   "metadata": {},
   "outputs": [
    {
     "data": {
      "text/html": [
       "<div>\n",
       "<style scoped>\n",
       "    .dataframe tbody tr th:only-of-type {\n",
       "        vertical-align: middle;\n",
       "    }\n",
       "\n",
       "    .dataframe tbody tr th {\n",
       "        vertical-align: top;\n",
       "    }\n",
       "\n",
       "    .dataframe thead th {\n",
       "        text-align: right;\n",
       "    }\n",
       "</style>\n",
       "<table border=\"1\" class=\"dataframe\">\n",
       "  <thead>\n",
       "    <tr style=\"text-align: right;\">\n",
       "      <th></th>\n",
       "      <th>test_r2</th>\n",
       "      <th>test_neg_mean_absolute_error</th>\n",
       "      <th>test_neg_mean_squared_error</th>\n",
       "      <th>test_neg_root_mean_squared_error</th>\n",
       "    </tr>\n",
       "  </thead>\n",
       "  <tbody>\n",
       "    <tr>\n",
       "      <th>1</th>\n",
       "      <td>0.154892</td>\n",
       "      <td>-3.526230</td>\n",
       "      <td>-34.656416</td>\n",
       "      <td>-5.886970</td>\n",
       "    </tr>\n",
       "    <tr>\n",
       "      <th>2</th>\n",
       "      <td>0.270436</td>\n",
       "      <td>-2.751663</td>\n",
       "      <td>-13.737996</td>\n",
       "      <td>-3.706480</td>\n",
       "    </tr>\n",
       "    <tr>\n",
       "      <th>3</th>\n",
       "      <td>0.322548</td>\n",
       "      <td>-2.026848</td>\n",
       "      <td>-8.142646</td>\n",
       "      <td>-2.853532</td>\n",
       "    </tr>\n",
       "    <tr>\n",
       "      <th>4</th>\n",
       "      <td>0.134234</td>\n",
       "      <td>-3.119878</td>\n",
       "      <td>-28.162153</td>\n",
       "      <td>-5.306803</td>\n",
       "    </tr>\n",
       "    <tr>\n",
       "      <th>5</th>\n",
       "      <td>0.331688</td>\n",
       "      <td>-2.620521</td>\n",
       "      <td>-11.862438</td>\n",
       "      <td>-3.444189</td>\n",
       "    </tr>\n",
       "  </tbody>\n",
       "</table>\n",
       "</div>"
      ],
      "text/plain": [
       "    test_r2  test_neg_mean_absolute_error  test_neg_mean_squared_error  \\\n",
       "1  0.154892                     -3.526230                   -34.656416   \n",
       "2  0.270436                     -2.751663                   -13.737996   \n",
       "3  0.322548                     -2.026848                    -8.142646   \n",
       "4  0.134234                     -3.119878                   -28.162153   \n",
       "5  0.331688                     -2.620521                   -11.862438   \n",
       "\n",
       "   test_neg_root_mean_squared_error  \n",
       "1                         -5.886970  \n",
       "2                         -3.706480  \n",
       "3                         -2.853532  \n",
       "4                         -5.306803  \n",
       "5                         -3.444189  "
      ]
     },
     "execution_count": 567,
     "metadata": {},
     "output_type": "execute_result"
    }
   ],
   "source": [
    "scores = pd.DataFrame(scores, index = range(1, 6))\n",
    "scores.iloc[:,2:]"
   ]
  },
  {
   "cell_type": "code",
   "execution_count": 568,
   "metadata": {},
   "outputs": [
    {
     "data": {
      "text/plain": [
       "test_r2                              0.242760\n",
       "test_neg_mean_absolute_error        -2.809028\n",
       "test_neg_mean_squared_error        -19.312330\n",
       "test_neg_root_mean_squared_error    -4.239595\n",
       "dtype: float64"
      ]
     },
     "execution_count": 568,
     "metadata": {},
     "output_type": "execute_result"
    }
   ],
   "source": [
    "scores = pd.DataFrame(scores, index = range(1, 11))\n",
    "scores.iloc[:,2:].mean()"
   ]
  },
  {
   "cell_type": "code",
   "execution_count": 569,
   "metadata": {},
   "outputs": [
    {
     "data": {
      "text/html": [
       "<div>\n",
       "<style scoped>\n",
       "    .dataframe tbody tr th:only-of-type {\n",
       "        vertical-align: middle;\n",
       "    }\n",
       "\n",
       "    .dataframe tbody tr th {\n",
       "        vertical-align: top;\n",
       "    }\n",
       "\n",
       "    .dataframe thead th {\n",
       "        text-align: right;\n",
       "    }\n",
       "</style>\n",
       "<table border=\"1\" class=\"dataframe\">\n",
       "  <thead>\n",
       "    <tr style=\"text-align: right;\">\n",
       "      <th></th>\n",
       "      <th>elastic_train</th>\n",
       "      <th>elastic_test</th>\n",
       "    </tr>\n",
       "  </thead>\n",
       "  <tbody>\n",
       "    <tr>\n",
       "      <th>R2</th>\n",
       "      <td>0.224736</td>\n",
       "      <td>0.212087</td>\n",
       "    </tr>\n",
       "    <tr>\n",
       "      <th>mae</th>\n",
       "      <td>2.776190</td>\n",
       "      <td>3.124668</td>\n",
       "    </tr>\n",
       "    <tr>\n",
       "      <th>mse</th>\n",
       "      <td>19.027030</td>\n",
       "      <td>22.435194</td>\n",
       "    </tr>\n",
       "    <tr>\n",
       "      <th>rmse</th>\n",
       "      <td>4.361998</td>\n",
       "      <td>4.736580</td>\n",
       "    </tr>\n",
       "  </tbody>\n",
       "</table>\n",
       "</div>"
      ],
      "text/plain": [
       "      elastic_train  elastic_test\n",
       "R2         0.224736      0.212087\n",
       "mae        2.776190      3.124668\n",
       "mse       19.027030     22.435194\n",
       "rmse       4.361998      4.736580"
      ]
     },
     "execution_count": 569,
     "metadata": {},
     "output_type": "execute_result"
    }
   ],
   "source": [
    "train_val(y_train, y_train_pred, y_test, y_pred, \"elastic\") #shock :) "
   ]
  },
  {
   "cell_type": "code",
   "execution_count": 570,
   "metadata": {},
   "outputs": [
    {
     "data": {
      "text/plain": [
       "array([-0.        ,  0.        ,  0.        , -0.        , -0.        ,\n",
       "       -0.        ,  0.        ,  0.        , -0.        , -0.        ,\n",
       "       -0.        , -0.        , -0.        , -0.        , -0.        ,\n",
       "       -0.        ,  0.        , -0.        , -0.        , -0.        ,\n",
       "       -0.        , -0.        ,  0.        , -0.        , -0.        ,\n",
       "       -0.        ,  0.        , -0.        , -0.        , -0.        ,\n",
       "       -0.        ,  0.        , -0.        , -0.        ,  0.        ,\n",
       "       -0.        , -0.        , -0.        ,  0.        , -0.        ,\n",
       "       -0.        , -0.        ,  0.        , -0.        , -0.        ,\n",
       "       -0.        , -0.        , -0.        ,  0.        , -0.        ,\n",
       "       -0.        , -0.        , -0.        , -0.        , -0.        ,\n",
       "       -0.        , -0.        , -0.        , -0.        , -0.        ,\n",
       "        0.        , -0.        , -0.        , -0.        , -0.        ,\n",
       "        0.        , -0.        , -0.        , -0.        ,  0.        ,\n",
       "       -0.        , -0.        ,  0.        ,  0.        ,  0.        ,\n",
       "        0.        ,  0.        , -0.        ,  0.        , -0.        ,\n",
       "        0.        , -0.        , -0.        , -0.        , -0.        ,\n",
       "        0.        , -0.        , -0.        ,  0.        ,  0.        ,\n",
       "        0.        ,  0.        ,  0.        , -0.        , -0.        ,\n",
       "        0.        , -0.        , -0.        ,  0.        ,  0.        ,\n",
       "       -0.        ,  0.        , -0.        ,  0.64755154, -0.60285737,\n",
       "        0.72921324, -0.72921064,  0.        , -0.        ])"
      ]
     },
     "execution_count": 570,
     "metadata": {},
     "output_type": "execute_result"
    }
   ],
   "source": [
    "elastic_model.coef_ "
   ]
  },
  {
   "cell_type": "code",
   "execution_count": 571,
   "metadata": {},
   "outputs": [],
   "source": [
    "elastic_cv_model = ElasticNetCV(alphas = alpha_space, l1_ratio=[0.1, 0.5, 0.7,0.9, 0.95, 1], cv = 5, \n",
    "                                max_iter = 100000,random_state=42) #l1_ratio 0 ile 1 arasında değişiyor "
   ]
  },
  {
   "cell_type": "code",
   "execution_count": 572,
   "metadata": {},
   "outputs": [
    {
     "data": {
      "text/plain": [
       "ElasticNetCV(alphas=array([0.01, 0.02, 0.03, 0.04, 0.05, 0.06, 0.07, 0.08, 0.09, 0.1 , 0.11,\n",
       "       0.12, 0.13, 0.14, 0.15, 0.16, 0.17, 0.18, 0.19, 0.2 , 0.21, 0.22,\n",
       "       0.23, 0.24, 0.25, 0.26, 0.27, 0.28, 0.29, 0.3 , 0.31, 0.32, 0.33,\n",
       "       0.34, 0.35, 0.36, 0.37, 0.38, 0.39, 0.4 , 0.41, 0.42, 0.43, 0.44,\n",
       "       0.45, 0.46, 0.47, 0.48, 0.49, 0.5 , 0.51, 0.52, 0.53, 0.54, 0.55,\n",
       "       0.56, 0.57, 0.58, 0.59, 0.6 , 0.61, 0.62, 0.63, 0.64, 0.65, 0.66,\n",
       "       0.67, 0.68, 0.69, 0.7 , 0.71, 0.72, 0.73, 0.74, 0.75, 0.76, 0.77,\n",
       "       0.78, 0.79, 0.8 , 0.81, 0.82, 0.83, 0.84, 0.85, 0.86, 0.87, 0.88,\n",
       "       0.89, 0.9 , 0.91, 0.92, 0.93, 0.94, 0.95, 0.96, 0.97, 0.98, 0.99,\n",
       "       1.  ]),\n",
       "             cv=5, l1_ratio=[0.1, 0.5, 0.7, 0.9, 0.95, 1], max_iter=100000,\n",
       "             random_state=42)"
      ]
     },
     "execution_count": 572,
     "metadata": {},
     "output_type": "execute_result"
    }
   ],
   "source": [
    "elastic_cv_model.fit(X_train_scaled, y_train)"
   ]
  },
  {
   "cell_type": "code",
   "execution_count": 573,
   "metadata": {},
   "outputs": [
    {
     "data": {
      "text/plain": [
       "0.01"
      ]
     },
     "execution_count": 573,
     "metadata": {},
     "output_type": "execute_result"
    }
   ],
   "source": [
    "elastic_cv_model.alpha_"
   ]
  },
  {
   "cell_type": "code",
   "execution_count": 574,
   "metadata": {},
   "outputs": [
    {
     "data": {
      "text/plain": [
       "1.0"
      ]
     },
     "execution_count": 574,
     "metadata": {},
     "output_type": "execute_result"
    }
   ],
   "source": [
    "elastic_cv_model.l1_ratio_"
   ]
  },
  {
   "cell_type": "code",
   "execution_count": 575,
   "metadata": {},
   "outputs": [
    {
     "data": {
      "text/plain": [
       "3.1194073876709796"
      ]
     },
     "execution_count": 575,
     "metadata": {},
     "output_type": "execute_result"
    }
   ],
   "source": [
    "elastic_cv_model.mse_path_[5][-1].mean()"
   ]
  },
  {
   "cell_type": "code",
   "execution_count": 576,
   "metadata": {},
   "outputs": [],
   "source": [
    "y_pred = elastic_cv_model.predict(X_test_scaled)  #ikisininde predictionunu aldık\n",
    "y_train_pred = elastic_cv_model.predict(X_train_scaled)"
   ]
  },
  {
   "cell_type": "code",
   "execution_count": 577,
   "metadata": {},
   "outputs": [
    {
     "data": {
      "text/html": [
       "<div>\n",
       "<style scoped>\n",
       "    .dataframe tbody tr th:only-of-type {\n",
       "        vertical-align: middle;\n",
       "    }\n",
       "\n",
       "    .dataframe tbody tr th {\n",
       "        vertical-align: top;\n",
       "    }\n",
       "\n",
       "    .dataframe thead th {\n",
       "        text-align: right;\n",
       "    }\n",
       "</style>\n",
       "<table border=\"1\" class=\"dataframe\">\n",
       "  <thead>\n",
       "    <tr style=\"text-align: right;\">\n",
       "      <th></th>\n",
       "      <th>elastic_cv_train</th>\n",
       "      <th>elastic_cv_test</th>\n",
       "    </tr>\n",
       "  </thead>\n",
       "  <tbody>\n",
       "    <tr>\n",
       "      <th>R2</th>\n",
       "      <td>0.919095</td>\n",
       "      <td>0.901471</td>\n",
       "    </tr>\n",
       "    <tr>\n",
       "      <th>mae</th>\n",
       "      <td>0.919019</td>\n",
       "      <td>1.148304</td>\n",
       "    </tr>\n",
       "    <tr>\n",
       "      <th>mse</th>\n",
       "      <td>1.985629</td>\n",
       "      <td>2.805545</td>\n",
       "    </tr>\n",
       "    <tr>\n",
       "      <th>rmse</th>\n",
       "      <td>1.409124</td>\n",
       "      <td>1.674976</td>\n",
       "    </tr>\n",
       "  </tbody>\n",
       "</table>\n",
       "</div>"
      ],
      "text/plain": [
       "      elastic_cv_train  elastic_cv_test\n",
       "R2            0.919095         0.901471\n",
       "mae           0.919019         1.148304\n",
       "mse           1.985629         2.805545\n",
       "rmse          1.409124         1.674976"
      ]
     },
     "execution_count": 577,
     "metadata": {},
     "output_type": "execute_result"
    }
   ],
   "source": [
    "ecs = train_val(y_train, y_train_pred, y_test, y_pred, \"elastic_cv\")\n",
    "ecs"
   ]
  },
  {
   "cell_type": "code",
   "execution_count": 578,
   "metadata": {},
   "outputs": [
    {
     "data": {
      "text/html": [
       "<div>\n",
       "<style scoped>\n",
       "    .dataframe tbody tr th:only-of-type {\n",
       "        vertical-align: middle;\n",
       "    }\n",
       "\n",
       "    .dataframe tbody tr th {\n",
       "        vertical-align: top;\n",
       "    }\n",
       "\n",
       "    .dataframe thead th {\n",
       "        text-align: right;\n",
       "    }\n",
       "</style>\n",
       "<table border=\"1\" class=\"dataframe\">\n",
       "  <thead>\n",
       "    <tr style=\"text-align: right;\">\n",
       "      <th></th>\n",
       "      <th>linear_train</th>\n",
       "      <th>linear_test</th>\n",
       "      <th>ridge_train</th>\n",
       "      <th>ridge_test</th>\n",
       "      <th>ridge_cv_train</th>\n",
       "      <th>ridge_cv_test</th>\n",
       "      <th>lasso_train</th>\n",
       "      <th>lasso_test</th>\n",
       "      <th>lasso_cv_train</th>\n",
       "      <th>lasso_cv_test</th>\n",
       "      <th>elastic_train</th>\n",
       "      <th>elastic_test</th>\n",
       "      <th>elastic_cv_train</th>\n",
       "      <th>elastic_cv_test</th>\n",
       "    </tr>\n",
       "  </thead>\n",
       "  <tbody>\n",
       "    <tr>\n",
       "      <th>R2</th>\n",
       "      <td>0.953785</td>\n",
       "      <td>-3.376830e+25</td>\n",
       "      <td>0.894160</td>\n",
       "      <td>0.869645</td>\n",
       "      <td>0.949462</td>\n",
       "      <td>0.856809</td>\n",
       "      <td>0.126310</td>\n",
       "      <td>0.121726</td>\n",
       "      <td>0.919095</td>\n",
       "      <td>0.901471</td>\n",
       "      <td>0.224736</td>\n",
       "      <td>0.212087</td>\n",
       "      <td>0.919095</td>\n",
       "      <td>0.901471</td>\n",
       "    </tr>\n",
       "    <tr>\n",
       "      <th>mae</th>\n",
       "      <td>0.614804</td>\n",
       "      <td>9.207700e+12</td>\n",
       "      <td>0.938048</td>\n",
       "      <td>1.306398</td>\n",
       "      <td>0.591668</td>\n",
       "      <td>1.319021</td>\n",
       "      <td>2.964977</td>\n",
       "      <td>3.372374</td>\n",
       "      <td>0.919019</td>\n",
       "      <td>1.148304</td>\n",
       "      <td>2.776190</td>\n",
       "      <td>3.124668</td>\n",
       "      <td>0.919019</td>\n",
       "      <td>1.148304</td>\n",
       "    </tr>\n",
       "    <tr>\n",
       "      <th>mse</th>\n",
       "      <td>1.134233</td>\n",
       "      <td>9.615254e+26</td>\n",
       "      <td>2.597600</td>\n",
       "      <td>3.711741</td>\n",
       "      <td>1.240329</td>\n",
       "      <td>4.077242</td>\n",
       "      <td>21.442652</td>\n",
       "      <td>25.008152</td>\n",
       "      <td>1.985629</td>\n",
       "      <td>2.805545</td>\n",
       "      <td>19.027030</td>\n",
       "      <td>22.435194</td>\n",
       "      <td>1.985629</td>\n",
       "      <td>2.805545</td>\n",
       "    </tr>\n",
       "    <tr>\n",
       "      <th>rmse</th>\n",
       "      <td>1.065004</td>\n",
       "      <td>3.100847e+13</td>\n",
       "      <td>1.611707</td>\n",
       "      <td>1.926588</td>\n",
       "      <td>1.113700</td>\n",
       "      <td>2.019218</td>\n",
       "      <td>4.630621</td>\n",
       "      <td>5.000815</td>\n",
       "      <td>1.409124</td>\n",
       "      <td>1.674976</td>\n",
       "      <td>4.361998</td>\n",
       "      <td>4.736580</td>\n",
       "      <td>1.409124</td>\n",
       "      <td>1.674976</td>\n",
       "    </tr>\n",
       "  </tbody>\n",
       "</table>\n",
       "</div>"
      ],
      "text/plain": [
       "      linear_train   linear_test  ridge_train  ridge_test  ridge_cv_train  \\\n",
       "R2        0.953785 -3.376830e+25     0.894160    0.869645        0.949462   \n",
       "mae       0.614804  9.207700e+12     0.938048    1.306398        0.591668   \n",
       "mse       1.134233  9.615254e+26     2.597600    3.711741        1.240329   \n",
       "rmse      1.065004  3.100847e+13     1.611707    1.926588        1.113700   \n",
       "\n",
       "      ridge_cv_test  lasso_train  lasso_test  lasso_cv_train  lasso_cv_test  \\\n",
       "R2         0.856809     0.126310    0.121726        0.919095       0.901471   \n",
       "mae        1.319021     2.964977    3.372374        0.919019       1.148304   \n",
       "mse        4.077242    21.442652   25.008152        1.985629       2.805545   \n",
       "rmse       2.019218     4.630621    5.000815        1.409124       1.674976   \n",
       "\n",
       "      elastic_train  elastic_test  elastic_cv_train  elastic_cv_test  \n",
       "R2         0.224736      0.212087          0.919095         0.901471  \n",
       "mae        2.776190      3.124668          0.919019         1.148304  \n",
       "mse       19.027030     22.435194          1.985629         2.805545  \n",
       "rmse       4.361998      4.736580          1.409124         1.674976  "
      ]
     },
     "execution_count": 578,
     "metadata": {},
     "output_type": "execute_result"
    }
   ],
   "source": [
    "pd.concat([ls,rs, rcs, lss, lcs, es, ecs], axis = 1)"
   ]
  },
  {
   "cell_type": "code",
   "execution_count": 579,
   "metadata": {},
   "outputs": [
    {
     "data": {
      "text/plain": [
       "array([-5.60561626e+00,  3.38405239e+01, -3.47386646e-02, -0.00000000e+00,\n",
       "        1.40345899e+00,  0.00000000e+00,  0.00000000e+00,  0.00000000e+00,\n",
       "       -0.00000000e+00, -0.00000000e+00, -0.00000000e+00, -0.00000000e+00,\n",
       "        0.00000000e+00,  0.00000000e+00,  0.00000000e+00, -0.00000000e+00,\n",
       "        0.00000000e+00, -0.00000000e+00,  6.58821131e-01,  0.00000000e+00,\n",
       "        0.00000000e+00, -0.00000000e+00,  0.00000000e+00, -0.00000000e+00,\n",
       "       -0.00000000e+00,  0.00000000e+00,  0.00000000e+00,  0.00000000e+00,\n",
       "        2.08432622e-01, -0.00000000e+00, -0.00000000e+00,  0.00000000e+00,\n",
       "       -0.00000000e+00,  1.07577165e+00,  0.00000000e+00, -1.25120071e+00,\n",
       "       -3.92247606e-01,  1.91167942e-01,  0.00000000e+00, -0.00000000e+00,\n",
       "        0.00000000e+00, -0.00000000e+00,  0.00000000e+00,  0.00000000e+00,\n",
       "       -0.00000000e+00, -0.00000000e+00, -0.00000000e+00, -0.00000000e+00,\n",
       "        0.00000000e+00, -0.00000000e+00,  0.00000000e+00,  0.00000000e+00,\n",
       "        0.00000000e+00, -0.00000000e+00,  0.00000000e+00, -0.00000000e+00,\n",
       "        0.00000000e+00, -0.00000000e+00, -0.00000000e+00,  0.00000000e+00,\n",
       "        0.00000000e+00, -0.00000000e+00, -0.00000000e+00,  0.00000000e+00,\n",
       "       -0.00000000e+00,  0.00000000e+00, -0.00000000e+00, -2.99236177e-01,\n",
       "       -1.22278430e-01, -0.00000000e+00,  0.00000000e+00, -2.28124595e+00,\n",
       "        1.23203297e-01,  7.37074309e-01,  0.00000000e+00, -3.93383696e-01,\n",
       "        2.77289036e+00, -0.00000000e+00,  7.63518742e-01, -8.15217451e-01,\n",
       "        0.00000000e+00, -0.00000000e+00,  0.00000000e+00, -0.00000000e+00,\n",
       "       -1.99416006e-01,  3.61537318e+00, -0.00000000e+00,  0.00000000e+00,\n",
       "        0.00000000e+00, -0.00000000e+00,  3.72293566e+00,  0.00000000e+00,\n",
       "       -0.00000000e+00, -0.00000000e+00, -0.00000000e+00,  0.00000000e+00,\n",
       "        0.00000000e+00, -0.00000000e+00,  4.01815668e-01,  0.00000000e+00,\n",
       "        0.00000000e+00, -0.00000000e+00, -0.00000000e+00,  1.16754834e+00,\n",
       "       -0.00000000e+00,  1.46714474e+00, -1.76064780e-16,  9.56168585e-01,\n",
       "       -9.97419616e-16])"
      ]
     },
     "execution_count": 579,
     "metadata": {},
     "output_type": "execute_result"
    }
   ],
   "source": [
    "elastic_cv_model.coef_"
   ]
  },
  {
   "cell_type": "code",
   "execution_count": 580,
   "metadata": {},
   "outputs": [
    {
     "data": {
      "text/plain": [
       "28"
      ]
     },
     "execution_count": 580,
     "metadata": {},
     "output_type": "execute_result"
    }
   ],
   "source": [
    "len([i for i in elastic_cv_model.coef_ if i!=0])"
   ]
  },
  {
   "cell_type": "markdown",
   "metadata": {},
   "source": [
    "# Grid Search"
   ]
  },
  {
   "cell_type": "code",
   "execution_count": 581,
   "metadata": {},
   "outputs": [],
   "source": [
    "from sklearn.model_selection import GridSearchCV"
   ]
  },
  {
   "cell_type": "code",
   "execution_count": 582,
   "metadata": {},
   "outputs": [],
   "source": [
    "elastic_model=ElasticNet(max_iter=10000,random_state=42)"
   ]
  },
  {
   "cell_type": "code",
   "execution_count": 583,
   "metadata": {},
   "outputs": [],
   "source": [
    "param_grid={\"alpha\":[0.01, 0.012, 0.2, 0.5, 0.6, 0.7, 1],\n",
    "            \"l1_ratio\":[0.1, 0.5, 0.7, 0.9, 0.95, 0.99, 1]}"
   ]
  },
  {
   "cell_type": "code",
   "execution_count": 584,
   "metadata": {},
   "outputs": [],
   "source": [
    "grid_model = GridSearchCV(estimator = elastic_model, param_grid = param_grid, scoring = 'neg_root_mean_squared_error',\n",
    "                         cv =5, verbose =2)"
   ]
  },
  {
   "cell_type": "code",
   "execution_count": 585,
   "metadata": {},
   "outputs": [
    {
     "name": "stdout",
     "output_type": "stream",
     "text": [
      "Fitting 5 folds for each of 49 candidates, totalling 245 fits\n",
      "[CV] END ...........................alpha=0.01, l1_ratio=0.1; total time=   0.0s\n",
      "[CV] END ...........................alpha=0.01, l1_ratio=0.1; total time=   0.0s\n",
      "[CV] END ...........................alpha=0.01, l1_ratio=0.1; total time=   0.0s\n",
      "[CV] END ...........................alpha=0.01, l1_ratio=0.1; total time=   0.0s\n",
      "[CV] END ...........................alpha=0.01, l1_ratio=0.1; total time=   0.0s\n",
      "[CV] END ...........................alpha=0.01, l1_ratio=0.5; total time=   0.0s\n",
      "[CV] END ...........................alpha=0.01, l1_ratio=0.5; total time=   0.0s\n",
      "[CV] END ...........................alpha=0.01, l1_ratio=0.5; total time=   0.0s\n",
      "[CV] END ...........................alpha=0.01, l1_ratio=0.5; total time=   0.0s\n",
      "[CV] END ...........................alpha=0.01, l1_ratio=0.5; total time=   0.0s\n",
      "[CV] END ...........................alpha=0.01, l1_ratio=0.7; total time=   0.0s\n",
      "[CV] END ...........................alpha=0.01, l1_ratio=0.7; total time=   0.0s\n",
      "[CV] END ...........................alpha=0.01, l1_ratio=0.7; total time=   0.0s\n",
      "[CV] END ...........................alpha=0.01, l1_ratio=0.7; total time=   0.0s\n",
      "[CV] END ...........................alpha=0.01, l1_ratio=0.7; total time=   0.0s\n",
      "[CV] END ...........................alpha=0.01, l1_ratio=0.9; total time=   0.0s\n",
      "[CV] END ...........................alpha=0.01, l1_ratio=0.9; total time=   0.0s\n",
      "[CV] END ...........................alpha=0.01, l1_ratio=0.9; total time=   0.0s\n",
      "[CV] END ...........................alpha=0.01, l1_ratio=0.9; total time=   0.0s\n",
      "[CV] END ...........................alpha=0.01, l1_ratio=0.9; total time=   0.0s\n",
      "[CV] END ..........................alpha=0.01, l1_ratio=0.95; total time=   0.0s\n",
      "[CV] END ..........................alpha=0.01, l1_ratio=0.95; total time=   0.0s\n",
      "[CV] END ..........................alpha=0.01, l1_ratio=0.95; total time=   0.0s\n",
      "[CV] END ..........................alpha=0.01, l1_ratio=0.95; total time=   0.0s\n",
      "[CV] END ..........................alpha=0.01, l1_ratio=0.95; total time=   0.0s\n",
      "[CV] END ..........................alpha=0.01, l1_ratio=0.99; total time=   0.0s\n",
      "[CV] END ..........................alpha=0.01, l1_ratio=0.99; total time=   0.0s\n",
      "[CV] END ..........................alpha=0.01, l1_ratio=0.99; total time=   0.0s\n",
      "[CV] END ..........................alpha=0.01, l1_ratio=0.99; total time=   0.0s\n",
      "[CV] END ..........................alpha=0.01, l1_ratio=0.99; total time=   0.0s\n",
      "[CV] END .............................alpha=0.01, l1_ratio=1; total time=   0.0s\n",
      "[CV] END .............................alpha=0.01, l1_ratio=1; total time=   0.0s\n",
      "[CV] END .............................alpha=0.01, l1_ratio=1; total time=   0.0s\n",
      "[CV] END .............................alpha=0.01, l1_ratio=1; total time=   0.0s\n",
      "[CV] END .............................alpha=0.01, l1_ratio=1; total time=   0.0s\n",
      "[CV] END ..........................alpha=0.012, l1_ratio=0.1; total time=   0.0s\n",
      "[CV] END ..........................alpha=0.012, l1_ratio=0.1; total time=   0.0s\n",
      "[CV] END ..........................alpha=0.012, l1_ratio=0.1; total time=   0.0s\n",
      "[CV] END ..........................alpha=0.012, l1_ratio=0.1; total time=   0.0s\n",
      "[CV] END ..........................alpha=0.012, l1_ratio=0.1; total time=   0.0s\n",
      "[CV] END ..........................alpha=0.012, l1_ratio=0.5; total time=   0.0s\n",
      "[CV] END ..........................alpha=0.012, l1_ratio=0.5; total time=   0.0s\n",
      "[CV] END ..........................alpha=0.012, l1_ratio=0.5; total time=   0.0s\n",
      "[CV] END ..........................alpha=0.012, l1_ratio=0.5; total time=   0.0s\n",
      "[CV] END ..........................alpha=0.012, l1_ratio=0.5; total time=   0.0s\n",
      "[CV] END ..........................alpha=0.012, l1_ratio=0.7; total time=   0.0s\n",
      "[CV] END ..........................alpha=0.012, l1_ratio=0.7; total time=   0.0s\n",
      "[CV] END ..........................alpha=0.012, l1_ratio=0.7; total time=   0.0s\n",
      "[CV] END ..........................alpha=0.012, l1_ratio=0.7; total time=   0.0s\n",
      "[CV] END ..........................alpha=0.012, l1_ratio=0.7; total time=   0.0s\n",
      "[CV] END ..........................alpha=0.012, l1_ratio=0.9; total time=   0.0s\n",
      "[CV] END ..........................alpha=0.012, l1_ratio=0.9; total time=   0.0s\n",
      "[CV] END ..........................alpha=0.012, l1_ratio=0.9; total time=   0.0s\n",
      "[CV] END ..........................alpha=0.012, l1_ratio=0.9; total time=   0.0s\n",
      "[CV] END ..........................alpha=0.012, l1_ratio=0.9; total time=   0.0s\n",
      "[CV] END .........................alpha=0.012, l1_ratio=0.95; total time=   0.0s\n",
      "[CV] END .........................alpha=0.012, l1_ratio=0.95; total time=   0.0s\n",
      "[CV] END .........................alpha=0.012, l1_ratio=0.95; total time=   0.0s\n",
      "[CV] END .........................alpha=0.012, l1_ratio=0.95; total time=   0.0s\n",
      "[CV] END .........................alpha=0.012, l1_ratio=0.95; total time=   0.0s\n",
      "[CV] END .........................alpha=0.012, l1_ratio=0.99; total time=   0.0s\n",
      "[CV] END .........................alpha=0.012, l1_ratio=0.99; total time=   0.0s\n",
      "[CV] END .........................alpha=0.012, l1_ratio=0.99; total time=   0.0s\n",
      "[CV] END .........................alpha=0.012, l1_ratio=0.99; total time=   0.0s\n",
      "[CV] END .........................alpha=0.012, l1_ratio=0.99; total time=   0.0s\n",
      "[CV] END ............................alpha=0.012, l1_ratio=1; total time=   0.0s\n",
      "[CV] END ............................alpha=0.012, l1_ratio=1; total time=   0.0s\n",
      "[CV] END ............................alpha=0.012, l1_ratio=1; total time=   0.0s\n",
      "[CV] END ............................alpha=0.012, l1_ratio=1; total time=   0.0s\n",
      "[CV] END ............................alpha=0.012, l1_ratio=1; total time=   0.0s\n",
      "[CV] END ............................alpha=0.2, l1_ratio=0.1; total time=   0.0s\n",
      "[CV] END ............................alpha=0.2, l1_ratio=0.1; total time=   0.0s\n",
      "[CV] END ............................alpha=0.2, l1_ratio=0.1; total time=   0.0s\n",
      "[CV] END ............................alpha=0.2, l1_ratio=0.1; total time=   0.0s\n",
      "[CV] END ............................alpha=0.2, l1_ratio=0.1; total time=   0.0s\n",
      "[CV] END ............................alpha=0.2, l1_ratio=0.5; total time=   0.0s\n",
      "[CV] END ............................alpha=0.2, l1_ratio=0.5; total time=   0.0s\n",
      "[CV] END ............................alpha=0.2, l1_ratio=0.5; total time=   0.0s\n",
      "[CV] END ............................alpha=0.2, l1_ratio=0.5; total time=   0.0s\n",
      "[CV] END ............................alpha=0.2, l1_ratio=0.5; total time=   0.0s\n",
      "[CV] END ............................alpha=0.2, l1_ratio=0.7; total time=   0.0s\n",
      "[CV] END ............................alpha=0.2, l1_ratio=0.7; total time=   0.0s\n",
      "[CV] END ............................alpha=0.2, l1_ratio=0.7; total time=   0.0s\n",
      "[CV] END ............................alpha=0.2, l1_ratio=0.7; total time=   0.0s\n",
      "[CV] END ............................alpha=0.2, l1_ratio=0.7; total time=   0.0s\n",
      "[CV] END ............................alpha=0.2, l1_ratio=0.9; total time=   0.0s\n",
      "[CV] END ............................alpha=0.2, l1_ratio=0.9; total time=   0.0s\n",
      "[CV] END ............................alpha=0.2, l1_ratio=0.9; total time=   0.0s\n",
      "[CV] END ............................alpha=0.2, l1_ratio=0.9; total time=   0.0s\n",
      "[CV] END ............................alpha=0.2, l1_ratio=0.9; total time=   0.0s\n",
      "[CV] END ...........................alpha=0.2, l1_ratio=0.95; total time=   0.0s\n",
      "[CV] END ...........................alpha=0.2, l1_ratio=0.95; total time=   0.0s\n",
      "[CV] END ...........................alpha=0.2, l1_ratio=0.95; total time=   0.0s\n",
      "[CV] END ...........................alpha=0.2, l1_ratio=0.95; total time=   0.0s\n",
      "[CV] END ...........................alpha=0.2, l1_ratio=0.95; total time=   0.0s\n",
      "[CV] END ...........................alpha=0.2, l1_ratio=0.99; total time=   0.0s\n",
      "[CV] END ...........................alpha=0.2, l1_ratio=0.99; total time=   0.0s\n",
      "[CV] END ...........................alpha=0.2, l1_ratio=0.99; total time=   0.0s\n",
      "[CV] END ...........................alpha=0.2, l1_ratio=0.99; total time=   0.0s\n",
      "[CV] END ...........................alpha=0.2, l1_ratio=0.99; total time=   0.0s\n",
      "[CV] END ..............................alpha=0.2, l1_ratio=1; total time=   0.0s\n",
      "[CV] END ..............................alpha=0.2, l1_ratio=1; total time=   0.0s\n",
      "[CV] END ..............................alpha=0.2, l1_ratio=1; total time=   0.0s\n",
      "[CV] END ..............................alpha=0.2, l1_ratio=1; total time=   0.0s\n",
      "[CV] END ..............................alpha=0.2, l1_ratio=1; total time=   0.0s\n",
      "[CV] END ............................alpha=0.5, l1_ratio=0.1; total time=   0.0s\n",
      "[CV] END ............................alpha=0.5, l1_ratio=0.1; total time=   0.0s\n",
      "[CV] END ............................alpha=0.5, l1_ratio=0.1; total time=   0.0s\n",
      "[CV] END ............................alpha=0.5, l1_ratio=0.1; total time=   0.0s\n",
      "[CV] END ............................alpha=0.5, l1_ratio=0.1; total time=   0.0s\n",
      "[CV] END ............................alpha=0.5, l1_ratio=0.5; total time=   0.0s\n",
      "[CV] END ............................alpha=0.5, l1_ratio=0.5; total time=   0.0s\n",
      "[CV] END ............................alpha=0.5, l1_ratio=0.5; total time=   0.0s\n",
      "[CV] END ............................alpha=0.5, l1_ratio=0.5; total time=   0.0s\n",
      "[CV] END ............................alpha=0.5, l1_ratio=0.5; total time=   0.0s\n",
      "[CV] END ............................alpha=0.5, l1_ratio=0.7; total time=   0.0s\n",
      "[CV] END ............................alpha=0.5, l1_ratio=0.7; total time=   0.0s\n",
      "[CV] END ............................alpha=0.5, l1_ratio=0.7; total time=   0.0s\n",
      "[CV] END ............................alpha=0.5, l1_ratio=0.7; total time=   0.0s\n",
      "[CV] END ............................alpha=0.5, l1_ratio=0.7; total time=   0.0s\n",
      "[CV] END ............................alpha=0.5, l1_ratio=0.9; total time=   0.0s\n",
      "[CV] END ............................alpha=0.5, l1_ratio=0.9; total time=   0.0s\n",
      "[CV] END ............................alpha=0.5, l1_ratio=0.9; total time=   0.0s\n",
      "[CV] END ............................alpha=0.5, l1_ratio=0.9; total time=   0.0s\n",
      "[CV] END ............................alpha=0.5, l1_ratio=0.9; total time=   0.0s\n",
      "[CV] END ...........................alpha=0.5, l1_ratio=0.95; total time=   0.0s\n",
      "[CV] END ...........................alpha=0.5, l1_ratio=0.95; total time=   0.0s\n",
      "[CV] END ...........................alpha=0.5, l1_ratio=0.95; total time=   0.0s\n",
      "[CV] END ...........................alpha=0.5, l1_ratio=0.95; total time=   0.0s\n",
      "[CV] END ...........................alpha=0.5, l1_ratio=0.95; total time=   0.0s\n",
      "[CV] END ...........................alpha=0.5, l1_ratio=0.99; total time=   0.0s\n",
      "[CV] END ...........................alpha=0.5, l1_ratio=0.99; total time=   0.0s\n",
      "[CV] END ...........................alpha=0.5, l1_ratio=0.99; total time=   0.0s\n",
      "[CV] END ...........................alpha=0.5, l1_ratio=0.99; total time=   0.0s\n",
      "[CV] END ...........................alpha=0.5, l1_ratio=0.99; total time=   0.0s\n"
     ]
    },
    {
     "name": "stdout",
     "output_type": "stream",
     "text": [
      "[CV] END ..............................alpha=0.5, l1_ratio=1; total time=   0.0s\n",
      "[CV] END ..............................alpha=0.5, l1_ratio=1; total time=   0.0s\n",
      "[CV] END ..............................alpha=0.5, l1_ratio=1; total time=   0.0s\n",
      "[CV] END ..............................alpha=0.5, l1_ratio=1; total time=   0.0s\n",
      "[CV] END ..............................alpha=0.5, l1_ratio=1; total time=   0.0s\n",
      "[CV] END ............................alpha=0.6, l1_ratio=0.1; total time=   0.0s\n",
      "[CV] END ............................alpha=0.6, l1_ratio=0.1; total time=   0.0s\n",
      "[CV] END ............................alpha=0.6, l1_ratio=0.1; total time=   0.0s\n",
      "[CV] END ............................alpha=0.6, l1_ratio=0.1; total time=   0.0s\n",
      "[CV] END ............................alpha=0.6, l1_ratio=0.1; total time=   0.0s\n",
      "[CV] END ............................alpha=0.6, l1_ratio=0.5; total time=   0.0s\n",
      "[CV] END ............................alpha=0.6, l1_ratio=0.5; total time=   0.0s\n",
      "[CV] END ............................alpha=0.6, l1_ratio=0.5; total time=   0.0s\n",
      "[CV] END ............................alpha=0.6, l1_ratio=0.5; total time=   0.0s\n",
      "[CV] END ............................alpha=0.6, l1_ratio=0.5; total time=   0.0s\n",
      "[CV] END ............................alpha=0.6, l1_ratio=0.7; total time=   0.0s\n",
      "[CV] END ............................alpha=0.6, l1_ratio=0.7; total time=   0.0s\n",
      "[CV] END ............................alpha=0.6, l1_ratio=0.7; total time=   0.0s\n",
      "[CV] END ............................alpha=0.6, l1_ratio=0.7; total time=   0.0s\n",
      "[CV] END ............................alpha=0.6, l1_ratio=0.7; total time=   0.0s\n",
      "[CV] END ............................alpha=0.6, l1_ratio=0.9; total time=   0.0s\n",
      "[CV] END ............................alpha=0.6, l1_ratio=0.9; total time=   0.0s\n",
      "[CV] END ............................alpha=0.6, l1_ratio=0.9; total time=   0.0s\n",
      "[CV] END ............................alpha=0.6, l1_ratio=0.9; total time=   0.0s\n",
      "[CV] END ............................alpha=0.6, l1_ratio=0.9; total time=   0.0s\n",
      "[CV] END ...........................alpha=0.6, l1_ratio=0.95; total time=   0.0s\n",
      "[CV] END ...........................alpha=0.6, l1_ratio=0.95; total time=   0.0s\n",
      "[CV] END ...........................alpha=0.6, l1_ratio=0.95; total time=   0.0s\n",
      "[CV] END ...........................alpha=0.6, l1_ratio=0.95; total time=   0.0s\n",
      "[CV] END ...........................alpha=0.6, l1_ratio=0.95; total time=   0.0s\n",
      "[CV] END ...........................alpha=0.6, l1_ratio=0.99; total time=   0.0s\n",
      "[CV] END ...........................alpha=0.6, l1_ratio=0.99; total time=   0.0s\n",
      "[CV] END ...........................alpha=0.6, l1_ratio=0.99; total time=   0.0s\n",
      "[CV] END ...........................alpha=0.6, l1_ratio=0.99; total time=   0.0s\n",
      "[CV] END ...........................alpha=0.6, l1_ratio=0.99; total time=   0.0s\n",
      "[CV] END ..............................alpha=0.6, l1_ratio=1; total time=   0.0s\n",
      "[CV] END ..............................alpha=0.6, l1_ratio=1; total time=   0.0s\n",
      "[CV] END ..............................alpha=0.6, l1_ratio=1; total time=   0.0s\n",
      "[CV] END ..............................alpha=0.6, l1_ratio=1; total time=   0.0s\n",
      "[CV] END ..............................alpha=0.6, l1_ratio=1; total time=   0.0s\n",
      "[CV] END ............................alpha=0.7, l1_ratio=0.1; total time=   0.0s\n",
      "[CV] END ............................alpha=0.7, l1_ratio=0.1; total time=   0.0s\n",
      "[CV] END ............................alpha=0.7, l1_ratio=0.1; total time=   0.0s\n",
      "[CV] END ............................alpha=0.7, l1_ratio=0.1; total time=   0.0s\n",
      "[CV] END ............................alpha=0.7, l1_ratio=0.1; total time=   0.0s\n",
      "[CV] END ............................alpha=0.7, l1_ratio=0.5; total time=   0.0s\n",
      "[CV] END ............................alpha=0.7, l1_ratio=0.5; total time=   0.0s\n",
      "[CV] END ............................alpha=0.7, l1_ratio=0.5; total time=   0.0s\n",
      "[CV] END ............................alpha=0.7, l1_ratio=0.5; total time=   0.0s\n",
      "[CV] END ............................alpha=0.7, l1_ratio=0.5; total time=   0.0s\n",
      "[CV] END ............................alpha=0.7, l1_ratio=0.7; total time=   0.0s\n",
      "[CV] END ............................alpha=0.7, l1_ratio=0.7; total time=   0.0s\n",
      "[CV] END ............................alpha=0.7, l1_ratio=0.7; total time=   0.0s\n",
      "[CV] END ............................alpha=0.7, l1_ratio=0.7; total time=   0.0s\n",
      "[CV] END ............................alpha=0.7, l1_ratio=0.7; total time=   0.0s\n",
      "[CV] END ............................alpha=0.7, l1_ratio=0.9; total time=   0.0s\n",
      "[CV] END ............................alpha=0.7, l1_ratio=0.9; total time=   0.0s\n",
      "[CV] END ............................alpha=0.7, l1_ratio=0.9; total time=   0.0s\n",
      "[CV] END ............................alpha=0.7, l1_ratio=0.9; total time=   0.0s\n",
      "[CV] END ............................alpha=0.7, l1_ratio=0.9; total time=   0.0s\n",
      "[CV] END ...........................alpha=0.7, l1_ratio=0.95; total time=   0.0s\n",
      "[CV] END ...........................alpha=0.7, l1_ratio=0.95; total time=   0.0s\n",
      "[CV] END ...........................alpha=0.7, l1_ratio=0.95; total time=   0.0s\n",
      "[CV] END ...........................alpha=0.7, l1_ratio=0.95; total time=   0.0s\n",
      "[CV] END ...........................alpha=0.7, l1_ratio=0.95; total time=   0.0s\n",
      "[CV] END ...........................alpha=0.7, l1_ratio=0.99; total time=   0.0s\n",
      "[CV] END ...........................alpha=0.7, l1_ratio=0.99; total time=   0.0s\n",
      "[CV] END ...........................alpha=0.7, l1_ratio=0.99; total time=   0.0s\n",
      "[CV] END ...........................alpha=0.7, l1_ratio=0.99; total time=   0.0s\n",
      "[CV] END ...........................alpha=0.7, l1_ratio=0.99; total time=   0.0s\n",
      "[CV] END ..............................alpha=0.7, l1_ratio=1; total time=   0.0s\n",
      "[CV] END ..............................alpha=0.7, l1_ratio=1; total time=   0.0s\n",
      "[CV] END ..............................alpha=0.7, l1_ratio=1; total time=   0.0s\n",
      "[CV] END ..............................alpha=0.7, l1_ratio=1; total time=   0.0s\n",
      "[CV] END ..............................alpha=0.7, l1_ratio=1; total time=   0.0s\n",
      "[CV] END ..............................alpha=1, l1_ratio=0.1; total time=   0.0s\n",
      "[CV] END ..............................alpha=1, l1_ratio=0.1; total time=   0.0s\n",
      "[CV] END ..............................alpha=1, l1_ratio=0.1; total time=   0.0s\n",
      "[CV] END ..............................alpha=1, l1_ratio=0.1; total time=   0.0s\n",
      "[CV] END ..............................alpha=1, l1_ratio=0.1; total time=   0.0s\n",
      "[CV] END ..............................alpha=1, l1_ratio=0.5; total time=   0.0s\n",
      "[CV] END ..............................alpha=1, l1_ratio=0.5; total time=   0.0s\n",
      "[CV] END ..............................alpha=1, l1_ratio=0.5; total time=   0.0s\n",
      "[CV] END ..............................alpha=1, l1_ratio=0.5; total time=   0.0s\n",
      "[CV] END ..............................alpha=1, l1_ratio=0.5; total time=   0.0s\n",
      "[CV] END ..............................alpha=1, l1_ratio=0.7; total time=   0.0s\n",
      "[CV] END ..............................alpha=1, l1_ratio=0.7; total time=   0.0s\n",
      "[CV] END ..............................alpha=1, l1_ratio=0.7; total time=   0.0s\n",
      "[CV] END ..............................alpha=1, l1_ratio=0.7; total time=   0.0s\n",
      "[CV] END ..............................alpha=1, l1_ratio=0.7; total time=   0.0s\n",
      "[CV] END ..............................alpha=1, l1_ratio=0.9; total time=   0.0s\n",
      "[CV] END ..............................alpha=1, l1_ratio=0.9; total time=   0.0s\n",
      "[CV] END ..............................alpha=1, l1_ratio=0.9; total time=   0.0s\n",
      "[CV] END ..............................alpha=1, l1_ratio=0.9; total time=   0.0s\n",
      "[CV] END ..............................alpha=1, l1_ratio=0.9; total time=   0.0s\n",
      "[CV] END .............................alpha=1, l1_ratio=0.95; total time=   0.0s\n",
      "[CV] END .............................alpha=1, l1_ratio=0.95; total time=   0.0s\n",
      "[CV] END .............................alpha=1, l1_ratio=0.95; total time=   0.0s\n",
      "[CV] END .............................alpha=1, l1_ratio=0.95; total time=   0.0s\n",
      "[CV] END .............................alpha=1, l1_ratio=0.95; total time=   0.0s\n",
      "[CV] END .............................alpha=1, l1_ratio=0.99; total time=   0.0s\n",
      "[CV] END .............................alpha=1, l1_ratio=0.99; total time=   0.0s\n",
      "[CV] END .............................alpha=1, l1_ratio=0.99; total time=   0.0s\n",
      "[CV] END .............................alpha=1, l1_ratio=0.99; total time=   0.0s\n",
      "[CV] END .............................alpha=1, l1_ratio=0.99; total time=   0.0s\n"
     ]
    },
    {
     "name": "stdout",
     "output_type": "stream",
     "text": [
      "[CV] END ................................alpha=1, l1_ratio=1; total time=   0.0s\n",
      "[CV] END ................................alpha=1, l1_ratio=1; total time=   0.0s\n",
      "[CV] END ................................alpha=1, l1_ratio=1; total time=   0.0s\n",
      "[CV] END ................................alpha=1, l1_ratio=1; total time=   0.0s\n",
      "[CV] END ................................alpha=1, l1_ratio=1; total time=   0.0s\n"
     ]
    },
    {
     "data": {
      "text/plain": [
       "GridSearchCV(cv=5, estimator=ElasticNet(max_iter=10000, random_state=42),\n",
       "             param_grid={'alpha': [0.01, 0.012, 0.2, 0.5, 0.6, 0.7, 1],\n",
       "                         'l1_ratio': [0.1, 0.5, 0.7, 0.9, 0.95, 0.99, 1]},\n",
       "             scoring='neg_root_mean_squared_error', verbose=2)"
      ]
     },
     "execution_count": 585,
     "metadata": {},
     "output_type": "execute_result"
    }
   ],
   "source": [
    "grid_model.fit(X_train_scaled, y_train)"
   ]
  },
  {
   "cell_type": "code",
   "execution_count": 586,
   "metadata": {},
   "outputs": [
    {
     "data": {
      "text/plain": [
       "{'alpha': 0.01, 'l1_ratio': 1}"
      ]
     },
     "execution_count": 586,
     "metadata": {},
     "output_type": "execute_result"
    }
   ],
   "source": [
    "grid_model.best_params_"
   ]
  },
  {
   "cell_type": "code",
   "execution_count": 587,
   "metadata": {},
   "outputs": [
    {
     "data": {
      "text/html": [
       "<div>\n",
       "<style scoped>\n",
       "    .dataframe tbody tr th:only-of-type {\n",
       "        vertical-align: middle;\n",
       "    }\n",
       "\n",
       "    .dataframe tbody tr th {\n",
       "        vertical-align: top;\n",
       "    }\n",
       "\n",
       "    .dataframe thead th {\n",
       "        text-align: right;\n",
       "    }\n",
       "</style>\n",
       "<table border=\"1\" class=\"dataframe\">\n",
       "  <thead>\n",
       "    <tr style=\"text-align: right;\">\n",
       "      <th></th>\n",
       "      <th>mean_fit_time</th>\n",
       "      <th>std_fit_time</th>\n",
       "      <th>mean_score_time</th>\n",
       "      <th>std_score_time</th>\n",
       "      <th>param_alpha</th>\n",
       "      <th>param_l1_ratio</th>\n",
       "      <th>params</th>\n",
       "      <th>split0_test_score</th>\n",
       "      <th>split1_test_score</th>\n",
       "      <th>split2_test_score</th>\n",
       "      <th>split3_test_score</th>\n",
       "      <th>split4_test_score</th>\n",
       "      <th>mean_test_score</th>\n",
       "      <th>std_test_score</th>\n",
       "      <th>rank_test_score</th>\n",
       "    </tr>\n",
       "  </thead>\n",
       "  <tbody>\n",
       "    <tr>\n",
       "      <th>0</th>\n",
       "      <td>0.003124</td>\n",
       "      <td>6.248760e-03</td>\n",
       "      <td>0.000000</td>\n",
       "      <td>0.000000</td>\n",
       "      <td>0.01</td>\n",
       "      <td>0.1</td>\n",
       "      <td>{'alpha': 0.01, 'l1_ratio': 0.1}</td>\n",
       "      <td>-4.493313</td>\n",
       "      <td>-1.627856</td>\n",
       "      <td>-1.327455</td>\n",
       "      <td>-3.002784</td>\n",
       "      <td>-1.579139</td>\n",
       "      <td>-2.406110</td>\n",
       "      <td>1.197121</td>\n",
       "      <td>13</td>\n",
       "    </tr>\n",
       "    <tr>\n",
       "      <th>1</th>\n",
       "      <td>0.003125</td>\n",
       "      <td>6.249714e-03</td>\n",
       "      <td>0.000000</td>\n",
       "      <td>0.000000</td>\n",
       "      <td>0.01</td>\n",
       "      <td>0.5</td>\n",
       "      <td>{'alpha': 0.01, 'l1_ratio': 0.5}</td>\n",
       "      <td>-4.372141</td>\n",
       "      <td>-1.522007</td>\n",
       "      <td>-1.213250</td>\n",
       "      <td>-2.859716</td>\n",
       "      <td>-1.560252</td>\n",
       "      <td>-2.305473</td>\n",
       "      <td>1.178170</td>\n",
       "      <td>11</td>\n",
       "    </tr>\n",
       "    <tr>\n",
       "      <th>2</th>\n",
       "      <td>0.006250</td>\n",
       "      <td>7.654247e-03</td>\n",
       "      <td>0.000000</td>\n",
       "      <td>0.000000</td>\n",
       "      <td>0.01</td>\n",
       "      <td>0.7</td>\n",
       "      <td>{'alpha': 0.01, 'l1_ratio': 0.7}</td>\n",
       "      <td>-4.204760</td>\n",
       "      <td>-1.466003</td>\n",
       "      <td>-1.151153</td>\n",
       "      <td>-2.749692</td>\n",
       "      <td>-1.557252</td>\n",
       "      <td>-2.225772</td>\n",
       "      <td>1.128704</td>\n",
       "      <td>9</td>\n",
       "    </tr>\n",
       "    <tr>\n",
       "      <th>3</th>\n",
       "      <td>0.003125</td>\n",
       "      <td>6.250572e-03</td>\n",
       "      <td>0.000000</td>\n",
       "      <td>0.000000</td>\n",
       "      <td>0.01</td>\n",
       "      <td>0.9</td>\n",
       "      <td>{'alpha': 0.01, 'l1_ratio': 0.9}</td>\n",
       "      <td>-3.590037</td>\n",
       "      <td>-1.428258</td>\n",
       "      <td>-1.073327</td>\n",
       "      <td>-2.580167</td>\n",
       "      <td>-1.548932</td>\n",
       "      <td>-2.044144</td>\n",
       "      <td>0.921319</td>\n",
       "      <td>7</td>\n",
       "    </tr>\n",
       "    <tr>\n",
       "      <th>4</th>\n",
       "      <td>0.003926</td>\n",
       "      <td>1.855087e-03</td>\n",
       "      <td>0.000599</td>\n",
       "      <td>0.000489</td>\n",
       "      <td>0.01</td>\n",
       "      <td>0.95</td>\n",
       "      <td>{'alpha': 0.01, 'l1_ratio': 0.95}</td>\n",
       "      <td>-3.048319</td>\n",
       "      <td>-1.469798</td>\n",
       "      <td>-1.034501</td>\n",
       "      <td>-2.501477</td>\n",
       "      <td>-1.509784</td>\n",
       "      <td>-1.912776</td>\n",
       "      <td>0.743778</td>\n",
       "      <td>5</td>\n",
       "    </tr>\n",
       "    <tr>\n",
       "      <th>5</th>\n",
       "      <td>0.000599</td>\n",
       "      <td>1.198959e-03</td>\n",
       "      <td>0.000000</td>\n",
       "      <td>0.000000</td>\n",
       "      <td>0.01</td>\n",
       "      <td>0.99</td>\n",
       "      <td>{'alpha': 0.01, 'l1_ratio': 0.99}</td>\n",
       "      <td>-2.203785</td>\n",
       "      <td>-1.490865</td>\n",
       "      <td>-1.017724</td>\n",
       "      <td>-2.453246</td>\n",
       "      <td>-1.492599</td>\n",
       "      <td>-1.731644</td>\n",
       "      <td>0.523149</td>\n",
       "      <td>3</td>\n",
       "    </tr>\n",
       "    <tr>\n",
       "      <th>6</th>\n",
       "      <td>0.003125</td>\n",
       "      <td>6.250858e-03</td>\n",
       "      <td>0.000000</td>\n",
       "      <td>0.000000</td>\n",
       "      <td>0.01</td>\n",
       "      <td>1</td>\n",
       "      <td>{'alpha': 0.01, 'l1_ratio': 1}</td>\n",
       "      <td>-2.028024</td>\n",
       "      <td>-1.497596</td>\n",
       "      <td>-1.016673</td>\n",
       "      <td>-2.445475</td>\n",
       "      <td>-1.489979</td>\n",
       "      <td>-1.695549</td>\n",
       "      <td>0.493000</td>\n",
       "      <td>1</td>\n",
       "    </tr>\n",
       "    <tr>\n",
       "      <th>7</th>\n",
       "      <td>0.007946</td>\n",
       "      <td>6.992435e-03</td>\n",
       "      <td>0.000200</td>\n",
       "      <td>0.000400</td>\n",
       "      <td>0.012</td>\n",
       "      <td>0.1</td>\n",
       "      <td>{'alpha': 0.012, 'l1_ratio': 0.1}</td>\n",
       "      <td>-4.533149</td>\n",
       "      <td>-1.671873</td>\n",
       "      <td>-1.376158</td>\n",
       "      <td>-3.084735</td>\n",
       "      <td>-1.582439</td>\n",
       "      <td>-2.449671</td>\n",
       "      <td>1.204465</td>\n",
       "      <td>14</td>\n",
       "    </tr>\n",
       "    <tr>\n",
       "      <th>8</th>\n",
       "      <td>0.004197</td>\n",
       "      <td>7.491953e-04</td>\n",
       "      <td>0.000799</td>\n",
       "      <td>0.000400</td>\n",
       "      <td>0.012</td>\n",
       "      <td>0.5</td>\n",
       "      <td>{'alpha': 0.012, 'l1_ratio': 0.5}</td>\n",
       "      <td>-4.428745</td>\n",
       "      <td>-1.553110</td>\n",
       "      <td>-1.250098</td>\n",
       "      <td>-2.941671</td>\n",
       "      <td>-1.560675</td>\n",
       "      <td>-2.346860</td>\n",
       "      <td>1.194911</td>\n",
       "      <td>12</td>\n",
       "    </tr>\n",
       "    <tr>\n",
       "      <th>9</th>\n",
       "      <td>0.003597</td>\n",
       "      <td>4.895319e-04</td>\n",
       "      <td>0.000600</td>\n",
       "      <td>0.000490</td>\n",
       "      <td>0.012</td>\n",
       "      <td>0.7</td>\n",
       "      <td>{'alpha': 0.012, 'l1_ratio': 0.7}</td>\n",
       "      <td>-4.283652</td>\n",
       "      <td>-1.483334</td>\n",
       "      <td>-1.165952</td>\n",
       "      <td>-2.825701</td>\n",
       "      <td>-1.557324</td>\n",
       "      <td>-2.263193</td>\n",
       "      <td>1.158364</td>\n",
       "      <td>10</td>\n",
       "    </tr>\n",
       "    <tr>\n",
       "      <th>10</th>\n",
       "      <td>0.002606</td>\n",
       "      <td>2.331794e-03</td>\n",
       "      <td>0.000000</td>\n",
       "      <td>0.000000</td>\n",
       "      <td>0.012</td>\n",
       "      <td>0.9</td>\n",
       "      <td>{'alpha': 0.012, 'l1_ratio': 0.9}</td>\n",
       "      <td>-3.733295</td>\n",
       "      <td>-1.433273</td>\n",
       "      <td>-1.073229</td>\n",
       "      <td>-2.638671</td>\n",
       "      <td>-1.555129</td>\n",
       "      <td>-2.086719</td>\n",
       "      <td>0.974947</td>\n",
       "      <td>8</td>\n",
       "    </tr>\n",
       "    <tr>\n",
       "      <th>11</th>\n",
       "      <td>0.006250</td>\n",
       "      <td>7.655181e-03</td>\n",
       "      <td>0.000000</td>\n",
       "      <td>0.000000</td>\n",
       "      <td>0.012</td>\n",
       "      <td>0.95</td>\n",
       "      <td>{'alpha': 0.012, 'l1_ratio': 0.95}</td>\n",
       "      <td>-3.233925</td>\n",
       "      <td>-1.473622</td>\n",
       "      <td>-1.025579</td>\n",
       "      <td>-2.550737</td>\n",
       "      <td>-1.517675</td>\n",
       "      <td>-1.960307</td>\n",
       "      <td>0.809594</td>\n",
       "      <td>6</td>\n",
       "    </tr>\n",
       "    <tr>\n",
       "      <th>12</th>\n",
       "      <td>0.000000</td>\n",
       "      <td>0.000000e+00</td>\n",
       "      <td>0.000000</td>\n",
       "      <td>0.000000</td>\n",
       "      <td>0.012</td>\n",
       "      <td>0.99</td>\n",
       "      <td>{'alpha': 0.012, 'l1_ratio': 0.99}</td>\n",
       "      <td>-2.291796</td>\n",
       "      <td>-1.498488</td>\n",
       "      <td>-1.002736</td>\n",
       "      <td>-2.490941</td>\n",
       "      <td>-1.502770</td>\n",
       "      <td>-1.757346</td>\n",
       "      <td>0.552277</td>\n",
       "      <td>4</td>\n",
       "    </tr>\n",
       "    <tr>\n",
       "      <th>13</th>\n",
       "      <td>0.000000</td>\n",
       "      <td>0.000000e+00</td>\n",
       "      <td>0.003125</td>\n",
       "      <td>0.006250</td>\n",
       "      <td>0.012</td>\n",
       "      <td>1</td>\n",
       "      <td>{'alpha': 0.012, 'l1_ratio': 1}</td>\n",
       "      <td>-2.031523</td>\n",
       "      <td>-1.505940</td>\n",
       "      <td>-1.000263</td>\n",
       "      <td>-2.481153</td>\n",
       "      <td>-1.499281</td>\n",
       "      <td>-1.703632</td>\n",
       "      <td>0.507468</td>\n",
       "      <td>2</td>\n",
       "    </tr>\n",
       "    <tr>\n",
       "      <th>14</th>\n",
       "      <td>0.000000</td>\n",
       "      <td>0.000000e+00</td>\n",
       "      <td>0.000000</td>\n",
       "      <td>0.000000</td>\n",
       "      <td>0.2</td>\n",
       "      <td>0.1</td>\n",
       "      <td>{'alpha': 0.2, 'l1_ratio': 0.1}</td>\n",
       "      <td>-5.138296</td>\n",
       "      <td>-2.660759</td>\n",
       "      <td>-2.122244</td>\n",
       "      <td>-4.418007</td>\n",
       "      <td>-2.106906</td>\n",
       "      <td>-3.289242</td>\n",
       "      <td>1.252829</td>\n",
       "      <td>17</td>\n",
       "    </tr>\n",
       "    <tr>\n",
       "      <th>15</th>\n",
       "      <td>0.000000</td>\n",
       "      <td>0.000000e+00</td>\n",
       "      <td>0.000000</td>\n",
       "      <td>0.000000</td>\n",
       "      <td>0.2</td>\n",
       "      <td>0.5</td>\n",
       "      <td>{'alpha': 0.2, 'l1_ratio': 0.5}</td>\n",
       "      <td>-5.172323</td>\n",
       "      <td>-2.667729</td>\n",
       "      <td>-2.166845</td>\n",
       "      <td>-4.495364</td>\n",
       "      <td>-2.146270</td>\n",
       "      <td>-3.329706</td>\n",
       "      <td>1.260553</td>\n",
       "      <td>19</td>\n",
       "    </tr>\n",
       "    <tr>\n",
       "      <th>16</th>\n",
       "      <td>0.001587</td>\n",
       "      <td>3.173923e-03</td>\n",
       "      <td>0.000000</td>\n",
       "      <td>0.000000</td>\n",
       "      <td>0.2</td>\n",
       "      <td>0.7</td>\n",
       "      <td>{'alpha': 0.2, 'l1_ratio': 0.7}</td>\n",
       "      <td>-5.216482</td>\n",
       "      <td>-2.672295</td>\n",
       "      <td>-2.174696</td>\n",
       "      <td>-4.540707</td>\n",
       "      <td>-2.131129</td>\n",
       "      <td>-3.347062</td>\n",
       "      <td>1.282791</td>\n",
       "      <td>21</td>\n",
       "    </tr>\n",
       "    <tr>\n",
       "      <th>17</th>\n",
       "      <td>0.002598</td>\n",
       "      <td>4.891434e-04</td>\n",
       "      <td>0.001000</td>\n",
       "      <td>0.000002</td>\n",
       "      <td>0.2</td>\n",
       "      <td>0.9</td>\n",
       "      <td>{'alpha': 0.2, 'l1_ratio': 0.9}</td>\n",
       "      <td>-5.219082</td>\n",
       "      <td>-2.641447</td>\n",
       "      <td>-2.137645</td>\n",
       "      <td>-4.553183</td>\n",
       "      <td>-2.116829</td>\n",
       "      <td>-3.333637</td>\n",
       "      <td>1.298641</td>\n",
       "      <td>20</td>\n",
       "    </tr>\n",
       "    <tr>\n",
       "      <th>18</th>\n",
       "      <td>0.003197</td>\n",
       "      <td>4.007841e-04</td>\n",
       "      <td>0.000799</td>\n",
       "      <td>0.000400</td>\n",
       "      <td>0.2</td>\n",
       "      <td>0.95</td>\n",
       "      <td>{'alpha': 0.2, 'l1_ratio': 0.95}</td>\n",
       "      <td>-5.227925</td>\n",
       "      <td>-2.603804</td>\n",
       "      <td>-2.091167</td>\n",
       "      <td>-4.511492</td>\n",
       "      <td>-2.106491</td>\n",
       "      <td>-3.308176</td>\n",
       "      <td>1.308029</td>\n",
       "      <td>18</td>\n",
       "    </tr>\n",
       "    <tr>\n",
       "      <th>19</th>\n",
       "      <td>0.002805</td>\n",
       "      <td>1.715455e-03</td>\n",
       "      <td>0.000400</td>\n",
       "      <td>0.000490</td>\n",
       "      <td>0.2</td>\n",
       "      <td>0.99</td>\n",
       "      <td>{'alpha': 0.2, 'l1_ratio': 0.99}</td>\n",
       "      <td>-5.245208</td>\n",
       "      <td>-2.530370</td>\n",
       "      <td>-1.974897</td>\n",
       "      <td>-4.388425</td>\n",
       "      <td>-2.056099</td>\n",
       "      <td>-3.239000</td>\n",
       "      <td>1.330069</td>\n",
       "      <td>16</td>\n",
       "    </tr>\n",
       "    <tr>\n",
       "      <th>20</th>\n",
       "      <td>0.003125</td>\n",
       "      <td>6.250954e-03</td>\n",
       "      <td>0.000000</td>\n",
       "      <td>0.000000</td>\n",
       "      <td>0.2</td>\n",
       "      <td>1</td>\n",
       "      <td>{'alpha': 0.2, 'l1_ratio': 1}</td>\n",
       "      <td>-5.254318</td>\n",
       "      <td>-2.478835</td>\n",
       "      <td>-1.896487</td>\n",
       "      <td>-4.311274</td>\n",
       "      <td>-2.017450</td>\n",
       "      <td>-3.191673</td>\n",
       "      <td>1.347030</td>\n",
       "      <td>15</td>\n",
       "    </tr>\n",
       "    <tr>\n",
       "      <th>21</th>\n",
       "      <td>0.000000</td>\n",
       "      <td>0.000000e+00</td>\n",
       "      <td>0.003125</td>\n",
       "      <td>0.006250</td>\n",
       "      <td>0.5</td>\n",
       "      <td>0.1</td>\n",
       "      <td>{'alpha': 0.5, 'l1_ratio': 0.1}</td>\n",
       "      <td>-5.461677</td>\n",
       "      <td>-3.105262</td>\n",
       "      <td>-2.386368</td>\n",
       "      <td>-4.816496</td>\n",
       "      <td>-2.688516</td>\n",
       "      <td>-3.691664</td>\n",
       "      <td>1.220833</td>\n",
       "      <td>22</td>\n",
       "    </tr>\n",
       "    <tr>\n",
       "      <th>22</th>\n",
       "      <td>0.000000</td>\n",
       "      <td>0.000000e+00</td>\n",
       "      <td>0.000000</td>\n",
       "      <td>0.000000</td>\n",
       "      <td>0.5</td>\n",
       "      <td>0.5</td>\n",
       "      <td>{'alpha': 0.5, 'l1_ratio': 0.5}</td>\n",
       "      <td>-5.498366</td>\n",
       "      <td>-3.170965</td>\n",
       "      <td>-2.457968</td>\n",
       "      <td>-5.004620</td>\n",
       "      <td>-2.761224</td>\n",
       "      <td>-3.778629</td>\n",
       "      <td>1.233618</td>\n",
       "      <td>23</td>\n",
       "    </tr>\n",
       "    <tr>\n",
       "      <th>23</th>\n",
       "      <td>0.003125</td>\n",
       "      <td>6.250668e-03</td>\n",
       "      <td>0.000000</td>\n",
       "      <td>0.000000</td>\n",
       "      <td>0.5</td>\n",
       "      <td>0.7</td>\n",
       "      <td>{'alpha': 0.5, 'l1_ratio': 0.7}</td>\n",
       "      <td>-5.482685</td>\n",
       "      <td>-3.215692</td>\n",
       "      <td>-2.524445</td>\n",
       "      <td>-5.048920</td>\n",
       "      <td>-2.806711</td>\n",
       "      <td>-3.815691</td>\n",
       "      <td>1.212030</td>\n",
       "      <td>27</td>\n",
       "    </tr>\n",
       "    <tr>\n",
       "      <th>24</th>\n",
       "      <td>0.003124</td>\n",
       "      <td>6.248951e-03</td>\n",
       "      <td>0.000000</td>\n",
       "      <td>0.000000</td>\n",
       "      <td>0.5</td>\n",
       "      <td>0.9</td>\n",
       "      <td>{'alpha': 0.5, 'l1_ratio': 0.9}</td>\n",
       "      <td>-5.455738</td>\n",
       "      <td>-3.233001</td>\n",
       "      <td>-2.564427</td>\n",
       "      <td>-5.058452</td>\n",
       "      <td>-2.825512</td>\n",
       "      <td>-3.827426</td>\n",
       "      <td>1.193245</td>\n",
       "      <td>29</td>\n",
       "    </tr>\n",
       "    <tr>\n",
       "      <th>25</th>\n",
       "      <td>0.000000</td>\n",
       "      <td>0.000000e+00</td>\n",
       "      <td>0.000000</td>\n",
       "      <td>0.000000</td>\n",
       "      <td>0.5</td>\n",
       "      <td>0.95</td>\n",
       "      <td>{'alpha': 0.5, 'l1_ratio': 0.95}</td>\n",
       "      <td>-5.448106</td>\n",
       "      <td>-3.224798</td>\n",
       "      <td>-2.561445</td>\n",
       "      <td>-5.062871</td>\n",
       "      <td>-2.812371</td>\n",
       "      <td>-3.821918</td>\n",
       "      <td>1.195741</td>\n",
       "      <td>28</td>\n",
       "    </tr>\n",
       "    <tr>\n",
       "      <th>26</th>\n",
       "      <td>0.003125</td>\n",
       "      <td>6.250191e-03</td>\n",
       "      <td>0.000000</td>\n",
       "      <td>0.000000</td>\n",
       "      <td>0.5</td>\n",
       "      <td>0.99</td>\n",
       "      <td>{'alpha': 0.5, 'l1_ratio': 0.99}</td>\n",
       "      <td>-5.433722</td>\n",
       "      <td>-3.203074</td>\n",
       "      <td>-2.559666</td>\n",
       "      <td>-5.055438</td>\n",
       "      <td>-2.794210</td>\n",
       "      <td>-3.809222</td>\n",
       "      <td>1.195919</td>\n",
       "      <td>26</td>\n",
       "    </tr>\n",
       "    <tr>\n",
       "      <th>27</th>\n",
       "      <td>0.005764</td>\n",
       "      <td>5.165706e-03</td>\n",
       "      <td>0.000400</td>\n",
       "      <td>0.000490</td>\n",
       "      <td>0.5</td>\n",
       "      <td>1</td>\n",
       "      <td>{'alpha': 0.5, 'l1_ratio': 1}</td>\n",
       "      <td>-5.426878</td>\n",
       "      <td>-3.194062</td>\n",
       "      <td>-2.559598</td>\n",
       "      <td>-5.049575</td>\n",
       "      <td>-2.786691</td>\n",
       "      <td>-3.803361</td>\n",
       "      <td>1.195045</td>\n",
       "      <td>25</td>\n",
       "    </tr>\n",
       "    <tr>\n",
       "      <th>28</th>\n",
       "      <td>0.002999</td>\n",
       "      <td>8.912711e-04</td>\n",
       "      <td>0.000799</td>\n",
       "      <td>0.000400</td>\n",
       "      <td>0.6</td>\n",
       "      <td>0.1</td>\n",
       "      <td>{'alpha': 0.6, 'l1_ratio': 0.1}</td>\n",
       "      <td>-5.540037</td>\n",
       "      <td>-3.212253</td>\n",
       "      <td>-2.460798</td>\n",
       "      <td>-4.898824</td>\n",
       "      <td>-2.826236</td>\n",
       "      <td>-3.787630</td>\n",
       "      <td>1.210083</td>\n",
       "      <td>24</td>\n",
       "    </tr>\n",
       "    <tr>\n",
       "      <th>29</th>\n",
       "      <td>0.002199</td>\n",
       "      <td>4.004012e-04</td>\n",
       "      <td>0.000799</td>\n",
       "      <td>0.000399</td>\n",
       "      <td>0.6</td>\n",
       "      <td>0.5</td>\n",
       "      <td>{'alpha': 0.6, 'l1_ratio': 0.5}</td>\n",
       "      <td>-5.585816</td>\n",
       "      <td>-3.302921</td>\n",
       "      <td>-2.550089</td>\n",
       "      <td>-5.098776</td>\n",
       "      <td>-2.935856</td>\n",
       "      <td>-3.894691</td>\n",
       "      <td>1.215503</td>\n",
       "      <td>31</td>\n",
       "    </tr>\n",
       "    <tr>\n",
       "      <th>30</th>\n",
       "      <td>0.001799</td>\n",
       "      <td>3.999233e-04</td>\n",
       "      <td>0.000799</td>\n",
       "      <td>0.000400</td>\n",
       "      <td>0.6</td>\n",
       "      <td>0.7</td>\n",
       "      <td>{'alpha': 0.6, 'l1_ratio': 0.7}</td>\n",
       "      <td>-5.583910</td>\n",
       "      <td>-3.347676</td>\n",
       "      <td>-2.611157</td>\n",
       "      <td>-5.116933</td>\n",
       "      <td>-3.007527</td>\n",
       "      <td>-3.933441</td>\n",
       "      <td>1.189418</td>\n",
       "      <td>34</td>\n",
       "    </tr>\n",
       "    <tr>\n",
       "      <th>31</th>\n",
       "      <td>0.001999</td>\n",
       "      <td>1.784161e-07</td>\n",
       "      <td>0.000600</td>\n",
       "      <td>0.000490</td>\n",
       "      <td>0.6</td>\n",
       "      <td>0.9</td>\n",
       "      <td>{'alpha': 0.6, 'l1_ratio': 0.9}</td>\n",
       "      <td>-5.585086</td>\n",
       "      <td>-3.347719</td>\n",
       "      <td>-2.608266</td>\n",
       "      <td>-5.144938</td>\n",
       "      <td>-2.990366</td>\n",
       "      <td>-3.935275</td>\n",
       "      <td>1.198682</td>\n",
       "      <td>36</td>\n",
       "    </tr>\n",
       "    <tr>\n",
       "      <th>32</th>\n",
       "      <td>0.000000</td>\n",
       "      <td>0.000000e+00</td>\n",
       "      <td>0.000000</td>\n",
       "      <td>0.000000</td>\n",
       "      <td>0.6</td>\n",
       "      <td>0.95</td>\n",
       "      <td>{'alpha': 0.6, 'l1_ratio': 0.95}</td>\n",
       "      <td>-5.585087</td>\n",
       "      <td>-3.343477</td>\n",
       "      <td>-2.603500</td>\n",
       "      <td>-5.156983</td>\n",
       "      <td>-2.983442</td>\n",
       "      <td>-3.934498</td>\n",
       "      <td>1.203684</td>\n",
       "      <td>35</td>\n",
       "    </tr>\n",
       "    <tr>\n",
       "      <th>33</th>\n",
       "      <td>0.000000</td>\n",
       "      <td>0.000000e+00</td>\n",
       "      <td>0.000000</td>\n",
       "      <td>0.000000</td>\n",
       "      <td>0.6</td>\n",
       "      <td>0.99</td>\n",
       "      <td>{'alpha': 0.6, 'l1_ratio': 0.99}</td>\n",
       "      <td>-5.578774</td>\n",
       "      <td>-3.328086</td>\n",
       "      <td>-2.598431</td>\n",
       "      <td>-5.156075</td>\n",
       "      <td>-2.970443</td>\n",
       "      <td>-3.926362</td>\n",
       "      <td>1.206464</td>\n",
       "      <td>33</td>\n",
       "    </tr>\n",
       "    <tr>\n",
       "      <th>34</th>\n",
       "      <td>0.003125</td>\n",
       "      <td>6.250191e-03</td>\n",
       "      <td>0.000000</td>\n",
       "      <td>0.000000</td>\n",
       "      <td>0.6</td>\n",
       "      <td>1</td>\n",
       "      <td>{'alpha': 0.6, 'l1_ratio': 1}</td>\n",
       "      <td>-5.573630</td>\n",
       "      <td>-3.319882</td>\n",
       "      <td>-2.596084</td>\n",
       "      <td>-5.152735</td>\n",
       "      <td>-2.963182</td>\n",
       "      <td>-3.921103</td>\n",
       "      <td>1.206857</td>\n",
       "      <td>32</td>\n",
       "    </tr>\n",
       "    <tr>\n",
       "      <th>35</th>\n",
       "      <td>0.000000</td>\n",
       "      <td>0.000000e+00</td>\n",
       "      <td>0.003125</td>\n",
       "      <td>0.006250</td>\n",
       "      <td>0.7</td>\n",
       "      <td>0.1</td>\n",
       "      <td>{'alpha': 0.7, 'l1_ratio': 0.1}</td>\n",
       "      <td>-5.608405</td>\n",
       "      <td>-3.305770</td>\n",
       "      <td>-2.528695</td>\n",
       "      <td>-4.968211</td>\n",
       "      <td>-2.944652</td>\n",
       "      <td>-3.871147</td>\n",
       "      <td>1.200153</td>\n",
       "      <td>30</td>\n",
       "    </tr>\n",
       "    <tr>\n",
       "      <th>36</th>\n",
       "      <td>0.000000</td>\n",
       "      <td>0.000000e+00</td>\n",
       "      <td>0.000000</td>\n",
       "      <td>0.000000</td>\n",
       "      <td>0.7</td>\n",
       "      <td>0.5</td>\n",
       "      <td>{'alpha': 0.7, 'l1_ratio': 0.5}</td>\n",
       "      <td>-5.668657</td>\n",
       "      <td>-3.425455</td>\n",
       "      <td>-2.640596</td>\n",
       "      <td>-5.159391</td>\n",
       "      <td>-3.095466</td>\n",
       "      <td>-3.997913</td>\n",
       "      <td>1.193721</td>\n",
       "      <td>37</td>\n",
       "    </tr>\n",
       "    <tr>\n",
       "      <th>37</th>\n",
       "      <td>0.003125</td>\n",
       "      <td>6.249237e-03</td>\n",
       "      <td>0.000000</td>\n",
       "      <td>0.000000</td>\n",
       "      <td>0.7</td>\n",
       "      <td>0.7</td>\n",
       "      <td>{'alpha': 0.7, 'l1_ratio': 0.7}</td>\n",
       "      <td>-5.686257</td>\n",
       "      <td>-3.463757</td>\n",
       "      <td>-2.682029</td>\n",
       "      <td>-5.184450</td>\n",
       "      <td>-3.148309</td>\n",
       "      <td>-4.032961</td>\n",
       "      <td>1.182449</td>\n",
       "      <td>38</td>\n",
       "    </tr>\n",
       "    <tr>\n",
       "      <th>38</th>\n",
       "      <td>0.002398</td>\n",
       "      <td>1.199174e-03</td>\n",
       "      <td>0.000599</td>\n",
       "      <td>0.000489</td>\n",
       "      <td>0.7</td>\n",
       "      <td>0.9</td>\n",
       "      <td>{'alpha': 0.7, 'l1_ratio': 0.9}</td>\n",
       "      <td>-5.718099</td>\n",
       "      <td>-3.476887</td>\n",
       "      <td>-2.673007</td>\n",
       "      <td>-5.236338</td>\n",
       "      <td>-3.162959</td>\n",
       "      <td>-4.053458</td>\n",
       "      <td>1.200109</td>\n",
       "      <td>39</td>\n",
       "    </tr>\n",
       "    <tr>\n",
       "      <th>39</th>\n",
       "      <td>0.002281</td>\n",
       "      <td>6.237224e-04</td>\n",
       "      <td>0.000400</td>\n",
       "      <td>0.000490</td>\n",
       "      <td>0.7</td>\n",
       "      <td>0.95</td>\n",
       "      <td>{'alpha': 0.7, 'l1_ratio': 0.95}</td>\n",
       "      <td>-5.728600</td>\n",
       "      <td>-3.480121</td>\n",
       "      <td>-2.669765</td>\n",
       "      <td>-5.258752</td>\n",
       "      <td>-3.166580</td>\n",
       "      <td>-4.060764</td>\n",
       "      <td>1.207348</td>\n",
       "      <td>42</td>\n",
       "    </tr>\n",
       "    <tr>\n",
       "      <th>40</th>\n",
       "      <td>0.003084</td>\n",
       "      <td>1.721190e-04</td>\n",
       "      <td>0.000200</td>\n",
       "      <td>0.000400</td>\n",
       "      <td>0.7</td>\n",
       "      <td>0.99</td>\n",
       "      <td>{'alpha': 0.7, 'l1_ratio': 0.99}</td>\n",
       "      <td>-5.733358</td>\n",
       "      <td>-3.473894</td>\n",
       "      <td>-2.664627</td>\n",
       "      <td>-5.267011</td>\n",
       "      <td>-3.163032</td>\n",
       "      <td>-4.060384</td>\n",
       "      <td>1.212612</td>\n",
       "      <td>41</td>\n",
       "    </tr>\n",
       "    <tr>\n",
       "      <th>41</th>\n",
       "      <td>0.001394</td>\n",
       "      <td>1.153670e-03</td>\n",
       "      <td>0.000000</td>\n",
       "      <td>0.000000</td>\n",
       "      <td>0.7</td>\n",
       "      <td>1</td>\n",
       "      <td>{'alpha': 0.7, 'l1_ratio': 1}</td>\n",
       "      <td>-5.731499</td>\n",
       "      <td>-3.468268</td>\n",
       "      <td>-2.661013</td>\n",
       "      <td>-5.268064</td>\n",
       "      <td>-3.157862</td>\n",
       "      <td>-4.057341</td>\n",
       "      <td>1.214451</td>\n",
       "      <td>40</td>\n",
       "    </tr>\n",
       "    <tr>\n",
       "      <th>42</th>\n",
       "      <td>0.000000</td>\n",
       "      <td>0.000000e+00</td>\n",
       "      <td>0.000000</td>\n",
       "      <td>0.000000</td>\n",
       "      <td>1</td>\n",
       "      <td>0.1</td>\n",
       "      <td>{'alpha': 1, 'l1_ratio': 0.1}</td>\n",
       "      <td>-5.768485</td>\n",
       "      <td>-3.525495</td>\n",
       "      <td>-2.697253</td>\n",
       "      <td>-5.125736</td>\n",
       "      <td>-3.216121</td>\n",
       "      <td>-4.066618</td>\n",
       "      <td>1.175534</td>\n",
       "      <td>43</td>\n",
       "    </tr>\n",
       "    <tr>\n",
       "      <th>43</th>\n",
       "      <td>0.000000</td>\n",
       "      <td>0.000000e+00</td>\n",
       "      <td>0.000000</td>\n",
       "      <td>0.000000</td>\n",
       "      <td>1</td>\n",
       "      <td>0.5</td>\n",
       "      <td>{'alpha': 1, 'l1_ratio': 0.5}</td>\n",
       "      <td>-5.886970</td>\n",
       "      <td>-3.706480</td>\n",
       "      <td>-2.853532</td>\n",
       "      <td>-5.306803</td>\n",
       "      <td>-3.444189</td>\n",
       "      <td>-4.239595</td>\n",
       "      <td>1.156791</td>\n",
       "      <td>44</td>\n",
       "    </tr>\n",
       "    <tr>\n",
       "      <th>44</th>\n",
       "      <td>0.003125</td>\n",
       "      <td>6.250381e-03</td>\n",
       "      <td>0.000000</td>\n",
       "      <td>0.000000</td>\n",
       "      <td>1</td>\n",
       "      <td>0.7</td>\n",
       "      <td>{'alpha': 1, 'l1_ratio': 0.7}</td>\n",
       "      <td>-5.973732</td>\n",
       "      <td>-3.784784</td>\n",
       "      <td>-2.890358</td>\n",
       "      <td>-5.378853</td>\n",
       "      <td>-3.538637</td>\n",
       "      <td>-4.313273</td>\n",
       "      <td>1.165902</td>\n",
       "      <td>45</td>\n",
       "    </tr>\n",
       "    <tr>\n",
       "      <th>45</th>\n",
       "      <td>0.003125</td>\n",
       "      <td>6.249809e-03</td>\n",
       "      <td>0.000000</td>\n",
       "      <td>0.000000</td>\n",
       "      <td>1</td>\n",
       "      <td>0.9</td>\n",
       "      <td>{'alpha': 1, 'l1_ratio': 0.9}</td>\n",
       "      <td>-6.128879</td>\n",
       "      <td>-3.918895</td>\n",
       "      <td>-2.955966</td>\n",
       "      <td>-5.519154</td>\n",
       "      <td>-3.699778</td>\n",
       "      <td>-4.444534</td>\n",
       "      <td>1.186475</td>\n",
       "      <td>46</td>\n",
       "    </tr>\n",
       "    <tr>\n",
       "      <th>46</th>\n",
       "      <td>0.002798</td>\n",
       "      <td>1.718656e-03</td>\n",
       "      <td>0.003525</td>\n",
       "      <td>0.006066</td>\n",
       "      <td>1</td>\n",
       "      <td>0.95</td>\n",
       "      <td>{'alpha': 1, 'l1_ratio': 0.95}</td>\n",
       "      <td>-6.184901</td>\n",
       "      <td>-3.968101</td>\n",
       "      <td>-2.981283</td>\n",
       "      <td>-5.533093</td>\n",
       "      <td>-3.759372</td>\n",
       "      <td>-4.485350</td>\n",
       "      <td>1.186848</td>\n",
       "      <td>47</td>\n",
       "    </tr>\n",
       "    <tr>\n",
       "      <th>47</th>\n",
       "      <td>0.002598</td>\n",
       "      <td>4.906997e-04</td>\n",
       "      <td>0.000600</td>\n",
       "      <td>0.000490</td>\n",
       "      <td>1</td>\n",
       "      <td>0.99</td>\n",
       "      <td>{'alpha': 1, 'l1_ratio': 0.99}</td>\n",
       "      <td>-6.205224</td>\n",
       "      <td>-4.011104</td>\n",
       "      <td>-3.000312</td>\n",
       "      <td>-5.534242</td>\n",
       "      <td>-3.808457</td>\n",
       "      <td>-4.511868</td>\n",
       "      <td>1.178394</td>\n",
       "      <td>48</td>\n",
       "    </tr>\n",
       "    <tr>\n",
       "      <th>48</th>\n",
       "      <td>0.002198</td>\n",
       "      <td>3.986368e-04</td>\n",
       "      <td>0.000600</td>\n",
       "      <td>0.000490</td>\n",
       "      <td>1</td>\n",
       "      <td>1</td>\n",
       "      <td>{'alpha': 1, 'l1_ratio': 1}</td>\n",
       "      <td>-6.210579</td>\n",
       "      <td>-4.022039</td>\n",
       "      <td>-3.004058</td>\n",
       "      <td>-5.534565</td>\n",
       "      <td>-3.822056</td>\n",
       "      <td>-4.518659</td>\n",
       "      <td>1.176483</td>\n",
       "      <td>49</td>\n",
       "    </tr>\n",
       "  </tbody>\n",
       "</table>\n",
       "</div>"
      ],
      "text/plain": [
       "    mean_fit_time  std_fit_time  mean_score_time  std_score_time param_alpha  \\\n",
       "0        0.003124  6.248760e-03         0.000000        0.000000        0.01   \n",
       "1        0.003125  6.249714e-03         0.000000        0.000000        0.01   \n",
       "2        0.006250  7.654247e-03         0.000000        0.000000        0.01   \n",
       "3        0.003125  6.250572e-03         0.000000        0.000000        0.01   \n",
       "4        0.003926  1.855087e-03         0.000599        0.000489        0.01   \n",
       "5        0.000599  1.198959e-03         0.000000        0.000000        0.01   \n",
       "6        0.003125  6.250858e-03         0.000000        0.000000        0.01   \n",
       "7        0.007946  6.992435e-03         0.000200        0.000400       0.012   \n",
       "8        0.004197  7.491953e-04         0.000799        0.000400       0.012   \n",
       "9        0.003597  4.895319e-04         0.000600        0.000490       0.012   \n",
       "10       0.002606  2.331794e-03         0.000000        0.000000       0.012   \n",
       "11       0.006250  7.655181e-03         0.000000        0.000000       0.012   \n",
       "12       0.000000  0.000000e+00         0.000000        0.000000       0.012   \n",
       "13       0.000000  0.000000e+00         0.003125        0.006250       0.012   \n",
       "14       0.000000  0.000000e+00         0.000000        0.000000         0.2   \n",
       "15       0.000000  0.000000e+00         0.000000        0.000000         0.2   \n",
       "16       0.001587  3.173923e-03         0.000000        0.000000         0.2   \n",
       "17       0.002598  4.891434e-04         0.001000        0.000002         0.2   \n",
       "18       0.003197  4.007841e-04         0.000799        0.000400         0.2   \n",
       "19       0.002805  1.715455e-03         0.000400        0.000490         0.2   \n",
       "20       0.003125  6.250954e-03         0.000000        0.000000         0.2   \n",
       "21       0.000000  0.000000e+00         0.003125        0.006250         0.5   \n",
       "22       0.000000  0.000000e+00         0.000000        0.000000         0.5   \n",
       "23       0.003125  6.250668e-03         0.000000        0.000000         0.5   \n",
       "24       0.003124  6.248951e-03         0.000000        0.000000         0.5   \n",
       "25       0.000000  0.000000e+00         0.000000        0.000000         0.5   \n",
       "26       0.003125  6.250191e-03         0.000000        0.000000         0.5   \n",
       "27       0.005764  5.165706e-03         0.000400        0.000490         0.5   \n",
       "28       0.002999  8.912711e-04         0.000799        0.000400         0.6   \n",
       "29       0.002199  4.004012e-04         0.000799        0.000399         0.6   \n",
       "30       0.001799  3.999233e-04         0.000799        0.000400         0.6   \n",
       "31       0.001999  1.784161e-07         0.000600        0.000490         0.6   \n",
       "32       0.000000  0.000000e+00         0.000000        0.000000         0.6   \n",
       "33       0.000000  0.000000e+00         0.000000        0.000000         0.6   \n",
       "34       0.003125  6.250191e-03         0.000000        0.000000         0.6   \n",
       "35       0.000000  0.000000e+00         0.003125        0.006250         0.7   \n",
       "36       0.000000  0.000000e+00         0.000000        0.000000         0.7   \n",
       "37       0.003125  6.249237e-03         0.000000        0.000000         0.7   \n",
       "38       0.002398  1.199174e-03         0.000599        0.000489         0.7   \n",
       "39       0.002281  6.237224e-04         0.000400        0.000490         0.7   \n",
       "40       0.003084  1.721190e-04         0.000200        0.000400         0.7   \n",
       "41       0.001394  1.153670e-03         0.000000        0.000000         0.7   \n",
       "42       0.000000  0.000000e+00         0.000000        0.000000           1   \n",
       "43       0.000000  0.000000e+00         0.000000        0.000000           1   \n",
       "44       0.003125  6.250381e-03         0.000000        0.000000           1   \n",
       "45       0.003125  6.249809e-03         0.000000        0.000000           1   \n",
       "46       0.002798  1.718656e-03         0.003525        0.006066           1   \n",
       "47       0.002598  4.906997e-04         0.000600        0.000490           1   \n",
       "48       0.002198  3.986368e-04         0.000600        0.000490           1   \n",
       "\n",
       "   param_l1_ratio                              params  split0_test_score  \\\n",
       "0             0.1    {'alpha': 0.01, 'l1_ratio': 0.1}          -4.493313   \n",
       "1             0.5    {'alpha': 0.01, 'l1_ratio': 0.5}          -4.372141   \n",
       "2             0.7    {'alpha': 0.01, 'l1_ratio': 0.7}          -4.204760   \n",
       "3             0.9    {'alpha': 0.01, 'l1_ratio': 0.9}          -3.590037   \n",
       "4            0.95   {'alpha': 0.01, 'l1_ratio': 0.95}          -3.048319   \n",
       "5            0.99   {'alpha': 0.01, 'l1_ratio': 0.99}          -2.203785   \n",
       "6               1      {'alpha': 0.01, 'l1_ratio': 1}          -2.028024   \n",
       "7             0.1   {'alpha': 0.012, 'l1_ratio': 0.1}          -4.533149   \n",
       "8             0.5   {'alpha': 0.012, 'l1_ratio': 0.5}          -4.428745   \n",
       "9             0.7   {'alpha': 0.012, 'l1_ratio': 0.7}          -4.283652   \n",
       "10            0.9   {'alpha': 0.012, 'l1_ratio': 0.9}          -3.733295   \n",
       "11           0.95  {'alpha': 0.012, 'l1_ratio': 0.95}          -3.233925   \n",
       "12           0.99  {'alpha': 0.012, 'l1_ratio': 0.99}          -2.291796   \n",
       "13              1     {'alpha': 0.012, 'l1_ratio': 1}          -2.031523   \n",
       "14            0.1     {'alpha': 0.2, 'l1_ratio': 0.1}          -5.138296   \n",
       "15            0.5     {'alpha': 0.2, 'l1_ratio': 0.5}          -5.172323   \n",
       "16            0.7     {'alpha': 0.2, 'l1_ratio': 0.7}          -5.216482   \n",
       "17            0.9     {'alpha': 0.2, 'l1_ratio': 0.9}          -5.219082   \n",
       "18           0.95    {'alpha': 0.2, 'l1_ratio': 0.95}          -5.227925   \n",
       "19           0.99    {'alpha': 0.2, 'l1_ratio': 0.99}          -5.245208   \n",
       "20              1       {'alpha': 0.2, 'l1_ratio': 1}          -5.254318   \n",
       "21            0.1     {'alpha': 0.5, 'l1_ratio': 0.1}          -5.461677   \n",
       "22            0.5     {'alpha': 0.5, 'l1_ratio': 0.5}          -5.498366   \n",
       "23            0.7     {'alpha': 0.5, 'l1_ratio': 0.7}          -5.482685   \n",
       "24            0.9     {'alpha': 0.5, 'l1_ratio': 0.9}          -5.455738   \n",
       "25           0.95    {'alpha': 0.5, 'l1_ratio': 0.95}          -5.448106   \n",
       "26           0.99    {'alpha': 0.5, 'l1_ratio': 0.99}          -5.433722   \n",
       "27              1       {'alpha': 0.5, 'l1_ratio': 1}          -5.426878   \n",
       "28            0.1     {'alpha': 0.6, 'l1_ratio': 0.1}          -5.540037   \n",
       "29            0.5     {'alpha': 0.6, 'l1_ratio': 0.5}          -5.585816   \n",
       "30            0.7     {'alpha': 0.6, 'l1_ratio': 0.7}          -5.583910   \n",
       "31            0.9     {'alpha': 0.6, 'l1_ratio': 0.9}          -5.585086   \n",
       "32           0.95    {'alpha': 0.6, 'l1_ratio': 0.95}          -5.585087   \n",
       "33           0.99    {'alpha': 0.6, 'l1_ratio': 0.99}          -5.578774   \n",
       "34              1       {'alpha': 0.6, 'l1_ratio': 1}          -5.573630   \n",
       "35            0.1     {'alpha': 0.7, 'l1_ratio': 0.1}          -5.608405   \n",
       "36            0.5     {'alpha': 0.7, 'l1_ratio': 0.5}          -5.668657   \n",
       "37            0.7     {'alpha': 0.7, 'l1_ratio': 0.7}          -5.686257   \n",
       "38            0.9     {'alpha': 0.7, 'l1_ratio': 0.9}          -5.718099   \n",
       "39           0.95    {'alpha': 0.7, 'l1_ratio': 0.95}          -5.728600   \n",
       "40           0.99    {'alpha': 0.7, 'l1_ratio': 0.99}          -5.733358   \n",
       "41              1       {'alpha': 0.7, 'l1_ratio': 1}          -5.731499   \n",
       "42            0.1       {'alpha': 1, 'l1_ratio': 0.1}          -5.768485   \n",
       "43            0.5       {'alpha': 1, 'l1_ratio': 0.5}          -5.886970   \n",
       "44            0.7       {'alpha': 1, 'l1_ratio': 0.7}          -5.973732   \n",
       "45            0.9       {'alpha': 1, 'l1_ratio': 0.9}          -6.128879   \n",
       "46           0.95      {'alpha': 1, 'l1_ratio': 0.95}          -6.184901   \n",
       "47           0.99      {'alpha': 1, 'l1_ratio': 0.99}          -6.205224   \n",
       "48              1         {'alpha': 1, 'l1_ratio': 1}          -6.210579   \n",
       "\n",
       "    split1_test_score  split2_test_score  split3_test_score  \\\n",
       "0           -1.627856          -1.327455          -3.002784   \n",
       "1           -1.522007          -1.213250          -2.859716   \n",
       "2           -1.466003          -1.151153          -2.749692   \n",
       "3           -1.428258          -1.073327          -2.580167   \n",
       "4           -1.469798          -1.034501          -2.501477   \n",
       "5           -1.490865          -1.017724          -2.453246   \n",
       "6           -1.497596          -1.016673          -2.445475   \n",
       "7           -1.671873          -1.376158          -3.084735   \n",
       "8           -1.553110          -1.250098          -2.941671   \n",
       "9           -1.483334          -1.165952          -2.825701   \n",
       "10          -1.433273          -1.073229          -2.638671   \n",
       "11          -1.473622          -1.025579          -2.550737   \n",
       "12          -1.498488          -1.002736          -2.490941   \n",
       "13          -1.505940          -1.000263          -2.481153   \n",
       "14          -2.660759          -2.122244          -4.418007   \n",
       "15          -2.667729          -2.166845          -4.495364   \n",
       "16          -2.672295          -2.174696          -4.540707   \n",
       "17          -2.641447          -2.137645          -4.553183   \n",
       "18          -2.603804          -2.091167          -4.511492   \n",
       "19          -2.530370          -1.974897          -4.388425   \n",
       "20          -2.478835          -1.896487          -4.311274   \n",
       "21          -3.105262          -2.386368          -4.816496   \n",
       "22          -3.170965          -2.457968          -5.004620   \n",
       "23          -3.215692          -2.524445          -5.048920   \n",
       "24          -3.233001          -2.564427          -5.058452   \n",
       "25          -3.224798          -2.561445          -5.062871   \n",
       "26          -3.203074          -2.559666          -5.055438   \n",
       "27          -3.194062          -2.559598          -5.049575   \n",
       "28          -3.212253          -2.460798          -4.898824   \n",
       "29          -3.302921          -2.550089          -5.098776   \n",
       "30          -3.347676          -2.611157          -5.116933   \n",
       "31          -3.347719          -2.608266          -5.144938   \n",
       "32          -3.343477          -2.603500          -5.156983   \n",
       "33          -3.328086          -2.598431          -5.156075   \n",
       "34          -3.319882          -2.596084          -5.152735   \n",
       "35          -3.305770          -2.528695          -4.968211   \n",
       "36          -3.425455          -2.640596          -5.159391   \n",
       "37          -3.463757          -2.682029          -5.184450   \n",
       "38          -3.476887          -2.673007          -5.236338   \n",
       "39          -3.480121          -2.669765          -5.258752   \n",
       "40          -3.473894          -2.664627          -5.267011   \n",
       "41          -3.468268          -2.661013          -5.268064   \n",
       "42          -3.525495          -2.697253          -5.125736   \n",
       "43          -3.706480          -2.853532          -5.306803   \n",
       "44          -3.784784          -2.890358          -5.378853   \n",
       "45          -3.918895          -2.955966          -5.519154   \n",
       "46          -3.968101          -2.981283          -5.533093   \n",
       "47          -4.011104          -3.000312          -5.534242   \n",
       "48          -4.022039          -3.004058          -5.534565   \n",
       "\n",
       "    split4_test_score  mean_test_score  std_test_score  rank_test_score  \n",
       "0           -1.579139        -2.406110        1.197121               13  \n",
       "1           -1.560252        -2.305473        1.178170               11  \n",
       "2           -1.557252        -2.225772        1.128704                9  \n",
       "3           -1.548932        -2.044144        0.921319                7  \n",
       "4           -1.509784        -1.912776        0.743778                5  \n",
       "5           -1.492599        -1.731644        0.523149                3  \n",
       "6           -1.489979        -1.695549        0.493000                1  \n",
       "7           -1.582439        -2.449671        1.204465               14  \n",
       "8           -1.560675        -2.346860        1.194911               12  \n",
       "9           -1.557324        -2.263193        1.158364               10  \n",
       "10          -1.555129        -2.086719        0.974947                8  \n",
       "11          -1.517675        -1.960307        0.809594                6  \n",
       "12          -1.502770        -1.757346        0.552277                4  \n",
       "13          -1.499281        -1.703632        0.507468                2  \n",
       "14          -2.106906        -3.289242        1.252829               17  \n",
       "15          -2.146270        -3.329706        1.260553               19  \n",
       "16          -2.131129        -3.347062        1.282791               21  \n",
       "17          -2.116829        -3.333637        1.298641               20  \n",
       "18          -2.106491        -3.308176        1.308029               18  \n",
       "19          -2.056099        -3.239000        1.330069               16  \n",
       "20          -2.017450        -3.191673        1.347030               15  \n",
       "21          -2.688516        -3.691664        1.220833               22  \n",
       "22          -2.761224        -3.778629        1.233618               23  \n",
       "23          -2.806711        -3.815691        1.212030               27  \n",
       "24          -2.825512        -3.827426        1.193245               29  \n",
       "25          -2.812371        -3.821918        1.195741               28  \n",
       "26          -2.794210        -3.809222        1.195919               26  \n",
       "27          -2.786691        -3.803361        1.195045               25  \n",
       "28          -2.826236        -3.787630        1.210083               24  \n",
       "29          -2.935856        -3.894691        1.215503               31  \n",
       "30          -3.007527        -3.933441        1.189418               34  \n",
       "31          -2.990366        -3.935275        1.198682               36  \n",
       "32          -2.983442        -3.934498        1.203684               35  \n",
       "33          -2.970443        -3.926362        1.206464               33  \n",
       "34          -2.963182        -3.921103        1.206857               32  \n",
       "35          -2.944652        -3.871147        1.200153               30  \n",
       "36          -3.095466        -3.997913        1.193721               37  \n",
       "37          -3.148309        -4.032961        1.182449               38  \n",
       "38          -3.162959        -4.053458        1.200109               39  \n",
       "39          -3.166580        -4.060764        1.207348               42  \n",
       "40          -3.163032        -4.060384        1.212612               41  \n",
       "41          -3.157862        -4.057341        1.214451               40  \n",
       "42          -3.216121        -4.066618        1.175534               43  \n",
       "43          -3.444189        -4.239595        1.156791               44  \n",
       "44          -3.538637        -4.313273        1.165902               45  \n",
       "45          -3.699778        -4.444534        1.186475               46  \n",
       "46          -3.759372        -4.485350        1.186848               47  \n",
       "47          -3.808457        -4.511868        1.178394               48  \n",
       "48          -3.822056        -4.518659        1.176483               49  "
      ]
     },
     "execution_count": 587,
     "metadata": {},
     "output_type": "execute_result"
    }
   ],
   "source": [
    "pd.DataFrame(grid_model.cv_results_)"
   ]
  },
  {
   "cell_type": "code",
   "execution_count": 588,
   "metadata": {},
   "outputs": [
    {
     "data": {
      "text/plain": [
       "6"
      ]
     },
     "execution_count": 588,
     "metadata": {},
     "output_type": "execute_result"
    }
   ],
   "source": [
    "grid_model.best_index_"
   ]
  },
  {
   "cell_type": "code",
   "execution_count": 589,
   "metadata": {},
   "outputs": [
    {
     "data": {
      "text/plain": [
       "-1.695549347220222"
      ]
     },
     "execution_count": 589,
     "metadata": {},
     "output_type": "execute_result"
    }
   ],
   "source": [
    "grid_model.best_score_"
   ]
  },
  {
   "cell_type": "code",
   "execution_count": 590,
   "metadata": {},
   "outputs": [],
   "source": [
    "y_pred = grid_model.predict(X_test_scaled)\n",
    "y_train_pred = grid_model.predict(X_train_scaled)"
   ]
  },
  {
   "cell_type": "code",
   "execution_count": 591,
   "metadata": {},
   "outputs": [
    {
     "data": {
      "text/html": [
       "<div>\n",
       "<style scoped>\n",
       "    .dataframe tbody tr th:only-of-type {\n",
       "        vertical-align: middle;\n",
       "    }\n",
       "\n",
       "    .dataframe tbody tr th {\n",
       "        vertical-align: top;\n",
       "    }\n",
       "\n",
       "    .dataframe thead th {\n",
       "        text-align: right;\n",
       "    }\n",
       "</style>\n",
       "<table border=\"1\" class=\"dataframe\">\n",
       "  <thead>\n",
       "    <tr style=\"text-align: right;\">\n",
       "      <th></th>\n",
       "      <th>GridSearch_train</th>\n",
       "      <th>GridSearch_test</th>\n",
       "    </tr>\n",
       "  </thead>\n",
       "  <tbody>\n",
       "    <tr>\n",
       "      <th>R2</th>\n",
       "      <td>0.919095</td>\n",
       "      <td>0.901471</td>\n",
       "    </tr>\n",
       "    <tr>\n",
       "      <th>mae</th>\n",
       "      <td>0.919019</td>\n",
       "      <td>1.148304</td>\n",
       "    </tr>\n",
       "    <tr>\n",
       "      <th>mse</th>\n",
       "      <td>1.985629</td>\n",
       "      <td>2.805545</td>\n",
       "    </tr>\n",
       "    <tr>\n",
       "      <th>rmse</th>\n",
       "      <td>1.409124</td>\n",
       "      <td>1.674976</td>\n",
       "    </tr>\n",
       "  </tbody>\n",
       "</table>\n",
       "</div>"
      ],
      "text/plain": [
       "      GridSearch_train  GridSearch_test\n",
       "R2            0.919095         0.901471\n",
       "mae           0.919019         1.148304\n",
       "mse           1.985629         2.805545\n",
       "rmse          1.409124         1.674976"
      ]
     },
     "execution_count": 591,
     "metadata": {},
     "output_type": "execute_result"
    }
   ],
   "source": [
    "train_val(y_train, y_train_pred, y_test, y_pred, \"GridSearch\")"
   ]
  },
  {
   "cell_type": "markdown",
   "metadata": {},
   "source": [
    "# Feature importances with Ridge"
   ]
  },
  {
   "cell_type": "code",
   "execution_count": 592,
   "metadata": {},
   "outputs": [
    {
     "data": {
      "image/png": "[encoded data removed]",
      "text/plain": [
       "<Figure size 720x3000 with 1 Axes>"
      ]
     },
     "metadata": {},
     "output_type": "display_data"
    },
    {
     "data": {
      "text/plain": [
       "<AxesSubplot:title={'center':'Feature Importances of 109 Features using RidgeCV'}, xlabel='relative coefficient magnitude'>"
      ]
     },
     "execution_count": 592,
     "metadata": {},
     "output_type": "execute_result"
    }
   ],
   "source": [
    "from yellowbrick.model_selection import FeatureImportances\n",
    "from yellowbrick.features import RadViz\n",
    "\n",
    "viz = FeatureImportances(ridge_cv_model, labels=pd.DataFrame(X_train).columns)\n",
    "visualizer = RadViz(size=(720, 3000))\n",
    "viz.fit(X_train, y_train)\n",
    "viz.show()"
   ]
  },
  {
   "cell_type": "markdown",
   "metadata": {},
   "source": [
    "# Feature importances with Lasso"
   ]
  },
  {
   "cell_type": "code",
   "execution_count": 593,
   "metadata": {},
   "outputs": [
    {
     "data": {
      "image/png": "[encoded data removed]",
      "text/plain": [
       "<Figure size 720x3000 with 1 Axes>"
      ]
     },
     "metadata": {},
     "output_type": "display_data"
    },
    {
     "data": {
      "text/plain": [
       "<AxesSubplot:title={'center':'Feature Importances of 109 Features using LassoCV'}, xlabel='relative coefficient magnitude'>"
      ]
     },
     "execution_count": 593,
     "metadata": {},
     "output_type": "execute_result"
    }
   ],
   "source": [
    "from yellowbrick.model_selection import FeatureImportances\n",
    "from yellowbrick.features import RadViz\n",
    "\n",
    "viz = FeatureImportances(lasso_cv_model, labels=pd.DataFrame(X_train).columns)\n",
    "visualizer = RadViz(size=(720, 3000))\n",
    "viz.fit(X_train, y_train)\n",
    "viz.show()"
   ]
  },
  {
   "cell_type": "code",
   "execution_count": null,
   "metadata": {},
   "outputs": [],
   "source": []
  }
 ],
 "metadata": {
  "colab": {
   "name": "used_car_price_prediction_assignment1.ipynb",
   "provenance": []
  },
  "kernelspec": {
   "display_name": "Python 3 (ipykernel)",
   "language": "python",
   "name": "python3"
  },
  "language_info": {
   "codemirror_mode": {
    "name": "ipython",
    "version": 3
   },
   "file_extension": ".py",
   "mimetype": "text/x-python",
   "name": "python",
   "nbconvert_exporter": "python",
   "pygments_lexer": "ipython3",
   "version": "3.9.7"
  }
 },
 "nbformat": 4,
 "nbformat_minor": 1
}
